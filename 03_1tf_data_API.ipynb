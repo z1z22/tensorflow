{
 "cells": [
  {
   "cell_type": "code",
   "execution_count": null,
   "metadata": {},
   "outputs": [],
   "source": [
    "# keras常用数据集 Datasets:https://keras.io/zh/datasets/"
   ]
  },
  {
   "cell_type": "code",
   "execution_count": 2,
   "metadata": {},
   "outputs": [],
   "source": [
    "import tensorflow as tf\n",
    "import numpy as np"
   ]
  },
  {
   "cell_type": "code",
   "execution_count": 3,
   "metadata": {},
   "outputs": [
    {
     "name": "stdout",
     "output_type": "stream",
     "text": [
      "<TensorSliceDataset shapes: (), types: tf.int64>\n"
     ]
    }
   ],
   "source": [
    "dataset = tf.data.Dataset.from_tensor_slices(np.arange(5))\n",
    "print(dataset)"
   ]
  },
  {
   "cell_type": "code",
   "execution_count": 4,
   "metadata": {},
   "outputs": [
    {
     "name": "stdout",
     "output_type": "stream",
     "text": [
      "0\n",
      "1\n",
      "2\n",
      "3\n",
      "4\n"
     ]
    }
   ],
   "source": [
    "for item in dataset:\n",
    "    print(item.numpy())"
   ]
  },
  {
   "cell_type": "code",
   "execution_count": 6,
   "metadata": {},
   "outputs": [
    {
     "name": "stdout",
     "output_type": "stream",
     "text": [
      "tf.Tensor([0 1 2 3 4 0 1], shape=(7,), dtype=int64)\n",
      "tf.Tensor([2 3 4 0 1 2 3], shape=(7,), dtype=int64)\n",
      "tf.Tensor([4 0 1 2 3 4 0], shape=(7,), dtype=int64)\n",
      "tf.Tensor([1 2 3 4 0 1 2], shape=(7,), dtype=int64)\n",
      "tf.Tensor([3 4], shape=(2,), dtype=int64)\n"
     ]
    }
   ],
   "source": [
    "#epoch每遍历一次数据叫一次epoch\n",
    "#repeat epoch\n",
    "#get batch 遍历时每次只取一个batch，不是全部数据\n",
    "dataset = dataset.repeat(6).batch(7) #遍历6次数据，5*6=30 每次7个 30/7=4...2\n",
    "for item in dataset:\n",
    "    print(item)"
   ]
  },
  {
   "cell_type": "code",
   "execution_count": 25,
   "metadata": {},
   "outputs": [
    {
     "name": "stdout",
     "output_type": "stream",
     "text": [
      "0\n",
      "1\n",
      "2\n",
      "3\n",
      "4\n",
      "2\n",
      "3\n",
      "4\n",
      "0\n",
      "1\n"
     ]
    }
   ],
   "source": [
    "#interleave\n",
    "#cass: 文件dataset -> 具体的数据集 interleave(交错）\n",
    "dataset2 = dataset.interleave(\n",
    "    lambda v:tf.data.Dataset.from_tensor_slices(v),# 1.map_fn\n",
    "    cycle_length=5,# 2.cycle_length并行程度\n",
    "    block_length=5,# 3.block_length,每次取的量，达到均匀混合的目的\n",
    "#         num_parallel_calls=tf.data.experimental.AUTOTUNE\n",
    ")\n",
    "for item in dataset2.take(10):\n",
    "    tf.print(item)"
   ]
  },
  {
   "cell_type": "code",
   "execution_count": 23,
   "metadata": {},
   "outputs": [
    {
     "name": "stdout",
     "output_type": "stream",
     "text": [
      "<TensorSliceDataset shapes: ((2,), ()), types: (tf.int64, tf.string)>\n",
      "[2 3] \"cat\"\n",
      "[4 5] \"dog\"\n"
     ]
    }
   ],
   "source": [
    "#初始化dataset，可以两个数组，数量对应\n",
    "x = np.array([[2,3],[4,5],[5,6]])\n",
    "y = np.array(['cat','dog','fox'])\n",
    "dataset3 = tf.data.Dataset.from_tensor_slices((x, y))\n",
    "tf.print(dataset3)\n",
    "for item_x,item_y in dataset3.take(2):\n",
    "    tf.print(item_x, item_y)"
   ]
  },
  {
   "cell_type": "code",
   "execution_count": 28,
   "metadata": {},
   "outputs": [
    {
     "name": "stdout",
     "output_type": "stream",
     "text": [
      "{'feature': [2 3], 'label': \"cat\"}\n",
      "{'feature': [4 5], 'label': \"dog\"}\n",
      "{'feature': [5 6], 'label': \"fox\"}\n"
     ]
    }
   ],
   "source": [
    "# 可以用字典初始化\n",
    "dataset3 = tf.data.Dataset.from_tensor_slices({'feature':x,'label':y})\n",
    "\n",
    "for item in dataset3:\n",
    "    tf.print(item)#['feature'].nump,item['label'].numpy())"
   ]
  },
  {
   "cell_type": "code",
   "execution_count": null,
   "metadata": {},
   "outputs": [],
   "source": []
  }
 ],
 "metadata": {
  "kernelspec": {
   "display_name": "Python 3",
   "language": "python",
   "name": "python3"
  },
  "language_info": {
   "codemirror_mode": {
    "name": "ipython",
    "version": 3
   },
   "file_extension": ".py",
   "mimetype": "text/x-python",
   "name": "python",
   "nbconvert_exporter": "python",
   "pygments_lexer": "ipython3",
   "version": "3.7.6"
  }
 },
 "nbformat": 4,
 "nbformat_minor": 4
}
