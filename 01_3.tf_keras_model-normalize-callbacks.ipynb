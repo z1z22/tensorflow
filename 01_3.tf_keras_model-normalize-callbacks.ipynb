{
 "cells": [
  {
   "cell_type": "code",
   "execution_count": 1,
   "metadata": {},
   "outputs": [
    {
     "name": "stdout",
     "output_type": "stream",
     "text": [
      "2.0.0\n",
      "sys.version_info(major=3, minor=7, micro=6, releaselevel='final', serial=0)\n",
      "numpy 1.18.1\n",
      "pandas 1.0.1\n",
      "sklearn 0.22.2\n",
      "tensorflow 2.0.0\n",
      "tensorflow_core.keras 2.2.4-tf\n"
     ]
    }
   ],
   "source": [
    "import matplotlib.pyplot as plt\n",
    "%matplotlib inline\n",
    "import numpy as np\n",
    "import pandas as pd\n",
    "import sklearn\n",
    "import os\n",
    "import sys\n",
    "import time\n",
    "import tensorflow as tf\n",
    "\n",
    "from tensorflow import keras\n",
    "print(tf.__version__)\n",
    "print(sys.version_info)\n",
    "for module in np, pd ,sklearn, tf, keras:\n",
    "    print(module.__name__,module.__version__)"
   ]
  },
  {
   "cell_type": "code",
   "execution_count": 2,
   "metadata": {},
   "outputs": [
    {
     "name": "stdout",
     "output_type": "stream",
     "text": [
      "(5000, 28, 28) (5000,)\n",
      "(55000, 28, 28) (55000,)\n",
      "(10000, 28, 28) (10000,)\n"
     ]
    }
   ],
   "source": [
    "\n",
    "fashion_mnist = keras.datasets.fashion_mnist\n",
    "(x_train_all,y_train_all),(x_test,y_test) = fashion_mnist.load_data()\n",
    "x_valid, x_train = x_train_all[:5000], x_train_all[5000:]\n",
    "y_valid, y_train = y_train_all[:5000], y_train_all[5000:]\n",
    "\n",
    "print(x_valid.shape,y_valid.shape)\n",
    "print(x_train.shape,y_train.shape)\n",
    "print(x_test.shape,y_test.shape)\n"
   ]
  },
  {
   "cell_type": "code",
   "execution_count": 3,
   "metadata": {},
   "outputs": [],
   "source": [
    "#x = (x - u) / std\n",
    "\n",
    "from sklearn.preprocessing import StandardScaler\n",
    "scaler = StandardScaler()\n",
    "x_train_scaler = scaler.fit_transform(x_train.astype(np.float32).reshape(-1,1)).reshape(-1,28,28)\n",
    "x_valid_scaler = scaler.transform(x_valid.astype(np.float32).reshape(-1,1)).reshape(-1,28,28)\n",
    "x_test_scaler = scaler.transform(x_test.astype(np.float32).reshape(-1,1)).reshape(-1,28,28)\n"
   ]
  },
  {
   "cell_type": "code",
   "execution_count": 4,
   "metadata": {},
   "outputs": [],
   "source": [
    "#tf.keras.models.Sequential()\n",
    "\n",
    "model = keras.models.Sequential([\n",
    "    keras.layers.Flatten(input_shape =[28,28]),\n",
    "    keras.layers.Dense(100,activation='relu'),\n",
    "    keras.layers.Dense(100,activation='relu'),\n",
    "    keras.layers.Dense(10, activation='softmax')\n",
    "])    \n",
    "# relu:  y=max(0,x)\n",
    "# softmax:将向量变成概率分布，x =[x1,x2,x3]\n",
    "#                y=[e^x1/sum,e^x2/sum,e^x3/sum], sum=e^x1+e^x2+e^x36\n",
    "\n",
    "# sparse的原因：将y的分类转换为one_hot编码\n",
    "model.compile(loss=keras.losses.SparseCategoricalCrossentropy(from_logits=False),\n",
    "             optimizer = 'sgd',\n",
    "             metrics = ['accuracy'])\n"
   ]
  },
  {
   "cell_type": "code",
   "execution_count": 5,
   "metadata": {},
   "outputs": [
    {
     "name": "stdout",
     "output_type": "stream",
     "text": [
      "Model: \"sequential\"\n",
      "_________________________________________________________________\n",
      "Layer (type)                 Output Shape              Param #   \n",
      "=================================================================\n",
      "flatten (Flatten)            (None, 784)               0         \n",
      "_________________________________________________________________\n",
      "dense (Dense)                (None, 100)               78500     \n",
      "_________________________________________________________________\n",
      "dense_1 (Dense)              (None, 100)               10100     \n",
      "_________________________________________________________________\n",
      "dense_2 (Dense)              (None, 10)                1010      \n",
      "=================================================================\n",
      "Total params: 89,610\n",
      "Trainable params: 89,610\n",
      "Non-trainable params: 0\n",
      "_________________________________________________________________\n"
     ]
    }
   ],
   "source": [
    "model.summary()"
   ]
  },
  {
   "cell_type": "code",
   "execution_count": 6,
   "metadata": {},
   "outputs": [
    {
     "name": "stdout",
     "output_type": "stream",
     "text": [
      "Train on 55000 samples, validate on 5000 samples\n",
      "Epoch 1/100\n",
      "55000/55000 [==============================] - 14s 259us/sample - loss: 0.5715 - accuracy: 0.7968 - val_loss: 0.4285 - val_accuracy: 0.8488\n",
      "Epoch 2/100\n",
      "55000/55000 [==============================] - 13s 232us/sample - loss: 0.4139 - accuracy: 0.8487 - val_loss: 0.3855 - val_accuracy: 0.8622\n",
      "Epoch 3/100\n",
      "55000/55000 [==============================] - 13s 238us/sample - loss: 0.3753 - accuracy: 0.8643 - val_loss: 0.3779 - val_accuracy: 0.8616\n",
      "Epoch 4/100\n",
      "55000/55000 [==============================] - 13s 232us/sample - loss: 0.3521 - accuracy: 0.8717 - val_loss: 0.3489 - val_accuracy: 0.8740\n",
      "Epoch 5/100\n",
      "55000/55000 [==============================] - 12s 227us/sample - loss: 0.3340 - accuracy: 0.8791 - val_loss: 0.3563 - val_accuracy: 0.8682\n",
      "Epoch 6/100\n",
      "55000/55000 [==============================] - 14s 246us/sample - loss: 0.3192 - accuracy: 0.8841 - val_loss: 0.3305 - val_accuracy: 0.8784\n",
      "Epoch 7/100\n",
      "55000/55000 [==============================] - 13s 237us/sample - loss: 0.3069 - accuracy: 0.8875 - val_loss: 0.3277 - val_accuracy: 0.8830\n",
      "Epoch 8/100\n",
      "55000/55000 [==============================] - 13s 241us/sample - loss: 0.2964 - accuracy: 0.8918 - val_loss: 0.3221 - val_accuracy: 0.8862\n",
      "Epoch 9/100\n",
      "55000/55000 [==============================] - 13s 240us/sample - loss: 0.2866 - accuracy: 0.8957 - val_loss: 0.3167 - val_accuracy: 0.8862\n",
      "Epoch 10/100\n",
      "55000/55000 [==============================] - 13s 245us/sample - loss: 0.2764 - accuracy: 0.9003 - val_loss: 0.3240 - val_accuracy: 0.8854\n",
      "Epoch 11/100\n",
      "55000/55000 [==============================] - 13s 243us/sample - loss: 0.2691 - accuracy: 0.9007 - val_loss: 0.3144 - val_accuracy: 0.8880\n",
      "Epoch 12/100\n",
      "55000/55000 [==============================] - 14s 246us/sample - loss: 0.2603 - accuracy: 0.9053 - val_loss: 0.3088 - val_accuracy: 0.8878\n",
      "Epoch 13/100\n",
      "55000/55000 [==============================] - 13s 227us/sample - loss: 0.2534 - accuracy: 0.9076 - val_loss: 0.3105 - val_accuracy: 0.8880\n",
      "Epoch 14/100\n",
      "55000/55000 [==============================] - 13s 228us/sample - loss: 0.2473 - accuracy: 0.9107 - val_loss: 0.3068 - val_accuracy: 0.8906\n",
      "Epoch 15/100\n",
      "55000/55000 [==============================] - 12s 227us/sample - loss: 0.2402 - accuracy: 0.9135 - val_loss: 0.3085 - val_accuracy: 0.8888\n",
      "Epoch 16/100\n",
      "55000/55000 [==============================] - 12s 223us/sample - loss: 0.2349 - accuracy: 0.9148 - val_loss: 0.3061 - val_accuracy: 0.8914\n",
      "Epoch 17/100\n",
      "55000/55000 [==============================] - 13s 241us/sample - loss: 0.2291 - accuracy: 0.9169 - val_loss: 0.3091 - val_accuracy: 0.8856\n",
      "Epoch 18/100\n",
      "55000/55000 [==============================] - 14s 254us/sample - loss: 0.2234 - accuracy: 0.9187 - val_loss: 0.3112 - val_accuracy: 0.8922\n",
      "Epoch 19/100\n",
      "55000/55000 [==============================] - 15s 264us/sample - loss: 0.2173 - accuracy: 0.9212 - val_loss: 0.3081 - val_accuracy: 0.8888\n",
      "Epoch 20/100\n",
      "55000/55000 [==============================] - 14s 250us/sample - loss: 0.2132 - accuracy: 0.9229 - val_loss: 0.3096 - val_accuracy: 0.8936\n",
      "Epoch 21/100\n",
      "55000/55000 [==============================] - 16s 284us/sample - loss: 0.2070 - accuracy: 0.9253 - val_loss: 0.3069 - val_accuracy: 0.8916\n",
      "Epoch 22/100\n",
      "55000/55000 [==============================] - 18s 319us/sample - loss: 0.1841 - accuracy: 0.9358 - val_loss: 0.2952 - val_accuracy: 0.8938\n",
      "Epoch 23/100\n",
      "55000/55000 [==============================] - 14s 263us/sample - loss: 0.1812 - accuracy: 0.9373 - val_loss: 0.2963 - val_accuracy: 0.8944\n",
      "Epoch 24/100\n",
      "55000/55000 [==============================] - 14s 252us/sample - loss: 0.1798 - accuracy: 0.9369 - val_loss: 0.2966 - val_accuracy: 0.8938\n",
      "Epoch 25/100\n",
      "55000/55000 [==============================] - 15s 269us/sample - loss: 0.1785 - accuracy: 0.9373 - val_loss: 0.2949 - val_accuracy: 0.8962\n",
      "Epoch 26/100\n",
      "55000/55000 [==============================] - 16s 282us/sample - loss: 0.1771 - accuracy: 0.9386 - val_loss: 0.2975 - val_accuracy: 0.8948\n",
      "Epoch 27/100\n",
      "55000/55000 [==============================] - 15s 269us/sample - loss: 0.1758 - accuracy: 0.9394 - val_loss: 0.2986 - val_accuracy: 0.8926\n",
      "Epoch 28/100\n",
      "55000/55000 [==============================] - 14s 262us/sample - loss: 0.1743 - accuracy: 0.9391 - val_loss: 0.3006 - val_accuracy: 0.8932\n",
      "Epoch 29/100\n",
      "55000/55000 [==============================] - 16s 297us/sample - loss: 0.1733 - accuracy: 0.9395 - val_loss: 0.2966 - val_accuracy: 0.8940\n",
      "Epoch 30/100\n",
      "55000/55000 [==============================] - 19s 344us/sample - loss: 0.1720 - accuracy: 0.9402 - val_loss: 0.2997 - val_accuracy: 0.8944\n",
      "Epoch 31/100\n",
      "55000/55000 [==============================] - 17s 306us/sample - loss: 0.1685 - accuracy: 0.9417 - val_loss: 0.2977 - val_accuracy: 0.8948\n",
      "Epoch 32/100\n",
      "55000/55000 [==============================] - 14s 261us/sample - loss: 0.1676 - accuracy: 0.9426 - val_loss: 0.2970 - val_accuracy: 0.8970\n"
     ]
    }
   ],
   "source": [
    "#在fit里添加callback:TerminateOnNaN, TensorBoard,EarlyStopping,ModelCheckpoint,ReduceLROnPlateau\n",
    "#查看TensorBoard命令：\n",
    "#tensorboard --lodger=data/callbacks#TensorBoard所在目录的全路径。然后按照提示进入浏览器访问\n",
    "\n",
    "# 更多callback函数见：https://keras.io/zh/callbacks/\n",
    "# ReduceLROnPlateau 当标准评估停止提升时，降低学习速率。\n",
    "\n",
    "logdir= 'data/callbacks'\n",
    "if not os.path.exists(logdir):\n",
    "    os.mkdir(logdir)\n",
    "output_model_file= os.path.join(logdir,'fashion_mnist_model.h5')\n",
    "\n",
    "callbacks = [\n",
    "    keras.callbacks.TerminateOnNaN(),# 当遇到 NaN 损失会停止训练的回调函数。\n",
    "    keras.callbacks.TensorBoard(logdir),\n",
    "    keras.callbacks.ModelCheckpoint(output_model_file,\n",
    "                                            save_best_only=True),# 在每个训练期之后保存模型。\n",
    "    keras.callbacks.EarlyStopping(patience=10, min_delta=1e-3),\n",
    "    keras.callbacks.ReduceLROnPlateau(monitor='val_loss', factor=0.2,\n",
    "                              patience=5, min_lr=0.001)\n",
    "]\n",
    "history = model.fit(x_train_scaler,y_train, epochs=100,\n",
    "         validation_data=(x_valid_scaler,y_valid),\n",
    "        callbacks= callbacks)\n",
    "#validation_data:训练过程中在验证集验证"
   ]
  },
  {
   "cell_type": "code",
   "execution_count": 7,
   "metadata": {},
   "outputs": [
    {
     "data": {
      "image/png": "[encoded data removed]",
      "text/plain": [
       "<Figure size 576x360 with 1 Axes>"
      ]
     },
     "metadata": {
      "needs_background": "light"
     },
     "output_type": "display_data"
    }
   ],
   "source": [
    "def plot_learning_curves(history):\n",
    "    pd.DataFrame(history.history).plot(figsize=[8,5])\n",
    "    plt.grid(True)\n",
    "    plt.gca().set_ylim(0,1)\n",
    "    plt.show()\n",
    "\n",
    "plot_learning_curves(history)"
   ]
  },
  {
   "cell_type": "code",
   "execution_count": 9,
   "metadata": {},
   "outputs": [
    {
     "name": "stdout",
     "output_type": "stream",
     "text": [
      "10000/1 - 1s - loss: 0.2321 - accuracy: 0.8871\n"
     ]
    },
    {
     "data": {
      "text/plain": [
       "[0.32719144454598426, 0.8871]"
      ]
     },
     "execution_count": 9,
     "metadata": {},
     "output_type": "execute_result"
    }
   ],
   "source": [
    "model.evaluate(x_test_scaler, y_test, verbose=2)"
   ]
  },
  {
   "cell_type": "code",
   "execution_count": 11,
   "metadata": {},
   "outputs": [
    {
     "name": "stdout",
     "output_type": "stream",
     "text": [
      "The tensorboard extension is already loaded. To reload it, use:\n",
      "  %reload_ext tensorboard\n"
     ]
    },
    {
     "data": {
      "text/html": [
       "\n",
       "      <iframe id=\"tensorboard-frame-209a5e79c8ff6c43\" width=\"100%\" height=\"800\" frameborder=\"0\">\n",
       "      </iframe>\n",
       "      <script>\n",
       "        (function() {\n",
       "          const frame = document.getElementById(\"tensorboard-frame-209a5e79c8ff6c43\");\n",
       "          const url = new URL(\"/\", window.location);\n",
       "          url.port = 6007;\n",
       "          frame.src = url;\n",
       "        })();\n",
       "      </script>\n",
       "  "
      ],
      "text/plain": [
       "<IPython.core.display.HTML object>"
      ]
     },
     "metadata": {},
     "output_type": "display_data"
    }
   ],
   "source": [
    "%load_ext tensorboard\n",
    "%tensorboard --logdir data/callbacks"
   ]
  },
  {
   "cell_type": "code",
   "execution_count": 12,
   "metadata": {},
   "outputs": [
    {
     "name": "stdout",
     "output_type": "stream",
     "text": [
      "Known TensorBoard instances:\n",
      "  - port 6007: logdir data/callbacks (started 0:01:24 ago; pid 5513)\n",
      "  - port 6006: logdir ./data/keras_model (started 0:04:06 ago; pid 5473)\n"
     ]
    }
   ],
   "source": [
    "from tensorboard import notebook\n",
    "notebook.list() "
   ]
  },
  {
   "cell_type": "code",
   "execution_count": 13,
   "metadata": {},
   "outputs": [
    {
     "data": {
      "text/html": [
       "\n",
       "      <iframe id=\"tensorboard-frame-bb0c05d3bf4bd60d\" width=\"100%\" height=\"800\" frameborder=\"0\">\n",
       "      </iframe>\n",
       "      <script>\n",
       "        (function() {\n",
       "          const frame = document.getElementById(\"tensorboard-frame-bb0c05d3bf4bd60d\");\n",
       "          const url = new URL(\"/\", window.location);\n",
       "          url.port = 6008;\n",
       "          frame.src = url;\n",
       "        })();\n",
       "      </script>\n",
       "  "
      ],
      "text/plain": [
       "<IPython.core.display.HTML object>"
      ]
     },
     "metadata": {},
     "output_type": "display_data"
    }
   ],
   "source": [
    "#在tensorboard中查看模型\n",
    "notebook.start(\"--logdir ./data/callbacks\")"
   ]
  },
  {
   "cell_type": "code",
   "execution_count": null,
   "metadata": {},
   "outputs": [],
   "source": []
  }
 ],
 "metadata": {
  "kernelspec": {
   "display_name": "Python 3",
   "language": "python",
   "name": "python3"
  },
  "language_info": {
   "codemirror_mode": {
    "name": "ipython",
    "version": 3
   },
   "file_extension": ".py",
   "mimetype": "text/x-python",
   "name": "python",
   "nbconvert_exporter": "python",
   "pygments_lexer": "ipython3",
   "version": "3.7.6"
  }
 },
 "nbformat": 4,
 "nbformat_minor": 4
}
