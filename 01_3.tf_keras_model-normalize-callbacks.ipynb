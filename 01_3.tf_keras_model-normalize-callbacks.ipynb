{
 "cells": [
  {
   "cell_type": "code",
   "execution_count": 1,
   "metadata": {},
   "outputs": [
    {
     "name": "stdout",
     "output_type": "stream",
     "text": [
      "2.0.0\n",
      "sys.version_info(major=3, minor=7, micro=6, releaselevel='final', serial=0)\n",
      "numpy 1.18.1\n",
      "pandas 1.0.1\n",
      "sklearn 0.22.2\n",
      "tensorflow 2.0.0\n",
      "tensorflow_core.keras 2.2.4-tf\n"
     ]
    }
   ],
   "source": [
    "import matplotlib.pyplot as plt\n",
    "%matplotlib inline\n",
    "import numpy as np\n",
    "import pandas as pd\n",
    "import sklearn\n",
    "import os\n",
    "import sys\n",
    "import time\n",
    "import tensorflow as tf\n",
    "\n",
    "from tensorflow import keras\n",
    "print(tf.__version__)\n",
    "print(sys.version_info)\n",
    "for module in np, pd ,sklearn, tf, keras:\n",
    "    print(module.__name__,module.__version__)"
   ]
  },
  {
   "cell_type": "code",
   "execution_count": 2,
   "metadata": {},
   "outputs": [
    {
     "name": "stdout",
     "output_type": "stream",
     "text": [
      "(5000, 28, 28) (5000,)\n",
      "(55000, 28, 28) (55000,)\n",
      "(10000, 28, 28) (10000,)\n"
     ]
    }
   ],
   "source": [
    "\n",
    "fashion_mnist = keras.datasets.fashion_mnist\n",
    "(x_train_all,y_train_all),(x_test,y_test) = fashion_mnist.load_data()\n",
    "x_valid, x_train = x_train_all[:5000], x_train_all[5000:]\n",
    "y_valid, y_train = y_train_all[:5000], y_train_all[5000:]\n",
    "\n",
    "print(x_valid.shape,y_valid.shape)\n",
    "print(x_train.shape,y_train.shape)\n",
    "print(x_test.shape,y_test.shape)\n"
   ]
  },
  {
   "cell_type": "code",
   "execution_count": 3,
   "metadata": {},
   "outputs": [],
   "source": [
    "#x = (x - u) / std\n",
    "\n",
    "from sklearn.preprocessing import StandardScaler\n",
    "scaler = StandardScaler()\n",
    "x_train_scaler = scaler.fit_transform(x_train.astype(np.float32).reshape(-1,1)).reshape(-1,28,28)\n",
    "x_valid_scaler = scaler.transform(x_valid.astype(np.float32).reshape(-1,1)).reshape(-1,28,28)\n",
    "x_test_scaler = scaler.transform(x_test.astype(np.float32).reshape(-1,1)).reshape(-1,28,28)\n"
   ]
  },
  {
   "cell_type": "code",
   "execution_count": 4,
   "metadata": {},
   "outputs": [],
   "source": [
    "#tf.keras.models.Sequential()\n",
    "\n",
    "model = keras.models.Sequential([\n",
    "    keras.layers.Flatten(input_shape =[28,28]),\n",
    "    keras.layers.Dense(100,activation='relu'),\n",
    "    keras.layers.Dense(100,activation='relu'),\n",
    "    keras.layers.Dense(10, activation='softmax')\n",
    "])    \n",
    "# relu:  y=max(0,x)\n",
    "# softmax:将向量变成概率分布，x =[x1,x2,x3]\n",
    "#                y=[e^x1/sum,e^x2/sum,e^x3/sum], sum=e^x1+e^x2+e^x36\n",
    "\n",
    "# sparse的原因：将y的分类转换为one_hot编码\n",
    "model.compile(loss=keras.losses.SparseCategoricalCrossentropy(from_logits=False),\n",
    "             optimizer = 'sgd',\n",
    "             metrics = ['accuracy'])\n"
   ]
  },
  {
   "cell_type": "code",
   "execution_count": 5,
   "metadata": {},
   "outputs": [
    {
     "name": "stdout",
     "output_type": "stream",
     "text": [
      "Model: \"sequential\"\n",
      "_________________________________________________________________\n",
      "Layer (type)                 Output Shape              Param #   \n",
      "=================================================================\n",
      "flatten (Flatten)            (None, 784)               0         \n",
      "_________________________________________________________________\n",
      "dense (Dense)                (None, 100)               78500     \n",
      "_________________________________________________________________\n",
      "dense_1 (Dense)              (None, 100)               10100     \n",
      "_________________________________________________________________\n",
      "dense_2 (Dense)              (None, 10)                1010      \n",
      "=================================================================\n",
      "Total params: 89,610\n",
      "Trainable params: 89,610\n",
      "Non-trainable params: 0\n",
      "_________________________________________________________________\n"
     ]
    }
   ],
   "source": [
    "model.summary()"
   ]
  },
  {
   "cell_type": "code",
   "execution_count": 21,
   "metadata": {},
   "outputs": [
    {
     "name": "stdout",
     "output_type": "stream",
     "text": [
      "Train on 55000 samples, validate on 5000 samples\n",
      "Epoch 1/100\n",
      "55000/55000 [==============================] - 12s 213us/sample - loss: 0.2634 - accuracy: 0.9030 - val_loss: 0.3080 - val_accuracy: 0.8870\n",
      "Epoch 2/100\n",
      "55000/55000 [==============================] - 12s 223us/sample - loss: 0.2566 - accuracy: 0.9062 - val_loss: 0.3318 - val_accuracy: 0.8818\n",
      "Epoch 3/100\n",
      "55000/55000 [==============================] - 13s 231us/sample - loss: 0.2490 - accuracy: 0.9085 - val_loss: 0.3054 - val_accuracy: 0.8902\n",
      "Epoch 4/100\n",
      "55000/55000 [==============================] - 12s 222us/sample - loss: 0.2423 - accuracy: 0.9114 - val_loss: 0.3064 - val_accuracy: 0.8870\n",
      "Epoch 5/100\n",
      "55000/55000 [==============================] - 12s 219us/sample - loss: 0.2357 - accuracy: 0.9132 - val_loss: 0.3084 - val_accuracy: 0.8894\n",
      "Epoch 6/100\n",
      "55000/55000 [==============================] - 12s 218us/sample - loss: 0.2301 - accuracy: 0.9167 - val_loss: 0.3032 - val_accuracy: 0.8904\n",
      "Epoch 7/100\n",
      "55000/55000 [==============================] - 12s 223us/sample - loss: 0.2229 - accuracy: 0.9187 - val_loss: 0.3098 - val_accuracy: 0.8856\n",
      "Epoch 8/100\n",
      "55000/55000 [==============================] - 13s 228us/sample - loss: 0.2174 - accuracy: 0.9200 - val_loss: 0.3205 - val_accuracy: 0.8818\n",
      "Epoch 9/100\n",
      "55000/55000 [==============================] - 13s 235us/sample - loss: 0.2128 - accuracy: 0.9229 - val_loss: 0.2997 - val_accuracy: 0.8912\n",
      "Epoch 10/100\n",
      "55000/55000 [==============================] - 13s 230us/sample - loss: 0.2075 - accuracy: 0.9252 - val_loss: 0.3063 - val_accuracy: 0.8928\n",
      "Epoch 11/100\n",
      "55000/55000 [==============================] - 15s 269us/sample - loss: 0.2035 - accuracy: 0.9261 - val_loss: 0.3038 - val_accuracy: 0.8924\n",
      "Epoch 12/100\n",
      "55000/55000 [==============================] - 14s 263us/sample - loss: 0.1984 - accuracy: 0.9276 - val_loss: 0.3012 - val_accuracy: 0.8880\n",
      "Epoch 13/100\n",
      "55000/55000 [==============================] - 16s 299us/sample - loss: 0.1924 - accuracy: 0.9302 - val_loss: 0.3177 - val_accuracy: 0.8912\n",
      "Epoch 14/100\n",
      "55000/55000 [==============================] - 17s 307us/sample - loss: 0.1883 - accuracy: 0.9331 - val_loss: 0.3025 - val_accuracy: 0.8910\n",
      "Epoch 15/100\n",
      "55000/55000 [==============================] - 16s 296us/sample - loss: 0.1636 - accuracy: 0.9431 - val_loss: 0.2958 - val_accuracy: 0.8936\n",
      "Epoch 16/100\n",
      "55000/55000 [==============================] - 16s 297us/sample - loss: 0.1609 - accuracy: 0.9442 - val_loss: 0.2964 - val_accuracy: 0.8920\n",
      "Epoch 17/100\n",
      "55000/55000 [==============================] - 16s 295us/sample - loss: 0.1591 - accuracy: 0.9457 - val_loss: 0.2963 - val_accuracy: 0.8942\n",
      "Epoch 18/100\n",
      "55000/55000 [==============================] - 16s 292us/sample - loss: 0.1583 - accuracy: 0.9450 - val_loss: 0.2986 - val_accuracy: 0.8918\n",
      "Epoch 19/100\n",
      "55000/55000 [==============================] - 16s 290us/sample - loss: 0.1570 - accuracy: 0.9457 - val_loss: 0.2972 - val_accuracy: 0.8948\n",
      "Epoch 20/100\n",
      "55000/55000 [==============================] - 17s 305us/sample - loss: 0.1557 - accuracy: 0.9457 - val_loss: 0.2983 - val_accuracy: 0.8962\n",
      "Epoch 21/100\n",
      "55000/55000 [==============================] - 15s 267us/sample - loss: 0.1521 - accuracy: 0.9479 - val_loss: 0.2983 - val_accuracy: 0.8942\n",
      "Epoch 22/100\n",
      "55000/55000 [==============================] - 14s 256us/sample - loss: 0.1511 - accuracy: 0.9482 - val_loss: 0.2981 - val_accuracy: 0.8956\n",
      "Epoch 23/100\n",
      "55000/55000 [==============================] - 13s 245us/sample - loss: 0.1506 - accuracy: 0.9487 - val_loss: 0.2988 - val_accuracy: 0.8938\n",
      "Epoch 24/100\n",
      "55000/55000 [==============================] - 13s 243us/sample - loss: 0.1499 - accuracy: 0.9491 - val_loss: 0.2984 - val_accuracy: 0.8940\n",
      "Epoch 25/100\n",
      "55000/55000 [==============================] - 13s 245us/sample - loss: 0.1493 - accuracy: 0.9492 - val_loss: 0.2984 - val_accuracy: 0.8954\n"
     ]
    }
   ],
   "source": [
    "#在fit里添加callback:TensorBoard,EarlyStopping,ModelCheckpoint\n",
    "#查看TensorBoard命令：\n",
    "#tensorboard --lodger=data/callbacks#TensorBoard所在目录的全路径。然后按照提示进入浏览器访问\n",
    "\n",
    "# 更多callback函数见：https://keras.io/zh/callbacks/\n",
    "# ReduceLROnPlateau 当标准评估停止提升时，降低学习速率。\n",
    "\n",
    "logdir= 'data/callbacks'\n",
    "if not os.path.exists(logdir):\n",
    "    os.mkdir(logdir)\n",
    "output_model_file= os.path.join(logdir,'fashion_mnist_model.h5')\n",
    "\n",
    "callbacks = [\n",
    "    keras.callbacks.TerminateOnNaN(),# 当遇到 NaN 损失会停止训练的回调函数。\n",
    "    keras.callbacks.TensorBoard(logdir),\n",
    "    keras.callbacks.ModelCheckpoint(output_model_file,\n",
    "                                            save_best_only=True),# 在每个训练期之后保存模型。\n",
    "    keras.callbacks.EarlyStopping(patience=10, min_delta=1e-3),\n",
    "    keras.callbacks.ReduceLROnPlateau(monitor='val_loss', factor=0.2,\n",
    "                              patience=5, min_lr=0.001)\n",
    "]\n",
    "history = model.fit(x_train_scaler,y_train, epochs=100,\n",
    "         validation_data=(x_valid_scaler,y_valid),\n",
    "        callbacks= callbacks)\n",
    "#validation_data:训练过程中在验证集验证"
   ]
  },
  {
   "cell_type": "code",
   "execution_count": 7,
   "metadata": {},
   "outputs": [
    {
     "data": {
      "image/png": "[encoded data removed]",
      "text/plain": [
       "<Figure size 576x360 with 1 Axes>"
      ]
     },
     "metadata": {
      "needs_background": "light"
     },
     "output_type": "display_data"
    }
   ],
   "source": [
    "def plot_learning_curves(history):\n",
    "    pd.DataFrame(history.history).plot(figsize=[8,5])\n",
    "    plt.grid(True)\n",
    "    plt.gca().set_ylim(0,1)\n",
    "    plt.show()\n",
    "\n",
    "plot_learning_curves(history)"
   ]
  },
  {
   "cell_type": "code",
   "execution_count": 14,
   "metadata": {},
   "outputs": [
    {
     "name": "stdout",
     "output_type": "stream",
     "text": [
      "10000/1 - 1s - loss: 0.2653 - accuracy: 0.8721\n"
     ]
    },
    {
     "data": {
      "text/plain": [
       "[0.35738545589447024, 0.8721]"
      ]
     },
     "execution_count": 14,
     "metadata": {},
     "output_type": "execute_result"
    }
   ],
   "source": [
    "model.evaluate(x_test_scaler, y_test, verbose=2)"
   ]
  },
  {
   "cell_type": "code",
   "execution_count": null,
   "metadata": {},
   "outputs": [],
   "source": []
  },
  {
   "cell_type": "code",
   "execution_count": null,
   "metadata": {},
   "outputs": [],
   "source": []
  },
  {
   "cell_type": "code",
   "execution_count": null,
   "metadata": {},
   "outputs": [],
   "source": []
  },
  {
   "cell_type": "code",
   "execution_count": null,
   "metadata": {},
   "outputs": [],
   "source": []
  },
  {
   "cell_type": "code",
   "execution_count": null,
   "metadata": {},
   "outputs": [],
   "source": []
  }
 ],
 "metadata": {
  "kernelspec": {
   "display_name": "Python 3",
   "language": "python",
   "name": "python3"
  },
  "language_info": {
   "codemirror_mode": {
    "name": "ipython",
    "version": 3
   },
   "file_extension": ".py",
   "mimetype": "text/x-python",
   "name": "python",
   "nbconvert_exporter": "python",
   "pygments_lexer": "ipython3",
   "version": "3.7.6"
  }
 },
 "nbformat": 4,
 "nbformat_minor": 4
}
