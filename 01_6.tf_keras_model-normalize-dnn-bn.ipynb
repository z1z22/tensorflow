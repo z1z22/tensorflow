{
 "cells": [
  {
   "cell_type": "markdown",
   "metadata": {},
   "source": [
    "# 定义深度神经网络,批归一化\n",
    "##     model.add(keras.layers.BatchNormalization())#加入批归一化\n"
   ]
  },
  {
   "cell_type": "code",
   "execution_count": 1,
   "metadata": {},
   "outputs": [
    {
     "name": "stdout",
     "output_type": "stream",
     "text": [
      "2.1.0\n",
      "sys.version_info(major=3, minor=6, micro=9, releaselevel='final', serial=0)\n",
      "numpy 1.18.1\n",
      "pandas 1.0.1\n",
      "sklearn 0.22.2.post1\n",
      "tensorflow 2.1.0\n",
      "tensorflow_core.python.keras.api._v2.keras 2.2.4-tf\n"
     ]
    }
   ],
   "source": [
    "import matplotlib.pyplot as plt\n",
    "%matplotlib inline\n",
    "import numpy as np\n",
    "import pandas as pd\n",
    "import sklearn\n",
    "import os\n",
    "import sys\n",
    "import time\n",
    "import tensorflow as tf\n",
    "\n",
    "from tensorflow import keras\n",
    "print(tf.__version__)\n",
    "print(sys.version_info)\n",
    "for module in np, pd ,sklearn, tf, keras:\n",
    "    print(module.__name__,module.__version__)"
   ]
  },
  {
   "cell_type": "code",
   "execution_count": 2,
   "metadata": {},
   "outputs": [
    {
     "name": "stdout",
     "output_type": "stream",
     "text": [
      "(5000, 28, 28) (5000,)\n",
      "(55000, 28, 28) (55000,)\n",
      "(10000, 28, 28) (10000,)\n"
     ]
    }
   ],
   "source": [
    "\n",
    "fashion_mnist = keras.datasets.fashion_mnist\n",
    "(x_train_all,y_train_all),(x_test,y_test) = fashion_mnist.load_data()\n",
    "x_valid, x_train = x_train_all[:5000], x_train_all[5000:]\n",
    "y_valid, y_train = y_train_all[:5000], y_train_all[5000:]\n",
    "\n",
    "print(x_valid.shape,y_valid.shape)\n",
    "print(x_train.shape,y_train.shape)\n",
    "print(x_test.shape,y_test.shape)\n"
   ]
  },
  {
   "cell_type": "code",
   "execution_count": 4,
   "metadata": {},
   "outputs": [],
   "source": [
    "#x = (x - u) / std\n",
    "\n",
    "from sklearn.preprocessing import StandardScaler\n",
    "scaler = StandardScaler()\n",
    "x_train_scaler = scaler.fit_transform(x_train.astype(np.float32).reshape(-1,1)).reshape(-1,28,28)\n",
    "x_valid_scaler = scaler.transform(x_valid.astype(np.float32).reshape(-1,1)).reshape(-1,28,28)\n",
    "x_test_scaler = scaler.transform(x_test.astype(np.float32).reshape(-1,1)).reshape(-1,28,28)\n"
   ]
  },
  {
   "cell_type": "code",
   "execution_count": 5,
   "metadata": {},
   "outputs": [],
   "source": [
    "#tf.keras.models.Sequential()\n",
    "\n",
    "model = keras.models.Sequential()\n",
    "model.add(keras.layers.Flatten(input_shape=[28,28]))\n",
    "for _ in range(20):#定义20层的深度神经网络\n",
    "    model.add(keras.layers.Dense(100,activation='relu'))\n",
    "    \n",
    "    model.add(keras.layers.BatchNormalization())#加入批归一化\n",
    "\n",
    "    \"\"\"\n",
    "    在批归一化之后激活\n",
    "    model.add(keras.layers.Dense(100))\n",
    "    model.add(ketas.layers.BatchNormalization())\n",
    "    model.add(ketas.layers.Activation('relu'))\n",
    "    \"\"\"\n",
    "model.add(keras.layers.Dense(10, activation='softmax'))\n",
    "\n",
    "# sparse的原因：将y的分类转换为one_hot编码\n",
    "model.compile(loss=keras.losses.SparseCategoricalCrossentropy(from_logits=False),\n",
    "             optimizer = 'sgd',\n",
    "             metrics = ['accuracy'])\n"
   ]
  },
  {
   "cell_type": "code",
   "execution_count": 6,
   "metadata": {},
   "outputs": [
    {
     "name": "stdout",
     "output_type": "stream",
     "text": [
      "Model: \"sequential_1\"\n",
      "_________________________________________________________________\n",
      "Layer (type)                 Output Shape              Param #   \n",
      "=================================================================\n",
      "flatten_1 (Flatten)          (None, 784)               0         \n",
      "_________________________________________________________________\n",
      "dense_1 (Dense)              (None, 100)               78500     \n",
      "_________________________________________________________________\n",
      "batch_normalization (BatchNo (None, 100)               400       \n",
      "_________________________________________________________________\n",
      "dense_2 (Dense)              (None, 100)               10100     \n",
      "_________________________________________________________________\n",
      "batch_normalization_1 (Batch (None, 100)               400       \n",
      "_________________________________________________________________\n",
      "dense_3 (Dense)              (None, 100)               10100     \n",
      "_________________________________________________________________\n",
      "batch_normalization_2 (Batch (None, 100)               400       \n",
      "_________________________________________________________________\n",
      "dense_4 (Dense)              (None, 100)               10100     \n",
      "_________________________________________________________________\n",
      "batch_normalization_3 (Batch (None, 100)               400       \n",
      "_________________________________________________________________\n",
      "dense_5 (Dense)              (None, 100)               10100     \n",
      "_________________________________________________________________\n",
      "batch_normalization_4 (Batch (None, 100)               400       \n",
      "_________________________________________________________________\n",
      "dense_6 (Dense)              (None, 100)               10100     \n",
      "_________________________________________________________________\n",
      "batch_normalization_5 (Batch (None, 100)               400       \n",
      "_________________________________________________________________\n",
      "dense_7 (Dense)              (None, 100)               10100     \n",
      "_________________________________________________________________\n",
      "batch_normalization_6 (Batch (None, 100)               400       \n",
      "_________________________________________________________________\n",
      "dense_8 (Dense)              (None, 100)               10100     \n",
      "_________________________________________________________________\n",
      "batch_normalization_7 (Batch (None, 100)               400       \n",
      "_________________________________________________________________\n",
      "dense_9 (Dense)              (None, 100)               10100     \n",
      "_________________________________________________________________\n",
      "batch_normalization_8 (Batch (None, 100)               400       \n",
      "_________________________________________________________________\n",
      "dense_10 (Dense)             (None, 100)               10100     \n",
      "_________________________________________________________________\n",
      "batch_normalization_9 (Batch (None, 100)               400       \n",
      "_________________________________________________________________\n",
      "dense_11 (Dense)             (None, 100)               10100     \n",
      "_________________________________________________________________\n",
      "batch_normalization_10 (Batc (None, 100)               400       \n",
      "_________________________________________________________________\n",
      "dense_12 (Dense)             (None, 100)               10100     \n",
      "_________________________________________________________________\n",
      "batch_normalization_11 (Batc (None, 100)               400       \n",
      "_________________________________________________________________\n",
      "dense_13 (Dense)             (None, 100)               10100     \n",
      "_________________________________________________________________\n",
      "batch_normalization_12 (Batc (None, 100)               400       \n",
      "_________________________________________________________________\n",
      "dense_14 (Dense)             (None, 100)               10100     \n",
      "_________________________________________________________________\n",
      "batch_normalization_13 (Batc (None, 100)               400       \n",
      "_________________________________________________________________\n",
      "dense_15 (Dense)             (None, 100)               10100     \n",
      "_________________________________________________________________\n",
      "batch_normalization_14 (Batc (None, 100)               400       \n",
      "_________________________________________________________________\n",
      "dense_16 (Dense)             (None, 100)               10100     \n",
      "_________________________________________________________________\n",
      "batch_normalization_15 (Batc (None, 100)               400       \n",
      "_________________________________________________________________\n",
      "dense_17 (Dense)             (None, 100)               10100     \n",
      "_________________________________________________________________\n",
      "batch_normalization_16 (Batc (None, 100)               400       \n",
      "_________________________________________________________________\n",
      "dense_18 (Dense)             (None, 100)               10100     \n",
      "_________________________________________________________________\n",
      "batch_normalization_17 (Batc (None, 100)               400       \n",
      "_________________________________________________________________\n",
      "dense_19 (Dense)             (None, 100)               10100     \n",
      "_________________________________________________________________\n",
      "batch_normalization_18 (Batc (None, 100)               400       \n",
      "_________________________________________________________________\n",
      "dense_20 (Dense)             (None, 100)               10100     \n",
      "_________________________________________________________________\n",
      "batch_normalization_19 (Batc (None, 100)               400       \n",
      "_________________________________________________________________\n",
      "dense_21 (Dense)             (None, 10)                1010      \n",
      "=================================================================\n",
      "Total params: 279,410\n",
      "Trainable params: 275,410\n",
      "Non-trainable params: 4,000\n",
      "_________________________________________________________________\n"
     ]
    }
   ],
   "source": [
    "model.summary()"
   ]
  },
  {
   "cell_type": "code",
   "execution_count": 6,
   "metadata": {},
   "outputs": [
    {
     "name": "stdout",
     "output_type": "stream",
     "text": [
      "Train on 55000 samples, validate on 5000 samples\n",
      "Epoch 1/100\n",
      "55000/55000 [==============================] - 22s 400us/sample - loss: 1.0970 - accuracy: 0.6067 - val_loss: 0.7167 - val_accuracy: 0.7336\n",
      "Epoch 2/100\n",
      "55000/55000 [==============================] - 17s 303us/sample - loss: 0.8045 - accuracy: 0.7057 - val_loss: 0.5933 - val_accuracy: 0.7746\n",
      "Epoch 3/100\n",
      "55000/55000 [==============================] - 17s 303us/sample - loss: 0.7018 - accuracy: 0.7486 - val_loss: 0.5559 - val_accuracy: 0.7970\n",
      "Epoch 4/100\n",
      "55000/55000 [==============================] - 17s 309us/sample - loss: 0.6427 - accuracy: 0.7717 - val_loss: 0.5061 - val_accuracy: 0.8262\n",
      "Epoch 5/100\n",
      "55000/55000 [==============================] - 17s 309us/sample - loss: 0.5948 - accuracy: 0.7873 - val_loss: 0.4651 - val_accuracy: 0.8288\n",
      "Epoch 6/100\n",
      "55000/55000 [==============================] - 17s 306us/sample - loss: 0.5632 - accuracy: 0.8005 - val_loss: 0.4818 - val_accuracy: 0.8176\n",
      "Epoch 7/100\n",
      "55000/55000 [==============================] - 17s 312us/sample - loss: 0.5299 - accuracy: 0.8130 - val_loss: 0.4316 - val_accuracy: 0.8454\n",
      "Epoch 8/100\n",
      "55000/55000 [==============================] - 17s 300us/sample - loss: 0.5111 - accuracy: 0.8185 - val_loss: 0.4176 - val_accuracy: 0.8478\n",
      "Epoch 9/100\n",
      "55000/55000 [==============================] - 17s 306us/sample - loss: 0.4861 - accuracy: 0.8287 - val_loss: 0.4092 - val_accuracy: 0.8544\n",
      "Epoch 10/100\n",
      "55000/55000 [==============================] - 17s 310us/sample - loss: 0.4672 - accuracy: 0.8363 - val_loss: 0.4044 - val_accuracy: 0.8566\n",
      "Epoch 11/100\n",
      "55000/55000 [==============================] - 17s 309us/sample - loss: 0.4542 - accuracy: 0.8395 - val_loss: 0.3799 - val_accuracy: 0.8654\n",
      "Epoch 12/100\n",
      "55000/55000 [==============================] - 17s 312us/sample - loss: 0.4438 - accuracy: 0.8420 - val_loss: 0.3899 - val_accuracy: 0.8588\n",
      "Epoch 13/100\n",
      "55000/55000 [==============================] - 17s 318us/sample - loss: 0.4309 - accuracy: 0.8485 - val_loss: 0.4030 - val_accuracy: 0.8568\n",
      "Epoch 14/100\n",
      "55000/55000 [==============================] - 17s 318us/sample - loss: 0.4193 - accuracy: 0.8526 - val_loss: 0.3720 - val_accuracy: 0.8614\n",
      "Epoch 15/100\n",
      "55000/55000 [==============================] - 17s 311us/sample - loss: 0.4135 - accuracy: 0.8526 - val_loss: 0.3587 - val_accuracy: 0.8716\n",
      "Epoch 16/100\n",
      "55000/55000 [==============================] - 17s 304us/sample - loss: 0.4077 - accuracy: 0.8565 - val_loss: 0.3788 - val_accuracy: 0.8634\n",
      "Epoch 17/100\n",
      "55000/55000 [==============================] - 17s 310us/sample - loss: 0.3943 - accuracy: 0.8615 - val_loss: 0.3774 - val_accuracy: 0.8648\n",
      "Epoch 18/100\n",
      "55000/55000 [==============================] - 17s 307us/sample - loss: 0.3875 - accuracy: 0.8631 - val_loss: 0.3523 - val_accuracy: 0.8764\n",
      "Epoch 19/100\n",
      "55000/55000 [==============================] - 18s 326us/sample - loss: 0.3776 - accuracy: 0.8665 - val_loss: 0.3553 - val_accuracy: 0.8758\n",
      "Epoch 20/100\n",
      "55000/55000 [==============================] - 17s 305us/sample - loss: 0.3757 - accuracy: 0.8670 - val_loss: 0.3634 - val_accuracy: 0.8692\n",
      "Epoch 21/100\n",
      "55000/55000 [==============================] - 16s 299us/sample - loss: 0.3699 - accuracy: 0.8689 - val_loss: 0.3381 - val_accuracy: 0.8754\n",
      "Epoch 22/100\n",
      "55000/55000 [==============================] - 16s 296us/sample - loss: 0.3653 - accuracy: 0.8683 - val_loss: 0.3460 - val_accuracy: 0.8764\n",
      "Epoch 23/100\n",
      "55000/55000 [==============================] - 16s 299us/sample - loss: 0.3587 - accuracy: 0.8724 - val_loss: 0.3407 - val_accuracy: 0.8790\n",
      "Epoch 24/100\n",
      "55000/55000 [==============================] - 17s 306us/sample - loss: 0.3527 - accuracy: 0.8750 - val_loss: 0.3367 - val_accuracy: 0.8758\n",
      "Epoch 25/100\n",
      "55000/55000 [==============================] - 17s 316us/sample - loss: 0.3507 - accuracy: 0.8770 - val_loss: 0.3446 - val_accuracy: 0.8746\n",
      "Epoch 26/100\n",
      "55000/55000 [==============================] - 17s 313us/sample - loss: 0.3471 - accuracy: 0.8766 - val_loss: 0.3411 - val_accuracy: 0.8770\n",
      "Epoch 27/100\n",
      "55000/55000 [==============================] - 16s 298us/sample - loss: 0.3374 - accuracy: 0.8791 - val_loss: 0.3571 - val_accuracy: 0.8728\n",
      "Epoch 28/100\n",
      "55000/55000 [==============================] - 16s 298us/sample - loss: 0.3341 - accuracy: 0.8807 - val_loss: 0.3367 - val_accuracy: 0.8794\n",
      "Epoch 29/100\n",
      "55000/55000 [==============================] - 17s 300us/sample - loss: 0.3309 - accuracy: 0.8831 - val_loss: 0.3400 - val_accuracy: 0.8740\n"
     ]
    }
   ],
   "source": [
    "#在fit里添加callback:TensorBoard,EarlyStopping,ModelCheckpoint\n",
    "#查看TensorBoard命令：\n",
    "#tensorboard --lodger=callbacks然后用浏览器访问\n",
    "# 例子：\n",
    "# (mytf) mac:data mac$ tensorboard --logdir=callback\n",
    "# Serving TensorBoard on localhost; to expose to the network, use a proxy or pass --bind_all\n",
    "# TensorBoard 2.0.0 at http://localhost:6006/ (Press CTRL+C to quit)\n",
    "\n",
    "\n",
    "logdir= 'data/dnn-cn-callbacks'\n",
    "if not os.path.exists(logdir):\n",
    "    os.mkdir(logdir)\n",
    "output_model_file= os.path.join(logdir, 'fashion_mnist_model.h5')\n",
    "\n",
    "callbacks = [\n",
    "    keras.callbacks.TensorBoard(logdir),\n",
    "    keras.callbacks.ModelCheckpoint(output_model_file,\n",
    "                                            save_best_only=True),\n",
    "    keras.callbacks.EarlyStopping(patience=5,min_delta=1e-3)\n",
    "]\n",
    "history = model.fit(x_train_scaler,y_train,epochs=100,\n",
    "         validation_data=(x_valid_scaler,y_valid),\n",
    "        callbacks= callbacks)\n",
    "#validation_data:训练过程中在验证集验证"
   ]
  },
  {
   "cell_type": "code",
   "execution_count": 7,
   "metadata": {},
   "outputs": [
    {
     "data": {
      "image/png": "[encoded data removed]",
      "text/plain": [
       "<Figure size 576x360 with 1 Axes>"
      ]
     },
     "metadata": {
      "needs_background": "light"
     },
     "output_type": "display_data"
    }
   ],
   "source": [
    "def plot_learning_curves(history):\n",
    "    pd.DataFrame(history.history).plot(figsize=[8,5])\n",
    "    plt.grid(True)\n",
    "    plt.gca().set_ylim(0,1)\n",
    "    plt.show()\n",
    "\n",
    "plot_learning_curves(history)"
   ]
  },
  {
   "cell_type": "code",
   "execution_count": 8,
   "metadata": {},
   "outputs": [
    {
     "ename": "SyntaxError",
     "evalue": "invalid character in identifier (<ipython-input-8-b92717caaf4e>, line 1)",
     "output_type": "error",
     "traceback": [
      "\u001b[0;36m  File \u001b[0;32m\"<ipython-input-8-b92717caaf4e>\"\u001b[0;36m, line \u001b[0;32m1\u001b[0m\n\u001b[0;31m    model.evaluate(x_test_scaler, y_test，verbose = 2)\u001b[0m\n\u001b[0m                                               ^\u001b[0m\n\u001b[0;31mSyntaxError\u001b[0m\u001b[0;31m:\u001b[0m invalid character in identifier\n"
     ]
    }
   ],
   "source": [
    "model.evaluate(x_test_scaler, y_test，verbose = 2)"
   ]
  },
  {
   "cell_type": "code",
   "execution_count": null,
   "metadata": {},
   "outputs": [],
   "source": []
  },
  {
   "cell_type": "code",
   "execution_count": null,
   "metadata": {},
   "outputs": [],
   "source": []
  },
  {
   "cell_type": "code",
   "execution_count": null,
   "metadata": {},
   "outputs": [],
   "source": []
  },
  {
   "cell_type": "code",
   "execution_count": null,
   "metadata": {},
   "outputs": [],
   "source": []
  },
  {
   "cell_type": "code",
   "execution_count": null,
   "metadata": {},
   "outputs": [],
   "source": []
  }
 ],
 "metadata": {
  "kernelspec": {
   "display_name": "Python 3",
   "language": "python",
   "name": "python3"
  },
  "language_info": {
   "codemirror_mode": {
    "name": "ipython",
    "version": 3
   },
   "file_extension": ".py",
   "mimetype": "text/x-python",
   "name": "python",
   "nbconvert_exporter": "python",
   "pygments_lexer": "ipython3",
   "version": "3.6.9"
  }
 },
 "nbformat": 4,
 "nbformat_minor": 4
}
