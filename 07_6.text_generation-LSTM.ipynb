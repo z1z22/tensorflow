{
 "cells": [
  {
   "cell_type": "code",
   "execution_count": 1,
   "metadata": {},
   "outputs": [],
   "source": [
    "# API：\n",
    "# tf.random.categorical #随机采样\n",
    "# tf.expand_dims(input_eval, 0)#增加维度\n",
    "# tf.squeeze(predictions, 0)#减少维度"
   ]
  },
  {
   "cell_type": "code",
   "execution_count": 2,
   "metadata": {},
   "outputs": [
    {
     "name": "stdout",
     "output_type": "stream",
     "text": [
      "tensorflow 2.1.0\n"
     ]
    }
   ],
   "source": [
    "import matplotlib.pyplot as plt\n",
    "import numpy as np\n",
    "import pandas as pd \n",
    "import tensorflow as tf\n",
    "from tensorflow import keras\n",
    "import os\n",
    "print(tf.__name__, tf.__version__)"
   ]
  },
  {
   "cell_type": "code",
   "execution_count": 3,
   "metadata": {},
   "outputs": [],
   "source": [
    "# import requests\n",
    "# url = 'http://storage.googleapis.com/download.tensorflow.org/data/shakespeare.txt'\n",
    "\n",
    "# r = requests.get(url)\n",
    "# # print(r.text)\n",
    "# with open('data/shakespeare.txt','w') as f:\n",
    "#     f.write(r.text)"
   ]
  },
  {
   "cell_type": "code",
   "execution_count": 4,
   "metadata": {},
   "outputs": [
    {
     "name": "stdout",
     "output_type": "stream",
     "text": [
      "1115394\n",
      "First Citizen:\n",
      "Before we proceed any further, hear me speak.\n",
      "\n",
      "All:\n",
      "Speak, speak.\n",
      "\n",
      "First Citizen:\n",
      "You\n"
     ]
    }
   ],
   "source": [
    "# http://storage.googleapis.com/download.tensorflow.org/data/shakespeare.txt\n",
    "input_filepath = \"data/shakespeare.txt\"\n",
    "text = open(input_filepath, 'r').read()\n",
    "\n",
    "print(len(text))\n",
    "print(text[0:100])"
   ]
  },
  {
   "cell_type": "code",
   "execution_count": 5,
   "metadata": {},
   "outputs": [
    {
     "name": "stdout",
     "output_type": "stream",
     "text": [
      "65\n",
      "['\\n', ' ', '!', '$', '&', \"'\", ',', '-', '.', '3', ':', ';', '?', 'A', 'B', 'C', 'D', 'E', 'F', 'G', 'H', 'I', 'J', 'K', 'L', 'M', 'N', 'O', 'P', 'Q', 'R', 'S', 'T', 'U', 'V', 'W', 'X', 'Y', 'Z', 'a', 'b', 'c', 'd', 'e', 'f', 'g', 'h', 'i', 'j', 'k', 'l', 'm', 'n', 'o', 'p', 'q', 'r', 's', 't', 'u', 'v', 'w', 'x', 'y', 'z']\n"
     ]
    }
   ],
   "source": [
    "# 数据处理\n",
    "# 1.generate vocab\n",
    "# 2.build mapping char ->id\n",
    "# 3.data -> id_data\n",
    "# 4.abcd  -> bcd<eos>\n",
    "vocab = sorted(set(text))\n",
    "\n",
    "print(len(vocab))\n",
    "print(vocab)\n"
   ]
  },
  {
   "cell_type": "code",
   "execution_count": 6,
   "metadata": {},
   "outputs": [
    {
     "name": "stdout",
     "output_type": "stream",
     "text": [
      "{'\\n': 0, ' ': 1, '!': 2, '$': 3, '&': 4, \"'\": 5, ',': 6, '-': 7, '.': 8, '3': 9, ':': 10, ';': 11, '?': 12, 'A': 13, 'B': 14, 'C': 15, 'D': 16, 'E': 17, 'F': 18, 'G': 19, 'H': 20, 'I': 21, 'J': 22, 'K': 23, 'L': 24, 'M': 25, 'N': 26, 'O': 27, 'P': 28, 'Q': 29, 'R': 30, 'S': 31, 'T': 32, 'U': 33, 'V': 34, 'W': 35, 'X': 36, 'Y': 37, 'Z': 38, 'a': 39, 'b': 40, 'c': 41, 'd': 42, 'e': 43, 'f': 44, 'g': 45, 'h': 46, 'i': 47, 'j': 48, 'k': 49, 'l': 50, 'm': 51, 'n': 52, 'o': 53, 'p': 54, 'q': 55, 'r': 56, 's': 57, 't': 58, 'u': 59, 'v': 60, 'w': 61, 'x': 62, 'y': 63, 'z': 64}\n"
     ]
    }
   ],
   "source": [
    "char_to_idx = {char: idx for idx, char in enumerate(vocab)}\n",
    "#enumerate() 函数用于将一个可遍历的数据对象(如列表、元组或字符串)组合为一个索引序列\n",
    "print(char_to_idx)\n"
   ]
  },
  {
   "cell_type": "code",
   "execution_count": 7,
   "metadata": {},
   "outputs": [
    {
     "name": "stdout",
     "output_type": "stream",
     "text": [
      "['\\n' ' ' '!' '$' '&' \"'\" ',' '-' '.' '3' ':' ';' '?' 'A' 'B' 'C' 'D' 'E'\n",
      " 'F' 'G' 'H' 'I' 'J' 'K' 'L' 'M' 'N' 'O' 'P' 'Q' 'R' 'S' 'T' 'U' 'V' 'W'\n",
      " 'X' 'Y' 'Z' 'a' 'b' 'c' 'd' 'e' 'f' 'g' 'h' 'i' 'j' 'k' 'l' 'm' 'n' 'o'\n",
      " 'p' 'q' 'r' 's' 't' 'u' 'v' 'w' 'x' 'y' 'z']\n"
     ]
    }
   ],
   "source": [
    "idx_to_char = np.array(vocab)\n",
    "print(idx_to_char)"
   ]
  },
  {
   "cell_type": "code",
   "execution_count": 8,
   "metadata": {},
   "outputs": [
    {
     "name": "stdout",
     "output_type": "stream",
     "text": [
      "[18 47 56 57 58  1 15 47 58 47 64 43 52 10  0 14 43 44 53 56 43  1 61 43\n",
      "  1 54 56 53 41 43 43 42  1 39 52 63  1 44 59 56 58 46 43 56  6  1 46 43\n",
      " 39 56  1 51 43  1 57 54 43 39 49  8  0  0 13 50 50 10  0 31 54 43 39 49\n",
      "  6  1 57 54 43 39 49  8  0  0 18 47 56 57 58  1 15 47 58 47 64 43 52 10\n",
      "  0 37 53 59]\n"
     ]
    }
   ],
   "source": [
    "text_as_int = np.array([char_to_idx[c] for c in text])\n",
    "print(text_as_int[0:100])"
   ]
  },
  {
   "cell_type": "code",
   "execution_count": 9,
   "metadata": {},
   "outputs": [
    {
     "name": "stdout",
     "output_type": "stream",
     "text": [
      "tf.Tensor(18, shape=(), dtype=int64) F\n",
      "tf.Tensor(47, shape=(), dtype=int64) i\n",
      "tf.Tensor(\n",
      "[18 47 56 57 58  1 15 47 58 47 64 43 52 10  0 14 43 44 53 56 43  1 61 43\n",
      "  1 54 56 53 41 43 43 42  1 39 52 63  1 44 59 56 58 46 43 56  6  1 46 43\n",
      " 39 56  1 51 43  1 57 54 43 39 49  8  0  0 13 50 50 10  0 31 54 43 39 49\n",
      "  6  1 57 54 43 39 49  8  0  0 18 47 56 57 58  1 15 47 58 47 64 43 52 10\n",
      "  0 37 53 59  1], shape=(101,), dtype=int64)\n",
      "'First Citizen:\\nBefore we proceed any further, hear me speak.\\n\\nAll:\\nSpeak, speak.\\n\\nFirst Citizen:\\nYou '\n",
      "tf.Tensor(\n",
      "[39 56 43  1 39 50 50  1 56 43 57 53 50 60 43 42  1 56 39 58 46 43 56  1\n",
      " 58 53  1 42 47 43  1 58 46 39 52  1 58 53  1 44 39 51 47 57 46 12  0  0\n",
      " 13 50 50 10  0 30 43 57 53 50 60 43 42  8  1 56 43 57 53 50 60 43 42  8\n",
      "  0  0 18 47 56 57 58  1 15 47 58 47 64 43 52 10  0 18 47 56 57 58  6  1\n",
      " 63 53 59  1 49], shape=(101,), dtype=int64)\n",
      "'are all resolved rather to die than to famish?\\n\\nAll:\\nResolved. resolved.\\n\\nFirst Citizen:\\nFirst, you k'\n"
     ]
    }
   ],
   "source": [
    "def split_input_target(id_text):\n",
    "    # 4.abcde  -> abcd, bcde\n",
    "    return id_text[0:-1],  id_text[1:]\n",
    "char_dataset = tf.data.Dataset.from_tensor_slices(text_as_int)\n",
    "seq_length = 100\n",
    "seq_dataset = char_dataset.batch(seq_length + 1, \n",
    "                                                 drop_remainder = True)\n",
    "# drop_remainder 做batch最后如果不够就丢掉\n",
    "for ch_id in char_dataset.take(2):\n",
    "    print(ch_id, idx_to_char[ch_id.numpy()])\n",
    "for seq_id in seq_dataset.take(2):\n",
    "    print(seq_id)\n",
    "    print(repr(''.join(idx_to_char[seq_id.numpy()])))# repr 显示特殊字符"
   ]
  },
  {
   "cell_type": "code",
   "execution_count": 10,
   "metadata": {},
   "outputs": [
    {
     "name": "stdout",
     "output_type": "stream",
     "text": [
      "[18 47 56 57 58  1 15 47 58 47 64 43 52 10  0 14 43 44 53 56 43  1 61 43\n",
      "  1 54 56 53 41 43 43 42  1 39 52 63  1 44 59 56 58 46 43 56  6  1 46 43\n",
      " 39 56  1 51 43  1 57 54 43 39 49  8  0  0 13 50 50 10  0 31 54 43 39 49\n",
      "  6  1 57 54 43 39 49  8  0  0 18 47 56 57 58  1 15 47 58 47 64 43 52 10\n",
      "  0 37 53 59]\n",
      "[47 56 57 58  1 15 47 58 47 64 43 52 10  0 14 43 44 53 56 43  1 61 43  1\n",
      " 54 56 53 41 43 43 42  1 39 52 63  1 44 59 56 58 46 43 56  6  1 46 43 39\n",
      " 56  1 51 43  1 57 54 43 39 49  8  0  0 13 50 50 10  0 31 54 43 39 49  6\n",
      "  1 57 54 43 39 49  8  0  0 18 47 56 57 58  1 15 47 58 47 64 43 52 10  0\n",
      " 37 53 59  1]\n",
      "[39 56 43  1 39 50 50  1 56 43 57 53 50 60 43 42  1 56 39 58 46 43 56  1\n",
      " 58 53  1 42 47 43  1 58 46 39 52  1 58 53  1 44 39 51 47 57 46 12  0  0\n",
      " 13 50 50 10  0 30 43 57 53 50 60 43 42  8  1 56 43 57 53 50 60 43 42  8\n",
      "  0  0 18 47 56 57 58  1 15 47 58 47 64 43 52 10  0 18 47 56 57 58  6  1\n",
      " 63 53 59  1]\n",
      "[56 43  1 39 50 50  1 56 43 57 53 50 60 43 42  1 56 39 58 46 43 56  1 58\n",
      " 53  1 42 47 43  1 58 46 39 52  1 58 53  1 44 39 51 47 57 46 12  0  0 13\n",
      " 50 50 10  0 30 43 57 53 50 60 43 42  8  1 56 43 57 53 50 60 43 42  8  0\n",
      "  0 18 47 56 57 58  1 15 47 58 47 64 43 52 10  0 18 47 56 57 58  6  1 63\n",
      " 53 59  1 49]\n"
     ]
    }
   ],
   "source": [
    "seq_dataset = seq_dataset.map(split_input_target)\n",
    "\n",
    "for item_input, item_output in seq_dataset.take(2):\n",
    "    print(item_input.numpy())\n",
    "    print(item_output.numpy())"
   ]
  },
  {
   "cell_type": "code",
   "execution_count": 11,
   "metadata": {},
   "outputs": [],
   "source": [
    "batch_size = 64\n",
    "buffer_size = 10000\n",
    "seq_dataset = seq_dataset.shuffle(buffer_size).batch(\n",
    "                      batch_size, drop_remainder = True)"
   ]
  },
  {
   "cell_type": "code",
   "execution_count": 12,
   "metadata": {},
   "outputs": [
    {
     "name": "stdout",
     "output_type": "stream",
     "text": [
      "Model: \"sequential\"\n",
      "_________________________________________________________________\n",
      "Layer (type)                 Output Shape              Param #   \n",
      "=================================================================\n",
      "embedding (Embedding)        (64, None, 256)           16640     \n",
      "_________________________________________________________________\n",
      "lstm (LSTM)                  (64, None, 1024)          5246976   \n",
      "_________________________________________________________________\n",
      "dense (Dense)                (64, None, 65)            66625     \n",
      "=================================================================\n",
      "Total params: 5,330,241\n",
      "Trainable params: 5,330,241\n",
      "Non-trainable params: 0\n",
      "_________________________________________________________________\n"
     ]
    }
   ],
   "source": [
    "vocab_size = len(vocab)\n",
    "embedding_dim = 256\n",
    "rnn_units = 1024\n",
    "\n",
    "def build_model(vocab_size, embedding_dim, rnn_units,batch_size):\n",
    "    model = keras.models.Sequential([\n",
    "        keras.layers.Embedding(vocab_size, embedding_dim,\n",
    "                              batch_input_shape = [batch_size, None]),\n",
    "        keras.layers.LSTM(units=rnn_units,\n",
    "                     stateful = True, #https://www.jianshu.com/p/0c65b47cd6fb\n",
    "                     recurrent_initializer= 'glorot_uniform', #控制循环步所使用的激活函数\n",
    "                     return_sequences=True),\n",
    "        keras.layers.Dense(vocab_size)\n",
    "    ])\n",
    "    return model\n",
    "\n",
    "model = build_model(\n",
    "        vocab_size = vocab_size,\n",
    "        embedding_dim=embedding_dim,\n",
    "        rnn_units = rnn_units,\n",
    "        batch_size=batch_size\n",
    ")\n",
    "model.summary()"
   ]
  },
  {
   "cell_type": "code",
   "execution_count": 13,
   "metadata": {},
   "outputs": [
    {
     "name": "stdout",
     "output_type": "stream",
     "text": [
      "(64, 100, 65)\n"
     ]
    }
   ],
   "source": [
    "# 用定义好的模型做预测\n",
    "for input_example_batch, target_example_batch in seq_dataset.take(1):\n",
    "    example_batch_predictions = model(input_example_batch)\n",
    "    print(example_batch_predictions.shape)"
   ]
  },
  {
   "cell_type": "code",
   "execution_count": 14,
   "metadata": {},
   "outputs": [
    {
     "name": "stdout",
     "output_type": "stream",
     "text": [
      "tf.Tensor(\n",
      "[[19]\n",
      " [53]\n",
      " [48]\n",
      " [30]\n",
      " [55]\n",
      " [53]\n",
      " [14]\n",
      " [ 6]\n",
      " [29]\n",
      " [ 0]\n",
      " [ 9]\n",
      " [45]\n",
      " [ 3]\n",
      " [31]\n",
      " [35]\n",
      " [ 1]\n",
      " [35]\n",
      " [64]\n",
      " [11]\n",
      " [23]\n",
      " [ 0]\n",
      " [ 5]\n",
      " [11]\n",
      " [ 8]\n",
      " [35]\n",
      " [23]\n",
      " [33]\n",
      " [40]\n",
      " [36]\n",
      " [53]\n",
      " [48]\n",
      " [22]\n",
      " [20]\n",
      " [29]\n",
      " [32]\n",
      " [39]\n",
      " [14]\n",
      " [40]\n",
      " [64]\n",
      " [61]\n",
      " [54]\n",
      " [58]\n",
      " [55]\n",
      " [33]\n",
      " [13]\n",
      " [61]\n",
      " [45]\n",
      " [16]\n",
      " [17]\n",
      " [32]\n",
      " [57]\n",
      " [56]\n",
      " [11]\n",
      " [21]\n",
      " [22]\n",
      " [57]\n",
      " [41]\n",
      " [47]\n",
      " [24]\n",
      " [56]\n",
      " [50]\n",
      " [57]\n",
      " [18]\n",
      " [51]\n",
      " [33]\n",
      " [61]\n",
      " [24]\n",
      " [48]\n",
      " [43]\n",
      " [61]\n",
      " [23]\n",
      " [46]\n",
      " [61]\n",
      " [ 5]\n",
      " [27]\n",
      " [54]\n",
      " [13]\n",
      " [ 6]\n",
      " [52]\n",
      " [ 5]\n",
      " [21]\n",
      " [28]\n",
      " [61]\n",
      " [36]\n",
      " [23]\n",
      " [57]\n",
      " [ 1]\n",
      " [21]\n",
      " [35]\n",
      " [50]\n",
      " [26]\n",
      " [ 8]\n",
      " [27]\n",
      " [11]\n",
      " [54]\n",
      " [16]\n",
      " [54]\n",
      " [18]\n",
      " [25]\n",
      " [15]], shape=(100, 1), dtype=int64)\n"
     ]
    }
   ],
   "source": [
    "#随机采样，random sampling\n",
    "#greedy贪心策略，random随机策略\n",
    "sample_indices = tf.random.categorical(\n",
    "    logits = example_batch_predictions[0], num_samples = 1)\n",
    "print(sample_indices)\n",
    "#(100, 65) -> (100, 1)\n",
    "sample_indices = tf.squeeze(sample_indices, axis =1)"
   ]
  },
  {
   "cell_type": "code",
   "execution_count": 15,
   "metadata": {},
   "outputs": [
    {
     "name": "stdout",
     "output_type": "stream",
     "text": [
      "Input 'ee,\\nBut that his negligence, his folly, fear,\\nAmong the infinite doings of the world,\\nSometime puts '\n",
      "\n",
      "Output 'e,\\nBut that his negligence, his folly, fear,\\nAmong the infinite doings of the world,\\nSometime puts f'\n",
      "\n",
      "Predictions \"GojRqoB,Q\\n3g$SW Wz;K\\n';.WKUbXojJHQTaBbzwptqUAwgDETsr;IJsciLrlsFmUwLjewKhw'OpA,n'IPwXKs IWlN.O;pDpFMC\"\n"
     ]
    }
   ],
   "source": [
    "print('Input', repr(\"\".join(idx_to_char[input_example_batch[0]])))\n",
    "print()\n",
    "print('Output', repr(\"\".join(idx_to_char[target_example_batch[0]])))\n",
    "print()\n",
    "print('Predictions', repr(\"\".join(idx_to_char[sample_indices])))\n",
    "# 模型还没有训练，Predictions打出无需字母"
   ]
  },
  {
   "cell_type": "code",
   "execution_count": 16,
   "metadata": {},
   "outputs": [
    {
     "name": "stdout",
     "output_type": "stream",
     "text": [
      "(64, 100)\n",
      "4.173734\n"
     ]
    }
   ],
   "source": [
    "# 自定义损失函数\n",
    "def loss(labels, logits):\n",
    "    return keras.losses.sparse_categorical_crossentropy(\n",
    "            labels, logits, from_logits = True)\n",
    "\n",
    "model.compile(optimizer = 'adam', loss = loss)\n",
    "example_loss = loss(target_example_batch, example_batch_predictions)\n",
    "print(example_loss.shape)\n",
    "print(example_loss.numpy().mean())\n"
   ]
  },
  {
   "cell_type": "code",
   "execution_count": null,
   "metadata": {},
   "outputs": [
    {
     "name": "stdout",
     "output_type": "stream",
     "text": [
      "Train for 172 steps\n",
      "Epoch 1/60\n",
      "172/172 [==============================] - 12s 69ms/step - loss: 2.6668\n",
      "Epoch 2/60\n",
      "172/172 [==============================] - 11s 62ms/step - loss: 1.9516\n",
      "Epoch 3/60\n",
      "172/172 [==============================] - 11s 62ms/step - loss: 1.6914\n",
      "Epoch 4/60\n",
      "172/172 [==============================] - 11s 61ms/step - loss: 1.5452\n",
      "Epoch 5/60\n",
      "172/172 [==============================] - 11s 62ms/step - loss: 1.4565\n",
      "Epoch 6/60\n",
      "172/172 [==============================] - 11s 62ms/step - loss: 1.3963\n",
      "Epoch 7/60\n",
      "172/172 [==============================] - 11s 62ms/step - loss: 1.3514\n",
      "Epoch 8/60\n",
      "172/172 [==============================] - 11s 61ms/step - loss: 1.3135\n",
      "Epoch 9/60\n",
      "172/172 [==============================] - 11s 63ms/step - loss: 1.2789\n",
      "Epoch 10/60\n",
      "172/172 [==============================] - 11s 61ms/step - loss: 1.2468\n",
      "Epoch 11/60\n",
      "172/172 [==============================] - 11s 61ms/step - loss: 1.2145\n",
      "Epoch 12/60\n",
      "172/172 [==============================] - 11s 62ms/step - loss: 1.1821\n",
      "Epoch 13/60\n",
      "172/172 [==============================] - 11s 61ms/step - loss: 1.1499\n",
      "Epoch 14/60\n",
      "172/172 [==============================] - 11s 62ms/step - loss: 1.1152\n",
      "Epoch 15/60\n",
      "172/172 [==============================] - 10s 60ms/step - loss: 1.0798\n",
      "Epoch 16/60\n",
      "172/172 [==============================] - 10s 60ms/step - loss: 1.0417\n",
      "Epoch 17/60\n",
      "172/172 [==============================] - 10s 60ms/step - loss: 1.0028\n",
      "Epoch 18/60\n",
      "172/172 [==============================] - 10s 61ms/step - loss: 0.9646\n",
      "Epoch 19/60\n",
      "172/172 [==============================] - 10s 60ms/step - loss: 0.9248\n",
      "Epoch 20/60\n",
      "172/172 [==============================] - 10s 61ms/step - loss: 0.8866\n",
      "Epoch 21/60\n",
      "172/172 [==============================] - 10s 61ms/step - loss: 0.8478\n",
      "Epoch 22/60\n",
      "172/172 [==============================] - 10s 60ms/step - loss: 0.8109\n",
      "Epoch 23/60\n",
      "172/172 [==============================] - 10s 60ms/step - loss: 0.7765\n",
      "Epoch 24/60\n",
      "172/172 [==============================] - 10s 60ms/step - loss: 0.7430\n",
      "Epoch 25/60\n",
      "172/172 [==============================] - 10s 60ms/step - loss: 0.7134\n",
      "Epoch 26/60\n",
      "172/172 [==============================] - 10s 60ms/step - loss: 0.6839\n",
      "Epoch 27/60\n",
      "172/172 [==============================] - 10s 60ms/step - loss: 0.6577\n",
      "Epoch 28/60\n",
      "172/172 [==============================] - 10s 60ms/step - loss: 0.6357\n",
      "Epoch 29/60\n",
      "172/172 [==============================] - 10s 60ms/step - loss: 0.6134\n",
      "Epoch 30/60\n",
      "172/172 [==============================] - 10s 60ms/step - loss: 0.5936\n",
      "Epoch 31/60\n",
      "172/172 [==============================] - 10s 61ms/step - loss: 0.5756\n",
      "Epoch 32/60\n",
      "172/172 [==============================] - 10s 60ms/step - loss: 0.5600\n",
      "Epoch 33/60\n",
      "172/172 [==============================] - 10s 60ms/step - loss: 0.5442\n",
      "Epoch 34/60\n",
      "172/172 [==============================] - 10s 60ms/step - loss: 0.5308\n",
      "Epoch 35/60\n",
      "172/172 [==============================] - 10s 61ms/step - loss: 0.5208\n",
      "Epoch 36/60\n",
      "172/172 [==============================] - 10s 61ms/step - loss: 0.5090\n",
      "Epoch 37/60\n",
      "172/172 [==============================] - 10s 60ms/step - loss: 0.4994\n",
      "Epoch 38/60\n",
      "172/172 [==============================] - 11s 61ms/step - loss: 0.4898\n",
      "Epoch 39/60\n",
      "172/172 [==============================] - 11s 62ms/step - loss: 0.4817\n",
      "Epoch 40/60\n",
      "172/172 [==============================] - 10s 60ms/step - loss: 0.4744\n",
      "Epoch 41/60\n",
      "172/172 [==============================] - 10s 60ms/step - loss: 0.4670\n",
      "Epoch 42/60\n",
      "172/172 [==============================] - 10s 60ms/step - loss: 0.4623\n",
      "Epoch 43/60\n",
      "172/172 [==============================] - 10s 61ms/step - loss: 0.4559\n",
      "Epoch 44/60\n",
      "172/172 [==============================] - 10s 61ms/step - loss: 0.4503\n",
      "Epoch 45/60\n",
      "172/172 [==============================] - 10s 61ms/step - loss: 0.4465\n",
      "Epoch 46/60\n",
      "172/172 [==============================] - 10s 60ms/step - loss: 0.4423\n",
      "Epoch 47/60\n",
      "172/172 [==============================] - 10s 60ms/step - loss: 0.4381\n",
      "Epoch 48/60\n",
      " 93/172 [===============>..............] - ETA: 5s - loss: 0.4198"
     ]
    }
   ],
   "source": [
    "# 保存模型\n",
    "output_dir = 'data/text_generation_lstm3'\n",
    "if not os.path.exists(output_dir):\n",
    "    os.mkdir(output_dir)\n",
    "    \n",
    "checkpoint_prefix = os.path.join(output_dir, 'ckpt_{epoch}')\n",
    "checkpoint_callback = keras.callbacks.ModelCheckpoint(\n",
    "        filepath = checkpoint_prefix,\n",
    "        save_weights_only = True)\n",
    "\n",
    "epochs = 60\n",
    "history = model.fit(seq_dataset, epochs = epochs,\n",
    "                           callbacks = [checkpoint_callback])"
   ]
  },
  {
   "cell_type": "code",
   "execution_count": null,
   "metadata": {},
   "outputs": [],
   "source": [
    "pd.DataFrame(history.history).plot()\n",
    "plt.show()"
   ]
  },
  {
   "cell_type": "code",
   "execution_count": null,
   "metadata": {},
   "outputs": [],
   "source": [
    "#查看最新保存的模型tf.train.latest_checkpoint\n",
    "tf.train.latest_checkpoint(output_dir)"
   ]
  },
  {
   "cell_type": "code",
   "execution_count": null,
   "metadata": {},
   "outputs": [],
   "source": [
    "# 从checkpoint载入模型\n",
    "model2  = build_model(vocab_size,\n",
    "                                 embedding_dim,\n",
    "                                 rnn_units,\n",
    "                                 batch_size = 1)\n",
    "model2.load_weights(tf.train.latest_checkpoint(output_dir))\n",
    "model2.build(tf.TensorShape([1, None]))\n",
    "# 文本生成流程：\n",
    "# start ch sequence A,\n",
    "# A -> model -> b\n",
    "# A -> append(b) -> B\n",
    "# B -> model -> c\n",
    "# B -> append(c) -> C\n",
    "# C -> model -> ....\n",
    "\n",
    "model2.summary()\n"
   ]
  },
  {
   "cell_type": "code",
   "execution_count": null,
   "metadata": {},
   "outputs": [],
   "source": [
    "# 利用模型生成文本\n",
    "def generata_text(model, start_string, num_genetate = 1000):\n",
    "    input_eval = [char_to_idx[ch] for ch in start_string]\n",
    "    input_eval = tf.expand_dims(input_eval, 0)#增加维度\n",
    "    \n",
    "    text_generated = []\n",
    "    model.reset_states()\n",
    "    \n",
    "    for _ in range(num_genetate):\n",
    "        # 1. model inference -> predictions\n",
    "        # 2. sample -> ch -> text_generated.\n",
    "        # 3. update input_evel\n",
    "        # predictions : [batch_size, input_eval_len, vocab_size]\n",
    "        predictions = model(input_eval)\n",
    "        # predictions : [input_eval_len, vocab_size]\n",
    "        predictions = tf.squeeze(predictions, 0)#减少维度\n",
    "        # predictions : [input_eval_len, 1]\n",
    "        # a b c ->  b c d\n",
    "        predictions_id = tf.random.categorical(\n",
    "                predictions, num_samples=1)[-1,0].numpy()\n",
    "        text_generated.append(idx_to_char[predictions_id])\n",
    "        input_evel = tf.expand_dims([predictions_id], 0)\n",
    "    return start_string + ''.join(text_generated)\n",
    "\n",
    "new_text = generata_text(model2, \"All: \")\n",
    "print(new_text)"
   ]
  },
  {
   "cell_type": "code",
   "execution_count": null,
   "metadata": {},
   "outputs": [],
   "source": []
  }
 ],
 "metadata": {
  "kernelspec": {
   "display_name": "Python 3",
   "language": "python",
   "name": "python3"
  },
  "language_info": {
   "codemirror_mode": {
    "name": "ipython",
    "version": 3
   },
   "file_extension": ".py",
   "mimetype": "text/x-python",
   "name": "python",
   "nbconvert_exporter": "python",
   "pygments_lexer": "ipython3",
   "version": "3.7.6"
  }
 },
 "nbformat": 4,
 "nbformat_minor": 4
}
