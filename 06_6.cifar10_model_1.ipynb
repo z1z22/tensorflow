{
 "cells": [
  {
   "cell_type": "markdown",
   "metadata": {},
   "source": [
    "# 卷积神经网络对图片进行分类。kaggle"
   ]
  },
  {
   "cell_type": "code",
   "execution_count": 1,
   "metadata": {
    "_cell_guid": "79c7e3d0-c299-4dcb-8224-4455121ee9b0",
    "_uuid": "d629ff2d2480ee46fbb7e2d37f6b5fab8052498a"
   },
   "outputs": [
    {
     "name": "stdout",
     "output_type": "stream",
     "text": [
      "sys.version_info(major=3, minor=7, micro=6, releaselevel='final', serial=0)\n",
      "matplotlib 3.1.3\n",
      "numpy 1.18.1\n",
      "pandas 1.0.1\n",
      "sklearn 0.22.2\n",
      "tensorflow 2.0.0\n",
      "tensorflow_core.keras 2.2.4-tf\n"
     ]
    }
   ],
   "source": [
    "%matplotlib inline\n",
    "import matplotlib.pyplot as plt\n",
    "import matplotlib as mpl\n",
    "import os,time\n",
    "import numpy as np\n",
    "import pandas as pd\n",
    "import sklearn\n",
    "import sys\n",
    "import tensorflow as tf\n",
    "from tensorflow import keras\n",
    "\n",
    "print(sys.version_info)\n",
    "for module in mpl,np,pd,sklearn,tf,keras:\n",
    "    print(module.__name__,module.__version__)\n"
   ]
  },
  {
   "cell_type": "code",
   "execution_count": null,
   "metadata": {},
   "outputs": [],
   "source": [
    "tf.config.list_physical_devices('GPU')"
   ]
  },
  {
   "cell_type": "code",
   "execution_count": null,
   "metadata": {},
   "outputs": [],
   "source": [
    "class_names = [\n",
    "        'airplane',\n",
    "        'automobile',\n",
    "        'bird' ,\n",
    "        'cat' ,\n",
    "        'deer' ,\n",
    "        'dog' ,\n",
    "        'frog' ,\n",
    "        'horse' ,\n",
    "        'ship' ,\n",
    "        'truck',\n",
    "        ]\n",
    "train_labels_file = 'data/trainLabels.csv'\n",
    "test_csv_file = 'data/sampleSubmission.csv'\n",
    "train_folder = 'data/train/'\n",
    "test_folder = 'data/rest'\n",
    "\n",
    "def parse_csv_file(filepath, folder):\n",
    "    \"\"\"Parses csv files into (filename(full_path), label) format\"\"\"\n",
    "    results = []\n",
    "    with open(filepath, 'r') as f:\n",
    "        lines = f.readlines()\n",
    "    for line in lines:\n",
    "        image_id, label_str = line.strip('\\n').split(',')\n",
    "        image_full_path = os.path.join(folder, image_id + '.png')\n",
    "        results.append((image_full_path,label_str))\n",
    "    return results\n",
    "train_labels_info = parse_csv_file(train_labels_file, train_folder)\n",
    "test_csv_info = parse_csv_file(test_csv_file,test_folder)\n",
    "\n",
    "import pprint\n",
    "pptint.pprint(train_labels_info[:5])\n",
    "pprint.pprint(test_csv_info[:5])\n",
    "print(len(train_labels_info), len(test_csv_info))"
   ]
  },
  {
   "cell_type": "code",
   "execution_count": null,
   "metadata": {},
   "outputs": [],
   "source": [
    "# train_df = pd.Dataframe(train_labels_info)\n",
    "train_df = pd.DataFrame(train_labels_info[:45000])\n",
    "valid_df = pd.DataFrame(train_labels_info[45000:])\n",
    "test_df = pd.DataFrame(test_csv_info)\n",
    "\n",
    "train_df.columns = ['filepath', 'class']\n",
    "valid_df.columns = ['filepath', 'class']\n",
    "test_df.columns = ['filepath', 'class']\n",
    "\n",
    "print(train_df.head())\n",
    "print(train_df.shape)\n",
    "print(test_df.head())\n",
    "print(test_df.shape)\n",
    "print(valid_df.head())\n",
    "print(valid_df.shape)\n"
   ]
  },
  {
   "cell_type": "code",
   "execution_count": null,
   "metadata": {},
   "outputs": [],
   "source": [
    "height = 32# 定义将图片缩放到同样大小图片大小\n",
    "width = 32 \n",
    "channels = 3# 彩色图片，3通道\n",
    "batch_size = 32 # 生产的图片多少张为一组\n",
    "num_classes = 10# 类别的个数\n",
    "# ImageDataGenerator读取图片并作数据增强\n",
    "# 1、初始化一个generator\n",
    "train_datagen = keras.preprocessing.image.ImageDataGenerator(\n",
    "    rescale = 1./255,\n",
    "    rotation_range = 40,# 将图片随机旋转角度，40指0-40之间随机选一个数\n",
    "    width_shift_range= 0.2,# 对数据进行位移小于1代表最大比例，大于1代表最大像素值\n",
    "    height_shift_range =0.2,\n",
    "    shear_range=0.2,# 剪切强度\n",
    "    zoom_range=0.2,# 缩放强度\n",
    "    horizontal_flip= True,# 随机水平翻转\n",
    "    fill_mode='nearest',# 如果填充像素，采用的方法\n",
    ")\n",
    "# 2、读取图片\n",
    "train_generator = train_datagen.flow_from_datafram(train_df,\n",
    "#                                                    directory = './',\n",
    "                                                   x_col='filepath',\n",
    "                                                   y_col = 'class',\n",
    "                                                   classes= class_names,\n",
    "                                                   target_size = (height, width),\n",
    "                                                   batch_size = batch_size,\n",
    "                                                   seed = 7,\n",
    "                                                   shuffle = Ture,\n",
    "                                                   class_mode = 'sparse'\n",
    "                                                   )\n",
    "valid_datagen = keras.preprocessing.image.ImageDataGenerator(rescale=1./255)\n",
    "#  验证集一般不对图像处理，只要缩放值就可以\n",
    "valid_generator = valid_datagen.flow_from_datafram(valid_df,\n",
    "#                                                    directory = './',\n",
    "                                                   x_col = 'filepath',\n",
    "                                                   y_col = 'class',\n",
    "                                                   classes = class_names,\n",
    "                                                   target_size=(height,width),\n",
    "                                                   batch_size=batch_size,\n",
    "                                                   seed = 7,\n",
    "                                                   shuffle= False,\n",
    "                                                   class_mode = 'sparse')\n",
    "\n",
    "train_num = train_generator.samples#查看数据数量\n",
    "valid_num = valid_generator.samples\n",
    "print(train_num,valid_num)"
   ]
  },
  {
   "cell_type": "code",
   "execution_count": null,
   "metadata": {},
   "outputs": [],
   "source": [
    "for i in range(2):\n",
    "    x,y = train_generator.next()\n",
    "    print(x.shape,y.shape)\n",
    "    print(y)"
   ]
  },
  {
   "cell_type": "code",
   "execution_count": 4,
   "metadata": {},
   "outputs": [
    {
     "name": "stdout",
     "output_type": "stream",
     "text": [
      "Model: \"sequential\"\n",
      "_________________________________________________________________\n",
      "Layer (type)                 Output Shape              Param #   \n",
      "=================================================================\n",
      "conv2d (Conv2D)              (None, 32, 32, 128)       3584      \n",
      "_________________________________________________________________\n",
      "batch_normalization (BatchNo (None, 32, 32, 128)       512       \n",
      "_________________________________________________________________\n",
      "conv2d_1 (Conv2D)            (None, 32, 32, 128)       147584    \n",
      "_________________________________________________________________\n",
      "batch_normalization_1 (Batch (None, 32, 32, 128)       512       \n",
      "_________________________________________________________________\n",
      "max_pooling2d (MaxPooling2D) (None, 16, 16, 128)       0         \n",
      "_________________________________________________________________\n",
      "conv2d_2 (Conv2D)            (None, 16, 16, 256)       295168    \n",
      "_________________________________________________________________\n",
      "batch_normalization_2 (Batch (None, 16, 16, 256)       1024      \n",
      "_________________________________________________________________\n",
      "conv2d_3 (Conv2D)            (None, 16, 16, 256)       590080    \n",
      "_________________________________________________________________\n",
      "batch_normalization_3 (Batch (None, 16, 16, 256)       1024      \n",
      "_________________________________________________________________\n",
      "max_pooling2d_1 (MaxPooling2 (None, 8, 8, 256)         0         \n",
      "_________________________________________________________________\n",
      "conv2d_4 (Conv2D)            (None, 8, 8, 512)         1180160   \n",
      "_________________________________________________________________\n",
      "batch_normalization_4 (Batch (None, 8, 8, 512)         2048      \n",
      "_________________________________________________________________\n",
      "conv2d_5 (Conv2D)            (None, 8, 8, 512)         2359808   \n",
      "_________________________________________________________________\n",
      "batch_normalization_5 (Batch (None, 8, 8, 512)         2048      \n",
      "_________________________________________________________________\n",
      "max_pooling2d_2 (MaxPooling2 (None, 4, 4, 512)         0         \n",
      "_________________________________________________________________\n",
      "flatten (Flatten)            (None, 8192)              0         \n",
      "_________________________________________________________________\n",
      "dense (Dense)                (None, 128)               1048704   \n",
      "_________________________________________________________________\n",
      "dense_1 (Dense)              (None, 10)                1290      \n",
      "=================================================================\n",
      "Total params: 5,633,546\n",
      "Trainable params: 5,629,962\n",
      "Non-trainable params: 3,584\n",
      "_________________________________________________________________\n"
     ]
    }
   ],
   "source": [
    "# kernel_size卷积窗口的长度\n",
    "# pool_size池化窗口的长度\n",
    "# 池化操作通常不重叠，不补0.pool_size=步长，用于减小图像尺寸，减少计算量\n",
    "# filter输出的通道，即卷积核的数量\n",
    "# padding='same'指填充padding使得输入输出大小相同，默认‘valid’指不填充\n",
    "# strides=(1, 1)卷积时在每一维度上的步长\n",
    "model = keras.models.Sequential([\n",
    "    keras.layers.Conv2D(filters=128,kernel_size=3,padding='same',\n",
    "                       activation='selu',input_shape=[width,height,channels]),\n",
    "    keras.layers.BatchNormalization(),\n",
    "    keras.layers.Conv2D(filters=128,kernel_size=3,padding='same',\n",
    "                       activation='selu'),\n",
    "    keras.layers.BatchNormalization(),\n",
    "    keras.layers.MaxPool2D(pool_size=2),#MaxPool，Avgpool\n",
    "    \n",
    "    keras.layers.Conv2D(filters=256,kernel_size=3,padding='same',\n",
    "                       activation='selu'),\n",
    "    keras.layers.BatchNormalization(),\n",
    "    keras.layers.Conv2D(filters=256,kernel_size=3,padding='same',\n",
    "                       activation='selu'),\n",
    "    keras.layers.BatchNormalization(),\n",
    "    keras.layers.MaxPool2D(pool_size=2),\n",
    "    \n",
    "    keras.layers.Conv2D(filters=512,kernel_size=3,padding='same',\n",
    "                       activation='selu'),\n",
    "    keras.layers.BatchNormalization(),\n",
    "    keras.layers.Conv2D(filters=512,kernel_size=3,padding='same',\n",
    "                       activation='selu'),\n",
    "    keras.layers.BatchNormalization(),\n",
    "    keras.layers.MaxPool2D(pool_size=2),\n",
    "    keras.layers.Flatten(),\n",
    "    keras.layers.Dense(128,activation='selu'),\n",
    "    keras.layers.Dense(num_classes,activation='softmax')\n",
    "])\n",
    "#由于class_mode是sparse，所以使用sparse_categorical_crossentropy\n",
    "model.compile(loss ='sparse_categorical_crossentropy',\n",
    "             optimizer='adam',metrics=['accuracy'])\n",
    "model.summary()"
   ]
  },
  {
   "cell_type": "code",
   "execution_count": null,
   "metadata": {},
   "outputs": [],
   "source": [
    "epochs = 100\n",
    "# 数据由generator生成，所以用fit_generator\n",
    "history = model.fit(train_generator,\n",
    "                             steps_per_epoch=train_num//batch_size,\n",
    "                              epochs= epochs,\n",
    "                          validation_data = valid_generator,\n",
    "                              validation_steps = valid_num//batch_size\n",
    "                             )"
   ]
  },
  {
   "cell_type": "code",
   "execution_count": null,
   "metadata": {},
   "outputs": [],
   "source": [
    "print(history.history.keys())"
   ]
  },
  {
   "cell_type": "code",
   "execution_count": null,
   "metadata": {},
   "outputs": [],
   "source": []
  },
  {
   "cell_type": "code",
   "execution_count": null,
   "metadata": {},
   "outputs": [],
   "source": [
    "data={}\n",
    "def plot_learning_curves(history,label, epochs, min_value, max_value):\n",
    "    data[label] = history.history[label]\n",
    "    data['val_'+label] = history.history['val_'+label]\n",
    "    pd.DataFrame(data).plot(figsize = (8,5))\n",
    "    plt.grid(True)\n",
    "#     plt.axis([0,epochs],[min_value,max_value])\n",
    "    \n",
    "plot_learning_curves(history,'accuracy',epochs,0,1)\n",
    "plot_learning_curves(history,'loss',epochs,1,2.5)"
   ]
  },
  {
   "cell_type": "code",
   "execution_count": null,
   "metadata": {},
   "outputs": [],
   "source": [
    "test_datagen = keras.preprocessing.image.ImageDataGenerator(rescale=1./255)\n",
    "#  验证集一般不对图像处理，只要缩放值就可以\n",
    "test_generator = valid_datagen.flow_from_datafram(test_df,\n",
    "                                                   directory = './',\n",
    "                                                   x_col = 'filepath',\n",
    "                                                   y_col = 'class',\n",
    "                                                   classes = class_names,\n",
    "                                                   target_size=(height,width),\n",
    "                                                   batch_size=batch_size,\n",
    "                                                   seed = 7,\n",
    "                                                   shuffle= False,\n",
    "                                                   class_mode = 'sparse')\n",
    "test_num = test_generator.samples\n",
    "print(test_num)"
   ]
  },
  {
   "cell_type": "code",
   "execution_count": null,
   "metadata": {},
   "outputs": [],
   "source": [
    "test_predict = model.predict_generator(test_generator,\n",
    "                                                      workers = 10，#并行处理量\n",
    "                                                        use_multiprecessing = True#多进程，false多线程\n",
    "                                                 )"
   ]
  },
  {
   "cell_type": "code",
   "execution_count": null,
   "metadata": {},
   "outputs": [],
   "source": [
    "print（test_predict.shape）"
   ]
  },
  {
   "cell_type": "code",
   "execution_count": null,
   "metadata": {},
   "outputs": [],
   "source": [
    "print(test_predict[0:5])"
   ]
  },
  {
   "cell_type": "code",
   "execution_count": null,
   "metadata": {},
   "outputs": [],
   "source": [
    "test_predict_class_indices = np.argmax(test_predict, axis = 1)\n",
    "print(test_predict_class_indices[:5])"
   ]
  },
  {
   "cell_type": "code",
   "execution_count": null,
   "metadata": {},
   "outputs": [],
   "source": [
    "test_predict_class = [class_names[index] for index in test_predict_class_indices]\n",
    "print(test_predict_class[:5])"
   ]
  },
  {
   "cell_type": "code",
   "execution_count": null,
   "metadata": {},
   "outputs": [],
   "source": [
    "def generate_submissions(filename, predict_class):\n",
    "    with open(filename, 'w') as f:\n",
    "        f.write('id,label\\n')\n",
    "        for i in range(len(predict_class)):\n",
    "            f.write('%d,%s\\n' %(i+1, predict_class[i]))\n",
    "            \n",
    "output_file = 'data/submission.csv'\n",
    "generate_submissions(output_file, test_predict_class)"
   ]
  },
  {
   "cell_type": "code",
   "execution_count": null,
   "metadata": {},
   "outputs": [],
   "source": [
    "# https://www.kaggle.com/c/cifar-10/data\n",
    "# late submossion上传submission.csv文件\n",
    "# 描述文件，写主要参数，\n",
    "# eg.\n",
    "# 'train 45000 20 epichs, basic model with only conv + bn + pooling'"
   ]
  }
 ],
 "metadata": {
  "kernelspec": {
   "display_name": "Python 3",
   "language": "python",
   "name": "python3"
  },
  "language_info": {
   "codemirror_mode": {
    "name": "ipython",
    "version": 3
   },
   "file_extension": ".py",
   "mimetype": "text/x-python",
   "name": "python",
   "nbconvert_exporter": "python",
   "pygments_lexer": "ipython3",
   "version": "3.7.6"
  }
 },
 "nbformat": 4,
 "nbformat_minor": 4
}
