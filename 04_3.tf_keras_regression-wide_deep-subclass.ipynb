{
 "cells": [
  {
   "cell_type": "markdown",
   "metadata": {},
   "source": [
    "# 子类API实现wide&deep"
   ]
  },
  {
   "cell_type": "code",
   "execution_count": 1,
   "metadata": {},
   "outputs": [
    {
     "name": "stdout",
     "output_type": "stream",
     "text": [
      "2.0.0\n",
      "sys.version_info(major=3, minor=7, micro=6, releaselevel='final', serial=0)\n",
      "numpy 1.18.1\n",
      "pandas 1.0.1\n",
      "sklearn 0.22.2\n",
      "tensorflow 2.0.0\n",
      "tensorflow_core.keras 2.2.4-tf\n"
     ]
    }
   ],
   "source": [
    "import matplotlib.pyplot as plt\n",
    "%matplotlib inline\n",
    "import numpy as np\n",
    "import pandas as pd\n",
    "import sklearn\n",
    "import os\n",
    "import sys\n",
    "import time\n",
    "import tensorflow as tf\n",
    "\n",
    "from tensorflow import keras\n",
    "print(tf.__version__)\n",
    "print(sys.version_info)\n",
    "for module in np, pd ,sklearn, tf, keras:\n",
    "    print(module.__name__,module.__version__)"
   ]
  },
  {
   "cell_type": "code",
   "execution_count": 2,
   "metadata": {},
   "outputs": [
    {
     "name": "stdout",
     "output_type": "stream",
     "text": [
      ".. _california_housing_dataset:\n",
      "\n",
      "California Housing dataset\n",
      "--------------------------\n",
      "\n",
      "**Data Set Characteristics:**\n",
      "\n",
      "    :Number of Instances: 20640\n",
      "\n",
      "    :Number of Attributes: 8 numeric, predictive attributes and the target\n",
      "\n",
      "    :Attribute Information:\n",
      "        - MedInc        median income in block\n",
      "        - HouseAge      median house age in block\n",
      "        - AveRooms      average number of rooms\n",
      "        - AveBedrms     average number of bedrooms\n",
      "        - Population    block population\n",
      "        - AveOccup      average house occupancy\n",
      "        - Latitude      house block latitude\n",
      "        - Longitude     house block longitude\n",
      "\n",
      "    :Missing Attribute Values: None\n",
      "\n",
      "This dataset was obtained from the StatLib repository.\n",
      "http://lib.stat.cmu.edu/datasets/\n",
      "\n",
      "The target variable is the median house value for California districts.\n",
      "\n",
      "This dataset was derived from the 1990 U.S. census, using one row per census\n",
      "block group. A block group is the smallest geographical unit for which the U.S.\n",
      "Census Bureau publishes sample data (a block group typically has a population\n",
      "of 600 to 3,000 people).\n",
      "\n",
      "It can be downloaded/loaded using the\n",
      ":func:`sklearn.datasets.fetch_california_housing` function.\n",
      "\n",
      ".. topic:: References\n",
      "\n",
      "    - Pace, R. Kelley and Ronald Barry, Sparse Spatial Autoregressions,\n",
      "      Statistics and Probability Letters, 33 (1997) 291-297\n",
      "\n",
      "(20640, 8)\n",
      "(20640,)\n"
     ]
    }
   ],
   "source": [
    "from sklearn.datasets import fetch_california_housing\n",
    "\n",
    "housing = fetch_california_housing()\n",
    "\n",
    "print(housing.DESCR)\n",
    "print(housing.data.shape)\n",
    "print(housing.target.shape)\n",
    "\n"
   ]
  },
  {
   "cell_type": "code",
   "execution_count": 3,
   "metadata": {},
   "outputs": [],
   "source": [
    "from sklearn.model_selection import train_test_split\n",
    "\n",
    "x_train_all,x_test,y_train_all,y_test=train_test_split(housing.data, housing.target,random_state=7)\n",
    "x_train, x_valid, y_train, y_valid = train_test_split(x_train_all,y_train_all,random_state=11)"
   ]
  },
  {
   "cell_type": "code",
   "execution_count": 4,
   "metadata": {},
   "outputs": [],
   "source": [
    "from sklearn.preprocessing import StandardScaler\n",
    "transfer = StandardScaler()\n",
    "x_train_scaled = transfer.fit_transform(x_train)\n",
    "x_test_scaled = transfer.transform(x_test)\n",
    "x_valid_scaled = transfer.transform(x_valid)"
   ]
  },
  {
   "cell_type": "code",
   "execution_count": 13,
   "metadata": {},
   "outputs": [],
   "source": [
    "#子类API\n",
    "class WideDeepModel(keras.models.Model):\n",
    "    def __init__(self):\n",
    "        super().__init__()\n",
    "        \"\"\"定义模型层次\"\"\"\n",
    "        self.hidden1_layer = keras.layers.Dense(30,activation='relu')\n",
    "        self.hidden2_layer = keras.layers.Dense(30,activation='relu')\n",
    "        self.output_layer= keras.layers.Dense(1)\n",
    "        \n",
    "    def call(self, input):\n",
    "        \"\"\"完成模型正向计算\"\"\"\n",
    "        hidden1=self.hidden1_layer(input)\n",
    "        hidden2= self.hidden2_layer(hidden1)\n",
    "        concat = keras.layers.concatenate([input, hidden2])\n",
    "        output= self.output_layer(concat)\n",
    "        return output\n",
    "model = WideDeepModel()\n",
    "model.build(input_shape=(None,8))\n",
    "\n",
    "model.compile(loss='mean_squared_error',\n",
    "             optimizer = 'nadam',# SGD -> SGDM -> NAG ->AdaGrad -> AdaDelta -> Adam -> Nadam\n",
    "             )\n"
   ]
  },
  {
   "cell_type": "code",
   "execution_count": 14,
   "metadata": {},
   "outputs": [
    {
     "data": {
      "text/plain": [
       "[<tensorflow.python.keras.layers.core.Dense at 0x1a3f0a39d0>,\n",
       " <tensorflow.python.keras.layers.core.Dense at 0x1a3e3e8a90>,\n",
       " <tensorflow.python.keras.layers.core.Dense at 0x1a3f0a3f50>]"
      ]
     },
     "execution_count": 14,
     "metadata": {},
     "output_type": "execute_result"
    }
   ],
   "source": [
    "model.layers#查看模型层数"
   ]
  },
  {
   "cell_type": "code",
   "execution_count": 15,
   "metadata": {},
   "outputs": [
    {
     "name": "stdout",
     "output_type": "stream",
     "text": [
      "Model: \"wide_deep_model_3\"\n",
      "_________________________________________________________________\n",
      "Layer (type)                 Output Shape              Param #   \n",
      "=================================================================\n",
      "dense_3 (Dense)              multiple                  270       \n",
      "_________________________________________________________________\n",
      "dense_4 (Dense)              multiple                  930       \n",
      "_________________________________________________________________\n",
      "dense_5 (Dense)              multiple                  39        \n",
      "=================================================================\n",
      "Total params: 1,239\n",
      "Trainable params: 1,239\n",
      "Non-trainable params: 0\n",
      "_________________________________________________________________\n"
     ]
    }
   ],
   "source": [
    "model.summary()#d 模型参数"
   ]
  },
  {
   "cell_type": "code",
   "execution_count": 16,
   "metadata": {},
   "outputs": [
    {
     "name": "stdout",
     "output_type": "stream",
     "text": [
      "Train on 11610 samples, validate on 3870 samples\n",
      "Epoch 1/100\n",
      "11610/11610 [==============================] - 6s 479us/sample - loss: 1.2656 - val_loss: 0.6327\n",
      "Epoch 2/100\n",
      "11610/11610 [==============================] - 2s 201us/sample - loss: 0.4910 - val_loss: 0.4581\n",
      "Epoch 3/100\n",
      "11610/11610 [==============================] - 2s 202us/sample - loss: 0.4074 - val_loss: 0.4177\n",
      "Epoch 4/100\n",
      "11610/11610 [==============================] - 2s 213us/sample - loss: 0.3907 - val_loss: 0.4033\n",
      "Epoch 5/100\n",
      "11610/11610 [==============================] - 2s 213us/sample - loss: 0.3998 - val_loss: 0.3770\n",
      "Epoch 6/100\n",
      "11610/11610 [==============================] - 2s 201us/sample - loss: 0.3736 - val_loss: 0.3897\n",
      "Epoch 7/100\n",
      "11610/11610 [==============================] - 2s 202us/sample - loss: 0.3525 - val_loss: 0.3552\n",
      "Epoch 8/100\n",
      "11610/11610 [==============================] - 2s 201us/sample - loss: 0.3415 - val_loss: 0.3506\n",
      "Epoch 9/100\n",
      "11610/11610 [==============================] - 2s 202us/sample - loss: 0.3483 - val_loss: 0.3689\n",
      "Epoch 10/100\n",
      "11610/11610 [==============================] - 3s 224us/sample - loss: 0.3502 - val_loss: 0.3432\n",
      "Epoch 11/100\n",
      "11610/11610 [==============================] - 3s 217us/sample - loss: 0.3241 - val_loss: 0.3328\n",
      "Epoch 12/100\n",
      "11610/11610 [==============================] - 3s 222us/sample - loss: 0.3237 - val_loss: 0.3476\n",
      "Epoch 13/100\n",
      "11610/11610 [==============================] - 2s 206us/sample - loss: 0.3238 - val_loss: 0.3215\n",
      "Epoch 14/100\n",
      "11610/11610 [==============================] - 2s 210us/sample - loss: 0.3137 - val_loss: 0.3241\n",
      "Epoch 15/100\n",
      "11610/11610 [==============================] - 2s 206us/sample - loss: 0.3080 - val_loss: 0.3168\n",
      "Epoch 16/100\n",
      "11610/11610 [==============================] - 2s 208us/sample - loss: 0.2996 - val_loss: 0.3264\n",
      "Epoch 17/100\n",
      "11610/11610 [==============================] - 2s 210us/sample - loss: 0.2996 - val_loss: 0.3131\n",
      "Epoch 18/100\n",
      "11610/11610 [==============================] - 3s 217us/sample - loss: 0.3130 - val_loss: 0.3085\n",
      "Epoch 19/100\n",
      "11610/11610 [==============================] - 2s 203us/sample - loss: 0.3013 - val_loss: 0.3067\n",
      "Epoch 20/100\n",
      "11610/11610 [==============================] - 2s 204us/sample - loss: 0.3045 - val_loss: 0.3082\n",
      "Epoch 21/100\n",
      "11610/11610 [==============================] - 2s 204us/sample - loss: 0.2916 - val_loss: 0.3074\n",
      "Epoch 22/100\n",
      "11610/11610 [==============================] - 2s 204us/sample - loss: 0.2884 - val_loss: 0.3052\n",
      "Epoch 23/100\n",
      "11610/11610 [==============================] - 3s 219us/sample - loss: 0.2921 - val_loss: 0.3101\n"
     ]
    }
   ],
   "source": [
    "callbacks = [keras.callbacks.EarlyStopping(patience=5,min_delta=1e-2)]\n",
    "history = model.fit(x_train_scaled,y_train,epochs=100,\n",
    "                   validation_data=(x_valid_scaled,y_valid),\n",
    "                   callbacks= callbacks \n",
    "                   )\n",
    "#validation_data:训练过程中在验证集验证"
   ]
  },
  {
   "cell_type": "code",
   "execution_count": 17,
   "metadata": {},
   "outputs": [
    {
     "data": {
      "image/png": "[encoded data removed]",
      "text/plain": [
       "<Figure size 576x360 with 1 Axes>"
      ]
     },
     "metadata": {
      "needs_background": "light"
     },
     "output_type": "display_data"
    }
   ],
   "source": [
    "def plot_learning_curves(history):\n",
    "    pd.DataFrame(history.history).plot(figsize=[8,5])\n",
    "    plt.grid(True)\n",
    "    plt.gca().set_ylim(0,1)\n",
    "    plt.show()\n",
    "\n",
    "plot_learning_curves(history)"
   ]
  },
  {
   "cell_type": "code",
   "execution_count": 19,
   "metadata": {},
   "outputs": [
    {
     "name": "stdout",
     "output_type": "stream",
     "text": [
      "5160/1 - 0s - loss: 0.4257\n"
     ]
    },
    {
     "data": {
      "text/plain": [
       "0.314736437058264"
      ]
     },
     "execution_count": 19,
     "metadata": {},
     "output_type": "execute_result"
    }
   ],
   "source": [
    "model.evaluate(x_test_scaled,y_test,verbose=2)"
   ]
  }
 ],
 "metadata": {
  "kernelspec": {
   "display_name": "Python 3.7.6 64-bit ('mytf': conda)",
   "language": "python",
   "name": "python37664bitmytfconda841baf2f843f47f398642a391af5d6cb"
  },
  "language_info": {
   "codemirror_mode": {
    "name": "ipython",
    "version": 3
   },
   "file_extension": ".py",
   "mimetype": "text/x-python",
   "name": "python",
   "nbconvert_exporter": "python",
   "pygments_lexer": "ipython3",
   "version": "3.7.6"
  }
 },
 "nbformat": 4,
 "nbformat_minor": 4
}
