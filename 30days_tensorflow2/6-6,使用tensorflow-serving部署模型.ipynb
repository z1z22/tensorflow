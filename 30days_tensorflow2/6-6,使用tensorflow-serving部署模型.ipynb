{
 "cells": [
  {
   "cell_type": "markdown",
   "metadata": {},
   "source": [
    "# 6-6,使用tensorflow-serving部署模型\n",
    "\n",
    "TensorFlow训练好的模型以tensorflow原生方式保存成protobuf文件后可以用许多方式部署运行。\n",
    "\n",
    "例如：通过 tensorflow-js 可以用javascrip脚本加载模型并在浏览器中运行模型。\n",
    "\n",
    "通过 tensorflow-lite 可以在移动和嵌入式设备上加载并运行TensorFlow模型。\n",
    "\n",
    "通过 tensorflow-serving 可以加载模型后提供网络接口API服务，通过任意编程语言发送网络请求都可以获取模型预测结果。\n",
    "\n",
    "通过 tensorFlow for Java接口，可以在Java或者spark(scala)中调用tensorflow模型进行预测。\n",
    "\n",
    "我们主要介绍tensorflow serving部署模型、使用spark(scala)调用tensorflow模型的方法。"
   ]
  },
  {
   "cell_type": "code",
   "execution_count": null,
   "metadata": {},
   "outputs": [],
   "source": []
  },
  {
   "cell_type": "markdown",
   "metadata": {},
   "source": [
    "### 〇，tensorflow serving模型部署概述"
   ]
  },
  {
   "cell_type": "markdown",
   "metadata": {},
   "source": [
    "使用 tensorflow serving 部署模型要完成以下步骤。\n",
    "\n",
    "* (1) 准备protobuf模型文件。\n",
    "\n",
    "* (2) 安装tensorflow serving。\n",
    "\n",
    "* (3) 启动tensorflow serving 服务。\n",
    "\n",
    "* (4) 向API服务发送请求，获取预测结果。\n",
    "\n",
    "\n",
    "可通过以下colab链接测试效果《tf_serving》：\n",
    "https://colab.research.google.com/drive/1vS5LAYJTEn-H0GDb1irzIuyRB8E3eWc8\n"
   ]
  },
  {
   "cell_type": "code",
   "execution_count": null,
   "metadata": {},
   "outputs": [],
   "source": [
    "%tensorflow_version 2.x\n",
    "import tensorflow as tf\n",
    "print(tf.__version__)\n",
    "from tensorflow.keras import * \n"
   ]
  },
  {
   "cell_type": "markdown",
   "metadata": {},
   "source": [
    "### 一，准备protobuf模型文件\n",
    "\n",
    "我们使用tf.keras 训练一个简单的线性回归模型，并保存成protobuf文件。"
   ]
  },
  {
   "cell_type": "code",
   "execution_count": null,
   "metadata": {},
   "outputs": [],
   "source": [
    "import tensorflow as tf\n",
    "from tensorflow.keras import models,layers,optimizers\n",
    "\n",
    "## 样本数量\n",
    "n = 800\n",
    "\n",
    "## 生成测试用数据集\n",
    "X = tf.random.uniform([n,2],minval=-10,maxval=10) \n",
    "w0 = tf.constant([[2.0],[-1.0]])\n",
    "b0 = tf.constant(3.0)\n",
    "\n",
    "Y = X@w0 + b0 + tf.random.normal([n,1],\n",
    "    mean = 0.0,stddev= 2.0) # @表示矩阵乘法,增加正态扰动\n",
    "\n",
    "## 建立模型\n",
    "tf.keras.backend.clear_session()\n",
    "inputs = layers.Input(shape = (2,),name =\"inputs\") #设置输入名字为inputs\n",
    "outputs = layers.Dense(1, name = \"outputs\")(inputs) #设置输出名字为outputs\n",
    "linear = models.Model(inputs = inputs,outputs = outputs)\n",
    "linear.summary()\n",
    "\n",
    "## 使用fit方法进行训练\n",
    "linear.compile(optimizer=\"rmsprop\",loss=\"mse\",metrics=[\"mae\"])\n",
    "linear.fit(X,Y,batch_size = 8,epochs = 100)  \n",
    "\n",
    "tf.print(\"w = \",linear.layers[1].kernel)\n",
    "tf.print(\"b = \",linear.layers[1].bias)\n",
    "\n",
    "## 将模型保存成pb格式文件\n",
    "export_path = \"./data/linear_model/\"\n",
    "version = \"1\"       #后续可以通过版本号进行模型版本迭代与管理\n",
    "linear.save(export_path+version, save_format=\"tf\") "
   ]
  },
  {
   "cell_type": "code",
   "execution_count": null,
   "metadata": {},
   "outputs": [],
   "source": [
    "#查看保存的模型文件\n",
    "!ls {export_path+version}"
   ]
  },
  {
   "cell_type": "markdown",
   "metadata": {},
   "source": [
    "```\n",
    "assets\tsaved_model.pb\tvariables\n",
    "```"
   ]
  },
  {
   "cell_type": "code",
   "execution_count": null,
   "metadata": {},
   "outputs": [],
   "source": [
    "# 查看模型文件相关信息\n",
    "!saved_model_cli show --dir {export_path+str(version)} --all"
   ]
  },
  {
   "cell_type": "markdown",
   "metadata": {},
   "source": [
    "```\n",
    "MetaGraphDef with tag-set: 'serve' contains the following SignatureDefs:\n",
    "\n",
    "signature_def['__saved_model_init_op']:\n",
    "  The given SavedModel SignatureDef contains the following input(s):\n",
    "  The given SavedModel SignatureDef contains the following output(s):\n",
    "    outputs['__saved_model_init_op'] tensor_info:\n",
    "        dtype: DT_INVALID\n",
    "        shape: unknown_rank\n",
    "        name: NoOp\n",
    "  Method name is: \n",
    "\n",
    "signature_def['serving_default']:\n",
    "  The given SavedModel SignatureDef contains the following input(s):\n",
    "    inputs['inputs'] tensor_info:\n",
    "        dtype: DT_FLOAT\n",
    "        shape: (-1, 2)\n",
    "        name: serving_default_inputs:0\n",
    "  The given SavedModel SignatureDef contains the following output(s):\n",
    "    outputs['outputs'] tensor_info:\n",
    "        dtype: DT_FLOAT\n",
    "        shape: (-1, 1)\n",
    "        name: StatefulPartitionedCall:0\n",
    "  Method name is: tensorflow/serving/predict\n",
    "WARNING:tensorflow:From /tensorflow-2.1.0/python3.6/tensorflow_core/python/ops/resource_variable_ops.py:1786: calling BaseResourceVariable.__init__ (from tensorflow.python.ops.resource_variable_ops) with constraint is deprecated and will be removed in a future version.\n",
    "Instructions for updating:\n",
    "If using Keras pass *_constraint arguments to layers.\n",
    "\n",
    "Defined Functions:\n",
    "  Function Name: '__call__'\n",
    "    Option #1\n",
    "      Callable with:\n",
    "        Argument #1\n",
    "          inputs: TensorSpec(shape=(None, 2), dtype=tf.float32, name='inputs')\n",
    "        Argument #2\n",
    "          DType: bool\n",
    "          Value: False\n",
    "        Argument #3\n",
    "          DType: NoneType\n",
    "          Value: None\n",
    "    Option #2\n",
    "      Callable with:\n",
    "        Argument #1\n",
    "          inputs: TensorSpec(shape=(None, 2), dtype=tf.float32, name='inputs')\n",
    "        Argument #2\n",
    "          DType: bool\n",
    "          Value: True\n",
    "        Argument #3\n",
    "          DType: NoneType\n",
    "          Value: None\n",
    "\n",
    "  Function Name: '_default_save_signature'\n",
    "    Option #1\n",
    "      Callable with:\n",
    "        Argument #1\n",
    "          inputs: TensorSpec(shape=(None, 2), dtype=tf.float32, name='inputs')\n",
    "\n",
    "  Function Name: 'call_and_return_all_conditional_losses'\n",
    "    Option #1\n",
    "      Callable with:\n",
    "        Argument #1\n",
    "          inputs: TensorSpec(shape=(None, 2), dtype=tf.float32, name='inputs')\n",
    "        Argument #2\n",
    "          DType: bool\n",
    "          Value: True\n",
    "        Argument #3\n",
    "          DType: NoneType\n",
    "          Value: None\n",
    "    Option #2\n",
    "      Callable with:\n",
    "        Argument #1\n",
    "          inputs: TensorSpec(shape=(None, 2), dtype=tf.float32, name='inputs')\n",
    "        Argument #2\n",
    "          DType: bool\n",
    "          Value: False\n",
    "        Argument #3\n",
    "          DType: NoneType\n",
    "          Value: None\n",
    "```"
   ]
  },
  {
   "cell_type": "code",
   "execution_count": null,
   "metadata": {},
   "outputs": [],
   "source": []
  },
  {
   "cell_type": "markdown",
   "metadata": {},
   "source": [
    "### 二，安装 tensorflow serving"
   ]
  },
  {
   "cell_type": "markdown",
   "metadata": {},
   "source": [
    "安装 tensorflow serving 有2种主要方法：通过Docker镜像安装，通过apt安装。\n",
    "\n",
    "通过Docker镜像安装是最简单，最直接的方法，推荐采用。\n",
    "\n",
    "Docker可以理解成一种容器，其上面可以给各种不同的程序提供独立的运行环境。\n",
    "\n",
    "一般业务中用到tensorflow的企业都会有运维同学通过Docker 搭建 tensorflow serving.\n",
    "\n",
    "无需算法工程师同学动手安装，以下安装过程仅供参考。\n",
    "\n",
    "不同操作系统机器上安装Docker的方法可以参照以下链接。\n",
    "\n",
    "Windows: https://www.runoob.com/docker/windows-docker-install.html\n",
    "\n",
    "MacOs: https://www.runoob.com/docker/macos-docker-install.html\n",
    "\n",
    "CentOS: https://www.runoob.com/docker/centos-docker-install.html\n",
    "\n",
    "安装Docker成功后，使用如下命令加载 tensorflow/serving 镜像到Docker中\n",
    "\n",
    "docker pull tensorflow/serving\n"
   ]
  },
  {
   "cell_type": "code",
   "execution_count": null,
   "metadata": {},
   "outputs": [],
   "source": []
  },
  {
   "cell_type": "markdown",
   "metadata": {},
   "source": [
    "### 三，启动 tensorflow serving 服务"
   ]
  },
  {
   "cell_type": "code",
   "execution_count": null,
   "metadata": {},
   "outputs": [],
   "source": [
    "!docker run -t --rm -p 8501:8501 \\\n",
    "    -v \"/Users/.../data/linear_model/\" \\\n",
    "    -e MODEL_NAME=linear_model \\\n",
    "    tensorflow/serving & >server.log 2>&1"
   ]
  },
  {
   "cell_type": "code",
   "execution_count": null,
   "metadata": {},
   "outputs": [],
   "source": []
  },
  {
   "cell_type": "markdown",
   "metadata": {},
   "source": [
    "### 四，向API服务发送请求"
   ]
  },
  {
   "cell_type": "markdown",
   "metadata": {},
   "source": [
    "可以使用任何编程语言的http功能发送请求，下面示范linux的 curl 命令发送请求，以及Python的requests库发送请求。"
   ]
  },
  {
   "cell_type": "code",
   "execution_count": null,
   "metadata": {},
   "outputs": [],
   "source": [
    "!curl -d '{\"instances\": [1.0, 2.0, 5.0]}' \\\n",
    "    -X POST http://localhost:8501/v1/models/linear_model:predict"
   ]
  },
  {
   "cell_type": "markdown",
   "metadata": {},
   "source": [
    "```\n",
    "{\n",
    "    \"predictions\": [[3.06546211], [5.01313448]\n",
    "    ]\n",
    "}\n",
    "```"
   ]
  },
  {
   "cell_type": "code",
   "execution_count": null,
   "metadata": {},
   "outputs": [],
   "source": [
    "import json,requests\n",
    "\n",
    "data = json.dumps({\"signature_name\": \"serving_default\", \"instances\": [[1.0, 2.0], [5.0,7.0]]})\n",
    "headers = {\"content-type\": \"application/json\"}\n",
    "json_response = requests.post('http://localhost:8501/v1/models/linear_model:predict', \n",
    "        data=data, headers=headers)\n",
    "predictions = json.loads(json_response.text)[\"predictions\"]\n",
    "print(predictions)"
   ]
  },
  {
   "cell_type": "markdown",
   "metadata": {},
   "source": [
    "```\n",
    "[[3.06546211], [6.02843142]]\n",
    "```"
   ]
  },
  {
   "cell_type": "code",
   "execution_count": null,
   "metadata": {},
   "outputs": [],
   "source": []
  },
  {
   "cell_type": "markdown",
   "metadata": {},
   "source": [
    "如果对本书内容理解上有需要进一步和作者交流的地方，欢迎在公众号\"Python与算法之美\"下留言。作者时间和精力有限，会酌情予以回复。\n",
    "\n",
    "![image.png](./data/Python与算法之美logo.jpg)"
   ]
  },
  {
   "cell_type": "code",
   "execution_count": null,
   "metadata": {},
   "outputs": [],
   "source": []
  },
  {
   "cell_type": "code",
   "execution_count": null,
   "metadata": {},
   "outputs": [],
   "source": []
  }
 ],
 "metadata": {
  "jupytext": {
   "cell_metadata_filter": "-all",
   "notebook_metadata_filter": "-all",
   "text_representation": {
    "extension": ".md",
    "format_name": "markdown"
   }
  },
  "kernelspec": {
   "display_name": "Python 3.7.6 64-bit ('mytf': conda)",
   "language": "python",
   "name": "python37664bitmytfconda841baf2f843f47f398642a391af5d6cb"
  }
 },
 "nbformat": 4,
 "nbformat_minor": 4
}
