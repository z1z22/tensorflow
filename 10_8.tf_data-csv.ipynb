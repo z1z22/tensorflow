{
 "cells": [
  {
   "cell_type": "code",
   "execution_count": 1,
   "metadata": {},
   "outputs": [],
   "source": [
    "import numpy as np\n",
    "import tensorflow as tf\n",
    "import tensorflow_datasets as tfds"
   ]
  },
  {
   "cell_type": "code",
   "execution_count": 5,
   "metadata": {},
   "outputs": [
    {
     "name": "stdout",
     "output_type": "stream",
     "text": [
      "Downloading data from https://storage.googleapis.com/tf-datasets/titanic/train.csv\n",
      "32768/30874 [===============================] - 0s 13us/step\n",
      "Downloading data from https://storage.googleapis.com/tf-datasets/titanic/eval.csv\n",
      "16384/13049 [=====================================] - 0s 1us/step\n"
     ]
    }
   ],
   "source": [
    "TRAIN_DATA_URL = \"https://storage.googleapis.com/tf-datasets/titanic/train.csv\"\n",
    "TEST_DATA_URL = \"https://storage.googleapis.com/tf-datasets/titanic/eval.csv\"\n",
    "\n",
    "train_file_path = tf.keras.utils.get_file(\"train.csv\", TRAIN_DATA_URL)\n",
    "test_file_path = tf.keras.utils.get_file(\"eval.csv\", TEST_DATA_URL)"
   ]
  },
  {
   "cell_type": "code",
   "execution_count": 6,
   "metadata": {},
   "outputs": [],
   "source": [
    "# 让 numpy 数据更易读。\n",
    "np.set_printoptions(precision=3, suppress=True)"
   ]
  },
  {
   "cell_type": "code",
   "execution_count": 7,
   "metadata": {},
   "outputs": [
    {
     "name": "stdout",
     "output_type": "stream",
     "text": [
      "survived,sex,age,n_siblings_spouses,parch,fare,class,deck,embark_town,alone\r\n",
      "0,male,22.0,1,0,7.25,Third,unknown,Southampton,n\r\n",
      "1,female,38.0,1,0,71.2833,First,C,Cherbourg,n\r\n",
      "1,female,26.0,0,0,7.925,Third,unknown,Southampton,y\r\n",
      "1,female,35.0,1,0,53.1,First,C,Southampton,n\r\n",
      "0,male,28.0,0,0,8.4583,Third,unknown,Queenstown,y\r\n",
      "0,male,2.0,3,1,21.075,Third,unknown,Southampton,n\r\n",
      "1,female,27.0,0,2,11.1333,Third,unknown,Southampton,n\r\n",
      "1,female,14.0,1,0,30.0708,Second,unknown,Cherbourg,n\r\n",
      "1,female,4.0,1,1,16.7,Third,G,Southampton,n\r\n"
     ]
    }
   ],
   "source": [
    "# 打印 CSV 文件的前几行\n",
    "!head {train_file_path}"
   ]
  },
  {
   "cell_type": "code",
   "execution_count": 12,
   "metadata": {},
   "outputs": [
    {
     "name": "stdout",
     "output_type": "stream",
     "text": [
      "WARNING:tensorflow:From /Users/mac/opt/anaconda3/envs/mytf/lib/python3.7/site-packages/tensorflow_core/python/data/experimental/ops/readers.py:521: parallel_interleave (from tensorflow.python.data.experimental.ops.interleave_ops) is deprecated and will be removed in a future version.\n",
      "Instructions for updating:\n",
      "Use `tf.data.Dataset.interleave(map_func, cycle_length, block_length, num_parallel_calls=tf.data.experimental.AUTOTUNE)` instead. If sloppy execution is desired, use `tf.data.Options.experimental_determinstic`.\n"
     ]
    }
   ],
   "source": [
    "# 指定包含模型需要预测的值的列。\n",
    "LABEL_COLUMN = 'survived'\n",
    "LABELS = [0, 1]\n",
    "\n",
    "# 现在从文件中读取 CSV 数据并且创建 dataset。\n",
    "def get_dataset(file_path):\n",
    "  dataset = tf.data.experimental.make_csv_dataset(\n",
    "      file_path,\n",
    "      batch_size=12, # 为了示例更容易展示，手动设置较小的值\n",
    "      label_name=LABEL_COLUMN,\n",
    "      na_value=\"?\",\n",
    "      num_epochs=1,\n",
    "      ignore_errors=True)\n",
    "  return dataset\n",
    "\n",
    "raw_train_data = get_dataset(train_file_path)\n",
    "raw_test_data = get_dataset(test_file_path)"
   ]
  },
  {
   "cell_type": "markdown",
   "metadata": {},
   "source": [
    "### dataset 中的每个条目都是一个批次，用一个元组（多个样本，多个标签）表示。样本中的数据组织形式是以列为主的张量（而不是以行为主的张量），每条数据中包含的元素个数就是批次大小（batch_size这个示例中是 12）。"
   ]
  },
  {
   "cell_type": "code",
   "execution_count": 14,
   "metadata": {},
   "outputs": [
    {
     "name": "stdout",
     "output_type": "stream",
     "text": [
      "EXAMPLES: \n",
      " OrderedDict([('sex', <tf.Tensor: id=176, shape=(12,), dtype=string, numpy=\n",
      "array([b'female', b'female', b'male', b'male', b'female', b'male',\n",
      "       b'male', b'male', b'male', b'male', b'female', b'male'],\n",
      "      dtype=object)>), ('age', <tf.Tensor: id=168, shape=(12,), dtype=float32, numpy=\n",
      "array([ 4., 28., 48., 60., 30., 18., 27., 41.,  3., 26., 28., 24.],\n",
      "      dtype=float32)>), ('n_siblings_spouses', <tf.Tensor: id=174, shape=(12,), dtype=int32, numpy=array([1, 0, 0, 0, 0, 0, 0, 2, 1, 0, 0, 0], dtype=int32)>), ('parch', <tf.Tensor: id=175, shape=(12,), dtype=int32, numpy=array([1, 0, 0, 0, 0, 0, 0, 0, 1, 0, 0, 1], dtype=int32)>), ('fare', <tf.Tensor: id=173, shape=(12,), dtype=float32, numpy=\n",
      "array([ 23.   ,   7.896,   7.854,  26.55 ,   8.663,   7.796,  26.   ,\n",
      "        14.108,  26.   ,   7.775,   7.75 , 247.521], dtype=float32)>), ('class', <tf.Tensor: id=170, shape=(12,), dtype=string, numpy=\n",
      "array([b'Second', b'Third', b'Third', b'First', b'Third', b'Third',\n",
      "       b'Second', b'Third', b'Second', b'Third', b'Third', b'First'],\n",
      "      dtype=object)>), ('deck', <tf.Tensor: id=171, shape=(12,), dtype=string, numpy=\n",
      "array([b'unknown', b'unknown', b'unknown', b'unknown', b'unknown',\n",
      "       b'unknown', b'unknown', b'unknown', b'F', b'unknown', b'unknown',\n",
      "       b'B'], dtype=object)>), ('embark_town', <tf.Tensor: id=172, shape=(12,), dtype=string, numpy=\n",
      "array([b'Southampton', b'Southampton', b'Southampton', b'Southampton',\n",
      "       b'Southampton', b'Southampton', b'Southampton', b'Southampton',\n",
      "       b'Southampton', b'Southampton', b'Queenstown', b'Cherbourg'],\n",
      "      dtype=object)>), ('alone', <tf.Tensor: id=169, shape=(12,), dtype=string, numpy=\n",
      "array([b'n', b'y', b'y', b'y', b'y', b'y', b'y', b'n', b'n', b'y', b'y',\n",
      "       b'n'], dtype=object)>)]) \n",
      "\n",
      "LABELS: \n",
      " tf.Tensor([1 0 0 0 0 0 0 0 1 0 1 0], shape=(12,), dtype=int32)\n"
     ]
    }
   ],
   "source": [
    "examples, labels = next(iter(raw_train_data)) # 第一个批次\n",
    "print(\"EXAMPLES: \\n\", examples, \"\\n\")\n",
    "print(\"LABELS: \\n\", labels)"
   ]
  },
  {
   "cell_type": "markdown",
   "metadata": {},
   "source": [
    "# 数据预处理\n",
    "## 分类数据\n",
    "\n",
    "### CSV 数据中的有些列是分类的列。也就是说，这些列只能在有限的集合中取值。\n",
    "\n",
    "### 使用 tf.feature_column API 创建一个 tf.feature_column.indicator_column 集合，每个 tf.feature_column.indicator_column 对应一个分类的列。"
   ]
  },
  {
   "cell_type": "code",
   "execution_count": 16,
   "metadata": {},
   "outputs": [
    {
     "data": {
      "text/plain": [
       "[IndicatorColumn(categorical_column=VocabularyListCategoricalColumn(key='sex', vocabulary_list=('male', 'female'), dtype=tf.string, default_value=-1, num_oov_buckets=0)),\n",
       " IndicatorColumn(categorical_column=VocabularyListCategoricalColumn(key='class', vocabulary_list=('First', 'Second', 'Third'), dtype=tf.string, default_value=-1, num_oov_buckets=0)),\n",
       " IndicatorColumn(categorical_column=VocabularyListCategoricalColumn(key='deck', vocabulary_list=('A', 'B', 'C', 'D', 'E', 'F', 'G', 'H', 'I', 'J'), dtype=tf.string, default_value=-1, num_oov_buckets=0)),\n",
       " IndicatorColumn(categorical_column=VocabularyListCategoricalColumn(key='embark_town', vocabulary_list=('Cherbourg', 'Southhampton', 'Queenstown'), dtype=tf.string, default_value=-1, num_oov_buckets=0)),\n",
       " IndicatorColumn(categorical_column=VocabularyListCategoricalColumn(key='alone', vocabulary_list=('y', 'n'), dtype=tf.string, default_value=-1, num_oov_buckets=0))]"
      ]
     },
     "execution_count": 16,
     "metadata": {},
     "output_type": "execute_result"
    }
   ],
   "source": [
    "CATEGORIES = {\n",
    "    'sex': ['male', 'female'],\n",
    "    'class' : ['First', 'Second', 'Third'],\n",
    "    'deck' : ['A', 'B', 'C', 'D', 'E', 'F', 'G', 'H', 'I', 'J'],\n",
    "    'embark_town' : ['Cherbourg', 'Southhampton', 'Queenstown'],\n",
    "    'alone' : ['y', 'n']\n",
    "}\n",
    "\n",
    "categorical_columns = []\n",
    "for feature, vocab in CATEGORIES.items():\n",
    "    cat_col = tf.feature_column.categorical_column_with_vocabulary_list(\n",
    "        key=feature, vocabulary_list=vocab)\n",
    "    categorical_columns.append(tf.feature_column.indicator_column(cat_col))\n",
    "    \n",
    "categorical_columns\n",
    "# 这将是后续构建模型时处理输入数据的一部分。\n",
    "\n"
   ]
  },
  {
   "cell_type": "markdown",
   "metadata": {},
   "source": [
    "## 连续数据\n",
    "\n",
    "### 连续数据需要标准化。\n",
    "\n",
    "### 写一个函数标准化这些值，然后将这些值改造成 2 维的张量。"
   ]
  },
  {
   "cell_type": "code",
   "execution_count": 20,
   "metadata": {},
   "outputs": [
    {
     "data": {
      "text/plain": [
       "[NumericColumn(key='age', shape=(1,), default_value=None, dtype=tf.float32, normalizer_fn=functools.partial(<function process_continuous_data at 0x63bca9200>, 29.631308)),\n",
       " NumericColumn(key='n_siblings_spouses', shape=(1,), default_value=None, dtype=tf.float32, normalizer_fn=functools.partial(<function process_continuous_data at 0x63bca9200>, 0.545455)),\n",
       " NumericColumn(key='parch', shape=(1,), default_value=None, dtype=tf.float32, normalizer_fn=functools.partial(<function process_continuous_data at 0x63bca9200>, 0.379585)),\n",
       " NumericColumn(key='fare', shape=(1,), default_value=None, dtype=tf.float32, normalizer_fn=functools.partial(<function process_continuous_data at 0x63bca9200>, 34.385399))]"
      ]
     },
     "execution_count": 20,
     "metadata": {},
     "output_type": "execute_result"
    }
   ],
   "source": [
    "def process_continuous_data(mean, data):\n",
    "    # 标准化数据\n",
    "    data = tf.cast(data, tf.float32) * 1/(2*mean)\n",
    "    return tf.reshape(data, [-1, 1])\n",
    "\n",
    "MEANS = {\n",
    "    'age' : 29.631308,\n",
    "    'n_siblings_spouses' : 0.545455,\n",
    "    'parch' : 0.379585,\n",
    "    'fare' : 34.385399\n",
    "}\n",
    "\n",
    "numerical_columns = []\n",
    "import functools\n",
    "\n",
    "for feature in MEANS.keys():\n",
    "    num_col = tf.feature_column.numeric_column(feature, normalizer_fn=functools.partial(process_continuous_data, MEANS[feature]))\n",
    "    numerical_columns.append(num_col)\n",
    "numerical_columns"
   ]
  },
  {
   "cell_type": "markdown",
   "metadata": {},
   "source": [
    "## 创建预处理层\n",
    "\n",
    "### 将这两个特征列的集合相加，并且传给 tf.keras.layers.DenseFeatures 从而创建一个进行预处理的输入层。"
   ]
  },
  {
   "cell_type": "code",
   "execution_count": 21,
   "metadata": {},
   "outputs": [],
   "source": [
    "preprocessing_layer = tf.keras.layers.DenseFeatures(categorical_columns+numerical_columns)"
   ]
  },
  {
   "cell_type": "markdown",
   "metadata": {},
   "source": [
    "## 构建模型\n",
    "### 从 preprocessing_layer 开始构建 tf.keras.Sequential。"
   ]
  },
  {
   "cell_type": "code",
   "execution_count": 22,
   "metadata": {},
   "outputs": [],
   "source": [
    "model = tf.keras.Sequential([\n",
    "  preprocessing_layer,\n",
    "  tf.keras.layers.Dense(128, activation='relu'),\n",
    "  tf.keras.layers.Dense(128, activation='relu'),\n",
    "  tf.keras.layers.Dense(1, activation='sigmoid'),\n",
    "])\n",
    "\n",
    "model.compile(\n",
    "    loss='binary_crossentropy',\n",
    "    optimizer='adam',\n",
    "    metrics=['accuracy'])"
   ]
  },
  {
   "cell_type": "code",
   "execution_count": 23,
   "metadata": {},
   "outputs": [],
   "source": [
    "train_data = raw_train_data.shuffle(500)\n",
    "test_data = raw_test_data"
   ]
  },
  {
   "cell_type": "code",
   "execution_count": 24,
   "metadata": {},
   "outputs": [
    {
     "name": "stdout",
     "output_type": "stream",
     "text": [
      "WARNING:tensorflow:From /Users/mac/opt/anaconda3/envs/mytf/lib/python3.7/site-packages/tensorflow_core/python/feature_column/feature_column_v2.py:4276: IndicatorColumn._variable_shape (from tensorflow.python.feature_column.feature_column_v2) is deprecated and will be removed in a future version.\n",
      "Instructions for updating:\n",
      "The old _FeatureColumn APIs are being deprecated. Please use the new FeatureColumn APIs instead.\n",
      "WARNING:tensorflow:From /Users/mac/opt/anaconda3/envs/mytf/lib/python3.7/site-packages/tensorflow_core/python/feature_column/feature_column_v2.py:4331: VocabularyListCategoricalColumn._num_buckets (from tensorflow.python.feature_column.feature_column_v2) is deprecated and will be removed in a future version.\n",
      "Instructions for updating:\n",
      "The old _FeatureColumn APIs are being deprecated. Please use the new FeatureColumn APIs instead.\n",
      "Epoch 1/20\n",
      "53/53 [==============================] - 4s 82ms/step - loss: 0.5428 - accuracy: 0.7640.5579 - \n",
      "Epoch 2/20\n",
      "53/53 [==============================] - 1s 12ms/step - loss: 0.4395 - accuracy: 0.8086\n",
      "Epoch 3/20\n",
      "53/53 [==============================] - 1s 13ms/step - loss: 0.4278 - accuracy: 0.8134\n",
      "Epoch 4/20\n",
      "53/53 [==============================] - 1s 13ms/step - loss: 0.4090 - accuracy: 0.8182\n",
      "Epoch 5/20\n",
      "53/53 [==============================] - 1s 12ms/step - loss: 0.3966 - accuracy: 0.8309\n",
      "Epoch 6/20\n",
      "53/53 [==============================] - 1s 13ms/step - loss: 0.3947 - accuracy: 0.8325\n",
      "Epoch 7/20\n",
      "53/53 [==============================] - 1s 13ms/step - loss: 0.3817 - accuracy: 0.8373\n",
      "Epoch 8/20\n",
      "53/53 [==============================] - ETA: 0s - loss: 0.3771 - accuracy: 0.84 - 1s 13ms/step - loss: 0.3795 - accuracy: 0.8389\n",
      "Epoch 9/20\n",
      "53/53 [==============================] - 1s 13ms/step - loss: 0.3753 - accuracy: 0.8214\n",
      "Epoch 10/20\n",
      "53/53 [==============================] - 1s 13ms/step - loss: 0.3696 - accuracy: 0.8214\n",
      "Epoch 11/20\n",
      "53/53 [==============================] - 1s 13ms/step - loss: 0.3661 - accuracy: 0.8325\n",
      "Epoch 12/20\n",
      "53/53 [==============================] - 1s 13ms/step - loss: 0.3758 - accuracy: 0.8469\n",
      "Epoch 13/20\n",
      "53/53 [==============================] - 1s 13ms/step - loss: 0.3665 - accuracy: 0.8437\n",
      "Epoch 14/20\n",
      "53/53 [==============================] - 1s 13ms/step - loss: 0.3538 - accuracy: 0.8517\n",
      "Epoch 15/20\n",
      "53/53 [==============================] - 1s 13ms/step - loss: 0.3587 - accuracy: 0.8453\n",
      "Epoch 16/20\n",
      "53/53 [==============================] - 1s 14ms/step - loss: 0.3463 - accuracy: 0.8437\n",
      "Epoch 17/20\n",
      "53/53 [==============================] - 1s 14ms/step - loss: 0.3629 - accuracy: 0.8373\n",
      "Epoch 18/20\n",
      "53/53 [==============================] - 1s 15ms/step - loss: 0.3554 - accuracy: 0.8437\n",
      "Epoch 19/20\n",
      "53/53 [==============================] - 1s 15ms/step - loss: 0.3466 - accuracy: 0.8501\n",
      "Epoch 20/20\n",
      "53/53 [==============================] - 1s 14ms/step - loss: 0.3475 - accuracy: 0.8565\n"
     ]
    },
    {
     "data": {
      "text/plain": [
       "<tensorflow.python.keras.callbacks.History at 0x63c8bc390>"
      ]
     },
     "execution_count": 24,
     "metadata": {},
     "output_type": "execute_result"
    }
   ],
   "source": [
    "model.fit(train_data, epochs=20)"
   ]
  },
  {
   "cell_type": "code",
   "execution_count": 25,
   "metadata": {},
   "outputs": [
    {
     "name": "stdout",
     "output_type": "stream",
     "text": [
      "22/22 [==============================] - 1s 60ms/step - loss: 0.4498 - accuracy: 0.8030\n"
     ]
    },
    {
     "data": {
      "text/plain": [
       "[0.4498139883984219, 0.8030303]"
      ]
     },
     "execution_count": 25,
     "metadata": {},
     "output_type": "execute_result"
    }
   ],
   "source": [
    "model.evaluate(test_data)"
   ]
  },
  {
   "cell_type": "markdown",
   "metadata": {},
   "source": [
    "## 使用 tf.keras.Model.predict 推断一个批次或多个批次的标签。"
   ]
  },
  {
   "cell_type": "code",
   "execution_count": 27,
   "metadata": {},
   "outputs": [
    {
     "name": "stdout",
     "output_type": "stream",
     "text": [
      "Predicted survival: 48.96%  | Actual outcome:  SURVIVED\n",
      "Predicted survival: 40.46%  | Actual outcome:  DIED\n",
      "Predicted survival: 11.38%  | Actual outcome:  DIED\n",
      "Predicted survival: 0.84%  | Actual outcome:  SURVIVED\n",
      "Predicted survival: 22.29%  | Actual outcome:  DIED\n",
      "Predicted survival: 12.56%  | Actual outcome:  DIED\n",
      "Predicted survival: 86.87%  | Actual outcome:  DIED\n",
      "Predicted survival: 3.01%  | Actual outcome:  DIED\n",
      "Predicted survival: 70.47%  | Actual outcome:  DIED\n",
      "Predicted survival: 11.44%  | Actual outcome:  SURVIVED\n"
     ]
    }
   ],
   "source": [
    "predictions = model.predict(test_data)\n",
    "\n",
    "# 显示部分结果\n",
    "for prediction, survived in zip(predictions[:10], list(test_data)[0][1][:10]):\n",
    "  print(\"Predicted survival: {:.2%}\".format(prediction[0]),\n",
    "        \" | Actual outcome: \",\n",
    "        (\"SURVIVED\" if bool(survived) else \"DIED\"))\n",
    "\n"
   ]
  },
  {
   "cell_type": "code",
   "execution_count": null,
   "metadata": {},
   "outputs": [],
   "source": []
  }
 ],
 "metadata": {
  "kernelspec": {
   "display_name": "Python 3.7.6 64-bit ('mytf': conda)",
   "language": "python",
   "name": "python37664bitmytfconda841baf2f843f47f398642a391af5d6cb"
  },
  "language_info": {
   "codemirror_mode": {
    "name": "ipython",
    "version": 3
   },
   "file_extension": ".py",
   "mimetype": "text/x-python",
   "name": "python",
   "nbconvert_exporter": "python",
   "pygments_lexer": "ipython3",
   "version": "3.7.6"
  }
 },
 "nbformat": 4,
 "nbformat_minor": 4
}
