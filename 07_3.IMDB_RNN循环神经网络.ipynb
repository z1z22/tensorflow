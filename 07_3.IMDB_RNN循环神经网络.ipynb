{
 "cells": [
  {
   "cell_type": "code",
   "execution_count": 2,
   "metadata": {},
   "outputs": [
    {
     "name": "stdout",
     "output_type": "stream",
     "text": [
      "2.0.0\n"
     ]
    }
   ],
   "source": [
    "import tensorflow as tf\n",
    "from tensorflow import keras\n",
    "import matplotlib.pyplot as plt\n",
    "import pandas as pd\n",
    "\n",
    "import numpy as np\n",
    "\n",
    "print(tf.__version__)"
   ]
  },
  {
   "cell_type": "code",
   "execution_count": 1,
   "metadata": {},
   "outputs": [
    {
     "ename": "NameError",
     "evalue": "name 'keras' is not defined",
     "output_type": "error",
     "traceback": [
      "\u001b[0;31m---------------------------------------------------------------------------\u001b[0m",
      "\u001b[0;31mNameError\u001b[0m                                 Traceback (most recent call last)",
      "\u001b[0;32m<ipython-input-1-2d956b2af019>\u001b[0m in \u001b[0;36m<module>\u001b[0;34m\u001b[0m\n\u001b[1;32m      2\u001b[0m \u001b[0mindex_from\u001b[0m \u001b[0;34m=\u001b[0m \u001b[0;36m3\u001b[0m\u001b[0;31m# 词表中索引从3开始起算\u001b[0m\u001b[0;34m\u001b[0m\u001b[0;34m\u001b[0m\u001b[0m\n\u001b[1;32m      3\u001b[0m \u001b[0;34m\u001b[0m\u001b[0m\n\u001b[0;32m----> 4\u001b[0;31m \u001b[0mimdb\u001b[0m \u001b[0;34m=\u001b[0m \u001b[0mkeras\u001b[0m\u001b[0;34m.\u001b[0m\u001b[0mdatasets\u001b[0m\u001b[0;34m.\u001b[0m\u001b[0mimdb\u001b[0m\u001b[0;34m\u001b[0m\u001b[0;34m\u001b[0m\u001b[0m\n\u001b[0m\u001b[1;32m      5\u001b[0m \u001b[0;34m\u001b[0m\u001b[0m\n\u001b[1;32m      6\u001b[0m (train_data, train_labels), (test_data, test_labels) = imdb.load_data(\n",
      "\u001b[0;31mNameError\u001b[0m: name 'keras' is not defined"
     ]
    }
   ],
   "source": [
    "vocab_size = 80000# 设置数据中词表的个数\n",
    "index_from = 3# 词表中索引从3开始起算\n",
    "\n",
    "imdb = keras.datasets.imdb\n",
    "\n",
    "(train_data, train_labels), (test_data, test_labels) = imdb.load_data(\n",
    "    num_words=vocab_size, index_from= index_from)"
   ]
  },
  {
   "cell_type": "code",
   "execution_count": 3,
   "metadata": {},
   "outputs": [
    {
     "name": "stdout",
     "output_type": "stream",
     "text": [
      "88584\n"
     ]
    }
   ],
   "source": [
    "word_index = imdb.get_word_index()\n",
    "print(len(word_index))\n",
    "# print(word_index)\n",
    "\n"
   ]
  },
  {
   "cell_type": "code",
   "execution_count": 4,
   "metadata": {},
   "outputs": [],
   "source": [
    "# 一个映射单词到整数索引的词典\n",
    "word_index = imdb.get_word_index()\n",
    "# 保留第一个索引\n",
    "word_index = {k:(v+3) for k,v in word_index.items()}\n",
    "word_index[\"<PAD>\"] = 0\n",
    "word_index[\"<START>\"] = 1\n",
    "word_index[\"<UNK>\"] = 2  # unknown\n",
    "word_index[\"<UNUSED>\"] = 3\n",
    "\n",
    "reverse_word_index = dict([(value, key) for (key, value) in word_index.items()])\n",
    "\n",
    "def decode_review(text):\n",
    "    return ' '.join([reverse_word_index.get(i, '<UNK>') for i in text])\n"
   ]
  },
  {
   "cell_type": "code",
   "execution_count": 5,
   "metadata": {},
   "outputs": [],
   "source": [
    "maxlen = 256\n",
    "\n",
    "train_data = keras.preprocessing.sequence.pad_sequences(\n",
    "                                                        train_data,\n",
    "                                                        value=word_index[\"<PAD>\"],\n",
    "                                                        padding='post',# pre是前面\n",
    "                                                        maxlen=maxlen)\n",
    "\n",
    "test_data = keras.preprocessing.sequence.pad_sequences(\n",
    "                                                        test_data,\n",
    "                                                        value=word_index[\"<PAD>\"],\n",
    "                                                        padding='post',\n",
    "                                                        maxlen=maxlen)\n"
   ]
  },
  {
   "cell_type": "markdown",
   "metadata": {},
   "source": [
    "`keras.layers.embeddings.Embedding(input_dim, output_dim, embeddings_initializer='uniform', embeddings_regularizer=None, activity_regularizer=None, embeddings_constraint=None, mask_zero=False, input_length=None)`\n",
    "\n",
    "嵌入层将正整数（下标）转换为具有固定大小的向量，如[[4],[20]]->[[0.25,0.1],[0.6,-0.2]]\n",
    "\n",
    "Embedding层只能作为模型的第一层\n",
    "\n",
    "参数\n",
    "\n",
    "input_dim：大或等于0的整数，字典长度，即输入数据最大下标+1\n",
    "\n",
    "output_dim：大于0的整数，代表全连接嵌入的维度\n",
    "\n",
    "embeddings_initializer: 嵌入矩阵的初始化方法，为预定义初始化方法名的字符串，或用于初始化权重的初始化器。参考initializers\n",
    "\n",
    "embeddings_regularizer: 嵌入矩阵的正则项，为Regularizer对象\n",
    "\n",
    "embeddings_constraint: 嵌入矩阵的约束项，为Constraints对象\n",
    "\n",
    "mask_zero：布尔值，确定是否将输入中的‘0’看作是应该被忽略的‘填充’（padding）值，该参数在使用递归层处理变长输入时有用。设置为True的话，模型中后续的层必须都支持masking，否则会抛出异常。如果该值为True，则下标0在字典中不可用，input_dim应设置为|vocabulary| + 2。\n",
    "\n",
    "input_length：当输入序列的长度固定时，该值为其长度。如果要在该层后接Flatten层，然后接Dense层，则必须指定该参数，否则Dense层的输出维度无法自动推断。\n",
    "\n",
    "输入shape\n",
    "\n",
    "形如（samples，sequence_length）的2D张量\n",
    "\n",
    "输出shape\n",
    "\n",
    "形如(samples, sequence_length, output_dim)的3D张量\n",
    "\n",
    "如果输入数据不需要词的语义特征语义，简单使用Embedding层就可以得到一个对应的词向量矩阵，但如果需要语义特征，我们大可把训练好的词向量权重直接扔到Embedding层中即可"
   ]
  },
  {
   "cell_type": "code",
   "execution_count": 10,
   "metadata": {},
   "outputs": [
    {
     "name": "stdout",
     "output_type": "stream",
     "text": [
      "Model: \"sequential_1\"\n",
      "_________________________________________________________________\n",
      "Layer (type)                 Output Shape              Param #   \n",
      "=================================================================\n",
      "embedding_1 (Embedding)      (None, 256, 16)           160000    \n",
      "_________________________________________________________________\n",
      "simple_rnn_1 (SimpleRNN)     (None, 64)                5184      \n",
      "_________________________________________________________________\n",
      "dense_2 (Dense)              (None, 64)                4160      \n",
      "_________________________________________________________________\n",
      "dense_3 (Dense)              (None, 1)                 65        \n",
      "=================================================================\n",
      "Total params: 169,409\n",
      "Trainable params: 169,409\n",
      "Non-trainable params: 0\n",
      "_________________________________________________________________\n"
     ]
    }
   ],
   "source": [
    "# 单层单向循环神经网络\n",
    "#return_sequences是否返回为下一次的输出，因为只一层rnn，所以false\n",
    "enbedding_dim = 16\n",
    "batch_size = 128\n",
    "\n",
    "single_rnn_model = keras.Sequential()\n",
    "single_rnn_model.add(keras.layers.Embedding(vocab_size, enbedding_dim,\n",
    "                                                    input_length=maxlen))\n",
    "single_rnn_model.add(keras.layers.SimpleRNN(units=64,return_sequences=False))\n",
    "single_rnn_model.add(keras.layers.Dense(64, activation='relu'))\n",
    "single_rnn_model.add(keras.layers.Dense(1, activation='sigmoid'))\n",
    "\n",
    "single_rnn_model.summary()\n",
    "single_rnn_model.compile(optimizer='adam',#optimizer优化器\n",
    "              loss='binary_crossentropy',#由于这是一个二分类问题且模型输出概率值（一个使用 sigmoid 激活函数的单一单元层），我们将使用 binary_crossentropy 损失函数。\n",
    "              metrics=['accuracy'])#准确率（accuracy）结果会返回一个accuracy\n"
   ]
  },
  {
   "cell_type": "code",
   "execution_count": 12,
   "metadata": {},
   "outputs": [
    {
     "name": "stdout",
     "output_type": "stream",
     "text": [
      "Train on 20000 samples, validate on 5000 samples\n",
      "Epoch 1/5\n",
      "20000/20000 [==============================] - 121s 6ms/sample - loss: 0.6936 - accuracy: 0.5005 - val_loss: 0.6927 - val_accuracy: 0.5002\n",
      "Epoch 2/5\n",
      "20000/20000 [==============================] - 116s 6ms/sample - loss: 0.6853 - accuracy: 0.5362 - val_loss: 0.6882 - val_accuracy: 0.5200\n",
      "Epoch 3/5\n",
      "20000/20000 [==============================] - 112s 6ms/sample - loss: 0.6407 - accuracy: 0.5904 - val_loss: 0.6628 - val_accuracy: 0.5596\n",
      "Epoch 4/5\n",
      "20000/20000 [==============================] - 102s 5ms/sample - loss: 0.5455 - accuracy: 0.6397 - val_loss: 0.6964 - val_accuracy: 0.5532\n",
      "Epoch 5/5\n",
      "20000/20000 [==============================] - 112s 6ms/sample - loss: 0.5017 - accuracy: 0.6606 - val_loss: 0.7933 - val_accuracy: 0.5338\n"
     ]
    }
   ],
   "source": [
    "single_rnn_history = single_rnn_model.fit(train_data,\n",
    "                                            train_labels,\n",
    "                                            epochs=5,\n",
    "                                            batch_size=batch_size,\n",
    "                                            validation_split=0.2)"
   ]
  },
  {
   "cell_type": "code",
   "execution_count": 14,
   "metadata": {},
   "outputs": [
    {
     "data": {
      "image/png": "[encoded data removed]",
      "text/plain": [
       "<Figure size 576x360 with 1 Axes>"
      ]
     },
     "metadata": {
      "needs_background": "light"
     },
     "output_type": "display_data"
    },
    {
     "data": {
      "image/png": "[encoded data removed]",
      "text/plain": [
       "<Figure size 576x360 with 1 Axes>"
      ]
     },
     "metadata": {
      "needs_background": "light"
     },
     "output_type": "display_data"
    }
   ],
   "source": [
    "\n",
    "\n",
    "def plot_learning_curves(history,label,epochs,min_value,max_value):\n",
    "    data = {}\n",
    "    data[label] = history.history[label]\n",
    "    data['val_'+label] = history.history['val_'+label]\n",
    "    pd.DataFrame(data).plot(figsize=[8,5])\n",
    "    plt.grid(True)\n",
    "    plt.axis([0,epochs,min_value,max_value])\n",
    "    plt.show()\n",
    "\n",
    "plot_learning_curves(single_rnn_history,'accuracy',5,0,1)\n",
    "plot_learning_curves(single_rnn_history,'loss',5,0,1)"
   ]
  },
  {
   "cell_type": "code",
   "execution_count": 16,
   "metadata": {},
   "outputs": [
    {
     "name": "stdout",
     "output_type": "stream",
     "text": [
      "25000/1 - 41s - loss: 0.8013 - accuracy: 0.5370\n"
     ]
    },
    {
     "data": {
      "text/plain": [
       "[0.7943046627616882, 0.53696]"
      ]
     },
     "execution_count": 16,
     "metadata": {},
     "output_type": "execute_result"
    }
   ],
   "source": [
    "single_rnn_model.evaluate(\n",
    "            test_data, test_labels,\n",
    "            batch_size = batch_size,\n",
    "            verbose=2)"
   ]
  },
  {
   "cell_type": "code",
   "execution_count": 19,
   "metadata": {},
   "outputs": [
    {
     "name": "stdout",
     "output_type": "stream",
     "text": [
      "Model: \"sequential_3\"\n",
      "_________________________________________________________________\n",
      "Layer (type)                 Output Shape              Param #   \n",
      "=================================================================\n",
      "embedding_3 (Embedding)      (None, None, 16)          160000    \n",
      "_________________________________________________________________\n",
      "bidirectional_3 (Bidirection (None, None, 64)          3136      \n",
      "_________________________________________________________________\n",
      "bidirectional_4 (Bidirection (None, 64)                6208      \n",
      "_________________________________________________________________\n",
      "dense_6 (Dense)              (None, 16)                1040      \n",
      "_________________________________________________________________\n",
      "dense_7 (Dense)              (None, 1)                 17        \n",
      "=================================================================\n",
      "Total params: 170,401\n",
      "Trainable params: 170,401\n",
      "Non-trainable params: 0\n",
      "_________________________________________________________________\n"
     ]
    }
   ],
   "source": [
    "# 多层双向循环神经网络\n",
    "enbedding_dim = 16\n",
    "batch_size = 128\n",
    "\n",
    "model = keras.Sequential()\n",
    "model.add(keras.layers.Embedding(vocab_size, enbedding_dim,))\n",
    "model.add(keras.layers.Bidirectional(keras.layers.SimpleRNN(units=32,return_sequences=True)))\n",
    "model.add(keras.layers.Bidirectional(keras.layers.SimpleRNN(units=32,return_sequences=False)))\n",
    "model.add(keras.layers.Dense(16, activation='relu'))\n",
    "model.add(keras.layers.Dense(1, activation='sigmoid'))\n",
    "\n",
    "model.summary()\n",
    "\n",
    "model.compile(optimizer='adam',#optimizer优化器\n",
    "              loss='binary_crossentropy',#由于这是一个二分类问题且模型输出概率值（一个使用 sigmoid 激活函数的单一单元层），我们将使用 binary_crossentropy 损失函数。\n",
    "              metrics=['accuracy'])#准确率（accuracy）结果会返回一个accuracy\n",
    "\n"
   ]
  },
  {
   "cell_type": "code",
   "execution_count": 21,
   "metadata": {},
   "outputs": [
    {
     "name": "stdout",
     "output_type": "stream",
     "text": [
      "Train on 20000 samples, validate on 5000 samples\n",
      "Epoch 1/10\n",
      "20000/20000 [==============================] - 249s 12ms/sample - loss: 0.6947 - accuracy: 0.5131 - val_loss: 0.6907 - val_accuracy: 0.5244\n",
      "Epoch 2/10\n",
      "20000/20000 [==============================] - 248s 12ms/sample - loss: 0.6197 - accuracy: 0.6569 - val_loss: 0.5825 - val_accuracy: 0.7026\n",
      "Epoch 3/10\n",
      "20000/20000 [==============================] - 243s 12ms/sample - loss: 0.4460 - accuracy: 0.8022 - val_loss: 0.7208 - val_accuracy: 0.5420\n",
      "Epoch 4/10\n",
      "20000/20000 [==============================] - 244s 12ms/sample - loss: 0.3710 - accuracy: 0.8371 - val_loss: 0.4830 - val_accuracy: 0.8040\n",
      "Epoch 5/10\n",
      "20000/20000 [==============================] - 249s 12ms/sample - loss: 0.1616 - accuracy: 0.9406 - val_loss: 0.6259 - val_accuracy: 0.7992\n",
      "Epoch 6/10\n",
      "20000/20000 [==============================] - 437s 22ms/sample - loss: 0.0897 - accuracy: 0.9682 - val_loss: 0.7610 - val_accuracy: 0.7642\n",
      "Epoch 7/10\n",
      "20000/20000 [==============================] - 276s 14ms/sample - loss: 0.0360 - accuracy: 0.9896 - val_loss: 1.0671 - val_accuracy: 0.7170\n",
      "Epoch 8/10\n",
      "20000/20000 [==============================] - 272s 14ms/sample - loss: 0.0142 - accuracy: 0.9968 - val_loss: 0.9939 - val_accuracy: 0.7668\n",
      "Epoch 9/10\n",
      "20000/20000 [==============================] - 268s 13ms/sample - loss: 0.0047 - accuracy: 0.9992 - val_loss: 1.0572 - val_accuracy: 0.7678\n",
      "Epoch 10/10\n",
      "20000/20000 [==============================] - 268s 13ms/sample - loss: 0.0021 - accuracy: 0.9998 - val_loss: 1.1889 - val_accuracy: 0.7562\n"
     ]
    }
   ],
   "source": [
    "history = model.fit(train_data,\n",
    "                    train_labels,\n",
    "                    epochs=10,\n",
    "                    batch_size=batch_size,\n",
    "                    validation_split=0.2)"
   ]
  },
  {
   "cell_type": "code",
   "execution_count": 22,
   "metadata": {},
   "outputs": [
    {
     "name": "stdout",
     "output_type": "stream",
     "text": [
      "25000/1 - 178s - loss: 0.6450 - accuracy: 0.7460\n",
      "loss 1.2771898666265606\n",
      "acc 0.74596\n"
     ]
    }
   ],
   "source": [
    "loss,acc = model.evaluate(test_data,  test_labels, verbose=2)\n",
    "\n",
    "print('loss',loss)\n",
    "print('acc',acc)\n"
   ]
  },
  {
   "cell_type": "code",
   "execution_count": 24,
   "metadata": {},
   "outputs": [
    {
     "data": {
      "image/png": "[encoded data removed]",
      "text/plain": [
       "<Figure size 576x360 with 1 Axes>"
      ]
     },
     "metadata": {
      "needs_background": "light"
     },
     "output_type": "display_data"
    },
    {
     "data": {
      "image/png": "[encoded data removed]",
      "text/plain": [
       "<Figure size 576x360 with 1 Axes>"
      ]
     },
     "metadata": {
      "needs_background": "light"
     },
     "output_type": "display_data"
    }
   ],
   "source": [
    "plot_learning_curves(history,'accuracy',10,0,1)\n",
    "plot_learning_curves(history,'loss',10,0,1)"
   ]
  },
  {
   "cell_type": "code",
   "execution_count": 25,
   "metadata": {},
   "outputs": [
    {
     "name": "stdout",
     "output_type": "stream",
     "text": [
      "Model: \"sequential_4\"\n",
      "_________________________________________________________________\n",
      "Layer (type)                 Output Shape              Param #   \n",
      "=================================================================\n",
      "embedding_4 (Embedding)      (None, None, 16)          160000    \n",
      "_________________________________________________________________\n",
      "bidirectional_5 (Bidirection (None, 64)                3136      \n",
      "_________________________________________________________________\n",
      "dense_8 (Dense)              (None, 16)                1040      \n",
      "_________________________________________________________________\n",
      "dense_9 (Dense)              (None, 1)                 17        \n",
      "=================================================================\n",
      "Total params: 164,193\n",
      "Trainable params: 164,193\n",
      "Non-trainable params: 0\n",
      "_________________________________________________________________\n"
     ]
    }
   ],
   "source": [
    "# 单层双向循环神经网络\n",
    "enbedding_dim = 16\n",
    "batch_size = 128\n",
    "\n",
    "bi_cnn_model = keras.Sequential()\n",
    "bi_cnn_model.add(keras.layers.Embedding(vocab_size, enbedding_dim,))\n",
    "bi_cnn_model.add(keras.layers.Bidirectional(keras.layers.SimpleRNN(units=32,return_sequences=False)))\n",
    "bi_cnn_model.add(keras.layers.Dense(16, activation='relu'))\n",
    "bi_cnn_model.add(keras.layers.Dense(1, activation='sigmoid'))\n",
    "\n",
    "bi_cnn_model.summary()\n",
    "\n",
    "bi_cnn_model.compile(optimizer='adam',#optimizer优化器\n",
    "              loss='binary_crossentropy',#由于这是一个二分类问题且模型输出概率值（一个使用 sigmoid 激活函数的单一单元层），我们将使用 binary_crossentropy 损失函数。\n",
    "              metrics=['accuracy'])#准确率（accuracy）结果会返回一个accuracy\n",
    "\n",
    "\n"
   ]
  },
  {
   "cell_type": "code",
   "execution_count": 26,
   "metadata": {},
   "outputs": [
    {
     "name": "stdout",
     "output_type": "stream",
     "text": [
      "Train on 20000 samples, validate on 5000 samples\n",
      "Epoch 1/10\n",
      "20000/20000 [==============================] - 128s 6ms/sample - loss: 0.6930 - accuracy: 0.5149 - val_loss: 0.6970 - val_accuracy: 0.5064\n",
      "Epoch 2/10\n",
      "20000/20000 [==============================] - 140s 7ms/sample - loss: 0.6251 - accuracy: 0.6407 - val_loss: 0.5333 - val_accuracy: 0.7504\n",
      "Epoch 3/10\n",
      "20000/20000 [==============================] - 148s 7ms/sample - loss: 0.3965 - accuracy: 0.8336 - val_loss: 0.4216 - val_accuracy: 0.8296\n",
      "Epoch 4/10\n",
      "20000/20000 [==============================] - 139s 7ms/sample - loss: 0.2516 - accuracy: 0.9044 - val_loss: 0.4251 - val_accuracy: 0.8326\n",
      "Epoch 5/10\n",
      "20000/20000 [==============================] - 162s 8ms/sample - loss: 0.1588 - accuracy: 0.9434 - val_loss: 0.5199 - val_accuracy: 0.8138\n",
      "Epoch 6/10\n",
      "20000/20000 [==============================] - 138s 7ms/sample - loss: 0.0870 - accuracy: 0.9724 - val_loss: 0.7061 - val_accuracy: 0.7444\n",
      "Epoch 7/10\n",
      "20000/20000 [==============================] - 130s 7ms/sample - loss: 0.0572 - accuracy: 0.9826 - val_loss: 0.6769 - val_accuracy: 0.8202\n",
      "Epoch 8/10\n",
      "20000/20000 [==============================] - 141s 7ms/sample - loss: 0.0230 - accuracy: 0.9944 - val_loss: 0.7730 - val_accuracy: 0.7960\n",
      "Epoch 9/10\n",
      "20000/20000 [==============================] - 142s 7ms/sample - loss: 0.0111 - accuracy: 0.9975 - val_loss: 0.8254 - val_accuracy: 0.8024\n",
      "Epoch 10/10\n",
      "20000/20000 [==============================] - 190s 10ms/sample - loss: 0.0229 - accuracy: 0.9926 - val_loss: 0.8598 - val_accuracy: 0.8172\n"
     ]
    }
   ],
   "source": [
    "history = bi_cnn_model.fit(train_data,\n",
    "                    train_labels,\n",
    "                    epochs=10,\n",
    "                    batch_size=batch_size,\n",
    "                    validation_split=0.2)"
   ]
  },
  {
   "cell_type": "code",
   "execution_count": 27,
   "metadata": {},
   "outputs": [
    {
     "data": {
      "image/png": "[encoded data removed]",
      "text/plain": [
       "<Figure size 576x360 with 1 Axes>"
      ]
     },
     "metadata": {
      "needs_background": "light"
     },
     "output_type": "display_data"
    },
    {
     "data": {
      "image/png": "[encoded data removed]",
      "text/plain": [
       "<Figure size 576x360 with 1 Axes>"
      ]
     },
     "metadata": {
      "needs_background": "light"
     },
     "output_type": "display_data"
    }
   ],
   "source": [
    "plot_learning_curves(history,'accuracy',10,0,1)\n",
    "plot_learning_curves(history,'loss',10,0,1)"
   ]
  },
  {
   "cell_type": "code",
   "execution_count": 28,
   "metadata": {},
   "outputs": [
    {
     "name": "stdout",
     "output_type": "stream",
     "text": [
      "25000/1 - 100s - loss: 1.1409 - accuracy: 0.8051\n",
      "loss 0.9320827589821815\n",
      "acc 0.80508\n"
     ]
    }
   ],
   "source": [
    "loss,acc = bi_cnn_model.evaluate(test_data,  test_labels, verbose=2)\n",
    "\n",
    "print('loss',loss)\n",
    "print('acc',acc)"
   ]
  },
  {
   "cell_type": "code",
   "execution_count": 29,
   "metadata": {},
   "outputs": [
    {
     "name": "stdout",
     "output_type": "stream",
     "text": [
      "Model: \"sequential_5\"\n",
      "_________________________________________________________________\n",
      "Layer (type)                 Output Shape              Param #   \n",
      "=================================================================\n",
      "embedding_5 (Embedding)      (None, 256, 16)           160000    \n",
      "_________________________________________________________________\n",
      "bidirectional_6 (Bidirection (None, 64)                12544     \n",
      "_________________________________________________________________\n",
      "dense_10 (Dense)             (None, 32)                2080      \n",
      "_________________________________________________________________\n",
      "dense_11 (Dense)             (None, 1)                 33        \n",
      "=================================================================\n",
      "Total params: 174,657\n",
      "Trainable params: 174,657\n",
      "Non-trainable params: 0\n",
      "_________________________________________________________________\n"
     ]
    }
   ],
   "source": [
    "#LSTM长短期记忆网络，避免RNN信息不能长久\n",
    "# 输入形状是用于电影评论的词汇数目（10,000 词）\n",
    "vocab_size = 10000\n",
    "enbedding_dim = 16\n",
    "batch_size = 128\n",
    "\n",
    "lstm_model = keras.Sequential([\n",
    "        keras.layers.Embedding(vocab_size, enbedding_dim,input_length = maxlen),\n",
    "        keras.layers.Bidirectional(keras.layers.LSTM(units=32,return_sequences=False)),\n",
    "        keras.layers.Dense(32, activation='relu'),\n",
    "        keras.layers.Dense(1, activation='sigmoid')\n",
    "])\n",
    "\n",
    "lstm_model.summary()\n",
    "lstm_model.compile(optimizer='adam',#optimizer优化器\n",
    "              loss='binary_crossentropy',#由于这是一个二分类问题且模型输出概率值（一个使用 sigmoid 激活函数的单一单元层），我们将使用 binary_crossentropy 损失函数。\n",
    "              metrics=['accuracy'])#准确率（accuracy）结果会返回一个accuracy"
   ]
  },
  {
   "cell_type": "code",
   "execution_count": 35,
   "metadata": {},
   "outputs": [
    {
     "name": "stdout",
     "output_type": "stream",
     "text": [
      "Train on 20000 samples, validate on 5000 samples\n",
      "Epoch 1/10\n",
      "20000/20000 [==============================] - 432s 22ms/sample - loss: 0.5569 - accuracy: 0.6882 - val_loss: 0.3936 - val_accuracy: 0.8430\n",
      "Epoch 2/10\n",
      "20000/20000 [==============================] - 291s 15ms/sample - loss: 0.2677 - accuracy: 0.8985 - val_loss: 0.3059 - val_accuracy: 0.8728\n",
      "Epoch 3/10\n",
      "20000/20000 [==============================] - 280s 14ms/sample - loss: 0.1867 - accuracy: 0.9342 - val_loss: 0.3076 - val_accuracy: 0.8838\n",
      "Epoch 4/10\n",
      "20000/20000 [==============================] - 281s 14ms/sample - loss: 0.1423 - accuracy: 0.9512 - val_loss: 0.3642 - val_accuracy: 0.8706\n",
      "Epoch 5/10\n",
      "20000/20000 [==============================] - 304s 15ms/sample - loss: 0.1139 - accuracy: 0.9639 - val_loss: 0.4070 - val_accuracy: 0.8726\n",
      "Epoch 6/10\n",
      "20000/20000 [==============================] - 279s 14ms/sample - loss: 0.0935 - accuracy: 0.9691 - val_loss: 0.4289 - val_accuracy: 0.8740\n",
      "Epoch 7/10\n",
      "20000/20000 [==============================] - 290s 15ms/sample - loss: 0.0806 - accuracy: 0.9751 - val_loss: 0.4089 - val_accuracy: 0.8702\n",
      "Epoch 8/10\n",
      "20000/20000 [==============================] - 282s 14ms/sample - loss: 0.0625 - accuracy: 0.9818 - val_loss: 0.4375 - val_accuracy: 0.8642\n",
      "Epoch 9/10\n",
      "20000/20000 [==============================] - 298s 15ms/sample - loss: 0.0473 - accuracy: 0.9865 - val_loss: 0.5260 - val_accuracy: 0.8620\n",
      "Epoch 10/10\n",
      "20000/20000 [==============================] - 316s 16ms/sample - loss: 0.0453 - accuracy: 0.9868 - val_loss: 0.5942 - val_accuracy: 0.8626\n"
     ]
    }
   ],
   "source": [
    "history = lstm_model.fit(train_data,\n",
    "                    train_labels,\n",
    "                    epochs=10,\n",
    "                    batch_size=batch_size,\n",
    "                    validation_split=0.2,\n",
    "                    verbose=1)"
   ]
  },
  {
   "cell_type": "code",
   "execution_count": 36,
   "metadata": {},
   "outputs": [
    {
     "data": {
      "image/png": "[encoded data removed]",
      "text/plain": [
       "<Figure size 576x360 with 1 Axes>"
      ]
     },
     "metadata": {
      "needs_background": "light"
     },
     "output_type": "display_data"
    },
    {
     "data": {
      "image/png": "[encoded data removed]",
      "text/plain": [
       "<Figure size 576x360 with 1 Axes>"
      ]
     },
     "metadata": {
      "needs_background": "light"
     },
     "output_type": "display_data"
    }
   ],
   "source": [
    "plot_learning_curves(history,'accuracy',10,0,1)\n",
    "plot_learning_curves(history,'loss',10,0,1)"
   ]
  },
  {
   "cell_type": "code",
   "execution_count": 37,
   "metadata": {},
   "outputs": [
    {
     "name": "stdout",
     "output_type": "stream",
     "text": [
      "25000/1 - 232s - loss: 0.6299 - accuracy: 0.8470\n",
      "loss 0.6639880334472656\n",
      "acc 0.84696\n"
     ]
    }
   ],
   "source": [
    "loss,acc = lstm_model.evaluate(test_data,  test_labels, verbose=2)\n",
    "\n",
    "print('loss',loss)\n",
    "print('acc',acc)"
   ]
  },
  {
   "cell_type": "code",
   "execution_count": null,
   "metadata": {},
   "outputs": [],
   "source": []
  }
 ],
 "metadata": {
  "kernelspec": {
   "display_name": "Python 3",
   "language": "python",
   "name": "python3"
  },
  "language_info": {
   "codemirror_mode": {
    "name": "ipython",
    "version": 3
   },
   "file_extension": ".py",
   "mimetype": "text/x-python",
   "name": "python",
   "nbconvert_exporter": "python",
   "pygments_lexer": "ipython3",
   "version": "3.7.6"
  }
 },
 "nbformat": 4,
 "nbformat_minor": 4
}
