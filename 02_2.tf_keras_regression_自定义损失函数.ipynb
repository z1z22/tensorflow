{
 "cells": [
  {
   "cell_type": "markdown",
   "metadata": {},
   "source": [
    "# 线性回归模型，自定义损失函数"
   ]
  },
  {
   "cell_type": "code",
   "execution_count": 1,
   "metadata": {},
   "outputs": [
    {
     "name": "stdout",
     "output_type": "stream",
     "text": [
      "2.0.0\n",
      "sys.version_info(major=3, minor=7, micro=6, releaselevel='final', serial=0)\n",
      "numpy 1.18.1\n",
      "pandas 1.0.1\n",
      "sklearn 0.22.2\n",
      "tensorflow 2.0.0\n",
      "tensorflow_core.keras 2.2.4-tf\n"
     ]
    }
   ],
   "source": [
    "import matplotlib.pyplot as plt\n",
    "%matplotlib inline\n",
    "import numpy as np\n",
    "import pandas as pd\n",
    "import sklearn\n",
    "import os\n",
    "import sys\n",
    "import time\n",
    "import tensorflow as tf\n",
    "\n",
    "from tensorflow import keras\n",
    "print(tf.__version__)\n",
    "print(sys.version_info)\n",
    "for module in np, pd ,sklearn, tf, keras:\n",
    "    print(module.__name__,module.__version__)"
   ]
  },
  {
   "cell_type": "code",
   "execution_count": 2,
   "metadata": {},
   "outputs": [
    {
     "name": "stdout",
     "output_type": "stream",
     "text": [
      "(20640, 8)\n",
      "(20640,)\n"
     ]
    }
   ],
   "source": [
    "from sklearn.datasets import fetch_california_housing\n",
    "\n",
    "housing = fetch_california_housing()\n",
    "\n",
    "# print(housing.DESCR)\n",
    "print(housing.data.shape)\n",
    "print(housing.target.shape)\n"
   ]
  },
  {
   "cell_type": "code",
   "execution_count": 3,
   "metadata": {},
   "outputs": [],
   "source": [
    "from sklearn.model_selection import train_test_split\n",
    "\n",
    "x_train_all,x_test,y_train_all,y_test=train_test_split(housing.data, housing.target,random_state=7)\n",
    "x_train, x_valid, y_train, y_valid = train_test_split(x_train_all,y_train_all,random_state=11)"
   ]
  },
  {
   "cell_type": "code",
   "execution_count": 4,
   "metadata": {},
   "outputs": [],
   "source": [
    "from sklearn.preprocessing import StandardScaler\n",
    "transfer = StandardScaler()\n",
    "x_train_scaled = transfer.fit_transform(x_train)\n",
    "x_test_scaled = transfer.transform(x_test)\n",
    "x_valid_scaled = transfer.transform(x_valid)"
   ]
  },
  {
   "cell_type": "code",
   "execution_count": 6,
   "metadata": {},
   "outputs": [],
   "source": [
    "#函数式API\n",
    "input = keras.layers.Input(shape=x_train.shape[1:])\n",
    "hidden1=keras.layers.Dense(30,activation='relu')(input)\n",
    "hidden2=keras.layers.Dense(30,activation='relu')(hidden1)\n",
    "\n",
    "cancat = keras.layers.concatenate([input, hidden2])#用concatenate把两个层连接起来\n",
    "output = keras.layers.Dense(1)(cancat)\n",
    "\n",
    "model = keras.models.Model(input, output)\n",
    "def customized_mse(y_ture,y_pred):\n",
    "    '''自定义均方差损失函数'''\n",
    "    return tf.reduce_mean(tf.square(y_pred-y_ture))\n",
    "\n",
    "\n",
    "\n",
    "model.compile(loss=customized_mse,#'使用自定义的mean_squared_error',\n",
    "             optimizer = 'nadam',# SGD -> SGDM -> NAG ->AdaGrad -> AdaDelta -> Adam -> Nadam\n",
    "              metrics=['mean_squared_error']#放入内置的损失函数mse做对比\n",
    "             )\n"
   ]
  },
  {
   "cell_type": "code",
   "execution_count": 8,
   "metadata": {},
   "outputs": [
    {
     "name": "stdout",
     "output_type": "stream",
     "text": [
      "Train on 11610 samples, validate on 3870 samples\n",
      "Epoch 1/3\n",
      "11610/11610 [==============================] - 5s 463us/sample - loss: 1.2338 - mean_squared_error: 1.2338 - val_loss: 0.5437 - val_mean_squared_error: 0.5437\n",
      "Epoch 2/3\n",
      "11610/11610 [==============================] - 2s 199us/sample - loss: 0.4459 - mean_squared_error: 0.4459 - val_loss: 0.4331 - val_mean_squared_error: 0.4331\n",
      "Epoch 3/3\n",
      "11610/11610 [==============================] - 2s 200us/sample - loss: 0.3974 - mean_squared_error: 0.3974 - val_loss: 0.3967 - val_mean_squared_error: 0.3967\n"
     ]
    }
   ],
   "source": [
    "callbacks = [keras.callbacks.EarlyStopping(patience=5,min_delta=1e-2)]\n",
    "history = model.fit(x_train_scaled,y_train,epochs=3,\n",
    "                  validation_data=(x_valid_scaled,y_valid), \n",
    "                  callbacks= callbacks )"
   ]
  },
  {
   "cell_type": "code",
   "execution_count": 9,
   "metadata": {},
   "outputs": [
    {
     "data": {
      "image/png": "[encoded data removed]",
      "text/plain": [
       "<Figure size 576x360 with 1 Axes>"
      ]
     },
     "metadata": {
      "needs_background": "light"
     },
     "output_type": "display_data"
    }
   ],
   "source": [
    "def plot_learning_curves(history):\n",
    "    pd.DataFrame(history.history).plot(figsize=[8,5])\n",
    "    plt.grid(True)\n",
    "    plt.gca().set_ylim(0,1)\n",
    "    plt.show()\n",
    "\n",
    "plot_learning_curves(history)"
   ]
  },
  {
   "cell_type": "code",
   "execution_count": null,
   "metadata": {},
   "outputs": [],
   "source": [
    "# model.evaluate(x_test_scaled,y_test，verbose=2)\n",
    "#sklearn_model没有evaluate函数"
   ]
  },
  {
   "cell_type": "code",
   "execution_count": null,
   "metadata": {},
   "outputs": [],
   "source": [
    "from scipy.stats import reciprocal\n",
    "param_distribution={\n",
    "    'hidden_layers': [1,2,3,4,5,],\n",
    "    'layer_size': np.arange(1,100),\n",
    "    'learnning_rate': reciprocal(1e-4,1e-2)\n",
    "    }\n",
    "from sklearn.model_selection import RandomizedSearchCV\n",
    "estimator = RandomizedSearchCV(sklearn_model, #模型estimator\n",
    "                                                 param_distribution,#定义好的搜索空间\n",
    "                                                 n_iter = 10,#要搜索的参数集合数量\n",
    "#                                                  n_jobs = 1，#并行处理数据数量\n",
    "                                                  )\n",
    "\n",
    "callbacks = [keras.callbacks.EarlyStopping(patience=5,min_delta=1e-2)]\n",
    "estimator.fit(x_train_scaled,y_train,epochs=100,\n",
    "                  validation_data=(x_valid_scaled,y_valid), \n",
    "                  callbacks= callbacks)"
   ]
  },
  {
   "cell_type": "code",
   "execution_count": null,
   "metadata": {},
   "outputs": [],
   "source": [
    "# reciprocal函数演示\n",
    "# from scipy.stats import reciprocal\n",
    "# # f(x) = 1/(x*log(b/a))     a<x<b\n",
    "# reciprocal.rvs(1e-4, 1e-2, size =10)"
   ]
  },
  {
   "cell_type": "code",
   "execution_count": null,
   "metadata": {},
   "outputs": [],
   "source": [
    "#最佳参数\n",
    "print('最佳参数：\\n',estimator.best_params_)\n",
    "#最佳结果\n",
    "print('最佳结果:\\n',estimator.best_score_)\n",
    "#最佳估计器\n",
    "print('最佳估计器：\\n',estimator.best_estimator_)\n",
    "#交叉验证结果\n",
    "# print('交叉验证结果:\\n',estimator.cv_results_)"
   ]
  },
  {
   "cell_type": "code",
   "execution_count": null,
   "metadata": {},
   "outputs": [],
   "source": [
    "model = estimator.best_estimator_.model\n",
    "model.evaluate(x_test_scaled, y_test)"
   ]
  },
  {
   "cell_type": "code",
   "execution_count": null,
   "metadata": {},
   "outputs": [],
   "source": []
  },
  {
   "cell_type": "code",
   "execution_count": null,
   "metadata": {},
   "outputs": [],
   "source": []
  }
 ],
 "metadata": {
  "kernelspec": {
   "display_name": "Python 3",
   "language": "python",
   "name": "python3"
  },
  "language_info": {
   "codemirror_mode": {
    "name": "ipython",
    "version": 3
   },
   "file_extension": ".py",
   "mimetype": "text/x-python",
   "name": "python",
   "nbconvert_exporter": "python",
   "pygments_lexer": "ipython3",
   "version": "3.7.6"
  }
 },
 "nbformat": 4,
 "nbformat_minor": 4
}
