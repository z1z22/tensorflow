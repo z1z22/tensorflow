{
 "cells": [
  {
   "cell_type": "markdown",
   "metadata": {},
   "source": [
    "# 循环神经网络"
   ]
  },
  {
   "cell_type": "markdown",
   "metadata": {},
   "source": [
    "## Embedding#把变长的文本转化为数字\n",
    "### 1、one_hot编码\n",
    "### 2、dense embedding 常用密集编码\n",
    "## 变长输入\n",
    "### 1、padding ，短的padding补0，长的截断\n",
    "### 2、合并 pooling"
   ]
  },
  {
   "cell_type": "markdown",
   "metadata": {},
   "source": [
    "## Embedding与变长输入处理\n",
    "### 为什么要循环神经网络 ----合并+padding的缺点\n",
    "### 1、信息丢失\n",
    "####        多个embedding合并\n",
    "####        pad值参与计算，产生噪音，\n",
    "####        无主次\n",
    "### 2、 无效计算太多，低效\n",
    "####      太多的padding"
   ]
  },
  {
   "cell_type": "markdown",
   "metadata": {},
   "source": [
    "## 普通神经网络 -->1对一\n",
    "# 循环神经网络解决序列性问题\n",
    "#### 1对多，图片生成描述\n",
    "#### 多对1，文本分类（文本情感分析）\n",
    "#### 多对多，非实时：encoding-decoding，机器翻译\n",
    "####                        实时：视频解说"
   ]
  },
  {
   "cell_type": "markdown",
   "metadata": {},
   "source": [
    "# 循环神经网络\n",
    "## 维护一个状态作为下一步的额外输出，而不是将enbedding合并\n",
    "## 每一步使用的参数和激活函数相同"
   ]
  },
  {
   "cell_type": "markdown",
   "metadata": {},
   "source": [
    "# LSTM   长短期记忆网络"
   ]
  },
  {
   "cell_type": "markdown",
   "metadata": {},
   "source": [
    "## 普通的RNN信息不能长久传播（理论上）\n",
    "### 引入选择性机制\n",
    "#### 选择性输出\n",
    "#### 选择性输入\n",
    "#### 选择性遗忘\n",
    "### 选择性 -> 门\n",
    "#### Sigmoid函数：[0,1]把数处理到0，1之间\n",
    "### 门限机制\n",
    "#### 向量A -> sigmoid -> [0.1 , 0.9 ,.0.1, 0, 0.6]\n",
    "#### 向量B -> [13.8, 14, -7, -4 , 30.0]\n",
    "#### A为门限， B为信息\n",
    "#### A * B "
   ]
  },
  {
   "cell_type": "code",
   "execution_count": null,
   "metadata": {},
   "outputs": [],
   "source": []
  }
 ],
 "metadata": {
  "kernelspec": {
   "display_name": "Python 3",
   "language": "python",
   "name": "python3"
  },
  "language_info": {
   "codemirror_mode": {
    "name": "ipython",
    "version": 3
   },
   "file_extension": ".py",
   "mimetype": "text/x-python",
   "name": "python",
   "nbconvert_exporter": "python",
   "pygments_lexer": "ipython3",
   "version": "3.7.6"
  }
 },
 "nbformat": 4,
 "nbformat_minor": 4
}
