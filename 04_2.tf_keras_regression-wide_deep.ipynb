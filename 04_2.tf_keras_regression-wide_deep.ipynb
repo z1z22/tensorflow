{
 "cells": [
  {
   "cell_type": "markdown",
   "metadata": {},
   "source": [
    "# 函数API实现wide&deep"
   ]
  },
  {
   "cell_type": "code",
   "execution_count": 1,
   "metadata": {},
   "outputs": [
    {
     "name": "stdout",
     "output_type": "stream",
     "text": [
      "2.0.0\n",
      "sys.version_info(major=3, minor=7, micro=6, releaselevel='final', serial=0)\n",
      "numpy 1.18.1\n",
      "pandas 1.0.1\n",
      "sklearn 0.22.2\n",
      "tensorflow 2.0.0\n",
      "tensorflow_core.keras 2.2.4-tf\n"
     ]
    }
   ],
   "source": [
    "import matplotlib.pyplot as plt\n",
    "%matplotlib inline\n",
    "import numpy as np\n",
    "import pandas as pd\n",
    "import sklearn\n",
    "import os\n",
    "import sys\n",
    "import time\n",
    "import tensorflow as tf\n",
    "\n",
    "from tensorflow import keras\n",
    "print(tf.__version__)\n",
    "print(sys.version_info)\n",
    "for module in np, pd ,sklearn, tf, keras:\n",
    "    print(module.__name__,module.__version__)"
   ]
  },
  {
   "cell_type": "code",
   "execution_count": 2,
   "metadata": {},
   "outputs": [
    {
     "name": "stdout",
     "output_type": "stream",
     "text": [
      ".. _california_housing_dataset:\n",
      "\n",
      "California Housing dataset\n",
      "--------------------------\n",
      "\n",
      "**Data Set Characteristics:**\n",
      "\n",
      "    :Number of Instances: 20640\n",
      "\n",
      "    :Number of Attributes: 8 numeric, predictive attributes and the target\n",
      "\n",
      "    :Attribute Information:\n",
      "        - MedInc        median income in block\n",
      "        - HouseAge      median house age in block\n",
      "        - AveRooms      average number of rooms\n",
      "        - AveBedrms     average number of bedrooms\n",
      "        - Population    block population\n",
      "        - AveOccup      average house occupancy\n",
      "        - Latitude      house block latitude\n",
      "        - Longitude     house block longitude\n",
      "\n",
      "    :Missing Attribute Values: None\n",
      "\n",
      "This dataset was obtained from the StatLib repository.\n",
      "http://lib.stat.cmu.edu/datasets/\n",
      "\n",
      "The target variable is the median house value for California districts.\n",
      "\n",
      "This dataset was derived from the 1990 U.S. census, using one row per census\n",
      "block group. A block group is the smallest geographical unit for which the U.S.\n",
      "Census Bureau publishes sample data (a block group typically has a population\n",
      "of 600 to 3,000 people).\n",
      "\n",
      "It can be downloaded/loaded using the\n",
      ":func:`sklearn.datasets.fetch_california_housing` function.\n",
      "\n",
      ".. topic:: References\n",
      "\n",
      "    - Pace, R. Kelley and Ronald Barry, Sparse Spatial Autoregressions,\n",
      "      Statistics and Probability Letters, 33 (1997) 291-297\n",
      "\n",
      "(20640, 8)\n",
      "(20640,)\n"
     ]
    }
   ],
   "source": [
    "from sklearn.datasets import fetch_california_housing\n",
    "\n",
    "housing = fetch_california_housing()\n",
    "\n",
    "print(housing.DESCR)\n",
    "print(housing.data.shape)\n",
    "print(housing.target.shape)\n",
    "\n"
   ]
  },
  {
   "cell_type": "code",
   "execution_count": 3,
   "metadata": {},
   "outputs": [],
   "source": [
    "from sklearn.model_selection import train_test_split\n",
    "\n",
    "x_train_all,x_test,y_train_all,y_test=train_test_split(housing.data, housing.target,random_state=7)\n",
    "x_train, x_valid, y_train, y_valid = train_test_split(x_train_all,y_train_all,random_state=11)"
   ]
  },
  {
   "cell_type": "code",
   "execution_count": 4,
   "metadata": {},
   "outputs": [],
   "source": [
    "from sklearn.preprocessing import StandardScaler\n",
    "transfer = StandardScaler()\n",
    "x_train_scaled = transfer.fit_transform(x_train)\n",
    "x_test_scaled = transfer.transform(x_test)\n",
    "x_valid_scaled = transfer.transform(x_valid)"
   ]
  },
  {
   "cell_type": "code",
   "execution_count": 5,
   "metadata": {},
   "outputs": [],
   "source": [
    "#函数式API\n",
    "input = keras.layers.Input(shape=x_train.shape[1:])\n",
    "hidden1=keras.layers.Dense(30,activation='relu')(input)\n",
    "hidden2=keras.layers.Dense(30,activation='relu')(hidden1)\n",
    "#复合函数fx = h(f(x(g)))\n",
    "\n",
    "cancat = keras.layers.concatenate([input, hidden2])#用concatenate把两个层连接起来\n",
    "output = keras.layers.Dense(1)(cancat)\n",
    "e\n",
    "\n",
    "model.compile(loss='mean_squared_error',\n",
    "             optimizer = 'nadam',# SGD -> SGDM -> NAG ->AdaGrad -> AdaDelta -> Adam -> Nadam\n",
    "             )\n"
   ]
  },
  {
   "cell_type": "code",
   "execution_count": 6,
   "metadata": {},
   "outputs": [
    {
     "data": {
      "text/plain": [
       "[<tensorflow.python.keras.engine.input_layer.InputLayer at 0x1a4474ea90>,\n",
       " <tensorflow.python.keras.layers.core.Dense at 0x1a4474ea50>,\n",
       " <tensorflow.python.keras.layers.core.Dense at 0x10aec6490>,\n",
       " <tensorflow.python.keras.layers.merge.Concatenate at 0x1a4474ed10>,\n",
       " <tensorflow.python.keras.layers.core.Dense at 0x1a4474dad0>]"
      ]
     },
     "execution_count": 6,
     "metadata": {},
     "output_type": "execute_result"
    }
   ],
   "source": [
    "model.layers#查看模型层数"
   ]
  },
  {
   "cell_type": "code",
   "execution_count": 7,
   "metadata": {},
   "outputs": [
    {
     "name": "stdout",
     "output_type": "stream",
     "text": [
      "Model: \"model\"\n",
      "__________________________________________________________________________________________________\n",
      "Layer (type)                    Output Shape         Param #     Connected to                     \n",
      "==================================================================================================\n",
      "input_1 (InputLayer)            [(None, 8)]          0                                            \n",
      "__________________________________________________________________________________________________\n",
      "dense (Dense)                   (None, 30)           270         input_1[0][0]                    \n",
      "__________________________________________________________________________________________________\n",
      "dense_1 (Dense)                 (None, 30)           930         dense[0][0]                      \n",
      "__________________________________________________________________________________________________\n",
      "concatenate (Concatenate)       (None, 38)           0           input_1[0][0]                    \n",
      "                                                                 dense_1[0][0]                    \n",
      "__________________________________________________________________________________________________\n",
      "dense_2 (Dense)                 (None, 1)            39          concatenate[0][0]                \n",
      "==================================================================================================\n",
      "Total params: 1,239\n",
      "Trainable params: 1,239\n",
      "Non-trainable params: 0\n",
      "__________________________________________________________________________________________________\n"
     ]
    }
   ],
   "source": [
    "model.summary()#d 模型参数"
   ]
  },
  {
   "cell_type": "code",
   "execution_count": 8,
   "metadata": {},
   "outputs": [
    {
     "name": "stdout",
     "output_type": "stream",
     "text": [
      "Train on 11610 samples, validate on 3870 samples\n",
      "Epoch 1/100\n",
      "11610/11610 [==============================] - 6s 480us/sample - loss: 1.6821 - val_loss: 0.5889\n",
      "Epoch 2/100\n",
      "11610/11610 [==============================] - 2s 200us/sample - loss: 0.4853 - val_loss: 0.4457\n",
      "Epoch 3/100\n",
      "11610/11610 [==============================] - 2s 201us/sample - loss: 0.4013 - val_loss: 0.4069\n",
      "Epoch 4/100\n",
      "11610/11610 [==============================] - 2s 200us/sample - loss: 0.3833 - val_loss: 0.3899\n",
      "Epoch 5/100\n",
      "11610/11610 [==============================] - 2s 200us/sample - loss: 0.3751 - val_loss: 0.3798\n",
      "Epoch 6/100\n",
      "11610/11610 [==============================] - 2s 215us/sample - loss: 0.3603 - val_loss: 0.3878\n",
      "Epoch 7/100\n",
      "11610/11610 [==============================] - 2s 205us/sample - loss: 0.3530 - val_loss: 0.3754\n",
      "Epoch 8/100\n",
      "11610/11610 [==============================] - 2s 203us/sample - loss: 0.3603 - val_loss: 0.3987\n",
      "Epoch 9/100\n",
      "11610/11610 [==============================] - 2s 206us/sample - loss: 0.3446 - val_loss: 0.3582\n",
      "Epoch 10/100\n",
      "11610/11610 [==============================] - 2s 203us/sample - loss: 0.3515 - val_loss: 0.3573\n",
      "Epoch 11/100\n",
      "11610/11610 [==============================] - 2s 213us/sample - loss: 0.3356 - val_loss: 0.3444\n",
      "Epoch 12/100\n",
      "11610/11610 [==============================] - 2s 204us/sample - loss: 0.3201 - val_loss: 0.3354\n",
      "Epoch 13/100\n",
      "11610/11610 [==============================] - 2s 205us/sample - loss: 0.3162 - val_loss: 0.3274\n",
      "Epoch 14/100\n",
      "11610/11610 [==============================] - 2s 208us/sample - loss: 0.3137 - val_loss: 0.3276\n",
      "Epoch 15/100\n",
      "11610/11610 [==============================] - 2s 212us/sample - loss: 0.3265 - val_loss: 0.3266\n",
      "Epoch 16/100\n",
      "11610/11610 [==============================] - 2s 213us/sample - loss: 0.3162 - val_loss: 0.3313\n",
      "Epoch 17/100\n",
      "11610/11610 [==============================] - 2s 212us/sample - loss: 0.3263 - val_loss: 0.3430\n",
      "Epoch 18/100\n",
      "11610/11610 [==============================] - 2s 212us/sample - loss: 0.3343 - val_loss: 0.3417\n"
     ]
    }
   ],
   "source": [
    "callbacks = [keras.callbacks.EarlyStopping(patience=0,min_delta=1e-2)]\n",
    "history = model.fit(x_train_scaled,y_train,epochs=100,\n",
    "                   validation_data=(x_valid_scaled,y_valid),\n",
    "                   callbacks= callbacks \n",
    "                   )\n",
    "#validation_data:训练过程中在验证集验证"
   ]
  },
  {
   "cell_type": "code",
   "execution_count": 9,
   "metadata": {},
   "outputs": [
    {
     "data": {
      "image/png": "[encoded data removed]",
      "text/plain": [
       "<Figure size 576x360 with 1 Axes>"
      ]
     },
     "metadata": {
      "needs_background": "light"
     },
     "output_type": "display_data"
    }
   ],
   "source": [
    "def plot_learning_curves(history):\n",
    "    pd.DataFrame(history.history).plot(figsize=[8,5])\n",
    "    plt.grid(True)\n",
    "    plt.gca().set_ylim(0,1)\n",
    "    plt.show()\n",
    "\n",
    "plot_learning_curves(history)"
   ]
  },
  {
   "cell_type": "code",
   "execution_count": 20,
   "metadata": {},
   "outputs": [
    {
     "name": "stdout",
     "output_type": "stream",
     "text": [
      "5160/1 - 0s - loss: 0.4262\n"
     ]
    },
    {
     "data": {
      "text/plain": [
       "0.3358000552931497"
      ]
     },
     "execution_count": 20,
     "metadata": {},
     "output_type": "execute_result"
    }
   ],
   "source": [
    "\n",
    "model.evaluate(x_test_scaled, y_test, \n",
    "               verbose=2\n",
    "              )\n",
    "\n",
    "# print(\"Testing set Mean Abs Error: {:5.2f} MPG\".format(mae))"
   ]
  }
 ],
 "metadata": {
  "kernelspec": {
   "display_name": "Python 3.7.6 64-bit ('mytf': conda)",
   "language": "python",
   "name": "python37664bitmytfconda841baf2f843f47f398642a391af5d6cb"
  },
  "language_info": {
   "codemirror_mode": {
    "name": "ipython",
    "version": 3
   },
   "file_extension": ".py",
   "mimetype": "text/x-python",
   "name": "python",
   "nbconvert_exporter": "python",
   "pygments_lexer": "ipython3",
   "version": "3.7.6"
  }
 },
 "nbformat": 4,
 "nbformat_minor": 4
}
