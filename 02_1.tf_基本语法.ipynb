{
 "cells": [
  {
   "cell_type": "markdown",
   "metadata": {},
   "source": [
    "# 2-1,张量数据结构\n",
    "> 程序 = 数据结构+算法。\n",
    "\n",
    "> TensorFlow程序 = 张量数据结构 + 计算图算法语言\n",
    "\n",
    "> 张量和计算图是 TensorFlow的核心概念。\n",
    "\n",
    "> Tensorflow的基本数据结构是张量Tensor。张量即多维数组。Tensorflow的张量和numpy中的array很类似。\n",
    "\n",
    "> 从行为特性来看，有两种类型的张量，常量constant和变量Variable.\n",
    "\n",
    "> 常量的值在计算图中不可以被重新赋值，变量可以在计算图中用assign等算子重新赋值。"
   ]
  },
  {
   "cell_type": "code",
   "execution_count": 2,
   "metadata": {},
   "outputs": [],
   "source": [
    "import tensorflow as tf\n",
    "import numpy as np\n"
   ]
  },
  {
   "cell_type": "markdown",
   "metadata": {},
   "source": [
    "### 1.constant"
   ]
  },
  {
   "cell_type": "code",
   "execution_count": 5,
   "metadata": {},
   "outputs": [
    {
     "data": {
      "text/plain": [
       "<tf.Tensor: id=17, shape=(2, 3), dtype=float32, numpy=\n",
       "array([[1., 2., 3.],\n",
       "       [4., 5., 6.]], dtype=float32)>"
      ]
     },
     "metadata": {},
     "output_type": "display_data"
    },
    {
     "data": {
      "text/plain": [
       "<tf.Tensor: id=21, shape=(2, 2), dtype=float32, numpy=\n",
       "array([[2., 3.],\n",
       "       [5., 6.]], dtype=float32)>"
      ]
     },
     "metadata": {},
     "output_type": "display_data"
    },
    {
     "data": {
      "text/plain": [
       "<tf.Tensor: id=25, shape=(2,), dtype=float32, numpy=array([2., 5.], dtype=float32)>"
      ]
     },
     "metadata": {},
     "output_type": "display_data"
    },
    {
     "data": {
      "text/plain": [
       "<tf.Tensor: id=29, shape=(2,), dtype=float32, numpy=array([2., 5.], dtype=float32)>"
      ]
     },
     "metadata": {},
     "output_type": "display_data"
    }
   ],
   "source": [
    "t  = tf.constant([[1.,2.,3.,],[4.,5.,6.,]])\n",
    "display(t)\n",
    "display(t[:,1:])\n",
    "display(t[...,1])\n",
    "display(t[:,1])"
   ]
  },
  {
   "cell_type": "code",
   "execution_count": 11,
   "metadata": {},
   "outputs": [
    {
     "data": {
      "text/plain": [
       "<tf.Tensor: id=31, shape=(2, 3), dtype=float32, numpy=\n",
       "array([[11., 12., 13.],\n",
       "       [14., 15., 16.]], dtype=float32)>"
      ]
     },
     "metadata": {},
     "output_type": "display_data"
    },
    {
     "data": {
      "text/plain": [
       "<tf.Tensor: id=32, shape=(2, 3), dtype=float32, numpy=\n",
       "array([[ 1.,  4.,  9.],\n",
       "       [16., 25., 36.]], dtype=float32)>"
      ]
     },
     "metadata": {},
     "output_type": "display_data"
    },
    {
     "data": {
      "text/plain": [
       "<tf.Tensor: id=35, shape=(2, 2), dtype=float32, numpy=\n",
       "array([[14., 32.],\n",
       "       [32., 77.]], dtype=float32)>"
      ]
     },
     "metadata": {},
     "output_type": "display_data"
    }
   ],
   "source": [
    "# t  = tf.constant([[1.,2.,3.,],[4.,5.,6.,]])\n",
    "\n",
    "# 计算\n",
    "display(t+10)\n",
    "display(tf.square(t))\n",
    "display(t@tf.transpose(t))\n"
   ]
  },
  {
   "cell_type": "code",
   "execution_count": 6,
   "metadata": {},
   "outputs": [
    {
     "name": "stdout",
     "output_type": "stream",
     "text": [
      "[[1. 2. 3.]\n",
      " [4. 5. 6.]]\n",
      "[[ 1.  4.  9.]\n",
      " [16. 25. 36.]]\n",
      "tf.Tensor(\n",
      "[[1. 2. 3.]\n",
      " [4. 5. 6.]], shape=(2, 3), dtype=float64)\n"
     ]
    }
   ],
   "source": [
    "print(t.numpy())\n",
    "print(np.square(t))\n",
    "np_t = np.array([[1.,2.,3.,],[4.,5.,6.,]])\n",
    "print(tf.constant(np_t))"
   ]
  },
  {
   "cell_type": "code",
   "execution_count": 8,
   "metadata": {},
   "outputs": [
    {
     "name": "stdout",
     "output_type": "stream",
     "text": [
      "()\n",
      "tf.Tensor(2.434, shape=(), dtype=float32)\n",
      "2.434\n"
     ]
    }
   ],
   "source": [
    "#0dim,scalars\n",
    "t = tf.constant(2.434)\n",
    "print(t.shape)\n",
    "print(t)\n",
    "print(t.numpy())"
   ]
  },
  {
   "cell_type": "code",
   "execution_count": 14,
   "metadata": {},
   "outputs": [
    {
     "name": "stdout",
     "output_type": "stream",
     "text": [
      "tf.Tensor(b'hello everyone', shape=(), dtype=string)\n",
      "tf.Tensor(14, shape=(), dtype=int32)\n",
      "tf.Tensor(14, shape=(), dtype=int32)\n",
      "tf.Tensor([104 101 108 108 111  32 101 118 101 114 121 111 110 101], shape=(14,), dtype=int32)\n"
     ]
    }
   ],
   "source": [
    "#strings\n",
    "t = tf.constant('hello everyone')\n",
    "print(t)\n",
    "print(tf.strings.length(t))\n",
    "print(tf.strings.length(t,unit = 'UTF8_CHAR'))\n",
    "print(tf.strings.unicode_decode(t, 'UTF8'))\n",
    "\n"
   ]
  },
  {
   "cell_type": "code",
   "execution_count": 15,
   "metadata": {},
   "outputs": [
    {
     "name": "stdout",
     "output_type": "stream",
     "text": [
      "tf.Tensor([ 5 10  6  3], shape=(4,), dtype=int32)\n",
      "tf.Tensor([ 5 10  2  1], shape=(4,), dtype=int32)\n",
      "<tf.RaggedTensor [[104, 101, 108, 108, 111], [99, 111, 102, 102, 101, 101, 95, 99, 117, 112], [21654, 21857], [12290]]>\n"
     ]
    }
   ],
   "source": [
    "#strings array\n",
    "t = tf.constant(['hello','coffee_cup','咖啡','。'])\n",
    "print(tf.strings.length(t))\n",
    "print(tf.strings.length(t,unit = 'UTF8_CHAR'))\n",
    "print(tf.strings.unicode_decode(t, 'UTF8'))\n"
   ]
  },
  {
   "cell_type": "markdown",
   "metadata": {},
   "source": [
    "### RaggedTensor\n",
    "* to_tensor\n",
    "* to_sparse\n",
    "* to_dense"
   ]
  },
  {
   "cell_type": "code",
   "execution_count": 3,
   "metadata": {},
   "outputs": [
    {
     "name": "stdout",
     "output_type": "stream",
     "text": [
      "<tf.RaggedTensor [[104, 101, 108, 108, 111], [99, 111, 102, 102, 101, 101, 95, 99, 117, 112], [21654, 21857]]>\n",
      "tf.Tensor([ 99 111 102 102 101 101  95  99 117 112], shape=(10,), dtype=int32)\n",
      "<tf.RaggedTensor [[99, 111, 102, 102, 101, 101, 95, 99, 117, 112]]>\n"
     ]
    }
   ],
   "source": [
    "#RaggedTensor不规则的tensot\n",
    "r = tf.ragged.constant([[104, 101, 108, 108, 111], [99, 111, 102, 102, 101, 101, 95, 99, 117, 112], [21654, 21857]])\n",
    "print(r)\n",
    "print(r[1])\n",
    "print(r[1:2])\n"
   ]
  },
  {
   "cell_type": "code",
   "execution_count": 4,
   "metadata": {},
   "outputs": [
    {
     "name": "stdout",
     "output_type": "stream",
     "text": [
      "<tf.RaggedTensor [[104, 101, 108, 108, 111], [99, 111, 102, 102, 101, 101, 95, 99, 117, 112], [21654, 21857], [54, 45], [], [71]]>\n",
      "<tf.RaggedTensor [[104, 101, 108, 108, 111, 54, 45], [99, 111, 102, 102, 101, 101, 95, 99, 117, 112], [21654, 21857, 71]]>\n"
     ]
    }
   ],
   "source": [
    "# ops on ragede tensor\n",
    "r2=tf.ragged.constant([[54, 45,], [], [71]])\n",
    "print(tf.concat([r,r2], axis=0))\n",
    "print(tf.concat([r,r2], axis=1))"
   ]
  },
  {
   "cell_type": "code",
   "execution_count": 5,
   "metadata": {},
   "outputs": [
    {
     "data": {
      "text/plain": [
       "<tf.RaggedTensor [[104, 101, 108, 108, 111], [99, 111, 102, 102, 101, 101, 95, 99, 117, 112], [21654, 21857], [54, 45], [], [71]]>"
      ]
     },
     "execution_count": 5,
     "metadata": {},
     "output_type": "execute_result"
    }
   ],
   "source": [
    "r3 =   tf.concat([r, r2],axis = 0)\n",
    "r3"
   ]
  },
  {
   "cell_type": "code",
   "execution_count": 6,
   "metadata": {},
   "outputs": [
    {
     "name": "stdout",
     "output_type": "stream",
     "text": [
      "tf.Tensor(\n",
      "[[  104   101   108   108   111     0     0     0     0     0]\n",
      " [   99   111   102   102   101   101    95    99   117   112]\n",
      " [21654 21857     0     0     0     0     0     0     0     0]\n",
      " [   54    45     0     0     0     0     0     0     0     0]\n",
      " [    0     0     0     0     0     0     0     0     0     0]\n",
      " [   71     0     0     0     0     0     0     0     0     0]], shape=(6, 10), dtype=int32)\n"
     ]
    }
   ],
   "source": [
    "print(r3.to_tensor())#变为tensor空位用0补齐"
   ]
  },
  {
   "cell_type": "code",
   "execution_count": 7,
   "metadata": {},
   "outputs": [
    {
     "name": "stdout",
     "output_type": "stream",
     "text": [
      "SparseTensor(indices=tf.Tensor(\n",
      "[[0 0]\n",
      " [0 1]\n",
      " [0 2]\n",
      " [0 3]\n",
      " [0 4]\n",
      " [1 0]\n",
      " [1 1]\n",
      " [1 2]\n",
      " [1 3]\n",
      " [1 4]\n",
      " [1 5]\n",
      " [1 6]\n",
      " [1 7]\n",
      " [1 8]\n",
      " [1 9]\n",
      " [2 0]\n",
      " [2 1]\n",
      " [3 0]\n",
      " [3 1]\n",
      " [5 0]], shape=(20, 2), dtype=int64), values=tf.Tensor(\n",
      "[  104   101   108   108   111    99   111   102   102   101   101    95\n",
      "    99   117   112 21654 21857    54    45    71], shape=(20,), dtype=int32), dense_shape=tf.Tensor([ 6 10], shape=(2,), dtype=int64))\n"
     ]
    }
   ],
   "source": [
    "r4 = r3.to_sparse()\n",
    "print(r4)"
   ]
  },
  {
   "cell_type": "code",
   "execution_count": 8,
   "metadata": {},
   "outputs": [
    {
     "name": "stdout",
     "output_type": "stream",
     "text": [
      "tf.Tensor(\n",
      "[[  104   101   108   108   111     0     0     0     0     0]\n",
      " [   99   111   102   102   101   101    95    99   117   112]\n",
      " [21654 21857     0     0     0     0     0     0     0     0]\n",
      " [   54    45     0     0     0     0     0     0     0     0]\n",
      " [    0     0     0     0     0     0     0     0     0     0]\n",
      " [   71     0     0     0     0     0     0     0     0     0]], shape=(6, 10), dtype=int32)\n"
     ]
    }
   ],
   "source": [
    "print(tf.sparse.to_dense(r4))"
   ]
  },
  {
   "cell_type": "code",
   "execution_count": 10,
   "metadata": {},
   "outputs": [
    {
     "name": "stdout",
     "output_type": "stream",
     "text": [
      "SparseTensor(indices=tf.Tensor(\n",
      "[[0 1]\n",
      " [1 0]\n",
      " [2 3]], shape=(3, 2), dtype=int64), values=tf.Tensor([1. 2. 3.], shape=(3,), dtype=float32), dense_shape=tf.Tensor([3 4], shape=(2,), dtype=int64))\n",
      "tf.Tensor(\n",
      "[[0. 1. 0. 0.]\n",
      " [2. 0. 0. 0.]\n",
      " [0. 0. 0. 3.]], shape=(3, 4), dtype=float32)\n"
     ]
    }
   ],
   "source": [
    "#sparse tensor稀疏   dense是密集的意思\n",
    "s = tf.SparseTensor(indices=[[0,1],[1,0],[2,3]],#位置index必须是排好续的\n",
    "                    values = [1.,2.,3.,],\n",
    "                    dense_shape = [3,4]\n",
    "                   )\n",
    "print(s)\n",
    "print(tf.sparse.to_dense(s))#转化为密集矩阵"
   ]
  },
  {
   "cell_type": "markdown",
   "metadata": {},
   "source": [
    "### ops on sparse tensor\n",
    "* sparse_dense_matmul  稀疏_密集_矩阵乘法\n",
    "* tf.sparse.reorder(s5)#对sparsetensor排序"
   ]
  },
  {
   "cell_type": "code",
   "execution_count": 11,
   "metadata": {},
   "outputs": [
    {
     "name": "stdout",
     "output_type": "stream",
     "text": [
      "SparseTensor(indices=tf.Tensor(\n",
      "[[0 1]\n",
      " [1 0]\n",
      " [2 3]], shape=(3, 2), dtype=int64), values=tf.Tensor([2. 4. 6.], shape=(3,), dtype=float32), dense_shape=tf.Tensor([3 4], shape=(2,), dtype=int64))\n",
      "<class 'TypeError'>\n",
      "tf.Tensor(\n",
      "[[ 30.  40.]\n",
      " [ 20.  40.]\n",
      " [210. 240.]], shape=(3, 2), dtype=float32)\n"
     ]
    }
   ],
   "source": [
    "# ops on sparse tensor\n",
    "s2 = s *2.0\n",
    "print(s2)\n",
    "try:\n",
    "    s3 = s+1\n",
    "except TypeError as ex:\n",
    "    print(TypeError)\n",
    "s4 = tf.constant([[10.,20.],\n",
    "                          [30.,40.],\n",
    "                          [50,60],\n",
    "                          [70,80]])\n",
    "print(tf.sparse.sparse_dense_matmul(s,s4))#稀疏_密集_矩阵乘法"
   ]
  },
  {
   "cell_type": "code",
   "execution_count": 46,
   "metadata": {},
   "outputs": [
    {
     "name": "stdout",
     "output_type": "stream",
     "text": [
      "SparseTensor(indices=tf.Tensor(\n",
      "[[1 0]\n",
      " [0 1]\n",
      " [2 3]], shape=(3, 2), dtype=int64), values=tf.Tensor([1. 2. 3.], shape=(3,), dtype=float32), dense_shape=tf.Tensor([3 4], shape=(2,), dtype=int64))\n",
      "tf.Tensor(\n",
      "[[0. 2. 0. 0.]\n",
      " [1. 0. 0. 0.]\n",
      " [0. 0. 0. 3.]], shape=(3, 4), dtype=float32)\n"
     ]
    }
   ],
   "source": [
    "#sparse tensor稀疏   dense是密集的意思\n",
    "s5 = tf.SparseTensor(indices=[[1,0],[0,1],[2,3]],#sparse.to_dense,sparse位置index必须是排好序的,\n",
    "                    values = [1.,2.,3.,],\n",
    "                    dense_shape = [3,4]\n",
    "                   )\n",
    "print(s)\n",
    "s6 = tf.sparse.reorder(s5)#对sparsetensor排序\n",
    "print(tf.sparse.to_dense(s6))#转化为密集矩阵"
   ]
  },
  {
   "cell_type": "markdown",
   "metadata": {},
   "source": [
    "# variable 变量\n",
    "## assign value给变量重新赋值，只可以用assign函数，不可以用‘=’赋值"
   ]
  },
  {
   "cell_type": "code",
   "execution_count": 13,
   "metadata": {},
   "outputs": [
    {
     "name": "stdout",
     "output_type": "stream",
     "text": [
      "<tf.Variable 'Variable:0' shape=(2, 3) dtype=float32, numpy=\n",
      "array([[1., 2., 3.],\n",
      "       [4., 5., 6.]], dtype=float32)>\n",
      "<bound method BaseResourceVariable.value of <tf.Variable 'Variable:0' shape=(2, 3) dtype=float32, numpy=\n",
      "array([[1., 2., 3.],\n",
      "       [4., 5., 6.]], dtype=float32)>>\n",
      "[[1. 2. 3.]\n",
      " [4. 5. 6.]]\n"
     ]
    }
   ],
   "source": [
    "# variable 变量\n",
    "v= tf.Variable([[1.,2.,3.,],[4.,5.,6.,]])\n",
    "print(v)\n",
    "print(v.value)\n",
    "print(v.numpy())"
   ]
  },
  {
   "cell_type": "code",
   "execution_count": 19,
   "metadata": {},
   "outputs": [
    {
     "name": "stdout",
     "output_type": "stream",
     "text": [
      "<tf.Variable 'Variable:0' shape=(2, 3) dtype=float32, numpy=\n",
      "array([[ 64.,  84., 192.],\n",
      "       [ 14.,  16.,  18.]], dtype=float32)>\n",
      "<tf.Variable 'Variable:0' shape=(2, 3) dtype=float32, numpy=\n",
      "array([[ 64.,  42., 192.],\n",
      "       [ 14.,  16.,  18.]], dtype=float32)>\n",
      "<tf.Variable 'Variable:0' shape=(2, 3) dtype=float32, numpy=\n",
      "array([[ 64.,  42., 192.],\n",
      "       [  7.,   8.,   9.]], dtype=float32)>\n",
      "<tf.Variable 'Variable:0' shape=(2, 3) dtype=float32, numpy=\n",
      "array([[ 71.,  50., 201.],\n",
      "       [  8.,  10.,  12.]], dtype=float32)>\n"
     ]
    }
   ],
   "source": [
    "# assign value给变量重新赋值，只可以用assign函数，不可以用‘=’赋值\n",
    "v.assign(2*v)\n",
    "print(v)\n",
    "v[0,1].assign(42)\n",
    "print(v)\n",
    "v[1].assign([7.,8.,9.])\n",
    "print(v)\n",
    "\n",
    "v.assign_add([[7.,8.,9.],[1,2,3]])\n",
    "print(v)"
   ]
  },
  {
   "cell_type": "code",
   "execution_count": null,
   "metadata": {},
   "outputs": [],
   "source": []
  }
 ],
 "metadata": {
  "kernelspec": {
   "display_name": "Python 3",
   "language": "python",
   "name": "python3"
  },
  "language_info": {
   "codemirror_mode": {
    "name": "ipython",
    "version": 3
   },
   "file_extension": ".py",
   "mimetype": "text/x-python",
   "name": "python",
   "nbconvert_exporter": "python",
   "pygments_lexer": "ipython3",
   "version": "3.7.6"
  }
 },
 "nbformat": 4,
 "nbformat_minor": 4
}
