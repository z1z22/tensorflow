{
 "cells": [
  {
   "cell_type": "code",
   "execution_count": 1,
   "metadata": {},
   "outputs": [],
   "source": [
    "import tensorflow as tf\n",
    "import numpy as np\n"
   ]
  },
  {
   "cell_type": "code",
   "execution_count": 2,
   "metadata": {},
   "outputs": [
    {
     "data": {
      "text/plain": [
       "<tf.Tensor: id=0, shape=(2, 3), dtype=float32, numpy=\n",
       "array([[1., 2., 3.],\n",
       "       [4., 5., 6.]], dtype=float32)>"
      ]
     },
     "metadata": {},
     "output_type": "display_data"
    },
    {
     "data": {
      "text/plain": [
       "<tf.Tensor: id=4, shape=(2, 2), dtype=float32, numpy=\n",
       "array([[2., 3.],\n",
       "       [5., 6.]], dtype=float32)>"
      ]
     },
     "metadata": {},
     "output_type": "display_data"
    },
    {
     "data": {
      "text/plain": [
       "<tf.Tensor: id=8, shape=(2,), dtype=float32, numpy=array([2., 5.], dtype=float32)>"
      ]
     },
     "metadata": {},
     "output_type": "display_data"
    }
   ],
   "source": [
    "t  = tf.constant([[1.,2.,3.,],[4.,5.,6.,]])\n",
    "display(t)\n",
    "display(t[:,1:])\n",
    "display(t[...,1])"
   ]
  },
  {
   "cell_type": "code",
   "execution_count": 3,
   "metadata": {},
   "outputs": [
    {
     "data": {
      "text/plain": [
       "<tf.Tensor: id=11, shape=(2, 3), dtype=float32, numpy=\n",
       "array([[11., 12., 13.],\n",
       "       [14., 15., 16.]], dtype=float32)>"
      ]
     },
     "metadata": {},
     "output_type": "display_data"
    },
    {
     "data": {
      "text/plain": [
       "<tf.Tensor: id=12, shape=(2, 3), dtype=float32, numpy=\n",
       "array([[ 1.,  4.,  9.],\n",
       "       [16., 25., 36.]], dtype=float32)>"
      ]
     },
     "metadata": {},
     "output_type": "display_data"
    },
    {
     "data": {
      "text/plain": [
       "<tf.Tensor: id=15, shape=(2, 2), dtype=float32, numpy=\n",
       "array([[14., 32.],\n",
       "       [32., 77.]], dtype=float32)>"
      ]
     },
     "metadata": {},
     "output_type": "display_data"
    }
   ],
   "source": [
    "t  = tf.constant([[1.,2.,3.,],[4.,5.,6.,]])\n",
    "\n",
    "# 计算\n",
    "display(t+10)\n",
    "display(tf.square(t))\n",
    "display(t@tf.transpose(t))\n"
   ]
  },
  {
   "cell_type": "code",
   "execution_count": 6,
   "metadata": {},
   "outputs": [
    {
     "name": "stdout",
     "output_type": "stream",
     "text": [
      "[[1. 2. 3.]\n",
      " [4. 5. 6.]]\n",
      "[[ 1.  4.  9.]\n",
      " [16. 25. 36.]]\n",
      "tf.Tensor(\n",
      "[[1. 2. 3.]\n",
      " [4. 5. 6.]], shape=(2, 3), dtype=float64)\n"
     ]
    }
   ],
   "source": [
    "print(t.numpy())\n",
    "print(np.square(t))\n",
    "np_t = np.array([[1.,2.,3.,],[4.,5.,6.,]])\n",
    "print(tf.constant(np_t))"
   ]
  },
  {
   "cell_type": "code",
   "execution_count": 8,
   "metadata": {},
   "outputs": [
    {
     "name": "stdout",
     "output_type": "stream",
     "text": [
      "()\n",
      "tf.Tensor(2.434, shape=(), dtype=float32)\n",
      "2.434\n"
     ]
    }
   ],
   "source": [
    "#0dim,scalars\n",
    "t = tf.constant(2.434)\n",
    "print(t.shape)\n",
    "print(t)\n",
    "print(t.numpy())"
   ]
  },
  {
   "cell_type": "code",
   "execution_count": 13,
   "metadata": {},
   "outputs": [
    {
     "name": "stdout",
     "output_type": "stream",
     "text": [
      "tf.Tensor(b'hello everyone', shape=(), dtype=string)\n",
      "tf.Tensor(14, shape=(), dtype=int32)\n",
      "tf.Tensor(14, shape=(), dtype=int32)\n",
      "tf.Tensor([104 101 108 108 111  32 101 118 101 114 121 111 110 101], shape=(14,), dtype=int32)\n"
     ]
    }
   ],
   "source": [
    "#strings\n",
    "t = tf.constant('hello everyone')\n",
    "print(t)\n",
    "print(tf.strings.length(t))\n",
    "print(tf.strings.length(t,unit = 'UTF8_CHAR'))\n",
    "print(tf.strings.unicode_decode(t, 'UTF8'))\n",
    "\n"
   ]
  },
  {
   "cell_type": "code",
   "execution_count": 19,
   "metadata": {},
   "outputs": [
    {
     "name": "stdout",
     "output_type": "stream",
     "text": [
      "tf.Tensor([ 5 10  6], shape=(3,), dtype=int32)\n",
      "tf.Tensor([ 5 10  2], shape=(3,), dtype=int32)\n",
      "<tf.RaggedTensor [[104, 101, 108, 108, 111], [99, 111, 102, 102, 101, 101, 95, 99, 117, 112], [21654, 21857]]>\n"
     ]
    }
   ],
   "source": [
    "#strings array\n",
    "t = tf.constant(['hello','coffee_cup','咖啡'])\n",
    "print(tf.strings.length(t))\n",
    "print(tf.strings.length(t,unit = 'UTF8_CHAR'))\n",
    "print(tf.strings.unicode_decode(t, 'UTF8'))\n"
   ]
  },
  {
   "cell_type": "code",
   "execution_count": 20,
   "metadata": {},
   "outputs": [
    {
     "name": "stdout",
     "output_type": "stream",
     "text": [
      "<tf.RaggedTensor [[104, 101, 108, 108, 111], [99, 111, 102, 102, 101, 101, 95, 99, 117, 112], [21654, 21857]]>\n",
      "tf.Tensor([ 99 111 102 102 101 101  95  99 117 112], shape=(10,), dtype=int32)\n",
      "<tf.RaggedTensor [[99, 111, 102, 102, 101, 101, 95, 99, 117, 112]]>\n"
     ]
    }
   ],
   "source": [
    "#RaggedTensor不规则的tensot\n",
    "r = tf.ragged.constant([[104, 101, 108, 108, 111], [99, 111, 102, 102, 101, 101, 95, 99, 117, 112], [21654, 21857]])\n",
    "print(r)\n",
    "print(r[1])\n",
    "print(r[1:2])\n"
   ]
  },
  {
   "cell_type": "code",
   "execution_count": 26,
   "metadata": {},
   "outputs": [
    {
     "name": "stdout",
     "output_type": "stream",
     "text": [
      "<tf.RaggedTensor [[104, 101, 108, 108, 111], [99, 111, 102, 102, 101, 101, 95, 99, 117, 112], [21654, 21857], [54, 45], [], [71]]>\n",
      "<tf.RaggedTensor [[104, 101, 108, 108, 111, 54, 45], [99, 111, 102, 102, 101, 101, 95, 99, 117, 112], [21654, 21857, 71]]>\n"
     ]
    }
   ],
   "source": [
    "# ops on ragede tensor\n",
    "r2=tf.ragged.constant([[54, 45,], [], [71]])\n",
    "print(tf.concat([r,r2], axis=0))\n",
    "print(tf.concat([r,r2], axis=1))"
   ]
  },
  {
   "cell_type": "code",
   "execution_count": 33,
   "metadata": {},
   "outputs": [
    {
     "name": "stdout",
     "output_type": "stream",
     "text": [
      "tf.Tensor(\n",
      "[[  104   101   108   108   111     0     0     0     0     0]\n",
      " [   99   111   102   102   101   101    95    99   117   112]\n",
      " [21654 21857     0     0     0     0     0     0     0     0]], shape=(3, 10), dtype=int32)\n"
     ]
    }
   ],
   "source": [
    "print(r.to_tensor())#变为tensor空位用0补齐"
   ]
  },
  {
   "cell_type": "code",
   "execution_count": 39,
   "metadata": {},
   "outputs": [
    {
     "name": "stdout",
     "output_type": "stream",
     "text": [
      "SparseTensor(indices=tf.Tensor(\n",
      "[[0 1]\n",
      " [1 0]\n",
      " [2 3]], shape=(3, 2), dtype=int64), values=tf.Tensor([1. 2. 3.], shape=(3,), dtype=float32), dense_shape=tf.Tensor([3 4], shape=(2,), dtype=int64))\n",
      "tf.Tensor(\n",
      "[[0. 1. 0. 0.]\n",
      " [2. 0. 0. 0.]\n",
      " [0. 0. 0. 3.]], shape=(3, 4), dtype=float32)\n"
     ]
    }
   ],
   "source": [
    "#sparse tensor稀疏   dense是密集的意思\n",
    "s = tf.SparseTensor(indices=[[0,1],[1,0],[2,3]],#位置index必须是排号续的\n",
    "                    values = [1.,2.,3.,],\n",
    "                    dense_shape = [3,4]\n",
    "                   )\n",
    "print(s)\n",
    "print(tf.sparse.to_dense(s))#转化为密集矩阵"
   ]
  },
  {
   "cell_type": "code",
   "execution_count": 42,
   "metadata": {},
   "outputs": [
    {
     "name": "stdout",
     "output_type": "stream",
     "text": [
      "SparseTensor(indices=tf.Tensor(\n",
      "[[0 1]\n",
      " [1 0]\n",
      " [2 3]], shape=(3, 2), dtype=int64), values=tf.Tensor([2. 4. 6.], shape=(3,), dtype=float32), dense_shape=tf.Tensor([3 4], shape=(2,), dtype=int64))\n",
      "<class 'TypeError'>\n",
      "tf.Tensor(\n",
      "[[ 30.  40.]\n",
      " [ 20.  40.]\n",
      " [210. 240.]], shape=(3, 2), dtype=float32)\n"
     ]
    }
   ],
   "source": [
    "# ops on sparse tensor\n",
    "s2 = s *2.0\n",
    "print(s2)\n",
    "try:\n",
    "    s3 = s+1\n",
    "except TypeError as ex:\n",
    "    print(TypeError)\n",
    "s4 = tf.constant([[10.,20.],\n",
    "                          [30.,40.],\n",
    "                          [50,60],\n",
    "                          [70,80]])\n",
    "print(tf.sparse.sparse_dense_matmul(s,s4))#稀疏_密集_矩阵乘法"
   ]
  },
  {
   "cell_type": "code",
   "execution_count": 46,
   "metadata": {},
   "outputs": [
    {
     "name": "stdout",
     "output_type": "stream",
     "text": [
      "SparseTensor(indices=tf.Tensor(\n",
      "[[1 0]\n",
      " [0 1]\n",
      " [2 3]], shape=(3, 2), dtype=int64), values=tf.Tensor([1. 2. 3.], shape=(3,), dtype=float32), dense_shape=tf.Tensor([3 4], shape=(2,), dtype=int64))\n",
      "tf.Tensor(\n",
      "[[0. 2. 0. 0.]\n",
      " [1. 0. 0. 0.]\n",
      " [0. 0. 0. 3.]], shape=(3, 4), dtype=float32)\n"
     ]
    }
   ],
   "source": [
    "#sparse tensor稀疏   dense是密集的意思\n",
    "s5 = tf.SparseTensor(indices=[[1,0],[0,1],[2,3]],#位置index必须是排好续的,\n",
    "                    values = [1.,2.,3.,],\n",
    "                    dense_shape = [3,4]\n",
    "                   )\n",
    "print(s)\n",
    "s6 = tf.sparse.reorder(s5)#对sparsetensor排序\n",
    "print(tf.sparse.to_dense(s6))#转化为密集矩阵"
   ]
  },
  {
   "cell_type": "code",
   "execution_count": 47,
   "metadata": {},
   "outputs": [
    {
     "name": "stdout",
     "output_type": "stream",
     "text": [
      "<tf.Variable 'Variable:0' shape=(2, 3) dtype=float32, numpy=\n",
      "array([[1., 2., 3.],\n",
      "       [4., 5., 6.]], dtype=float32)>\n",
      "<bound method BaseResourceVariable.value of <tf.Variable 'Variable:0' shape=(2, 3) dtype=float32, numpy=\n",
      "array([[1., 2., 3.],\n",
      "       [4., 5., 6.]], dtype=float32)>>\n",
      "[[1. 2. 3.]\n",
      " [4. 5. 6.]]\n"
     ]
    }
   ],
   "source": [
    "# variabies变量\n",
    "v= tf.Variable([[1.,2.,3.,],[4.,5.,6.,]])\n",
    "print(v)\n",
    "print(v.value)\n",
    "print(v.numpy())"
   ]
  },
  {
   "cell_type": "code",
   "execution_count": 55,
   "metadata": {},
   "outputs": [
    {
     "name": "stdout",
     "output_type": "stream",
     "text": [
      "<tf.Variable 'Variable:0' shape=(2, 3) dtype=float32, numpy=\n",
      "array([[ 8., 84., 24.],\n",
      "       [32., 40., 48.]], dtype=float32)>\n",
      "<tf.Variable 'Variable:0' shape=(2, 3) dtype=float32, numpy=\n",
      "array([[ 8., 42., 24.],\n",
      "       [32., 40., 48.]], dtype=float32)>\n",
      "<tf.Variable 'Variable:0' shape=(2, 3) dtype=float32, numpy=\n",
      "array([[ 8., 42., 24.],\n",
      "       [ 7.,  8.,  9.]], dtype=float32)>\n"
     ]
    }
   ],
   "source": [
    "# assign value给变量重新赋值，只可以用assign函数，不可以用‘=’赋值\n",
    "v.assign(2*v)\n",
    "print(v)\n",
    "v[0,1].assign(42)\n",
    "print(v)\n",
    "v[1].assign([7.,8.,9.])\n",
    "print(v)"
   ]
  },
  {
   "cell_type": "code",
   "execution_count": null,
   "metadata": {},
   "outputs": [],
   "source": []
  }
 ],
 "metadata": {
  "kernelspec": {
   "display_name": "Python 3",
   "language": "python",
   "name": "python3"
  },
  "language_info": {
   "codemirror_mode": {
    "name": "ipython",
    "version": 3
   },
   "file_extension": ".py",
   "mimetype": "text/x-python",
   "name": "python",
   "nbconvert_exporter": "python",
   "pygments_lexer": "ipython3",
   "version": "3.7.6"
  }
 },
 "nbformat": 4,
 "nbformat_minor": 4
}
