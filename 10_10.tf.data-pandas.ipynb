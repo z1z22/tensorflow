{
 "cells": [
  {
   "cell_type": "code",
   "execution_count": 1,
   "metadata": {},
   "outputs": [],
   "source": [
    "import pandas as pd\n",
    "import tensorflow as tf"
   ]
  },
  {
   "cell_type": "code",
   "execution_count": 2,
   "metadata": {},
   "outputs": [],
   "source": [
    "# csv_file = tf.keras.utils.get_file('heart.csv', 'https://storage.googleapis.com/applied-dl/heart.csv')\n",
    "csv_file = '/users/mac/.keras/datasets/heart.csv'"
   ]
  },
  {
   "cell_type": "code",
   "execution_count": 3,
   "metadata": {},
   "outputs": [],
   "source": [
    "df = pd.read_csv(csv_file)"
   ]
  },
  {
   "cell_type": "code",
   "execution_count": 4,
   "metadata": {},
   "outputs": [
    {
     "data": {
      "text/html": [
       "<div>\n",
       "<style scoped>\n",
       "    .dataframe tbody tr th:only-of-type {\n",
       "        vertical-align: middle;\n",
       "    }\n",
       "\n",
       "    .dataframe tbody tr th {\n",
       "        vertical-align: top;\n",
       "    }\n",
       "\n",
       "    .dataframe thead th {\n",
       "        text-align: right;\n",
       "    }\n",
       "</style>\n",
       "<table border=\"1\" class=\"dataframe\">\n",
       "  <thead>\n",
       "    <tr style=\"text-align: right;\">\n",
       "      <th></th>\n",
       "      <th>age</th>\n",
       "      <th>sex</th>\n",
       "      <th>cp</th>\n",
       "      <th>trestbps</th>\n",
       "      <th>chol</th>\n",
       "      <th>fbs</th>\n",
       "      <th>restecg</th>\n",
       "      <th>thalach</th>\n",
       "      <th>exang</th>\n",
       "      <th>oldpeak</th>\n",
       "      <th>slope</th>\n",
       "      <th>ca</th>\n",
       "      <th>thal</th>\n",
       "      <th>target</th>\n",
       "    </tr>\n",
       "  </thead>\n",
       "  <tbody>\n",
       "    <tr>\n",
       "      <th>0</th>\n",
       "      <td>63</td>\n",
       "      <td>1</td>\n",
       "      <td>1</td>\n",
       "      <td>145</td>\n",
       "      <td>233</td>\n",
       "      <td>1</td>\n",
       "      <td>2</td>\n",
       "      <td>150</td>\n",
       "      <td>0</td>\n",
       "      <td>2.3</td>\n",
       "      <td>3</td>\n",
       "      <td>0</td>\n",
       "      <td>fixed</td>\n",
       "      <td>0</td>\n",
       "    </tr>\n",
       "    <tr>\n",
       "      <th>1</th>\n",
       "      <td>67</td>\n",
       "      <td>1</td>\n",
       "      <td>4</td>\n",
       "      <td>160</td>\n",
       "      <td>286</td>\n",
       "      <td>0</td>\n",
       "      <td>2</td>\n",
       "      <td>108</td>\n",
       "      <td>1</td>\n",
       "      <td>1.5</td>\n",
       "      <td>2</td>\n",
       "      <td>3</td>\n",
       "      <td>normal</td>\n",
       "      <td>1</td>\n",
       "    </tr>\n",
       "    <tr>\n",
       "      <th>2</th>\n",
       "      <td>67</td>\n",
       "      <td>1</td>\n",
       "      <td>4</td>\n",
       "      <td>120</td>\n",
       "      <td>229</td>\n",
       "      <td>0</td>\n",
       "      <td>2</td>\n",
       "      <td>129</td>\n",
       "      <td>1</td>\n",
       "      <td>2.6</td>\n",
       "      <td>2</td>\n",
       "      <td>2</td>\n",
       "      <td>reversible</td>\n",
       "      <td>0</td>\n",
       "    </tr>\n",
       "    <tr>\n",
       "      <th>3</th>\n",
       "      <td>37</td>\n",
       "      <td>1</td>\n",
       "      <td>3</td>\n",
       "      <td>130</td>\n",
       "      <td>250</td>\n",
       "      <td>0</td>\n",
       "      <td>0</td>\n",
       "      <td>187</td>\n",
       "      <td>0</td>\n",
       "      <td>3.5</td>\n",
       "      <td>3</td>\n",
       "      <td>0</td>\n",
       "      <td>normal</td>\n",
       "      <td>0</td>\n",
       "    </tr>\n",
       "    <tr>\n",
       "      <th>4</th>\n",
       "      <td>41</td>\n",
       "      <td>0</td>\n",
       "      <td>2</td>\n",
       "      <td>130</td>\n",
       "      <td>204</td>\n",
       "      <td>0</td>\n",
       "      <td>2</td>\n",
       "      <td>172</td>\n",
       "      <td>0</td>\n",
       "      <td>1.4</td>\n",
       "      <td>1</td>\n",
       "      <td>0</td>\n",
       "      <td>normal</td>\n",
       "      <td>0</td>\n",
       "    </tr>\n",
       "  </tbody>\n",
       "</table>\n",
       "</div>"
      ],
      "text/plain": [
       "   age  sex  cp  trestbps  chol  fbs  restecg  thalach  exang  oldpeak  slope  \\\n",
       "0   63    1   1       145   233    1        2      150      0      2.3      3   \n",
       "1   67    1   4       160   286    0        2      108      1      1.5      2   \n",
       "2   67    1   4       120   229    0        2      129      1      2.6      2   \n",
       "3   37    1   3       130   250    0        0      187      0      3.5      3   \n",
       "4   41    0   2       130   204    0        2      172      0      1.4      1   \n",
       "\n",
       "   ca        thal  target  \n",
       "0   0       fixed       0  \n",
       "1   3      normal       1  \n",
       "2   2  reversible       0  \n",
       "3   0      normal       0  \n",
       "4   0      normal       0  "
      ]
     },
     "execution_count": 4,
     "metadata": {},
     "output_type": "execute_result"
    }
   ],
   "source": [
    "df.head()"
   ]
  },
  {
   "cell_type": "code",
   "execution_count": 5,
   "metadata": {},
   "outputs": [
    {
     "data": {
      "text/plain": [
       "age           int64\n",
       "sex           int64\n",
       "cp            int64\n",
       "trestbps      int64\n",
       "chol          int64\n",
       "fbs           int64\n",
       "restecg       int64\n",
       "thalach       int64\n",
       "exang         int64\n",
       "oldpeak     float64\n",
       "slope         int64\n",
       "ca            int64\n",
       "thal         object\n",
       "target        int64\n",
       "dtype: object"
      ]
     },
     "execution_count": 5,
     "metadata": {},
     "output_type": "execute_result"
    }
   ],
   "source": [
    "df.dtypes"
   ]
  },
  {
   "cell_type": "code",
   "execution_count": null,
   "metadata": {},
   "outputs": [],
   "source": [
    "# 将 thal 列（数据帧（dataframe）中的 object ）转换为离散数值。\n",
    "df['thal'] = pd.Categorical(df['thal'])\n",
    "# categorical  是计算一个列表型数据中的类别数，即不重复项，它返回的是一个CategoricalDtype 类型的对象\n",
    "df['thal'] = df.thal.cat.codes#pandas.Series.cat.codes返回代码序列以及索引。\n",
    "df['thal'] "
   ]
  },
  {
   "cell_type": "code",
   "execution_count": 6,
   "metadata": {},
   "outputs": [
    {
     "data": {
      "text/plain": [
       "0      0\n",
       "1      1\n",
       "2      2\n",
       "3      1\n",
       "4      1\n",
       "      ..\n",
       "298    0\n",
       "299    2\n",
       "300    2\n",
       "301    2\n",
       "302    2\n",
       "Name: thal, Length: 303, dtype: int64"
      ]
     },
     "execution_count": 6,
     "metadata": {},
     "output_type": "execute_result"
    }
   ],
   "source": [
    "# 或者用pd.factorize将离散字符编码\n",
    "aaa = pd.factorize(df['thal'])\n",
    "df['thal'] = aaa[0]\n",
    "df['thal']"
   ]
  },
  {
   "cell_type": "code",
   "execution_count": null,
   "metadata": {},
   "outputs": [],
   "source": [
    "# 对数据进行one_hot编码pd.get_dummies\n",
    "pd.get_dummies(df['thal'])\n"
   ]
  },
  {
   "cell_type": "markdown",
   "metadata": {},
   "source": [
    "## 使用 tf.data.Dataset 读取数据\n",
    "## 使用 tf.data.Dataset.from_tensor_slices 从 pandas dataframe 中读取数值。\n",
    "\n",
    "## 使用 tf.data.Dataset 的其中一个优势是可以允许您写一些简单而又高效的数据管道（data pipelines)。从 loading data guide 可以了解更多。"
   ]
  },
  {
   "cell_type": "code",
   "execution_count": 7,
   "metadata": {},
   "outputs": [],
   "source": [
    "target = df.pop('target')\n",
    "dataset = tf.data.Dataset.from_tensor_slices((df.values, target.values))"
   ]
  },
  {
   "cell_type": "code",
   "execution_count": 8,
   "metadata": {},
   "outputs": [
    {
     "name": "stdout",
     "output_type": "stream",
     "text": [
      "Features: [ 63.    1.    1.  145.  233.    1.    2.  150.    0.    2.3   3.    0.\n",
      "   0. ], Target: 0\n",
      "Features: [ 67.    1.    4.  160.  286.    0.    2.  108.    1.    1.5   2.    3.\n",
      "   1. ], Target: 1\n",
      "Features: [ 67.    1.    4.  120.  229.    0.    2.  129.    1.    2.6   2.    2.\n",
      "   2. ], Target: 0\n",
      "Features: [ 37.    1.    3.  130.  250.    0.    0.  187.    0.    3.5   3.    0.\n",
      "   1. ], Target: 0\n",
      "Features: [ 41.    0.    2.  130.  204.    0.    2.  172.    0.    1.4   1.    0.\n",
      "   1. ], Target: 0\n"
     ]
    }
   ],
   "source": [
    "for feat, targ in dataset.take(5):\n",
    "  print ('Features: {}, Target: {}'.format(feat, targ))"
   ]
  },
  {
   "cell_type": "markdown",
   "metadata": {},
   "source": [
    "## 由于 pd.Series 实现了 __array__ 协议，因此几乎可以在任何使用 np.array 或 tf.Tensor 的地方透明地使用它。"
   ]
  },
  {
   "cell_type": "code",
   "execution_count": 9,
   "metadata": {},
   "outputs": [
    {
     "data": {
      "text/plain": [
       "<tf.Tensor: id=21, shape=(303,), dtype=int32, numpy=\n",
       "array([0, 1, 2, 1, 1, 1, 1, 1, 2, 2, 0, 1, 0, 2, 2, 1, 2, 1, 1, 1, 1, 1,\n",
       "       1, 2, 2, 1, 1, 1, 1, 2, 1, 2, 1, 2, 1, 1, 2, 0, 2, 1, 2, 1, 2, 2,\n",
       "       0, 1, 1, 2, 1, 1, 2, 1, 1, 1, 2, 1, 1, 1, 1, 1, 1, 2, 2, 1, 1, 2,\n",
       "       2, 0, 1, 1, 2, 1, 2, 1, 1, 2, 2, 1, 1, 2, 2, 1, 1, 1, 1, 2, 2, 2,\n",
       "       1, 1, 2, 1, 2, 2, 1, 2, 1, 1, 1, 2, 1, 2, 2, 1, 1, 2, 2, 2, 2, 2,\n",
       "       1, 1, 1, 1, 2, 1, 2, 1, 2, 2, 1, 1, 0, 2, 2, 0, 1, 1, 2, 2, 1, 2,\n",
       "       1, 1, 2, 0, 2, 2, 1, 2, 1, 1, 1, 1, 1, 1, 1, 1, 1, 2, 2, 2, 2, 2,\n",
       "       2, 1, 1, 1, 2, 1, 2, 1, 2, 1, 1, 1, 1, 1, 1, 1, 2, 1, 1, 1, 1, 1,\n",
       "       1, 1, 1, 1, 1, 1, 1, 2, 2, 1, 1, 1, 1, 1, 1, 1, 1, 2, 1, 2, 1, 0,\n",
       "       2, 2, 1, 1, 1, 1, 1, 1, 2, 1, 1, 1, 1, 1, 0, 0, 2, 1, 2, 0, 2, 1,\n",
       "       1, 2, 1, 1, 1, 1, 2, 1, 2, 1, 2, 0, 0, 2, 1, 2, 1, 0, 2, 1, 1, 0,\n",
       "       2, 2, 2, 2, 1, 3, 1, 1, 1, 1, 4, 2, 1, 1, 1, 2, 1, 2, 1, 1, 1, 2,\n",
       "       1, 1, 2, 2, 2, 2, 1, 1, 2, 1, 2, 1, 2, 2, 1, 2, 2, 1, 2, 2, 1, 1,\n",
       "       1, 1, 1, 1, 2, 2, 2, 2, 2, 2, 2, 1, 0, 2, 2, 2, 2], dtype=int32)>"
      ]
     },
     "execution_count": 9,
     "metadata": {},
     "output_type": "execute_result"
    }
   ],
   "source": [
    "tf.constant(df['thal'])\n"
   ]
  },
  {
   "cell_type": "code",
   "execution_count": 10,
   "metadata": {},
   "outputs": [],
   "source": [
    "# 随机读取（shuffle）并批量处理数据集。\n",
    "train_dataset = dataset.shuffle(len(df)).batch(1)\n"
   ]
  },
  {
   "cell_type": "code",
   "execution_count": 11,
   "metadata": {},
   "outputs": [
    {
     "name": "stdout",
     "output_type": "stream",
     "text": [
      "WARNING:tensorflow:Layer sequential is casting an input tensor from dtype float64 to the layer's dtype of float32, which is new behavior in TensorFlow 2.  The layer has dtype float32 because it's dtype defaults to floatx.\n",
      "\n",
      "If you intended to run this layer in float32, you can safely ignore this warning. If in doubt, this warning is likely only an issue if you are porting a TensorFlow 1.X model to TensorFlow 2.\n",
      "\n",
      "To change all layers to have dtype float64 by default, call `tf.keras.backend.set_floatx('float64')`. To change just this layer, pass dtype='float64' to the layer constructor. If you are the author of this layer, you can disable autocasting by passing autocast=False to the base Layer constructor.\n",
      "\n",
      "Epoch 1/15\n",
      "303/303 [==============================] - 4s 14ms/step - loss: 2.0053 - accuracy: 0.6106\n",
      "Epoch 2/15\n",
      "303/303 [==============================] - 1s 4ms/step - loss: 0.6109 - accuracy: 0.7195\n",
      "Epoch 3/15\n",
      "303/303 [==============================] - 1s 4ms/step - loss: 0.6031 - accuracy: 0.7228\n",
      "Epoch 4/15\n",
      "303/303 [==============================] - 1s 4ms/step - loss: 0.5898 - accuracy: 0.7129\n",
      "Epoch 5/15\n",
      "303/303 [==============================] - 1s 4ms/step - loss: 0.5850 - accuracy: 0.7327\n",
      "Epoch 6/15\n",
      "303/303 [==============================] - 1s 4ms/step - loss: 0.5850 - accuracy: 0.7228\n",
      "Epoch 7/15\n",
      "303/303 [==============================] - 1s 4ms/step - loss: 0.5469 - accuracy: 0.7558\n",
      "Epoch 8/15\n",
      "303/303 [==============================] - 1s 4ms/step - loss: 0.5483 - accuracy: 0.7195\n",
      "Epoch 9/15\n",
      "303/303 [==============================] - 1s 4ms/step - loss: 0.5166 - accuracy: 0.7591\n",
      "Epoch 10/15\n",
      "303/303 [==============================] - 2s 5ms/step - loss: 0.5329 - accuracy: 0.7294\n",
      "Epoch 11/15\n",
      "303/303 [==============================] - 1s 4ms/step - loss: 0.5032 - accuracy: 0.7591\n",
      "Epoch 12/15\n",
      "303/303 [==============================] - 1s 4ms/step - loss: 0.5069 - accuracy: 0.7690\n",
      "Epoch 13/15\n",
      "303/303 [==============================] - 1s 4ms/step - loss: 0.5086 - accuracy: 0.7558\n",
      "Epoch 14/15\n",
      "303/303 [==============================] - 1s 4ms/step - loss: 0.5019 - accuracy: 0.7558\n",
      "Epoch 15/15\n",
      "303/303 [==============================] - 1s 4ms/step - loss: 0.5010 - accuracy: 0.7459\n"
     ]
    },
    {
     "data": {
      "text/plain": [
       "<tensorflow.python.keras.callbacks.History at 0x6462c4ad0>"
      ]
     },
     "execution_count": 11,
     "metadata": {},
     "output_type": "execute_result"
    }
   ],
   "source": [
    "def get_compiled_model():\n",
    "  model = tf.keras.Sequential([\n",
    "    tf.keras.layers.Dense(10, activation='relu'),\n",
    "    tf.keras.layers.Dense(10, activation='relu'),\n",
    "    tf.keras.layers.Dense(1, activation='sigmoid')\n",
    "  ])\n",
    "\n",
    "  model.compile(optimizer='adam',\n",
    "                loss='binary_crossentropy',\n",
    "                metrics=['accuracy'])\n",
    "  return model\n",
    "\n",
    "model = get_compiled_model()\n",
    "model.fit(train_dataset, epochs=15)"
   ]
  },
  {
   "cell_type": "markdown",
   "metadata": {},
   "source": [
    "## 代替特征列\n",
    "### 将字典作为输入传输给模型就像创建 tf.keras.layers.Input 层的匹配字典一样简单，应用任何预处理并使用 functional api。 您可以使用它作为 feature columns 的替代方法。"
   ]
  },
  {
   "cell_type": "code",
   "execution_count": 12,
   "metadata": {},
   "outputs": [],
   "source": [
    "inputs = {key: tf.keras.layers.Input(shape=(), name=key) for key in df.keys()}\n",
    "x = tf.stack(list(inputs.values()), axis=-1)\n",
    "\n",
    "x = tf.keras.layers.Dense(10, activation='relu')(x)\n",
    "output = tf.keras.layers.Dense(1, activation='sigmoid')(x)\n",
    "\n",
    "model_func = tf.keras.Model(inputs=inputs, outputs=output)\n",
    "\n",
    "model_func.compile(optimizer='adam',\n",
    "                   loss='binary_crossentropy',\n",
    "                   metrics=['accuracy'])"
   ]
  },
  {
   "cell_type": "markdown",
   "metadata": {},
   "source": [
    "## 与 tf.data 一起使用时，保存 pd.DataFrame 列结构的最简单方法是将 pd.DataFrame 转换为 dict ，并对该字典进行切片。"
   ]
  },
  {
   "cell_type": "code",
   "execution_count": 13,
   "metadata": {},
   "outputs": [
    {
     "name": "stdout",
     "output_type": "stream",
     "text": [
      "({'age': <tf.Tensor: id=14768, shape=(16,), dtype=int32, numpy=\n",
      "array([63, 67, 67, 37, 41, 56, 62, 57, 63, 53, 57, 56, 56, 44, 52, 57],\n",
      "      dtype=int32)>, 'sex': <tf.Tensor: id=14776, shape=(16,), dtype=int32, numpy=array([1, 1, 1, 1, 0, 1, 0, 0, 1, 1, 1, 0, 1, 1, 1, 1], dtype=int32)>, 'cp': <tf.Tensor: id=14771, shape=(16,), dtype=int32, numpy=array([1, 4, 4, 3, 2, 2, 4, 4, 4, 4, 4, 2, 3, 2, 3, 3], dtype=int32)>, 'trestbps': <tf.Tensor: id=14780, shape=(16,), dtype=int32, numpy=\n",
      "array([145, 160, 120, 130, 130, 120, 140, 120, 130, 140, 140, 140, 130,\n",
      "       120, 172, 150], dtype=int32)>, 'chol': <tf.Tensor: id=14770, shape=(16,), dtype=int32, numpy=\n",
      "array([233, 286, 229, 250, 204, 236, 268, 354, 254, 203, 192, 294, 256,\n",
      "       263, 199, 168], dtype=int32)>, 'fbs': <tf.Tensor: id=14773, shape=(16,), dtype=int32, numpy=array([1, 0, 0, 0, 0, 0, 0, 0, 0, 1, 0, 0, 1, 0, 1, 0], dtype=int32)>, 'restecg': <tf.Tensor: id=14775, shape=(16,), dtype=int32, numpy=array([2, 2, 2, 0, 2, 0, 2, 0, 2, 2, 0, 2, 2, 0, 0, 0], dtype=int32)>, 'thalach': <tf.Tensor: id=14779, shape=(16,), dtype=int32, numpy=\n",
      "array([150, 108, 129, 187, 172, 178, 160, 163, 147, 155, 148, 153, 142,\n",
      "       173, 162, 174], dtype=int32)>, 'exang': <tf.Tensor: id=14772, shape=(16,), dtype=int32, numpy=array([0, 1, 1, 0, 0, 0, 0, 1, 0, 1, 0, 0, 1, 0, 0, 0], dtype=int32)>, 'oldpeak': <tf.Tensor: id=14774, shape=(16,), dtype=float32, numpy=\n",
      "array([2.3, 1.5, 2.6, 3.5, 1.4, 0.8, 3.6, 0.6, 1.4, 3.1, 0.4, 1.3, 0.6,\n",
      "       0. , 0.5, 1.6], dtype=float32)>, 'slope': <tf.Tensor: id=14777, shape=(16,), dtype=int32, numpy=array([3, 2, 2, 3, 1, 1, 3, 1, 2, 3, 2, 2, 2, 1, 1, 1], dtype=int32)>, 'ca': <tf.Tensor: id=14769, shape=(16,), dtype=int32, numpy=array([0, 3, 2, 0, 0, 0, 2, 0, 1, 0, 0, 0, 1, 0, 0, 0], dtype=int32)>, 'thal': <tf.Tensor: id=14778, shape=(16,), dtype=int32, numpy=array([0, 1, 2, 1, 1, 1, 1, 1, 2, 2, 0, 1, 0, 2, 2, 1], dtype=int32)>}, <tf.Tensor: id=14781, shape=(16,), dtype=int64, numpy=array([0, 1, 0, 0, 0, 0, 1, 0, 1, 0, 0, 0, 1, 0, 0, 0])>)\n"
     ]
    }
   ],
   "source": [
    "dict_slices = tf.data.Dataset.from_tensor_slices((df.to_dict('list'), target.values)).batch(16)\n",
    "for dict_slice in dict_slices.take(1):\n",
    "  print (dict_slice)"
   ]
  },
  {
   "cell_type": "code",
   "execution_count": 15,
   "metadata": {},
   "outputs": [
    {
     "name": "stdout",
     "output_type": "stream",
     "text": [
      "Epoch 1/100\n",
      "19/19 [==============================] - 0s 10ms/step - loss: 1.9245 - accuracy: 0.5314\n",
      "Epoch 2/100\n",
      "19/19 [==============================] - 0s 7ms/step - loss: 1.7064 - accuracy: 0.5479\n",
      "Epoch 3/100\n",
      "19/19 [==============================] - 0s 8ms/step - loss: 1.4638 - accuracy: 0.5545\n",
      "Epoch 4/100\n",
      "19/19 [==============================] - 0s 7ms/step - loss: 1.2403 - accuracy: 0.5776\n",
      "Epoch 5/100\n",
      "19/19 [==============================] - 0s 8ms/step - loss: 1.0457 - accuracy: 0.6007\n",
      "Epoch 6/100\n",
      "19/19 [==============================] - 0s 8ms/step - loss: 0.8870 - accuracy: 0.6337\n",
      "Epoch 7/100\n",
      "19/19 [==============================] - 0s 7ms/step - loss: 0.7642 - accuracy: 0.6832\n",
      "Epoch 8/100\n",
      "19/19 [==============================] - 0s 7ms/step - loss: 0.6731 - accuracy: 0.6997\n",
      "Epoch 9/100\n",
      "19/19 [==============================] - 0s 9ms/step - loss: 0.6078 - accuracy: 0.7294\n",
      "Epoch 10/100\n",
      "19/19 [==============================] - 0s 8ms/step - loss: 0.5620 - accuracy: 0.7558\n",
      "Epoch 11/100\n",
      "19/19 [==============================] - 0s 9ms/step - loss: 0.5299 - accuracy: 0.7624\n",
      "Epoch 12/100\n",
      "19/19 [==============================] - 0s 8ms/step - loss: 0.5070 - accuracy: 0.7723\n",
      "Epoch 13/100\n",
      "19/19 [==============================] - 0s 7ms/step - loss: 0.4903 - accuracy: 0.7723\n",
      "Epoch 14/100\n",
      "19/19 [==============================] - 0s 7ms/step - loss: 0.4777 - accuracy: 0.7822\n",
      "Epoch 15/100\n",
      "19/19 [==============================] - 0s 7ms/step - loss: 0.4678 - accuracy: 0.7888\n",
      "Epoch 16/100\n",
      "19/19 [==============================] - 0s 7ms/step - loss: 0.4598 - accuracy: 0.8053\n",
      "Epoch 17/100\n",
      "19/19 [==============================] - 0s 7ms/step - loss: 0.4531 - accuracy: 0.8053\n",
      "Epoch 18/100\n",
      "19/19 [==============================] - 0s 7ms/step - loss: 0.4474 - accuracy: 0.8020\n",
      "Epoch 19/100\n",
      "19/19 [==============================] - 0s 7ms/step - loss: 0.4423 - accuracy: 0.8086\n",
      "Epoch 20/100\n",
      "19/19 [==============================] - 0s 8ms/step - loss: 0.4378 - accuracy: 0.8086: 0s - loss: 0.4379 - accuracy: 0.80\n",
      "Epoch 21/100\n",
      "19/19 [==============================] - 0s 8ms/step - loss: 0.4337 - accuracy: 0.8119\n",
      "Epoch 22/100\n",
      "19/19 [==============================] - 0s 7ms/step - loss: 0.4299 - accuracy: 0.8185\n",
      "Epoch 23/100\n",
      "19/19 [==============================] - 0s 7ms/step - loss: 0.4264 - accuracy: 0.8185\n",
      "Epoch 24/100\n",
      "19/19 [==============================] - 0s 7ms/step - loss: 0.4231 - accuracy: 0.8185\n",
      "Epoch 25/100\n",
      "19/19 [==============================] - 0s 7ms/step - loss: 0.4200 - accuracy: 0.8185\n",
      "Epoch 26/100\n",
      "19/19 [==============================] - 0s 7ms/step - loss: 0.4171 - accuracy: 0.8152\n",
      "Epoch 27/100\n",
      "19/19 [==============================] - 0s 7ms/step - loss: 0.4143 - accuracy: 0.8218\n",
      "Epoch 28/100\n",
      "19/19 [==============================] - 0s 8ms/step - loss: 0.4117 - accuracy: 0.8218\n",
      "Epoch 29/100\n",
      "19/19 [==============================] - 0s 9ms/step - loss: 0.4092 - accuracy: 0.8218\n",
      "Epoch 30/100\n",
      "19/19 [==============================] - 0s 7ms/step - loss: 0.4068 - accuracy: 0.8218\n",
      "Epoch 31/100\n",
      "19/19 [==============================] - 0s 7ms/step - loss: 0.4045 - accuracy: 0.8185\n",
      "Epoch 32/100\n",
      "19/19 [==============================] - 0s 7ms/step - loss: 0.4024 - accuracy: 0.8218\n",
      "Epoch 33/100\n",
      "19/19 [==============================] - 0s 7ms/step - loss: 0.4004 - accuracy: 0.8218\n",
      "Epoch 34/100\n",
      "19/19 [==============================] - 0s 7ms/step - loss: 0.3984 - accuracy: 0.8218\n",
      "Epoch 35/100\n",
      "19/19 [==============================] - 0s 7ms/step - loss: 0.3965 - accuracy: 0.8284\n",
      "Epoch 36/100\n",
      "19/19 [==============================] - 0s 7ms/step - loss: 0.3948 - accuracy: 0.8284\n",
      "Epoch 37/100\n",
      "19/19 [==============================] - 0s 8ms/step - loss: 0.3931 - accuracy: 0.8284\n",
      "Epoch 38/100\n",
      "19/19 [==============================] - 0s 7ms/step - loss: 0.3915 - accuracy: 0.8284\n",
      "Epoch 39/100\n",
      "19/19 [==============================] - 0s 7ms/step - loss: 0.3899 - accuracy: 0.8284\n",
      "Epoch 40/100\n",
      "19/19 [==============================] - 0s 7ms/step - loss: 0.3885 - accuracy: 0.8350\n",
      "Epoch 41/100\n",
      "19/19 [==============================] - 0s 8ms/step - loss: 0.3871 - accuracy: 0.8383\n",
      "Epoch 42/100\n",
      "19/19 [==============================] - 0s 7ms/step - loss: 0.3858 - accuracy: 0.8383\n",
      "Epoch 43/100\n",
      "19/19 [==============================] - 0s 7ms/step - loss: 0.3845 - accuracy: 0.8350\n",
      "Epoch 44/100\n",
      "19/19 [==============================] - 0s 7ms/step - loss: 0.3833 - accuracy: 0.8350\n",
      "Epoch 45/100\n",
      "19/19 [==============================] - 0s 7ms/step - loss: 0.3821 - accuracy: 0.8350\n",
      "Epoch 46/100\n",
      "19/19 [==============================] - 0s 7ms/step - loss: 0.3810 - accuracy: 0.8350\n",
      "Epoch 47/100\n",
      "19/19 [==============================] - 0s 7ms/step - loss: 0.3800 - accuracy: 0.8350\n",
      "Epoch 48/100\n",
      "19/19 [==============================] - 0s 7ms/step - loss: 0.3790 - accuracy: 0.8350\n",
      "Epoch 49/100\n",
      "19/19 [==============================] - 0s 7ms/step - loss: 0.3780 - accuracy: 0.8383\n",
      "Epoch 50/100\n",
      "19/19 [==============================] - 0s 7ms/step - loss: 0.3771 - accuracy: 0.8383\n",
      "Epoch 51/100\n",
      "19/19 [==============================] - 0s 7ms/step - loss: 0.3763 - accuracy: 0.8383\n",
      "Epoch 52/100\n",
      "19/19 [==============================] - 0s 7ms/step - loss: 0.3754 - accuracy: 0.8416\n",
      "Epoch 53/100\n",
      "19/19 [==============================] - 0s 7ms/step - loss: 0.3746 - accuracy: 0.8416\n",
      "Epoch 54/100\n",
      "19/19 [==============================] - 0s 7ms/step - loss: 0.3739 - accuracy: 0.8416\n",
      "Epoch 55/100\n",
      "19/19 [==============================] - 0s 7ms/step - loss: 0.3732 - accuracy: 0.8416\n",
      "Epoch 56/100\n",
      "19/19 [==============================] - 0s 7ms/step - loss: 0.3725 - accuracy: 0.8416\n",
      "Epoch 57/100\n",
      "19/19 [==============================] - 0s 7ms/step - loss: 0.3719 - accuracy: 0.8416\n",
      "Epoch 58/100\n",
      "19/19 [==============================] - 0s 7ms/step - loss: 0.3712 - accuracy: 0.8416\n",
      "Epoch 59/100\n",
      "19/19 [==============================] - 0s 7ms/step - loss: 0.3706 - accuracy: 0.8383\n",
      "Epoch 60/100\n",
      "19/19 [==============================] - 0s 7ms/step - loss: 0.3701 - accuracy: 0.8383\n",
      "Epoch 61/100\n",
      "19/19 [==============================] - 0s 9ms/step - loss: 0.3695 - accuracy: 0.8383\n",
      "Epoch 62/100\n",
      "19/19 [==============================] - 0s 7ms/step - loss: 0.3690 - accuracy: 0.8383\n",
      "Epoch 63/100\n",
      "19/19 [==============================] - 0s 7ms/step - loss: 0.3685 - accuracy: 0.8383\n",
      "Epoch 64/100\n",
      "19/19 [==============================] - 0s 7ms/step - loss: 0.3680 - accuracy: 0.8416\n",
      "Epoch 65/100\n",
      "19/19 [==============================] - 0s 7ms/step - loss: 0.3676 - accuracy: 0.8416\n",
      "Epoch 66/100\n",
      "19/19 [==============================] - 0s 7ms/step - loss: 0.3672 - accuracy: 0.8350\n",
      "Epoch 67/100\n",
      "19/19 [==============================] - 0s 7ms/step - loss: 0.3668 - accuracy: 0.8383\n",
      "Epoch 68/100\n",
      "19/19 [==============================] - 0s 7ms/step - loss: 0.3664 - accuracy: 0.8416\n",
      "Epoch 69/100\n",
      "19/19 [==============================] - 0s 8ms/step - loss: 0.3660 - accuracy: 0.8416\n",
      "Epoch 70/100\n",
      "19/19 [==============================] - 0s 7ms/step - loss: 0.3656 - accuracy: 0.8449\n",
      "Epoch 71/100\n",
      "19/19 [==============================] - 0s 7ms/step - loss: 0.3653 - accuracy: 0.8449\n",
      "Epoch 72/100\n",
      "19/19 [==============================] - 0s 7ms/step - loss: 0.3649 - accuracy: 0.8416\n",
      "Epoch 73/100\n",
      "19/19 [==============================] - 0s 7ms/step - loss: 0.3646 - accuracy: 0.8416\n",
      "Epoch 74/100\n",
      "19/19 [==============================] - 0s 7ms/step - loss: 0.3643 - accuracy: 0.8383\n",
      "Epoch 75/100\n",
      "19/19 [==============================] - 0s 7ms/step - loss: 0.3640 - accuracy: 0.8383\n",
      "Epoch 76/100\n",
      "19/19 [==============================] - 0s 8ms/step - loss: 0.3637 - accuracy: 0.8383\n",
      "Epoch 77/100\n",
      "19/19 [==============================] - 0s 7ms/step - loss: 0.3635 - accuracy: 0.8383\n",
      "Epoch 78/100\n",
      "19/19 [==============================] - 0s 8ms/step - loss: 0.3632 - accuracy: 0.8383\n",
      "Epoch 79/100\n",
      "19/19 [==============================] - 0s 7ms/step - loss: 0.3629 - accuracy: 0.8383\n",
      "Epoch 80/100\n",
      "19/19 [==============================] - 0s 7ms/step - loss: 0.3627 - accuracy: 0.8383\n",
      "Epoch 81/100\n",
      "19/19 [==============================] - 0s 7ms/step - loss: 0.3625 - accuracy: 0.8383\n",
      "Epoch 82/100\n"
     ]
    },
    {
     "name": "stdout",
     "output_type": "stream",
     "text": [
      "19/19 [==============================] - 0s 7ms/step - loss: 0.3622 - accuracy: 0.8383\n",
      "Epoch 83/100\n",
      "19/19 [==============================] - 0s 7ms/step - loss: 0.3620 - accuracy: 0.8383\n",
      "Epoch 84/100\n",
      "19/19 [==============================] - 0s 7ms/step - loss: 0.3618 - accuracy: 0.8383\n",
      "Epoch 85/100\n",
      "19/19 [==============================] - 0s 7ms/step - loss: 0.3616 - accuracy: 0.8383\n",
      "Epoch 86/100\n",
      "19/19 [==============================] - 0s 7ms/step - loss: 0.3614 - accuracy: 0.8383\n",
      "Epoch 87/100\n",
      "19/19 [==============================] - 0s 7ms/step - loss: 0.3612 - accuracy: 0.8383\n",
      "Epoch 88/100\n",
      "19/19 [==============================] - 0s 7ms/step - loss: 0.3610 - accuracy: 0.8383\n",
      "Epoch 89/100\n",
      "19/19 [==============================] - 0s 8ms/step - loss: 0.3609 - accuracy: 0.8383\n",
      "Epoch 90/100\n",
      "19/19 [==============================] - 0s 7ms/step - loss: 0.3607 - accuracy: 0.8383\n",
      "Epoch 91/100\n",
      "19/19 [==============================] - 0s 8ms/step - loss: 0.3605 - accuracy: 0.8383\n",
      "Epoch 92/100\n",
      "19/19 [==============================] - 0s 7ms/step - loss: 0.3604 - accuracy: 0.8383\n",
      "Epoch 93/100\n",
      "19/19 [==============================] - 0s 7ms/step - loss: 0.3602 - accuracy: 0.8383\n",
      "Epoch 94/100\n",
      "19/19 [==============================] - 0s 7ms/step - loss: 0.3601 - accuracy: 0.8383\n",
      "Epoch 95/100\n",
      "19/19 [==============================] - 0s 7ms/step - loss: 0.3599 - accuracy: 0.8383\n",
      "Epoch 96/100\n",
      "19/19 [==============================] - 0s 7ms/step - loss: 0.3598 - accuracy: 0.8383\n",
      "Epoch 97/100\n",
      "19/19 [==============================] - 0s 7ms/step - loss: 0.3596 - accuracy: 0.8383\n",
      "Epoch 98/100\n",
      "19/19 [==============================] - 0s 8ms/step - loss: 0.3595 - accuracy: 0.8383\n",
      "Epoch 99/100\n",
      "19/19 [==============================] - 0s 8ms/step - loss: 0.3594 - accuracy: 0.8383\n",
      "Epoch 100/100\n",
      "19/19 [==============================] - 0s 8ms/step - loss: 0.3592 - accuracy: 0.8383\n"
     ]
    },
    {
     "data": {
      "text/plain": [
       "<tensorflow.python.keras.callbacks.History at 0x647293e10>"
      ]
     },
     "execution_count": 15,
     "metadata": {},
     "output_type": "execute_result"
    }
   ],
   "source": [
    "model_func.fit(dict_slices, epochs=100)"
   ]
  },
  {
   "cell_type": "code",
   "execution_count": null,
   "metadata": {},
   "outputs": [],
   "source": []
  }
 ],
 "metadata": {
  "kernelspec": {
   "display_name": "Python 3",
   "language": "python",
   "name": "python3"
  },
  "language_info": {
   "codemirror_mode": {
    "name": "ipython",
    "version": 3
   },
   "file_extension": ".py",
   "mimetype": "text/x-python",
   "name": "python",
   "nbconvert_exporter": "python",
   "pygments_lexer": "ipython3",
   "version": "3.7.6"
  }
 },
 "nbformat": 4,
 "nbformat_minor": 4
}
