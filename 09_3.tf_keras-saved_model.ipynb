{
 "cells": [
  {
   "cell_type": "markdown",
   "metadata": {},
   "source": [
    "# 保存模型 读取模型，做预测，使用签名函数"
   ]
  },
  {
   "cell_type": "code",
   "execution_count": 1,
   "metadata": {},
   "outputs": [
    {
     "name": "stdout",
     "output_type": "stream",
     "text": [
      "2.0.0\n",
      "sys.version_info(major=3, minor=7, micro=6, releaselevel='final', serial=0)\n",
      "numpy 1.18.1\n",
      "pandas 1.0.1\n",
      "sklearn 0.22.2\n",
      "tensorflow 2.0.0\n",
      "tensorflow_core.keras 2.2.4-tf\n"
     ]
    }
   ],
   "source": [
    "import matplotlib.pyplot as plt\n",
    "%matplotlib inline\n",
    "import numpy as np\n",
    "import pandas as pd\n",
    "import sklearn\n",
    "import os\n",
    "import sys\n",
    "import time\n",
    "import tensorflow as tf\n",
    "\n",
    "from tensorflow import keras\n",
    "print(tf.__version__)\n",
    "print(sys.version_info)\n",
    "for module in np, pd ,sklearn, tf, keras:\n",
    "    print(module.__name__,module.__version__)"
   ]
  },
  {
   "cell_type": "code",
   "execution_count": 2,
   "metadata": {},
   "outputs": [
    {
     "name": "stdout",
     "output_type": "stream",
     "text": [
      "(5000, 28, 28) (5000,)\n",
      "(55000, 28, 28) (55000,)\n",
      "(10000, 28, 28) (10000,)\n"
     ]
    }
   ],
   "source": [
    "\n",
    "fashion_mnist = keras.datasets.fashion_mnist\n",
    "(x_train_all,y_train_all),(x_test,y_test) = fashion_mnist.load_data()\n",
    "x_valid, x_train = x_train_all[:5000], x_train_all[5000:]\n",
    "y_valid, y_train = y_train_all[:5000], y_train_all[5000:]\n",
    "\n",
    "print(x_valid.shape,y_valid.shape)\n",
    "print(x_train.shape,y_train.shape)\n",
    "print(x_test.shape,y_test.shape)\n"
   ]
  },
  {
   "cell_type": "code",
   "execution_count": 3,
   "metadata": {},
   "outputs": [],
   "source": [
    "#x = (x - u) / std\n",
    "\n",
    "from sklearn.preprocessing import StandardScaler\n",
    "scaler = StandardScaler()\n",
    "x_train_scaler = scaler.fit_transform(x_train.astype(np.float32).reshape(-1,1)).reshape(-1,28,28)\n",
    "x_valid_scaler = scaler.transform(x_valid.astype(np.float32).reshape(-1,1)).reshape(-1,28,28)\n",
    "x_test_scaler = scaler.transform(x_test.astype(np.float32).reshape(-1,1)).reshape(-1,28,28)\n"
   ]
  },
  {
   "cell_type": "code",
   "execution_count": 4,
   "metadata": {},
   "outputs": [],
   "source": [
    "#tf.keras.models.Sequential()\n",
    "\n",
    "model = keras.models.Sequential([\n",
    "    keras.layers.Flatten(input_shape =[28,28]),\n",
    "    keras.layers.Dense(64,activation='relu'),\n",
    "#     keras.layers.Dense(100,activation='relu'),\n",
    "    keras.layers.Dense(10)#,activation='softmax')\n",
    "])    \n",
    "\n",
    "model.compile(loss=keras.losses.SparseCategoricalCrossentropy(from_logits=True),\n",
    "             optimizer = 'sgd',\n",
    "             metrics = ['accuracy'])\n"
   ]
  },
  {
   "cell_type": "code",
   "execution_count": 5,
   "metadata": {},
   "outputs": [
    {
     "name": "stdout",
     "output_type": "stream",
     "text": [
      "Train on 55000 samples, validate on 5000 samples\n",
      "Epoch 1/10\n",
      "55000/55000 [==============================] - 12s 223us/sample - loss: 0.5718 - accuracy: 0.7982 - val_loss: 0.4398 - val_accuracy: 0.8488\n",
      "Epoch 2/10\n",
      "55000/55000 [==============================] - 11s 200us/sample - loss: 0.4255 - accuracy: 0.8488 - val_loss: 0.4016 - val_accuracy: 0.8620\n",
      "Epoch 3/10\n",
      "55000/55000 [==============================] - 12s 226us/sample - loss: 0.3897 - accuracy: 0.8614 - val_loss: 0.3863 - val_accuracy: 0.8654\n",
      "Epoch 4/10\n",
      "55000/55000 [==============================] - 11s 209us/sample - loss: 0.3684 - accuracy: 0.8698 - val_loss: 0.3804 - val_accuracy: 0.8646\n",
      "Epoch 5/10\n",
      "55000/55000 [==============================] - 10s 189us/sample - loss: 0.3520 - accuracy: 0.8739 - val_loss: 0.3618 - val_accuracy: 0.8746\n",
      "Epoch 6/10\n",
      "55000/55000 [==============================] - 10s 184us/sample - loss: 0.3385 - accuracy: 0.8803 - val_loss: 0.3476 - val_accuracy: 0.8790\n",
      "Epoch 7/10\n",
      "55000/55000 [==============================] - 10s 188us/sample - loss: 0.3273 - accuracy: 0.8851 - val_loss: 0.3545 - val_accuracy: 0.8772\n",
      "Epoch 8/10\n",
      "55000/55000 [==============================] - 10s 187us/sample - loss: 0.3173 - accuracy: 0.8875 - val_loss: 0.3328 - val_accuracy: 0.8806\n",
      "Epoch 9/10\n",
      "55000/55000 [==============================] - 11s 196us/sample - loss: 0.3088 - accuracy: 0.8901 - val_loss: 0.3337 - val_accuracy: 0.8838\n",
      "Epoch 10/10\n",
      "55000/55000 [==============================] - 10s 187us/sample - loss: 0.3009 - accuracy: 0.8926 - val_loss: 0.3408 - val_accuracy: 0.8788\n"
     ]
    }
   ],
   "source": [
    "history = model.fit(x_train_scaler,y_train,epochs=10,\n",
    "         validation_data=(x_valid_scaler,y_valid))\n"
   ]
  },
  {
   "cell_type": "code",
   "execution_count": 6,
   "metadata": {},
   "outputs": [
    {
     "name": "stdout",
     "output_type": "stream",
     "text": [
      "10000/1 - 1s - loss: 0.2276 - accuracy: 0.8636\n"
     ]
    },
    {
     "data": {
      "text/plain": [
       "[0.38180840286016465, 0.8636]"
      ]
     },
     "execution_count": 6,
     "metadata": {},
     "output_type": "execute_result"
    }
   ],
   "source": [
    "model.evaluate(x_test_scaler,y_test,verbose = 2)"
   ]
  },
  {
   "cell_type": "code",
   "execution_count": 8,
   "metadata": {},
   "outputs": [
    {
     "name": "stdout",
     "output_type": "stream",
     "text": [
      "INFO:tensorflow:Assets written to: data/keras_saved_graph/assets\n"
     ]
    }
   ],
   "source": [
    "#保存模型,会在指定文件夹下生成文件saved_model.pb\n",
    "tf.saved_model.save(model, 'data/keras_saved_graph')"
   ]
  },
  {
   "cell_type": "code",
   "execution_count": 14,
   "metadata": {},
   "outputs": [
    {
     "name": "stdout",
     "output_type": "stream",
     "text": [
      "\n",
      "MetaGraphDef with tag-set: 'serve' contains the following SignatureDefs:\n",
      "\n",
      "signature_def['__saved_model_init_op']:\n",
      "  The given SavedModel SignatureDef contains the following input(s):\n",
      "  The given SavedModel SignatureDef contains the following output(s):\n",
      "    outputs['__saved_model_init_op'] tensor_info:\n",
      "        dtype: DT_INVALID\n",
      "        shape: unknown_rank\n",
      "        name: NoOp\n",
      "  Method name is: \n",
      "\n",
      "signature_def['serving_default']:\n",
      "  The given SavedModel SignatureDef contains the following input(s):\n",
      "    inputs['flatten_input'] tensor_info:\n",
      "        dtype: DT_FLOAT\n",
      "        shape: (-1, 28, 28)\n",
      "        name: serving_default_flatten_input:0\n",
      "  The given SavedModel SignatureDef contains the following output(s):\n",
      "    outputs['dense_1'] tensor_info:\n",
      "        dtype: DT_FLOAT\n",
      "        shape: (-1, 10)\n",
      "        name: StatefulPartitionedCall:0\n",
      "  Method name is: tensorflow/serving/predict\n"
     ]
    }
   ],
   "source": [
    "# 查看saved_model信息，含有模型签名signature_def\n",
    "# 前面加！在notebook中运行命令行工具\n",
    "!saved_model_cli show --dir data/keras_saved_graph --all"
   ]
  },
  {
   "cell_type": "code",
   "execution_count": 16,
   "metadata": {},
   "outputs": [
    {
     "name": "stdout",
     "output_type": "stream",
     "text": [
      "The given SavedModel SignatureDef contains the following input(s):\r\n",
      "  inputs['flatten_input'] tensor_info:\r\n",
      "      dtype: DT_FLOAT\r\n",
      "      shape: (-1, 28, 28)\r\n",
      "      name: serving_default_flatten_input:0\r\n",
      "The given SavedModel SignatureDef contains the following output(s):\r\n",
      "  outputs['dense_1'] tensor_info:\r\n",
      "      dtype: DT_FLOAT\r\n",
      "      shape: (-1, 10)\r\n",
      "      name: StatefulPartitionedCall:0\r\n",
      "Method name is: tensorflow/serving/predict\r\n"
     ]
    }
   ],
   "source": [
    "# 使用命令行工具打印指定签名信息，打印signature_def  serving_default\n",
    "!saved_model_cli show --dir data/keras_saved_graph \\\n",
    "                --tag_set serve --signature_def serving_default"
   ]
  },
  {
   "cell_type": "code",
   "execution_count": 21,
   "metadata": {},
   "outputs": [
    {
     "name": "stdout",
     "output_type": "stream",
     "text": [
      "Traceback (most recent call last):\n",
      "  File \"/Users/mac/opt/anaconda3/envs/mytf/bin/saved_model_cli\", line 11, in <module>\n",
      "    sys.exit(main())\n",
      "  File \"/Users/mac/opt/anaconda3/envs/mytf/lib/python3.7/site-packages/tensorflow_core/python/tools/saved_model_cli.py\", line 909, in main\n",
      "    args.func(args)\n",
      "  File \"/Users/mac/opt/anaconda3/envs/mytf/lib/python3.7/site-packages/tensorflow_core/python/tools/saved_model_cli.py\", line 643, in run\n",
      "    init_tpu=args.init_tpu, tf_debug=args.tf_debug)\n",
      "  File \"/Users/mac/opt/anaconda3/envs/mytf/lib/python3.7/site-packages/tensorflow_core/python/tools/saved_model_cli.py\", line 316, in run_saved_model_with_feed_dict\n",
      "    (input_key_name, '\"' + '\", \"'.join(inputs_tensor_info.keys()) + '\"'))\n",
      "ValueError: \"flatten_input \" is not a valid input key. Please choose from \"flatten_input\", or use --show option.\n"
     ]
    }
   ],
   "source": [
    "# 对保存的model进行测试\n",
    "!saved_model_cli run --dir data/keras_saved_graph \\\n",
    "                --tag_set serve \\\n",
    "                --signature_def serving_default\\\n",
    "                --input_exprs \"flatten_input = np.ones((2,28,28))\""
   ]
  },
  {
   "cell_type": "code",
   "execution_count": 22,
   "metadata": {},
   "outputs": [
    {
     "name": "stdout",
     "output_type": "stream",
     "text": [
      "['serving_default']\n"
     ]
    }
   ],
   "source": [
    "# 载入模型\n",
    "loaded_model = tf.saved_model.load('data/keras_saved_graph')\n",
    "# 打印所以签名\n",
    "print(list(loaded_model.signatures.keys()))\n"
   ]
  },
  {
   "cell_type": "code",
   "execution_count": 24,
   "metadata": {},
   "outputs": [
    {
     "name": "stdout",
     "output_type": "stream",
     "text": [
      "<tensorflow.python.saved_model.load._WrapperFunction object at 0x1a47b53c10>\n"
     ]
    }
   ],
   "source": [
    "inference = loaded_model.signatures['serving_default']\n",
    "print(inference)"
   ]
  },
  {
   "cell_type": "code",
   "execution_count": 27,
   "metadata": {},
   "outputs": [
    {
     "name": "stdout",
     "output_type": "stream",
     "text": [
      "{'dense_1': TensorSpec(shape=(None, 10), dtype=tf.float32, name='dense_1')}\n"
     ]
    }
   ],
   "source": [
    "print(inference.structured_outputs)"
   ]
  },
  {
   "cell_type": "code",
   "execution_count": 29,
   "metadata": {},
   "outputs": [
    {
     "name": "stdout",
     "output_type": "stream",
     "text": [
      "tf.Tensor(\n",
      "[[-1.0564426 -1.988424  -1.2645077 -5.414941  -2.7713263  7.419647\n",
      "  -1.1249225  7.0812345  4.2149386 10.055031 ]], shape=(1, 10), dtype=float32)\n"
     ]
    }
   ],
   "source": [
    "results = inference(tf.constant(x_test_scaler[:1]))\n",
    "print(results['dense_1'])"
   ]
  },
  {
   "cell_type": "code",
   "execution_count": null,
   "metadata": {},
   "outputs": [],
   "source": []
  }
 ],
 "metadata": {
  "kernelspec": {
   "display_name": "Python 3.7.6 64-bit ('mytf': conda)",
   "language": "python",
   "name": "python37664bitmytfconda841baf2f843f47f398642a391af5d6cb"
  },
  "language_info": {
   "codemirror_mode": {
    "name": "ipython",
    "version": 3
   },
   "file_extension": ".py",
   "mimetype": "text/x-python",
   "name": "python",
   "nbconvert_exporter": "python",
   "pygments_lexer": "ipython3",
   "version": "3.7.6"
  }
 },
 "nbformat": 4,
 "nbformat_minor": 4
}
