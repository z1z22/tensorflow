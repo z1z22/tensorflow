{
 "cells": [
  {
   "cell_type": "markdown",
   "metadata": {},
   "source": [
    "# 实现多输出"
   ]
  },
  {
   "cell_type": "code",
   "execution_count": 1,
   "metadata": {},
   "outputs": [
    {
     "name": "stdout",
     "output_type": "stream",
     "text": [
      "2.0.0\n",
      "sys.version_info(major=3, minor=7, micro=6, releaselevel='final', serial=0)\n",
      "numpy 1.18.1\n",
      "pandas 1.0.1\n",
      "sklearn 0.22.2\n",
      "tensorflow 2.0.0\n",
      "tensorflow_core.keras 2.2.4-tf\n"
     ]
    }
   ],
   "source": [
    "import matplotlib.pyplot as plt\n",
    "%matplotlib inline\n",
    "import numpy as np\n",
    "import pandas as pd\n",
    "import sklearn\n",
    "import os\n",
    "import sys\n",
    "import time\n",
    "import tensorflow as tf\n",
    "\n",
    "from tensorflow import keras\n",
    "print(tf.__version__)\n",
    "print(sys.version_info)\n",
    "for module in np, pd ,sklearn, tf, keras:\n",
    "    print(module.__name__,module.__version__)"
   ]
  },
  {
   "cell_type": "code",
   "execution_count": 2,
   "metadata": {},
   "outputs": [
    {
     "name": "stdout",
     "output_type": "stream",
     "text": [
      "(20640, 8)\n",
      "(20640,)\n"
     ]
    }
   ],
   "source": [
    "from sklearn.datasets import fetch_california_housing\n",
    "\n",
    "housing = fetch_california_housing()\n",
    "\n",
    "print(housing.data.shape)\n",
    "print(housing.target.shape)"
   ]
  },
  {
   "cell_type": "code",
   "execution_count": 3,
   "metadata": {},
   "outputs": [],
   "source": [
    "from sklearn.model_selection import train_test_split\n",
    "\n",
    "x_train, x_test, y_train, y_test = train_test_split(housing.data, housing.target,random_state=7)\n",
    "# x_train, x_valid, y_train, y_valid = train_test_split(x_train_all,y_train_all,random_state=11)"
   ]
  },
  {
   "cell_type": "code",
   "execution_count": 4,
   "metadata": {},
   "outputs": [],
   "source": [
    "from sklearn.preprocessing import StandardScaler\n",
    "transfer = StandardScaler()\n",
    "x_train_scaled = transfer.fit_transform(x_train)\n",
    "x_test_scaled = transfer.transform(x_test)\n",
    "# x_valid_scaled = transfer.transform(x_valid)"
   ]
  },
  {
   "cell_type": "code",
   "execution_count": 5,
   "metadata": {},
   "outputs": [],
   "source": [
    "#多输出\n",
    "input_wide = keras.layers.Input(shape=[6],)\n",
    "input_deep = keras.layers.Input(shape=[6],)\n",
    "hidden1 = keras.layers.Dense(30,activation = 'relu')(input_deep)\n",
    "hidden2 = keras.layers.Dense(30,activation = 'relu')(hidden1)\n",
    "concat = keras.layers.concatenate([input_wide, hidden2])\n",
    "output = keras.layers.Dense(1)(concat)\n",
    "output2= keras.layers.Dense(1)(hidden2)\n",
    "model = keras.models.Model(inputs=[input_wide, input_deep],\n",
    "                                    outputs = [output, output2])\n",
    "\n",
    "model.compile(loss='mean_squared_error',\n",
    "             optimizer = 'nadam',# SGD -> SGDM -> NAG ->AdaGrad -> AdaDelta -> Adam -> Nadam\n",
    "             )\n"
   ]
  },
  {
   "cell_type": "code",
   "execution_count": 6,
   "metadata": {},
   "outputs": [
    {
     "data": {
      "text/plain": [
       "[<tensorflow.python.keras.engine.input_layer.InputLayer at 0x1a4a590b10>,\n",
       " <tensorflow.python.keras.layers.core.Dense at 0x1a4a50d3d0>,\n",
       " <tensorflow.python.keras.engine.input_layer.InputLayer at 0x1a4a590b50>,\n",
       " <tensorflow.python.keras.layers.core.Dense at 0x1a4a58a4d0>,\n",
       " <tensorflow.python.keras.layers.merge.Concatenate at 0x1a4a58a810>,\n",
       " <tensorflow.python.keras.layers.core.Dense at 0x1a4a628410>,\n",
       " <tensorflow.python.keras.layers.core.Dense at 0x1a4a628a50>]"
      ]
     },
     "execution_count": 6,
     "metadata": {},
     "output_type": "execute_result"
    }
   ],
   "source": [
    "model.layers#查看模型层数"
   ]
  },
  {
   "cell_type": "code",
   "execution_count": 7,
   "metadata": {},
   "outputs": [
    {
     "name": "stdout",
     "output_type": "stream",
     "text": [
      "Model: \"model\"\n",
      "__________________________________________________________________________________________________\n",
      "Layer (type)                    Output Shape         Param #     Connected to                     \n",
      "==================================================================================================\n",
      "input_2 (InputLayer)            [(None, 6)]          0                                            \n",
      "__________________________________________________________________________________________________\n",
      "dense (Dense)                   (None, 30)           210         input_2[0][0]                    \n",
      "__________________________________________________________________________________________________\n",
      "input_1 (InputLayer)            [(None, 6)]          0                                            \n",
      "__________________________________________________________________________________________________\n",
      "dense_1 (Dense)                 (None, 30)           930         dense[0][0]                      \n",
      "__________________________________________________________________________________________________\n",
      "concatenate (Concatenate)       (None, 36)           0           input_1[0][0]                    \n",
      "                                                                 dense_1[0][0]                    \n",
      "__________________________________________________________________________________________________\n",
      "dense_2 (Dense)                 (None, 1)            37          concatenate[0][0]                \n",
      "__________________________________________________________________________________________________\n",
      "dense_3 (Dense)                 (None, 1)            31          dense_1[0][0]                    \n",
      "==================================================================================================\n",
      "Total params: 1,208\n",
      "Trainable params: 1,208\n",
      "Non-trainable params: 0\n",
      "__________________________________________________________________________________________________\n"
     ]
    }
   ],
   "source": [
    "model.summary()#d 模型参数"
   ]
  },
  {
   "cell_type": "code",
   "execution_count": 9,
   "metadata": {},
   "outputs": [],
   "source": [
    "#多输入，所以拆分训练数据\n",
    "x_train_scaled_wide = x_train_scaled[:,:6]\n",
    "x_train_scaled_deep = x_train_scaled[:,2:]\n",
    "x_test_scaled_wide = x_test_scaled[:,:6]\n",
    "x_test_scaled_deep = x_test_scaled[:,2:]\n",
    "# x_valid_scaled_wide = x_valid_scaled[:,:5]\n",
    "# x_valid_scaled_deep = x_valid_scaled[:,2:]"
   ]
  },
  {
   "cell_type": "code",
   "execution_count": 10,
   "metadata": {},
   "outputs": [
    {
     "name": "stdout",
     "output_type": "stream",
     "text": [
      "Train on 12384 samples, validate on 3096 samples\n",
      "Epoch 1/100\n",
      "12384/12384 [==============================] - 7s 552us/sample - loss: 3.4832 - dense_2_loss: 1.9589 - dense_3_loss: 1.5243 - val_loss: 2.1784 - val_dense_2_loss: 1.2650 - val_dense_3_loss: 0.9109\n",
      "Epoch 2/100\n",
      "12384/12384 [==============================] - 3s 226us/sample - loss: 1.2794 - dense_2_loss: 0.6404 - dense_3_loss: 0.6390 - val_loss: 1.1631 - val_dense_2_loss: 0.5816 - val_dense_3_loss: 0.5802\n",
      "Epoch 3/100\n",
      "12384/12384 [==============================] - 3s 224us/sample - loss: 1.0611 - dense_2_loss: 0.4940 - dense_3_loss: 0.5671 - val_loss: 0.9930 - val_dense_2_loss: 0.4524 - val_dense_3_loss: 0.5395\n",
      "Epoch 4/100\n",
      "12384/12384 [==============================] - 3s 224us/sample - loss: 0.9891 - dense_2_loss: 0.4437 - dense_3_loss: 0.5454 - val_loss: 0.9397 - val_dense_2_loss: 0.4159 - val_dense_3_loss: 0.5227\n",
      "Epoch 5/100\n",
      "12384/12384 [==============================] - 3s 238us/sample - loss: 0.9376 - dense_2_loss: 0.4140 - dense_3_loss: 0.5237 - val_loss: 0.9101 - val_dense_2_loss: 0.3936 - val_dense_3_loss: 0.5156\n",
      "Epoch 6/100\n",
      "12384/12384 [==============================] - 3s 224us/sample - loss: 0.9094 - dense_2_loss: 0.4019 - dense_3_loss: 0.5074 - val_loss: 0.9049 - val_dense_2_loss: 0.4086 - val_dense_3_loss: 0.4952\n",
      "Epoch 7/100\n",
      "12384/12384 [==============================] - 3s 223us/sample - loss: 0.8731 - dense_2_loss: 0.3839 - dense_3_loss: 0.4891 - val_loss: 0.8406 - val_dense_2_loss: 0.3676 - val_dense_3_loss: 0.4721\n",
      "Epoch 8/100\n",
      "12384/12384 [==============================] - 3s 225us/sample - loss: 0.8385 - dense_2_loss: 0.3709 - dense_3_loss: 0.4676 - val_loss: 0.8428 - val_dense_2_loss: 0.3754 - val_dense_3_loss: 0.4664\n",
      "Epoch 9/100\n",
      "12384/12384 [==============================] - 3s 224us/sample - loss: 0.8105 - dense_2_loss: 0.3626 - dense_3_loss: 0.4478 - val_loss: 0.8251 - val_dense_2_loss: 0.3784 - val_dense_3_loss: 0.4458\n",
      "Epoch 10/100\n",
      "12384/12384 [==============================] - 3s 233us/sample - loss: 0.7915 - dense_2_loss: 0.3602 - dense_3_loss: 0.4313 - val_loss: 0.8685 - val_dense_2_loss: 0.3926 - val_dense_3_loss: 0.4749\n",
      "Epoch 11/100\n",
      "12384/12384 [==============================] - 3s 225us/sample - loss: 0.7974 - dense_2_loss: 0.3669 - dense_3_loss: 0.4305 - val_loss: 0.8277 - val_dense_2_loss: 0.3823 - val_dense_3_loss: 0.4446\n",
      "Epoch 12/100\n",
      "12384/12384 [==============================] - 3s 225us/sample - loss: 0.7487 - dense_2_loss: 0.3433 - dense_3_loss: 0.4053 - val_loss: 0.7667 - val_dense_2_loss: 0.3434 - val_dense_3_loss: 0.4224\n",
      "Epoch 13/100\n",
      "12384/12384 [==============================] - 3s 238us/sample - loss: 0.7446 - dense_2_loss: 0.3421 - dense_3_loss: 0.4025 - val_loss: 0.7654 - val_dense_2_loss: 0.3501 - val_dense_3_loss: 0.4145\n",
      "Epoch 14/100\n",
      "12384/12384 [==============================] - 3s 230us/sample - loss: 0.7298 - dense_2_loss: 0.3354 - dense_3_loss: 0.3945 - val_loss: 0.7317 - val_dense_2_loss: 0.3307 - val_dense_3_loss: 0.4003\n",
      "Epoch 15/100\n",
      "12384/12384 [==============================] - 3s 259us/sample - loss: 0.7200 - dense_2_loss: 0.3319 - dense_3_loss: 0.3880 - val_loss: 0.7556 - val_dense_2_loss: 0.3493 - val_dense_3_loss: 0.4056\n",
      "Epoch 16/100\n",
      "12384/12384 [==============================] - 3s 234us/sample - loss: 0.7192 - dense_2_loss: 0.3334 - dense_3_loss: 0.3859 - val_loss: 0.7523 - val_dense_2_loss: 0.3395 - val_dense_3_loss: 0.4120\n",
      "Epoch 17/100\n",
      "12384/12384 [==============================] - 3s 240us/sample - loss: 0.7101 - dense_2_loss: 0.3287 - dense_3_loss: 0.3814 - val_loss: 0.7651 - val_dense_2_loss: 0.3502 - val_dense_3_loss: 0.4142\n",
      "Epoch 18/100\n",
      "12384/12384 [==============================] - 3s 260us/sample - loss: 0.7094 - dense_2_loss: 0.3282 - dense_3_loss: 0.3812 - val_loss: 0.7446 - val_dense_2_loss: 0.3354 - val_dense_3_loss: 0.4083\n",
      "Epoch 19/100\n",
      "12384/12384 [==============================] - 3s 244us/sample - loss: 0.7139 - dense_2_loss: 0.3298 - dense_3_loss: 0.3841 - val_loss: 0.7169 - val_dense_2_loss: 0.3235 - val_dense_3_loss: 0.3926\n",
      "Epoch 20/100\n",
      "12384/12384 [==============================] - 3s 225us/sample - loss: 0.6991 - dense_2_loss: 0.3232 - dense_3_loss: 0.3759 - val_loss: 0.7179 - val_dense_2_loss: 0.3252 - val_dense_3_loss: 0.3919\n",
      "Epoch 21/100\n",
      "12384/12384 [==============================] - 3s 225us/sample - loss: 0.6926 - dense_2_loss: 0.3211 - dense_3_loss: 0.3714 - val_loss: 0.7416 - val_dense_2_loss: 0.3404 - val_dense_3_loss: 0.4005\n",
      "Epoch 22/100\n",
      "12384/12384 [==============================] - 3s 227us/sample - loss: 0.6932 - dense_2_loss: 0.3215 - dense_3_loss: 0.3717 - val_loss: 1.1198 - val_dense_2_loss: 0.5449 - val_dense_3_loss: 0.5731\n",
      "Epoch 23/100\n",
      "12384/12384 [==============================] - 3s 231us/sample - loss: 0.7466 - dense_2_loss: 0.3480 - dense_3_loss: 0.3985 - val_loss: 0.7828 - val_dense_2_loss: 0.3486 - val_dense_3_loss: 0.4333\n",
      "Epoch 24/100\n",
      "12384/12384 [==============================] - 3s 227us/sample - loss: 0.6973 - dense_2_loss: 0.3234 - dense_3_loss: 0.3739 - val_loss: 0.7626 - val_dense_2_loss: 0.3580 - val_dense_3_loss: 0.4038\n"
     ]
    }
   ],
   "source": [
    "callbacks = [keras.callbacks.EarlyStopping(patience=5,min_delta=1e-2)]\n",
    "history = model.fit([x_train_scaled_wide, x_train_scaled_deep],\n",
    "                          [y_train,y_train],\n",
    "                          epochs=100,\n",
    "                    validation_split = 0.2,\n",
    "#                             validation_data=([x_valid_scaled_wide,x_valid_scaled_deep],\n",
    "#                                                      [y_valid,y_valid]),\n",
    "                   callbacks= callbacks \n",
    "                   )\n",
    "#validation_data:训练过程中在验证集验证"
   ]
  },
  {
   "cell_type": "code",
   "execution_count": 11,
   "metadata": {},
   "outputs": [
    {
     "data": {
      "image/png": "[encoded data removed]",
      "text/plain": [
       "<Figure size 576x360 with 1 Axes>"
      ]
     },
     "metadata": {
      "needs_background": "light"
     },
     "output_type": "display_data"
    }
   ],
   "source": [
    "def plot_learning_curves(history):\n",
    "    pd.DataFrame(history.history).plot(figsize=[8,5])\n",
    "    plt.grid(True)\n",
    "    plt.gca().set_ylim(0,1)\n",
    "    plt.show()\n",
    "\n",
    "plot_learning_curves(history)"
   ]
  },
  {
   "cell_type": "code",
   "execution_count": 12,
   "metadata": {},
   "outputs": [
    {
     "name": "stdout",
     "output_type": "stream",
     "text": [
      "5160/1 - 0s - loss: 1.1179 - dense_2_loss: 0.4532 - dense_3_loss: 0.4519\n"
     ]
    },
    {
     "data": {
      "text/plain": [
       "[0.9030859365019688, 0.4531817, 0.45189333]"
      ]
     },
     "execution_count": 12,
     "metadata": {},
     "output_type": "execute_result"
    }
   ],
   "source": [
    "model.evaluate([x_test_scaled_wide,x_test_scaled_deep],\n",
    "                       [y_test,y_test], verbose = 2)"
   ]
  }
 ],
 "metadata": {
  "kernelspec": {
   "display_name": "Python 3.7.6 64-bit ('mytf': conda)",
   "language": "python",
   "name": "python37664bitmytfconda841baf2f843f47f398642a391af5d6cb"
  },
  "language_info": {
   "codemirror_mode": {
    "name": "ipython",
    "version": 3
   },
   "file_extension": ".py",
   "mimetype": "text/x-python",
   "name": "python",
   "nbconvert_exporter": "python",
   "pygments_lexer": "ipython3",
   "version": "3.7.6"
  }
 },
 "nbformat": 4,
 "nbformat_minor": 4
}
