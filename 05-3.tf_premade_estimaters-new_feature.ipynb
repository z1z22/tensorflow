{
 "cells": [
  {
   "cell_type": "code",
   "execution_count": 1,
   "metadata": {},
   "outputs": [],
   "source": [
    "import pandas as pd\n",
    "import numpy as np\n",
    "import tensorflow as tf\n",
    "import matplotlib.pyplot as plt\n",
    "from tensorflow import keras\n",
    "import os\n"
   ]
  },
  {
   "cell_type": "code",
   "execution_count": 2,
   "metadata": {},
   "outputs": [
    {
     "data": {
      "text/plain": [
       "'2.0.0'"
      ]
     },
     "execution_count": 2,
     "metadata": {},
     "output_type": "execute_result"
    }
   ],
   "source": [
    "tf.__version__"
   ]
  },
  {
   "cell_type": "code",
   "execution_count": 3,
   "metadata": {},
   "outputs": [],
   "source": [
    "TRAIN_DATA_URL = \"https://storage.googleapis.com/tf-datasets/titanic/train.csv\"\n",
    "TEST_DATA_URL = \"https://storage.googleapis.com/tf-datasets/titanic/eval.csv\"\n",
    "train_tf = pd.read_csv(TRAIN_DATA_URL)\n",
    "test_data = pd.read_csv(TEST_DATA_URL)"
   ]
  },
  {
   "cell_type": "code",
   "execution_count": null,
   "metadata": {},
   "outputs": [],
   "source": [
    "print(train_tf.shape)\n",
    "print(test_data.shape)"
   ]
  },
  {
   "cell_type": "code",
   "execution_count": 4,
   "metadata": {},
   "outputs": [],
   "source": [
    "train_data = train_tf[:500]\n",
    "valid_data = train_tf[500:]"
   ]
  },
  {
   "cell_type": "code",
   "execution_count": 5,
   "metadata": {},
   "outputs": [
    {
     "name": "stdout",
     "output_type": "stream",
     "text": [
      "(500, 10)\n",
      "(127, 10)\n"
     ]
    }
   ],
   "source": [
    "print(train_data.shape)\n",
    "print(valid_data.shape)"
   ]
  },
  {
   "cell_type": "code",
   "execution_count": 6,
   "metadata": {},
   "outputs": [],
   "source": [
    "y_train= train_data.pop('survived')\n",
    "y_test = test_data.pop('survived')\n",
    "y_valid= valid_data.pop('survived')\n",
    "\n"
   ]
  },
  {
   "cell_type": "code",
   "execution_count": 7,
   "metadata": {},
   "outputs": [],
   "source": [
    "categorical_columns = ['sex','n_siblings_spouses','parch','class','deck','embark_town','alone']\n",
    "numeric_columns = ['age', 'fare']\n",
    "\n",
    "feature_columns = []#收集所有feature，以运用到dataset上\n",
    "#对离散特征进行onehot 编码处理\n",
    "for c_column in categorical_columns:\n",
    "    vocab = train_data[c_column].unique()#用unique取出唯一值\n",
    "    feature_columns.append(\n",
    "        tf.feature_column.indicator_column(\n",
    "            tf.feature_column.categorical_column_with_vocabulary_list(\n",
    "                c_column, vocab)))\n",
    "    \n",
    "#categorical_column_with_vocabulary_list提取特征list\n",
    "# indicator_column 对离散特征进行one_hot编码\n",
    "\n",
    "#对连续型特征直接封装\n",
    "for n_column in numeric_columns:\n",
    "    feature_columns.append(\n",
    "        tf.feature_column.numeric_column(\n",
    "            n_column, dtype = tf.float32))\n",
    "    \n",
    "# 交叉特征：\n",
    "# cross_feature: age:[1,2,3,4,5],gender:[male, female]\n",
    "# age_x_gender:[1:male,],[2,male],[3:male]......[5:female]\n",
    "#100000:100    hash_bucket_size->hash(10000 calues)%100\n",
    "feature_columns.append(\n",
    "    tf.feature_column.indicator_column(\n",
    "        tf.feature_column.crossed_column(\n",
    "            ['age', 'sex'], hash_bucket_size = 100)))\n"
   ]
  },
  {
   "cell_type": "code",
   "execution_count": null,
   "metadata": {},
   "outputs": [],
   "source": [
    "# 构建数据集.from_tensor_slices()传入字典\n",
    "def make_datasets(x, y, epochs = 10, shuffle = True, batch_size = 32 ):\n",
    "    dataset = tf.data.Dataset.from_tensor_slices((dict(x), y))\n",
    "    if shuffle:\n",
    "        dataset = dataset.shuffle(1000)\n",
    "    dataset = dataset.repeat(epochs).batch(batch_size)\n",
    "    return dataset"
   ]
  },
  {
   "cell_type": "code",
   "execution_count": null,
   "metadata": {
    "scrolled": false
   },
   "outputs": [],
   "source": [
    "output_dir ='data/baseline_model_new_feature'\n",
    "if not os.path.exists(output_dir):\n",
    "    os.mkdir(output_dir)\n",
    "baseline_estimator = tf.estimator.BaselineClassifier(\n",
    "        model_dir = output_dir,\n",
    "        n_classes =2,\n",
    "        optimizer='Ftrl',)\n",
    "baseline_estimator.train(input_fn = lambda : make_datasets(\n",
    "        train_data, y_train, epochs=100))"
   ]
  },
  {
   "cell_type": "code",
   "execution_count": null,
   "metadata": {},
   "outputs": [],
   "source": [
    "baseline_estimator.evaluate(input_fn = lambda : make_datasets(\n",
    "        test_data, y_test, epochs=20))"
   ]
  },
  {
   "cell_type": "code",
   "execution_count": null,
   "metadata": {},
   "outputs": [],
   "source": [
    "output_dir ='data/linear_model_new_feature'\n",
    "if not os.path.exists(output_dir):\n",
    "    os.mkdir(output_dir)\n",
    "linear_estimator = tf.estimator.LinearClassifier(\n",
    "        model_dir = output_dir,\n",
    "        n_classes =2,\n",
    "        optimizer='Ftrl',\n",
    "        feature_columns=feature_columns)\n",
    "linear_estimator.train(input_fn = lambda : make_datasets(\n",
    "        train_data, y_train, epochs=100))"
   ]
  },
  {
   "cell_type": "code",
   "execution_count": null,
   "metadata": {},
   "outputs": [],
   "source": [
    "linear_estimator.evaluate(input_fn = lambda : make_datasets(\n",
    "        test_data, y_test, epochs=20))"
   ]
  },
  {
   "cell_type": "code",
   "execution_count": null,
   "metadata": {},
   "outputs": [],
   "source": [
    "dnn_output_dir ='data/linear_model_new_feature'\n",
    "if not os.path.exists(dnn_output_dir):\n",
    "    os.mkdir(dnn_output_dir)\n",
    "dnn_estimator = tf.estimator.DNNClassifier(\n",
    "        model_dir = dnn_output_dir,\n",
    "        n_classes =2,\n",
    "        activation_fn='relu',\n",
    "        hidden_units=2,\n",
    "        optimizer='Ftrl',\n",
    "        feature_columns=feature_columns)\n",
    "\n",
    "dnn_estimator.train(input_fn = lambda : make_datasets(\n",
    "        train_data, y_train, epochs=100))"
   ]
  },
  {
   "cell_type": "code",
   "execution_count": null,
   "metadata": {},
   "outputs": [],
   "source": [
    "dnn_estimator.evaluate(input_fn = lambda : make_datasets(\n",
    "        test_data, y_test, epochs=20))"
   ]
  },
  {
   "cell_type": "code",
   "execution_count": null,
   "metadata": {},
   "outputs": [],
   "source": []
  }
 ],
 "metadata": {
  "kernelspec": {
   "display_name": "Python 3.7.6 64-bit ('mytf': conda)",
   "language": "python",
   "name": "python37664bitmytfconda841baf2f843f47f398642a391af5d6cb"
  },
  "language_info": {
   "codemirror_mode": {
    "name": "ipython",
    "version": 3
   },
   "file_extension": ".py",
   "mimetype": "text/x-python",
   "name": "python",
   "nbconvert_exporter": "python",
   "pygments_lexer": "ipython3",
   "version": "3.7.6"
  }
 },
 "nbformat": 4,
 "nbformat_minor": 4
}
