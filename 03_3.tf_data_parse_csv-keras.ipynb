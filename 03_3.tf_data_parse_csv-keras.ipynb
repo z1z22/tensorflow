{
 "cells": [
  {
   "cell_type": "code",
   "execution_count": 18,
   "metadata": {},
   "outputs": [
    {
     "name": "stdout",
     "output_type": "stream",
     "text": [
      "2.0.0\n"
     ]
    }
   ],
   "source": [
    "import numpy as np\n",
    "import pandas as pd\n",
    "import os\n",
    "import tensorflow as tf\n",
    "\n",
    "from tensorflow import keras\n",
    "print(tf.__version__)\n"
   ]
  },
  {
   "cell_type": "code",
   "execution_count": 19,
   "metadata": {},
   "outputs": [
    {
     "name": "stdout",
     "output_type": "stream",
     "text": [
      "(20640, 8)\n",
      "(20640,)\n"
     ]
    }
   ],
   "source": [
    "from sklearn.datasets import fetch_california_housing\n",
    "\n",
    "housing = fetch_california_housing()\n",
    "\n",
    "# print(housing.DESCR)\n",
    "print(housing.data.shape)\n",
    "print(housing.target.shape)\n"
   ]
  },
  {
   "cell_type": "code",
   "execution_count": 20,
   "metadata": {},
   "outputs": [],
   "source": [
    "from sklearn.model_selection import train_test_split\n",
    "\n",
    "x_train_all,x_test,y_train_all,y_test=train_test_split(housing.data, housing.target,random_state=7)\n",
    "x_train, x_valid, y_train, y_valid = train_test_split(x_train_all,y_train_all,random_state=11)"
   ]
  },
  {
   "cell_type": "code",
   "execution_count": 21,
   "metadata": {},
   "outputs": [],
   "source": [
    "from sklearn.preprocessing import StandardScaler\n",
    "transfer = StandardScaler()\n",
    "x_train_scaled = transfer.fit_transform(x_train)\n",
    "x_test_scaled = transfer.transform(x_test)\n",
    "x_valid_scaled = transfer.transform(x_valid)"
   ]
  },
  {
   "cell_type": "code",
   "execution_count": 22,
   "metadata": {},
   "outputs": [
    {
     "ename": "FileNotFoundError",
     "evalue": "[Errno 2] No such file or directory: 'data/generate_csv/train/00.csv'",
     "output_type": "error",
     "traceback": [
      "\u001b[0;31m---------------------------------------------------------------------------\u001b[0m",
      "\u001b[0;31mFileNotFoundError\u001b[0m                         Traceback (most recent call last)",
      "\u001b[0;32m<ipython-input-22-f0918593d15a>\u001b[0m in \u001b[0;36m<module>\u001b[0;34m\u001b[0m\n\u001b[1;32m     31\u001b[0m \u001b[0mheader_str\u001b[0m \u001b[0;34m=\u001b[0m \u001b[0;34m\",\"\u001b[0m\u001b[0;34m.\u001b[0m\u001b[0mjoin\u001b[0m\u001b[0;34m(\u001b[0m\u001b[0mheader_cols\u001b[0m\u001b[0;34m)\u001b[0m\u001b[0;34m\u001b[0m\u001b[0;34m\u001b[0m\u001b[0m\n\u001b[1;32m     32\u001b[0m \u001b[0;34m\u001b[0m\u001b[0m\n\u001b[0;32m---> 33\u001b[0;31m \u001b[0mtrain_filenames\u001b[0m \u001b[0;34m=\u001b[0m \u001b[0msave_to_csv\u001b[0m\u001b[0;34m(\u001b[0m\u001b[0moutput_dir\u001b[0m\u001b[0;34m,\u001b[0m\u001b[0mtrain_data\u001b[0m\u001b[0;34m,\u001b[0m\u001b[0;34m'train'\u001b[0m\u001b[0;34m,\u001b[0m\u001b[0mheader_str\u001b[0m\u001b[0;34m,\u001b[0m\u001b[0mn_parts\u001b[0m\u001b[0;34m=\u001b[0m\u001b[0;36m20\u001b[0m\u001b[0;34m)\u001b[0m\u001b[0;34m\u001b[0m\u001b[0;34m\u001b[0m\u001b[0m\n\u001b[0m\u001b[1;32m     34\u001b[0m \u001b[0mvalid_filenames\u001b[0m \u001b[0;34m=\u001b[0m \u001b[0msave_to_csv\u001b[0m\u001b[0;34m(\u001b[0m\u001b[0moutput_dir\u001b[0m\u001b[0;34m,\u001b[0m\u001b[0mvalid_data\u001b[0m\u001b[0;34m,\u001b[0m\u001b[0;34m'valid'\u001b[0m\u001b[0;34m,\u001b[0m\u001b[0mheader_str\u001b[0m\u001b[0;34m,\u001b[0m\u001b[0mn_parts\u001b[0m\u001b[0;34m=\u001b[0m\u001b[0;36m10\u001b[0m\u001b[0;34m)\u001b[0m\u001b[0;34m\u001b[0m\u001b[0;34m\u001b[0m\u001b[0m\n\u001b[1;32m     35\u001b[0m \u001b[0mtest_filenames\u001b[0m \u001b[0;34m=\u001b[0m \u001b[0msave_to_csv\u001b[0m\u001b[0;34m(\u001b[0m\u001b[0moutput_dir\u001b[0m\u001b[0;34m,\u001b[0m\u001b[0mtest_data\u001b[0m\u001b[0;34m,\u001b[0m\u001b[0;34m'test'\u001b[0m\u001b[0;34m,\u001b[0m\u001b[0mheader_str\u001b[0m\u001b[0;34m,\u001b[0m\u001b[0mn_parts\u001b[0m\u001b[0;34m=\u001b[0m\u001b[0;36m10\u001b[0m\u001b[0;34m)\u001b[0m\u001b[0;34m\u001b[0m\u001b[0;34m\u001b[0m\u001b[0m\n",
      "\u001b[0;32m<ipython-input-22-f0918593d15a>\u001b[0m in \u001b[0;36msave_to_csv\u001b[0;34m(output_dir, data, name_prefix, header, n_parts)\u001b[0m\n\u001b[1;32m     13\u001b[0m         \u001b[0mpart_csv\u001b[0m \u001b[0;34m=\u001b[0m \u001b[0mpath_format\u001b[0m\u001b[0;34m.\u001b[0m\u001b[0mformat\u001b[0m\u001b[0;34m(\u001b[0m\u001b[0mname_prefix\u001b[0m\u001b[0;34m,\u001b[0m\u001b[0mfile_idx\u001b[0m\u001b[0;34m)\u001b[0m\u001b[0;34m\u001b[0m\u001b[0;34m\u001b[0m\u001b[0m\n\u001b[1;32m     14\u001b[0m         \u001b[0mfilenames\u001b[0m\u001b[0;34m.\u001b[0m\u001b[0mappend\u001b[0m\u001b[0;34m(\u001b[0m\u001b[0mpart_csv\u001b[0m\u001b[0;34m)\u001b[0m\u001b[0;34m\u001b[0m\u001b[0;34m\u001b[0m\u001b[0m\n\u001b[0;32m---> 15\u001b[0;31m         \u001b[0;32mwith\u001b[0m \u001b[0mopen\u001b[0m\u001b[0;34m(\u001b[0m\u001b[0mpart_csv\u001b[0m\u001b[0;34m,\u001b[0m\u001b[0;34m'wt'\u001b[0m\u001b[0;34m,\u001b[0m\u001b[0mencoding\u001b[0m\u001b[0;34m=\u001b[0m\u001b[0;34m'utf-8'\u001b[0m\u001b[0;34m)\u001b[0m \u001b[0;32mas\u001b[0m \u001b[0mf\u001b[0m\u001b[0;34m:\u001b[0m\u001b[0;34m\u001b[0m\u001b[0;34m\u001b[0m\u001b[0m\n\u001b[0m\u001b[1;32m     16\u001b[0m             \u001b[0;32mif\u001b[0m \u001b[0mheader\u001b[0m \u001b[0;32mis\u001b[0m \u001b[0;32mnot\u001b[0m \u001b[0;32mNone\u001b[0m\u001b[0;34m:\u001b[0m\u001b[0;34m\u001b[0m\u001b[0;34m\u001b[0m\u001b[0m\n\u001b[1;32m     17\u001b[0m                 \u001b[0mf\u001b[0m\u001b[0;34m.\u001b[0m\u001b[0mwrite\u001b[0m\u001b[0;34m(\u001b[0m\u001b[0mheader\u001b[0m\u001b[0;34m+\u001b[0m\u001b[0;34m'\\n'\u001b[0m\u001b[0;34m)\u001b[0m\u001b[0;34m\u001b[0m\u001b[0;34m\u001b[0m\u001b[0m\n",
      "\u001b[0;31mFileNotFoundError\u001b[0m: [Errno 2] No such file or directory: 'data/generate_csv/train/00.csv'"
     ]
    }
   ],
   "source": [
    "output_dir = 'data/generate_csv'\n",
    "if not os.path.exists(output_dir):\n",
    "    os.mkdir(output_dir)\n",
    "def save_to_csv(output_dir, data , name_prefix, header=None,n_parts = 10):\n",
    "    path_format = os.path.join(output_dir, \"{}_{:02d}.csv\")\n",
    "#     path_format = os.path.join(output_dir, \"{}/{:02d}.csv\")\n",
    "\n",
    "\n",
    "    filenames = []\n",
    "    for file_idx,row_indices in enumerate(\n",
    "            np.array_split(np.arange(len(data)),n_parts)):\n",
    "        \n",
    "        part_csv = path_format.format(name_prefix,file_idx)\n",
    "        filenames.append(part_csv)\n",
    "        with open(part_csv,'wt',encoding='utf-8') as f:\n",
    "            if header is not None:\n",
    "                f.write(header+'\\n')\n",
    "            for row_index in row_indices:\n",
    "                f.write(','.join(\n",
    "                [repr(col) for col in data[row_index]]\n",
    "                ))\n",
    "                f.write('\\n')\n",
    "    return filenames\n",
    "        \n",
    "    \n",
    "    pass\n",
    "train_data = np.c_[x_train_scaled, y_train]\n",
    "test_data = np.c_[x_test_scaled, y_test]\n",
    "valid_data = np.c_[x_valid_scaled, y_valid]\n",
    "header_cols = housing.feature_names+[\"midianHouseValue\"]\n",
    "header_str = \",\".join(header_cols)\n",
    "\n",
    "train_filenames = save_to_csv(output_dir,train_data,'train',header_str,n_parts=20)\n",
    "valid_filenames = save_to_csv(output_dir,valid_data,'valid',header_str,n_parts=10)\n",
    "test_filenames = save_to_csv(output_dir,test_data,'test',header_str,n_parts=10)\n",
    "\n",
    "\n",
    "\n",
    "\n"
   ]
  },
  {
   "cell_type": "code",
   "execution_count": null,
   "metadata": {},
   "outputs": [],
   "source": [
    "print(housing.feature_names)"
   ]
  },
  {
   "cell_type": "code",
   "execution_count": null,
   "metadata": {},
   "outputs": [],
   "source": [
    "import pprint\n",
    "pprint.pprint(train_filenames)\n",
    "pprint.pprint(valid_filenames)\n",
    "pprint.pprint(test_filenames)"
   ]
  },
  {
   "cell_type": "code",
   "execution_count": null,
   "metadata": {},
   "outputs": [],
   "source": [
    "# filename -> dataset\n",
    "# read file -> dataset -> datasets -> merge\n",
    "filename_dataset = tf.data.Dataset.list_files(train_filenames)\n",
    "for filename in filename_dataset:\n",
    "    print(filename)"
   ]
  },
  {
   "cell_type": "code",
   "execution_count": null,
   "metadata": {},
   "outputs": [],
   "source": [
    "n_raaders = 5\n",
    "dataset = filename_dataset.interleave(\n",
    "    lambda filename: tf.data.TextLineDataset(filename).skip(1),#跳一行，省略header\n",
    "    cycle_length= n_raaders\n",
    ")\n",
    "for line in dataset.take(15):\n",
    "    print(line.numpy)\n"
   ]
  },
  {
   "cell_type": "code",
   "execution_count": null,
   "metadata": {},
   "outputs": [],
   "source": [
    "# rf.io.decode_csv(str, record_defaults)\n",
    "sample_str = '1,2,3,4,5'\n",
    "record_defaults = [tf.constant(0,dtype=tf.int32)] *5\n",
    "parsed_fields = tf.io.decode_csv(sample_str, record_defaults)\n",
    "print(parsed_fields)"
   ]
  },
  {
   "cell_type": "code",
   "execution_count": null,
   "metadata": {},
   "outputs": [],
   "source": [
    "# rf.io.decode_csv(str, record_defaults)\n",
    "sample_str = '1,2,3,4,5'\n",
    "record_defaults = [tf.constant(0,dtype=tf.int32),\n",
    "                           0,\n",
    "                           np.nan,\n",
    "                           'hello',\n",
    "                           tf.constant([])\n",
    "                  ]\n",
    "                            \n",
    "parsed_fields = tf.io.decode_csv(sample_str, record_defaults)\n",
    "print(parsed_fields)"
   ]
  },
  {
   "cell_type": "code",
   "execution_count": null,
   "metadata": {},
   "outputs": [],
   "source": [
    "try:\n",
    "    parsed_field = tf.io.decode_csv(',,,', record_defaults)\n",
    "except tf.errors.InvalidArgumentError as ex:\n",
    "    print(ex)"
   ]
  },
  {
   "cell_type": "code",
   "execution_count": null,
   "metadata": {},
   "outputs": [],
   "source": [
    "try:\n",
    "    parsed_field = tf.io.decode_csv('1,2,3,4,5,5,6', record_defaults)\n",
    "except tf.errors.InvalidArgumentError as ex:\n",
    "    print(ex)"
   ]
  },
  {
   "cell_type": "code",
   "execution_count": 6,
   "metadata": {},
   "outputs": [
    {
     "data": {
      "text/plain": [
       "(<tf.Tensor: id=11, shape=(8,), dtype=float32, numpy=\n",
       " array([-1.119975  , -1.3298433 ,  0.14190045,  0.4658137 , -0.10301778,\n",
       "        -0.10744184, -0.7950524 ,  1.5304717 ], dtype=float32)>,\n",
       " <tf.Tensor: id=12, shape=(1,), dtype=float32, numpy=array([0.6674569], dtype=float32)>)"
      ]
     },
     "execution_count": 6,
     "metadata": {},
     "output_type": "execute_result"
    }
   ],
   "source": [
    " def parse_csv_line(line, n_fields=9):\n",
    "        defs = [tf.constant(np.nan)]*n_fields\n",
    "        parsed_fields = tf.io.decode_csv(line,record_defaults=defs)\n",
    "        x = tf.stack(parsed_fields[0:-1])\n",
    "        y = tf.stack(parsed_fields[-1:])\n",
    "        return x,y\n",
    "    \n",
    "    \n",
    "parse_csv_line('-1.1199749330438333,-1.329843308393715,0.1419004518620726,0.4658136987980791,-0.10301777467500105,-0.10744184416176107,-0.7950524078397521,1.530471676340,0.6674569',\n",
    "               n_fields = 9)\n",
    "\n"
   ]
  },
  {
   "cell_type": "code",
   "execution_count": 8,
   "metadata": {},
   "outputs": [
    {
     "name": "stdout",
     "output_type": "stream",
     "text": [
      "x:\n",
      "<tf.Tensor: id=182, shape=(3, 8), dtype=float32, numpy=\n",
      "array([[ 0.04326301, -1.0895426 , -0.38878718, -0.10789865, -0.68186635,\n",
      "        -0.0723871 , -0.8883662 ,  0.8213992 ],\n",
      "       [-0.82195884,  1.8741661 ,  0.1821235 , -0.03170019, -0.6011179 ,\n",
      "        -0.14337493,  1.0852206 , -0.8613995 ],\n",
      "       [-0.66722274, -0.04823952,  0.34529406,  0.53826684,  1.8521839 ,\n",
      "        -0.06112538, -0.8417093 ,  1.5204847 ]], dtype=float32)>\n",
      "y\n",
      "<tf.Tensor: id=183, shape=(3, 1), dtype=float32, numpy=\n",
      "array([[1.426],\n",
      "       [1.054],\n",
      "       [1.59 ]], dtype=float32)>\n",
      "x:\n",
      "<tf.Tensor: id=184, shape=(3, 8), dtype=float32, numpy=\n",
      "array([[ 0.63636464, -1.0895426 ,  0.09260903, -0.20538124,  1.2025671 ,\n",
      "        -0.03630123, -0.6784102 ,  0.18223535],\n",
      "       [ 2.5150437 ,  1.0731637 ,  0.5574401 , -0.17273512, -0.6129126 ,\n",
      "        -0.01909157, -0.5710993 , -0.02749031],\n",
      "       [-0.7543417 , -0.92934215, -0.92127204,  0.12428068, -0.598396  ,\n",
      "        -0.18494336, -0.81838083,  0.85136   ]], dtype=float32)>\n",
      "y\n",
      "<tf.Tensor: id=185, shape=(3, 1), dtype=float32, numpy=\n",
      "array([[2.429  ],\n",
      "       [5.00001],\n",
      "       [1.717  ]], dtype=float32)>\n"
     ]
    }
   ],
   "source": [
    "#1. filename -> dataset\n",
    "#2. read file -> dataset -> datasets -> merge\n",
    "#3. parse csv\n",
    "def csv_resder_dataset(filenames, n_readers=5,\n",
    "                                  batch_size =32, n_parse_threads=5,\n",
    "                                shuffle_buffer_size=10000):\n",
    "    dataset = tf.data.Dataset.list_files(filenames)\n",
    "    dataset = dataset.repeat()\n",
    "    dataset = dataset.interleave(\n",
    "            lambda filename: tf.data.TextLineDataset(filename).skip(1),\n",
    "            cycle_length = n_readers\n",
    "                )\n",
    "    dataset.shuffle(shuffle_buffer_size)\n",
    "    dataset = dataset.map(parse_csv_line, \n",
    "                          num_parallel_calls=n_parse_threads)\n",
    "    dataset = dataset.batch(batch_size)\n",
    "    return dataset\n",
    "\n",
    "train_set = csv_resder_dataset(train_filenames,\n",
    "                               batch_size=3)\n",
    "import pprint\n",
    "for x_batch, y_batch in train_set.take(2):\n",
    "    \n",
    "    print('x:')\n",
    "    pprint.pprint(x_batch)\n",
    "    print('y')\n",
    "    pprint.pprint(y_batch)\n",
    "    "
   ]
  },
  {
   "cell_type": "code",
   "execution_count": 10,
   "metadata": {},
   "outputs": [],
   "source": [
    "batch_size = 32\n",
    "train_set = csv_resder_dataset(train_filenames,\n",
    "                                            batch_size = batch_size)\n",
    "valit_set = csv_resder_dataset(valid_filenames,\n",
    "                                            batch_size = batch_size)\n",
    "test_set = csv_resder_dataset(test_filenames,\n",
    "                                            batch_size = batch_size)"
   ]
  },
  {
   "cell_type": "code",
   "execution_count": 12,
   "metadata": {},
   "outputs": [
    {
     "name": "stdout",
     "output_type": "stream",
     "text": [
      "Model: \"sequential\"\n",
      "_________________________________________________________________\n",
      "Layer (type)                 Output Shape              Param #   \n",
      "=================================================================\n",
      "dense_2 (Dense)              (None, 30)                270       \n",
      "_________________________________________________________________\n",
      "dense_3 (Dense)              (None, 1)                 31        \n",
      "=================================================================\n",
      "Total params: 301\n",
      "Trainable params: 301\n",
      "Non-trainable params: 0\n",
      "_________________________________________________________________\n"
     ]
    }
   ],
   "source": [
    "model = keras.models.Sequential([\n",
    "    keras.layers.Dense(30,activation='relu',input_shape=[8]),\n",
    "    keras.layers.Dense(1),\n",
    "                 ])\n",
    "model.compile(loss='mean_squared_error',\n",
    "             optimizer = 'nadam',# SGD -> SGDM -> NAG ->AdaGrad -> AdaDelta -> Adam -> Nadam\n",
    "             )\n",
    "model.summary()"
   ]
  },
  {
   "cell_type": "code",
   "execution_count": 14,
   "metadata": {},
   "outputs": [
    {
     "name": "stdout",
     "output_type": "stream",
     "text": [
      "Train for 348 steps, validate for 120 steps\n",
      "Epoch 1/5\n",
      "348/348 [==============================] - 6s 17ms/step - loss: 1.3302 - val_loss: 0.6988\n",
      "Epoch 2/5\n",
      "348/348 [==============================] - 3s 9ms/step - loss: 0.5684 - val_loss: 0.5574\n",
      "Epoch 3/5\n",
      "348/348 [==============================] - 3s 9ms/step - loss: 0.4767 - val_loss: 0.4787\n",
      "Epoch 4/5\n",
      "348/348 [==============================] - 3s 9ms/step - loss: 0.4267 - val_loss: 0.4409\n",
      "Epoch 5/5\n",
      "348/348 [==============================] - 3s 9ms/step - loss: 0.4172 - val_loss: 0.4201\n"
     ]
    }
   ],
   "source": [
    "callbacks = [keras.callbacks.EarlyStopping(patience=5,min_delta=1e-2)]\n",
    "history = model.fit(train_set,epochs=5,\n",
    "                    steps_per_epoch = 11160//batch_size,\n",
    "                    validation_steps = 3870//batch_size,\n",
    "                  validation_data=valit_set, \n",
    "                  callbacks= callbacks )"
   ]
  },
  {
   "cell_type": "code",
   "execution_count": 16,
   "metadata": {},
   "outputs": [
    {
     "name": "stdout",
     "output_type": "stream",
     "text": [
      "161/161 [==============================] - 1s 6ms/step - loss: 0.4255\n"
     ]
    },
    {
     "data": {
      "text/plain": [
       "0.42547776536171483"
      ]
     },
     "execution_count": 16,
     "metadata": {},
     "output_type": "execute_result"
    }
   ],
   "source": [
    "model.evaluate(test_set, steps = 5160//batch_size)"
   ]
  },
  {
   "cell_type": "code",
   "execution_count": null,
   "metadata": {},
   "outputs": [],
   "source": []
  }
 ],
 "metadata": {
  "kernelspec": {
   "display_name": "Python 3",
   "language": "python",
   "name": "python3"
  },
  "language_info": {
   "codemirror_mode": {
    "name": "ipython",
    "version": 3
   },
   "file_extension": ".py",
   "mimetype": "text/x-python",
   "name": "python",
   "nbconvert_exporter": "python",
   "pygments_lexer": "ipython3",
   "version": "3.7.6"
  }
 },
 "nbformat": 4,
 "nbformat_minor": 4
}
