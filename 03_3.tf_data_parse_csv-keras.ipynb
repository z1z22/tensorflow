{
 "cells": [
  {
   "cell_type": "code",
   "execution_count": 1,
   "metadata": {},
   "outputs": [
    {
     "name": "stdout",
     "output_type": "stream",
     "text": [
      "2.0.0\n"
     ]
    }
   ],
   "source": [
    "import numpy as np\n",
    "import pandas as pd\n",
    "import os\n",
    "import tensorflow as tf\n",
    "\n",
    "from tensorflow import keras\n",
    "print(tf.__version__)\n"
   ]
  },
  {
   "cell_type": "code",
   "execution_count": 2,
   "metadata": {},
   "outputs": [
    {
     "name": "stdout",
     "output_type": "stream",
     "text": [
      "(20640, 8)\n",
      "(20640,)\n"
     ]
    }
   ],
   "source": [
    "from sklearn.datasets import fetch_california_housing\n",
    "\n",
    "housing = fetch_california_housing()\n",
    "\n",
    "# print(housing.DESCR)\n",
    "print(housing.data.shape)\n",
    "print(housing.target.shape)\n"
   ]
  },
  {
   "cell_type": "code",
   "execution_count": 3,
   "metadata": {},
   "outputs": [],
   "source": [
    "from sklearn.model_selection import train_test_split\n",
    "\n",
    "x_train_all,x_test,y_train_all,y_test=train_test_split(housing.data, housing.target,random_state=7)\n",
    "x_train, x_valid, y_train, y_valid = train_test_split(x_train_all,y_train_all,random_state=11)"
   ]
  },
  {
   "cell_type": "code",
   "execution_count": 4,
   "metadata": {},
   "outputs": [],
   "source": [
    "from sklearn.preprocessing import StandardScaler\n",
    "transfer = StandardScaler()\n",
    "x_train_scaled = transfer.fit_transform(x_train)\n",
    "x_test_scaled = transfer.transform(x_test)\n",
    "x_valid_scaled = transfer.transform(x_valid)"
   ]
  },
  {
   "cell_type": "code",
   "execution_count": 5,
   "metadata": {},
   "outputs": [],
   "source": [
    "output_dir = 'data/generate_csv'\n",
    "if not os.path.exists(output_dir):\n",
    "    os.mkdir(output_dir)\n",
    "def save_to_csv(output_dir, data , name_prefix, header=None,n_parts = 10):\n",
    "    path_format = os.path.join(output_dir, \"{}_{:02d}.csv\")\n",
    "#     path_format = os.path.join(output_dir, \"{}/{:02d}.csv\")\n",
    "\n",
    "\n",
    "    filenames = []\n",
    "    for file_idx,row_indices in enumerate(\n",
    "            np.array_split(np.arange(len(data)),n_parts)):\n",
    "        \n",
    "        part_csv = path_format.format(name_prefix,file_idx)\n",
    "        filenames.append(part_csv)\n",
    "        with open(part_csv,'wt',encoding='utf-8') as f:\n",
    "            if header is not None:\n",
    "                f.write(header +'\\n')\n",
    "            for row_index in row_indices:\n",
    "                f.write(','.join(\n",
    "                [repr(col) for col in data[row_index]]\n",
    "                ))\n",
    "                f.write('\\n')\n",
    "    return filenames\n",
    "        \n",
    "    \n",
    "    pass\n",
    "train_data = np.c_[x_train_scaled, y_train]\n",
    "test_data = np.c_[x_test_scaled, y_test]\n",
    "valid_data = np.c_[x_valid_scaled, y_valid]\n",
    "header_cols = housing.feature_names+[\"midianHouseValue\"]\n",
    "header_str = \",\".join(header_cols)\n",
    "\n",
    "train_filenames = save_to_csv(output_dir,train_data,'train',header_str,n_parts=20)\n",
    "valid_filenames = save_to_csv(output_dir,valid_data,'valid',header_str,n_parts=10)\n",
    "test_filenames = save_to_csv(output_dir,test_data,'test',header_str,n_parts=10)\n",
    "\n",
    "\n",
    "\n",
    "\n"
   ]
  },
  {
   "cell_type": "code",
   "execution_count": 6,
   "metadata": {},
   "outputs": [
    {
     "name": "stdout",
     "output_type": "stream",
     "text": [
      "['MedInc', 'HouseAge', 'AveRooms', 'AveBedrms', 'Population', 'AveOccup', 'Latitude', 'Longitude']\n"
     ]
    }
   ],
   "source": [
    "print(housing.feature_names)"
   ]
  },
  {
   "cell_type": "code",
   "execution_count": 7,
   "metadata": {},
   "outputs": [
    {
     "name": "stdout",
     "output_type": "stream",
     "text": [
      "['data/generate_csv/train_00.csv',\n",
      " 'data/generate_csv/train_01.csv',\n",
      " 'data/generate_csv/train_02.csv',\n",
      " 'data/generate_csv/train_03.csv',\n",
      " 'data/generate_csv/train_04.csv',\n",
      " 'data/generate_csv/train_05.csv',\n",
      " 'data/generate_csv/train_06.csv',\n",
      " 'data/generate_csv/train_07.csv',\n",
      " 'data/generate_csv/train_08.csv',\n",
      " 'data/generate_csv/train_09.csv',\n",
      " 'data/generate_csv/train_10.csv',\n",
      " 'data/generate_csv/train_11.csv',\n",
      " 'data/generate_csv/train_12.csv',\n",
      " 'data/generate_csv/train_13.csv',\n",
      " 'data/generate_csv/train_14.csv',\n",
      " 'data/generate_csv/train_15.csv',\n",
      " 'data/generate_csv/train_16.csv',\n",
      " 'data/generate_csv/train_17.csv',\n",
      " 'data/generate_csv/train_18.csv',\n",
      " 'data/generate_csv/train_19.csv']\n",
      "['data/generate_csv/valid_00.csv',\n",
      " 'data/generate_csv/valid_01.csv',\n",
      " 'data/generate_csv/valid_02.csv',\n",
      " 'data/generate_csv/valid_03.csv',\n",
      " 'data/generate_csv/valid_04.csv',\n",
      " 'data/generate_csv/valid_05.csv',\n",
      " 'data/generate_csv/valid_06.csv',\n",
      " 'data/generate_csv/valid_07.csv',\n",
      " 'data/generate_csv/valid_08.csv',\n",
      " 'data/generate_csv/valid_09.csv']\n",
      "['data/generate_csv/test_00.csv',\n",
      " 'data/generate_csv/test_01.csv',\n",
      " 'data/generate_csv/test_02.csv',\n",
      " 'data/generate_csv/test_03.csv',\n",
      " 'data/generate_csv/test_04.csv',\n",
      " 'data/generate_csv/test_05.csv',\n",
      " 'data/generate_csv/test_06.csv',\n",
      " 'data/generate_csv/test_07.csv',\n",
      " 'data/generate_csv/test_08.csv',\n",
      " 'data/generate_csv/test_09.csv']\n"
     ]
    }
   ],
   "source": [
    "import pprint\n",
    "pprint.pprint(train_filenames)\n",
    "pprint.pprint(valid_filenames)\n",
    "pprint.pprint(test_filenames)"
   ]
  },
  {
   "cell_type": "code",
   "execution_count": 8,
   "metadata": {},
   "outputs": [
    {
     "name": "stdout",
     "output_type": "stream",
     "text": [
      "tf.Tensor(b'data/generate_csv/train_14.csv', shape=(), dtype=string)\n",
      "tf.Tensor(b'data/generate_csv/train_11.csv', shape=(), dtype=string)\n",
      "tf.Tensor(b'data/generate_csv/train_10.csv', shape=(), dtype=string)\n",
      "tf.Tensor(b'data/generate_csv/train_07.csv', shape=(), dtype=string)\n",
      "tf.Tensor(b'data/generate_csv/train_12.csv', shape=(), dtype=string)\n",
      "tf.Tensor(b'data/generate_csv/train_15.csv', shape=(), dtype=string)\n",
      "tf.Tensor(b'data/generate_csv/train_13.csv', shape=(), dtype=string)\n",
      "tf.Tensor(b'data/generate_csv/train_00.csv', shape=(), dtype=string)\n",
      "tf.Tensor(b'data/generate_csv/train_16.csv', shape=(), dtype=string)\n",
      "tf.Tensor(b'data/generate_csv/train_09.csv', shape=(), dtype=string)\n",
      "tf.Tensor(b'data/generate_csv/train_08.csv', shape=(), dtype=string)\n",
      "tf.Tensor(b'data/generate_csv/train_19.csv', shape=(), dtype=string)\n",
      "tf.Tensor(b'data/generate_csv/train_03.csv', shape=(), dtype=string)\n",
      "tf.Tensor(b'data/generate_csv/train_01.csv', shape=(), dtype=string)\n",
      "tf.Tensor(b'data/generate_csv/train_02.csv', shape=(), dtype=string)\n",
      "tf.Tensor(b'data/generate_csv/train_05.csv', shape=(), dtype=string)\n",
      "tf.Tensor(b'data/generate_csv/train_18.csv', shape=(), dtype=string)\n",
      "tf.Tensor(b'data/generate_csv/train_06.csv', shape=(), dtype=string)\n",
      "tf.Tensor(b'data/generate_csv/train_17.csv', shape=(), dtype=string)\n",
      "tf.Tensor(b'data/generate_csv/train_04.csv', shape=(), dtype=string)\n"
     ]
    }
   ],
   "source": [
    "# filename -> dataset\n",
    "# read file -> dataset -> datasets -> merge\n",
    "filename_dataset = tf.data.Dataset.list_files(train_filenames)\n",
    "for filename in filename_dataset:\n",
    "    print(filename)"
   ]
  },
  {
   "cell_type": "code",
   "execution_count": 9,
   "metadata": {},
   "outputs": [
    {
     "name": "stdout",
     "output_type": "stream",
     "text": [
      "<bound method _EagerTensorBase.numpy of <tf.Tensor: id=79, shape=(), dtype=string, numpy=b'0.04971034572063198,-0.8492418886278699,-0.06214699417830008,0.17878747064657746,-0.8025354230744277,0.0005066066922077538,0.6466457006743215,-1.1060793768010604,2.286'>>\n",
      "<bound method _EagerTensorBase.numpy of <tf.Tensor: id=80, shape=(), dtype=string, numpy=b'0.15782311132800697,0.43236189741438374,0.3379948076652917,-0.015880306122244434,-0.3733890577139493,-0.05305245634489608,0.8006134598360177,-1.2359095422966828,3.169'>>\n",
      "<bound method _EagerTensorBase.numpy of <tf.Tensor: id=81, shape=(), dtype=string, numpy=b'2.51504373119231,1.0731637904355105,0.5574401201546321,-0.17273513019187772,-0.612912610473286,-0.01909156503651574,-0.5710993036045546,-0.027490309606616956,5.00001'>>\n",
      "<bound method _EagerTensorBase.numpy of <tf.Tensor: id=82, shape=(), dtype=string, numpy=b'0.04326300977263167,-1.0895425985107923,-0.38878716774583305,-0.10789864528874438,-0.6818663605100649,-0.0723871014747467,-0.8883662012710817,0.8213992340186296,1.426'>>\n",
      "<bound method _EagerTensorBase.numpy of <tf.Tensor: id=83, shape=(), dtype=string, numpy=b'-0.32652634129448693,0.43236189741438374,-0.09345459539684739,-0.08402991822890092,0.8460035745154013,-0.0266316482653991,-0.5617679242614233,0.1422875991184281,2.431'>>\n",
      "<bound method _EagerTensorBase.numpy of <tf.Tensor: id=84, shape=(), dtype=string, numpy=b'-1.453851024367546,1.874166156711919,-1.1315714708271856,0.3611276016530489,-0.3978857847006997,-0.03273859332533962,-0.7390641317809511,0.646627857389904,1.875'>>\n",
      "<bound method _EagerTensorBase.numpy of <tf.Tensor: id=85, shape=(), dtype=string, numpy=b'2.2878417437355094,-1.8905449647872008,0.6607106467795992,-0.14964778023694128,-0.06672632728722275,0.44788055801575993,-0.5337737862320228,0.5667323709310584,3.59'>>\n",
      "<bound method _EagerTensorBase.numpy of <tf.Tensor: id=86, shape=(), dtype=string, numpy=b'1.8444675088321243,0.5124621340420246,0.505783649224786,-0.20645711406004988,-0.021362018052499883,-0.05811312281214649,0.8332732875369839,-1.2658703497187516,4.513'>>\n",
      "<bound method _EagerTensorBase.numpy of <tf.Tensor: id=87, shape=(), dtype=string, numpy=b'-0.7543417158936074,-0.9293421252555106,-0.9212720434835953,0.1242806741969112,-0.5983960315181748,-0.18494335623235414,-0.8183808561975836,0.8513600414406984,1.717'>>\n",
      "<bound method _EagerTensorBase.numpy of <tf.Tensor: id=88, shape=(), dtype=string, numpy=b'2.2754266257529974,-1.249743071766074,1.0294788075585177,-0.17124431895714504,-0.45413752815175606,0.10527151658164971,-0.9023632702857819,0.9012947204774823,3.798'>>\n",
      "<bound method _EagerTensorBase.numpy of <tf.Tensor: id=89, shape=(), dtype=string, numpy=b'-1.1179501498535522,0.3522616607867429,-0.17415480367337632,0.1029357335256435,-0.24364713330264193,-0.06195252491676357,1.9063819119972951,-1.1210597805120879,0.603'>>\n",
      "<bound method _EagerTensorBase.numpy of <tf.Tensor: id=90, shape=(), dtype=string, numpy=b'0.3798565732727743,-1.5701440182766375,0.4541195259524651,-0.13374802152613807,-0.28356772542919806,-0.04747003172530946,-0.3191520613399599,-0.41698080609349797,1.901'>>\n",
      "<bound method _EagerTensorBase.numpy of <tf.Tensor: id=91, shape=(), dtype=string, numpy=b'-0.8109823614533115,0.43236189741438374,-0.09614708870040699,-0.011052490243107498,-0.5884158834865357,-0.15275615510545787,-1.3036125820405071,1.15096811566138,4.889'>>\n",
      "<bound method _EagerTensorBase.numpy of <tf.Tensor: id=92, shape=(), dtype=string, numpy=b'0.18702261628258646,-0.20843999560674303,0.005869659830725365,-0.2645340092721605,-0.011381870020860852,-0.015878889894211247,0.05876880205693385,0.17224840654049697,0.84'>>\n",
      "<bound method _EagerTensorBase.numpy of <tf.Tensor: id=93, shape=(), dtype=string, numpy=b'-0.4394346460367383,0.1920611875314612,-0.39172440230167493,-0.06233787211356993,0.682692061270399,-0.012080008421921133,0.935918460311448,-1.2458964781040367,1.618'>>\n"
     ]
    }
   ],
   "source": [
    "n_raaders = 5\n",
    "dataset = filename_dataset.interleave(\n",
    "    lambda filename: tf.data.TextLineDataset(filename).skip(1),#跳一行，省略header\n",
    "    cycle_length= n_raaders\n",
    ")\n",
    "for line in dataset.take(15):\n",
    "    print(line.numpy)\n"
   ]
  },
  {
   "cell_type": "code",
   "execution_count": 10,
   "metadata": {},
   "outputs": [
    {
     "name": "stdout",
     "output_type": "stream",
     "text": [
      "[<tf.Tensor: id=96, shape=(), dtype=int32, numpy=1>, <tf.Tensor: id=97, shape=(), dtype=int32, numpy=2>, <tf.Tensor: id=98, shape=(), dtype=int32, numpy=3>, <tf.Tensor: id=99, shape=(), dtype=int32, numpy=4>, <tf.Tensor: id=100, shape=(), dtype=int32, numpy=5>]\n"
     ]
    }
   ],
   "source": [
    "# rf.io.decode_csv(str, record_defaults)\n",
    "sample_str = '1,2,3,4,5'\n",
    "record_defaults = [tf.constant(0,dtype=tf.int32)] *5\n",
    "parsed_fields = tf.io.decode_csv(sample_str, record_defaults)\n",
    "print(parsed_fields)"
   ]
  },
  {
   "cell_type": "code",
   "execution_count": 14,
   "metadata": {},
   "outputs": [
    {
     "name": "stdout",
     "output_type": "stream",
     "text": [
      "[<tf.Tensor: id=126, shape=(), dtype=int32, numpy=1>, <tf.Tensor: id=127, shape=(), dtype=float32, numpy=2.0>, <tf.Tensor: id=128, shape=(), dtype=float32, numpy=3.0>, <tf.Tensor: id=129, shape=(), dtype=string, numpy=b'4'>, <tf.Tensor: id=130, shape=(), dtype=float32, numpy=5.0>]\n"
     ]
    }
   ],
   "source": [
    "# rf.io.decode_csv(str, record_defaults)\n",
    "sample_str = '1,2,3,4,5'\n",
    "record_defaults = [tf.constant(0,dtype=tf.int32),# 指定每一列的dtype列表，指定类型或者，示例类型代表数据类型，\n",
    "                           0.,\n",
    "                           np.nan,#non为不指定，默认为float32\n",
    "                           'hello',\n",
    "                           tf.constant([])\n",
    "                  ]\n",
    "                            \n",
    "parsed_fields = tf.io.decode_csv(sample_str, record_defaults)\n",
    "print(parsed_fields)"
   ]
  },
  {
   "cell_type": "code",
   "execution_count": 12,
   "metadata": {},
   "outputs": [
    {
     "name": "stdout",
     "output_type": "stream",
     "text": [
      "Expect 5 fields but have 4 in record 0 [Op:DecodeCSV]\n"
     ]
    }
   ],
   "source": [
    "try:\n",
    "    parsed_field = tf.io.decode_csv(',,,', record_defaults)\n",
    "except tf.errors.InvalidArgumentError as ex:\n",
    "    print(ex)"
   ]
  },
  {
   "cell_type": "code",
   "execution_count": 13,
   "metadata": {},
   "outputs": [
    {
     "name": "stdout",
     "output_type": "stream",
     "text": [
      "Expect 5 fields but have 7 in record 0 [Op:DecodeCSV]\n"
     ]
    }
   ],
   "source": [
    "try:\n",
    "    parsed_field = tf.io.decode_csv('1,2,3,4,5,5,6', record_defaults)\n",
    "except tf.errors.InvalidArgumentError as ex:\n",
    "    print(ex)"
   ]
  },
  {
   "cell_type": "code",
   "execution_count": 16,
   "metadata": {},
   "outputs": [
    {
     "data": {
      "text/plain": [
       "(<tf.Tensor: id=163, shape=(8,), dtype=float32, numpy=\n",
       " array([-1.119975  , -1.3298433 ,  0.14190045,  0.4658137 , -0.10301778,\n",
       "        -0.10744184, -0.7950524 ,  1.5304717 ], dtype=float32)>,\n",
       " <tf.Tensor: id=164, shape=(1,), dtype=float32, numpy=array([0.6674569], dtype=float32)>)"
      ]
     },
     "execution_count": 16,
     "metadata": {},
     "output_type": "execute_result"
    }
   ],
   "source": [
    " def parse_csv_line(line, n_fields=9):\n",
    "        defs = [tf.constant(np.nan)]*n_fields\n",
    "        parsed_fields = tf.io.decode_csv(line,record_defaults=defs)\n",
    "        x = tf.stack(parsed_fields[0:-1])\n",
    "        y = tf.stack(parsed_fields[-1:])\n",
    "        return x,y\n",
    "    \n",
    "    \n",
    "parse_csv_line('-1.1199749330438333,-1.329843308393715,0.1419004518620726,0.4658136987980791,-0.10301777467500105,-0.10744184416176107,-0.7950524078397521,1.530471676340,0.6674569',\n",
    "               n_fields = 9)\n",
    "\n"
   ]
  },
  {
   "cell_type": "code",
   "execution_count": 8,
   "metadata": {},
   "outputs": [
    {
     "name": "stdout",
     "output_type": "stream",
     "text": [
      "x:\n",
      "<tf.Tensor: id=182, shape=(3, 8), dtype=float32, numpy=\n",
      "array([[ 0.04326301, -1.0895426 , -0.38878718, -0.10789865, -0.68186635,\n",
      "        -0.0723871 , -0.8883662 ,  0.8213992 ],\n",
      "       [-0.82195884,  1.8741661 ,  0.1821235 , -0.03170019, -0.6011179 ,\n",
      "        -0.14337493,  1.0852206 , -0.8613995 ],\n",
      "       [-0.66722274, -0.04823952,  0.34529406,  0.53826684,  1.8521839 ,\n",
      "        -0.06112538, -0.8417093 ,  1.5204847 ]], dtype=float32)>\n",
      "y\n",
      "<tf.Tensor: id=183, shape=(3, 1), dtype=float32, numpy=\n",
      "array([[1.426],\n",
      "       [1.054],\n",
      "       [1.59 ]], dtype=float32)>\n",
      "x:\n",
      "<tf.Tensor: id=184, shape=(3, 8), dtype=float32, numpy=\n",
      "array([[ 0.63636464, -1.0895426 ,  0.09260903, -0.20538124,  1.2025671 ,\n",
      "        -0.03630123, -0.6784102 ,  0.18223535],\n",
      "       [ 2.5150437 ,  1.0731637 ,  0.5574401 , -0.17273512, -0.6129126 ,\n",
      "        -0.01909157, -0.5710993 , -0.02749031],\n",
      "       [-0.7543417 , -0.92934215, -0.92127204,  0.12428068, -0.598396  ,\n",
      "        -0.18494336, -0.81838083,  0.85136   ]], dtype=float32)>\n",
      "y\n",
      "<tf.Tensor: id=185, shape=(3, 1), dtype=float32, numpy=\n",
      "array([[2.429  ],\n",
      "       [5.00001],\n",
      "       [1.717  ]], dtype=float32)>\n"
     ]
    }
   ],
   "source": [
    "#1. filename -> dataset\n",
    "#2. read file -> dataset -> datasets -> merge\n",
    "#3. parse csv\n",
    "def csv_reader_dataset(filenames, n_readers=5,\n",
    "                                  batch_size =32, n_parse_threads=5,\n",
    "                                shuffle_buffer_size=10000):\n",
    "    dataset = tf.data.Dataset.list_files(filenames)\n",
    "    dataset = dataset.repeat()\n",
    "    dataset = dataset.interleave(\n",
    "            lambda filename: tf.data.TextLineDataset(filename).skip(1),\n",
    "            cycle_length = n_readers\n",
    "                )\n",
    "    dataset.shuffle(shuffle_buffer_size)\n",
    "    dataset = dataset.map(parse_csv_line, \n",
    "                          num_parallel_calls=n_parse_threads)\n",
    "    dataset = dataset.batch(batch_size)\n",
    "    return dataset\n",
    "\n",
    "train_set = csv_reader_dataset(train_filenames,\n",
    "                               batch_size=3)\n",
    "import pprint\n",
    "for x_batch, y_batch in train_set.take(2):\n",
    "    \n",
    "    print('x:')\n",
    "    pprint.pprint(x_batch)\n",
    "    print('y')\n",
    "    pprint.pprint(y_batch)\n",
    "    "
   ]
  },
  {
   "cell_type": "code",
   "execution_count": 10,
   "metadata": {},
   "outputs": [],
   "source": [
    "batch_size = 32\n",
    "train_set = csv_reader_dataset(train_filenames,\n",
    "                                 batch_size = batch_size)\n",
    "valit_set = csv_reader_dataset(valid_filenames,\n",
    "                                 batch_size = batch_size)\n",
    "test_set = csv_reader_dataset(test_filenames,\n",
    "                                 batch_size = batch_size)"
   ]
  },
  {
   "cell_type": "code",
   "execution_count": 12,
   "metadata": {},
   "outputs": [
    {
     "name": "stdout",
     "output_type": "stream",
     "text": [
      "Model: \"sequential\"\n",
      "_________________________________________________________________\n",
      "Layer (type)                 Output Shape              Param #   \n",
      "=================================================================\n",
      "dense_2 (Dense)              (None, 30)                270       \n",
      "_________________________________________________________________\n",
      "dense_3 (Dense)              (None, 1)                 31        \n",
      "=================================================================\n",
      "Total params: 301\n",
      "Trainable params: 301\n",
      "Non-trainable params: 0\n",
      "_________________________________________________________________\n"
     ]
    }
   ],
   "source": [
    "model = keras.models.Sequential([\n",
    "    keras.layers.Dense(30,activation='relu',input_shape=[8]),\n",
    "    keras.layers.Dense(1),\n",
    "                 ])\n",
    "model.compile(loss='mean_squared_error',\n",
    "             optimizer = 'nadam',# SGD -> SGDM -> NAG ->AdaGrad -> AdaDelta -> Adam -> Nadam\n",
    "             )\n",
    "model.summary()"
   ]
  },
  {
   "cell_type": "code",
   "execution_count": 14,
   "metadata": {},
   "outputs": [
    {
     "name": "stdout",
     "output_type": "stream",
     "text": [
      "Train for 348 steps, validate for 120 steps\n",
      "Epoch 1/5\n",
      "348/348 [==============================] - 6s 17ms/step - loss: 1.3302 - val_loss: 0.6988\n",
      "Epoch 2/5\n",
      "348/348 [==============================] - 3s 9ms/step - loss: 0.5684 - val_loss: 0.5574\n",
      "Epoch 3/5\n",
      "348/348 [==============================] - 3s 9ms/step - loss: 0.4767 - val_loss: 0.4787\n",
      "Epoch 4/5\n",
      "348/348 [==============================] - 3s 9ms/step - loss: 0.4267 - val_loss: 0.4409\n",
      "Epoch 5/5\n",
      "348/348 [==============================] - 3s 9ms/step - loss: 0.4172 - val_loss: 0.4201\n"
     ]
    }
   ],
   "source": [
    "callbacks = [keras.callbacks.EarlyStopping(patience=5,min_delta=1e-2)]\n",
    "history = model.fit(train_set,epochs=5,\n",
    "                    steps_per_epoch = 11160//batch_size,\n",
    "                    validation_steps = 3870//batch_size,\n",
    "                  validation_data=valit_set, \n",
    "                  callbacks= callbacks )"
   ]
  },
  {
   "cell_type": "code",
   "execution_count": 16,
   "metadata": {},
   "outputs": [
    {
     "name": "stdout",
     "output_type": "stream",
     "text": [
      "161/161 [==============================] - 1s 6ms/step - loss: 0.4255\n"
     ]
    },
    {
     "data": {
      "text/plain": [
       "0.42547776536171483"
      ]
     },
     "execution_count": 16,
     "metadata": {},
     "output_type": "execute_result"
    }
   ],
   "source": [
    "model.evaluate(test_set, steps = 5160//batch_size)"
   ]
  },
  {
   "cell_type": "code",
   "execution_count": null,
   "metadata": {},
   "outputs": [],
   "source": []
  }
 ],
 "metadata": {
  "kernelspec": {
   "display_name": "Python 3",
   "language": "python",
   "name": "python3"
  },
  "language_info": {
   "codemirror_mode": {
    "name": "ipython",
    "version": 3
   },
   "file_extension": ".py",
   "mimetype": "text/x-python",
   "name": "python",
   "nbconvert_exporter": "python",
   "pygments_lexer": "ipython3",
   "version": "3.7.6"
  }
 },
 "nbformat": 4,
 "nbformat_minor": 4
}
