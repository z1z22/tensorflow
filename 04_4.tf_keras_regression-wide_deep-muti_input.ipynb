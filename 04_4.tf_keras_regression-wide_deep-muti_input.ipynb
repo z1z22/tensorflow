{
 "cells": [
  {
   "cell_type": "markdown",
   "metadata": {},
   "source": [
    "# 实现wide&deep多输入"
   ]
  },
  {
   "cell_type": "code",
   "execution_count": 1,
   "metadata": {},
   "outputs": [
    {
     "name": "stdout",
     "output_type": "stream",
     "text": [
      "2.0.0\n",
      "sys.version_info(major=3, minor=7, micro=6, releaselevel='final', serial=0)\n",
      "numpy 1.18.1\n",
      "pandas 1.0.1\n",
      "sklearn 0.22.2\n",
      "tensorflow 2.0.0\n",
      "tensorflow_core.keras 2.2.4-tf\n"
     ]
    }
   ],
   "source": [
    "import matplotlib.pyplot as plt\n",
    "%matplotlib inline\n",
    "import numpy as np\n",
    "import pandas as pd\n",
    "import sklearn\n",
    "import os\n",
    "import sys\n",
    "import time\n",
    "import tensorflow as tf\n",
    "\n",
    "from tensorflow import keras\n",
    "print(tf.__version__)\n",
    "print(sys.version_info)\n",
    "for module in np, pd ,sklearn, tf, keras:\n",
    "    print(module.__name__,module.__version__)"
   ]
  },
  {
   "cell_type": "code",
   "execution_count": 3,
   "metadata": {},
   "outputs": [
    {
     "name": "stdout",
     "output_type": "stream",
     "text": [
      "(20640, 8)\n",
      "(20640,)\n"
     ]
    }
   ],
   "source": [
    "from sklearn.datasets import fetch_california_housing\n",
    "\n",
    "housing = fetch_california_housing()\n",
    "\n",
    "print(housing.data.shape)\n",
    "print(housing.target.shape)\n",
    "\n"
   ]
  },
  {
   "cell_type": "code",
   "execution_count": 6,
   "metadata": {},
   "outputs": [],
   "source": [
    "from sklearn.model_selection import train_test_split\n",
    "\n",
    "x_train,x_test,y_train,y_test=train_test_split(housing.data, housing.target,random_state=7)\n"
   ]
  },
  {
   "cell_type": "code",
   "execution_count": 7,
   "metadata": {},
   "outputs": [],
   "source": [
    "from sklearn.preprocessing import StandardScaler\n",
    "transfer = StandardScaler()\n",
    "x_train_scaled = transfer.fit_transform(x_train)\n",
    "x_test_scaled = transfer.transform(x_test)\n"
   ]
  },
  {
   "cell_type": "code",
   "execution_count": 22,
   "metadata": {},
   "outputs": [],
   "source": [
    "#多输入\n",
    "input_wide = keras.layers.Input(shape=[6],)\n",
    "input_deep = keras.layers.Input(shape=[6],)\n",
    "hidden1 = keras.layers.Dense(30,activation = 'relu')(input_deep)\n",
    "hidden2 = keras.layers.Dense(30,activation = 'relu')(hidden1)\n",
    "concat = keras.layers.concatenate([input_wide, hidden2])\n",
    "output = keras.layers.Dense(1)(concat)\n",
    "\n",
    "model = keras.models.Model(inputs=[input_wide, input_deep],\n",
    "                                    outputs = [output])\n",
    "\n",
    "model.compile(loss='mean_squared_error',\n",
    "             optimizer = 'nadam',# SGD -> SGDM -> NAG ->AdaGrad -> AdaDelta -> Adam -> Nadam\n",
    "             )\n"
   ]
  },
  {
   "cell_type": "code",
   "execution_count": 23,
   "metadata": {},
   "outputs": [
    {
     "data": {
      "text/plain": [
       "[<tensorflow.python.keras.engine.input_layer.InputLayer at 0x1a449aced0>,\n",
       " <tensorflow.python.keras.layers.core.Dense at 0x1a449ace90>,\n",
       " <tensorflow.python.keras.engine.input_layer.InputLayer at 0x1a449ac790>,\n",
       " <tensorflow.python.keras.layers.core.Dense at 0x1a43fd7cd0>,\n",
       " <tensorflow.python.keras.layers.merge.Concatenate at 0x1a43fd9410>,\n",
       " <tensorflow.python.keras.layers.core.Dense at 0x1a449cc450>]"
      ]
     },
     "execution_count": 23,
     "metadata": {},
     "output_type": "execute_result"
    }
   ],
   "source": [
    "model.layers#查看模型层数"
   ]
  },
  {
   "cell_type": "code",
   "execution_count": 24,
   "metadata": {},
   "outputs": [
    {
     "name": "stdout",
     "output_type": "stream",
     "text": [
      "Model: \"model_1\"\n",
      "__________________________________________________________________________________________________\n",
      "Layer (type)                    Output Shape         Param #     Connected to                     \n",
      "==================================================================================================\n",
      "input_4 (InputLayer)            [(None, 6)]          0                                            \n",
      "__________________________________________________________________________________________________\n",
      "dense_3 (Dense)                 (None, 30)           210         input_4[0][0]                    \n",
      "__________________________________________________________________________________________________\n",
      "input_3 (InputLayer)            [(None, 6)]          0                                            \n",
      "__________________________________________________________________________________________________\n",
      "dense_4 (Dense)                 (None, 30)           930         dense_3[0][0]                    \n",
      "__________________________________________________________________________________________________\n",
      "concatenate_1 (Concatenate)     (None, 36)           0           input_3[0][0]                    \n",
      "                                                                 dense_4[0][0]                    \n",
      "__________________________________________________________________________________________________\n",
      "dense_5 (Dense)                 (None, 1)            37          concatenate_1[0][0]              \n",
      "==================================================================================================\n",
      "Total params: 1,177\n",
      "Trainable params: 1,177\n",
      "Non-trainable params: 0\n",
      "__________________________________________________________________________________________________\n"
     ]
    }
   ],
   "source": [
    "model.summary()#d 模型参数"
   ]
  },
  {
   "cell_type": "code",
   "execution_count": 29,
   "metadata": {},
   "outputs": [],
   "source": [
    "#多输入，所以拆分训练数据\n",
    "x_train_scaled_wide = x_train_scaled[:,:6]\n",
    "x_train_scaled_deep = x_train_scaled[:,2:]\n",
    "x_test_scaled_wide = x_test_scaled[:,:6]\n",
    "x_test_scaled_deep = x_test_scaled[:,2:]\n"
   ]
  },
  {
   "cell_type": "code",
   "execution_count": 26,
   "metadata": {},
   "outputs": [
    {
     "name": "stdout",
     "output_type": "stream",
     "text": [
      "Train on 10836 samples, validate on 4644 samples\n",
      "Epoch 1/100\n",
      "10836/10836 [==============================] - 5s 463us/sample - loss: 1.5972 - val_loss: 0.6598\n",
      "Epoch 2/100\n",
      "10836/10836 [==============================] - 2s 222us/sample - loss: 0.5542 - val_loss: 0.5085\n",
      "Epoch 3/100\n",
      "10836/10836 [==============================] - 2s 218us/sample - loss: 0.4548 - val_loss: 0.4178\n",
      "Epoch 4/100\n",
      "10836/10836 [==============================] - 2s 220us/sample - loss: 0.4144 - val_loss: 0.3898\n",
      "Epoch 5/100\n",
      "10836/10836 [==============================] - 2s 217us/sample - loss: 0.3958 - val_loss: 0.3764\n",
      "Epoch 6/100\n",
      "10836/10836 [==============================] - 2s 217us/sample - loss: 0.3775 - val_loss: 0.3733\n",
      "Epoch 7/100\n",
      "10836/10836 [==============================] - 2s 218us/sample - loss: 0.3682 - val_loss: 0.3741\n",
      "Epoch 8/100\n",
      "10836/10836 [==============================] - 2s 219us/sample - loss: 0.3595 - val_loss: 0.3461\n",
      "Epoch 9/100\n",
      "10836/10836 [==============================] - 2s 220us/sample - loss: 0.3550 - val_loss: 0.3572\n",
      "Epoch 10/100\n",
      "10836/10836 [==============================] - 2s 219us/sample - loss: 0.3479 - val_loss: 0.3358\n",
      "Epoch 11/100\n",
      "10836/10836 [==============================] - 2s 220us/sample - loss: 0.3429 - val_loss: 0.3299\n",
      "Epoch 12/100\n",
      "10836/10836 [==============================] - 2s 220us/sample - loss: 0.3416 - val_loss: 0.3293\n",
      "Epoch 13/100\n",
      "10836/10836 [==============================] - 2s 222us/sample - loss: 0.3336 - val_loss: 0.3395\n",
      "Epoch 14/100\n",
      "10836/10836 [==============================] - 3s 245us/sample - loss: 0.3309 - val_loss: 0.3350\n",
      "Epoch 15/100\n",
      "10836/10836 [==============================] - 2s 224us/sample - loss: 0.3310 - val_loss: 0.3338\n"
     ]
    }
   ],
   "source": [
    "callbacks = [keras.callbacks.EarlyStopping(patience=5,min_delta=1e-2)]\n",
    "history = model.fit([x_train_scaled_wide, x_train_scaled_deep],y_train,epochs=100,\n",
    "                   validation_split=0.3,\n",
    "                   callbacks= callbacks \n",
    "                   )\n",
    "#validation_data:训练过程中在验证集验证"
   ]
  },
  {
   "cell_type": "code",
   "execution_count": 27,
   "metadata": {},
   "outputs": [
    {
     "data": {
      "image/png": "[encoded data removed]",
      "text/plain": [
       "<Figure size 576x360 with 1 Axes>"
      ]
     },
     "metadata": {
      "needs_background": "light"
     },
     "output_type": "display_data"
    }
   ],
   "source": [
    "def plot_learning_curves(history):\n",
    "    pd.DataFrame(history.history).plot(figsize=[8,5])\n",
    "    plt.grid(True)\n",
    "    plt.gca().set_ylim(0,1)\n",
    "    plt.show()\n",
    "\n",
    "plot_learning_curves(history)"
   ]
  },
  {
   "cell_type": "code",
   "execution_count": 30,
   "metadata": {},
   "outputs": [
    {
     "name": "stdout",
     "output_type": "stream",
     "text": [
      "5160/1 - 0s - loss: 0.4576\n"
     ]
    },
    {
     "data": {
      "text/plain": [
       "0.3668643225071042"
      ]
     },
     "execution_count": 30,
     "metadata": {},
     "output_type": "execute_result"
    }
   ],
   "source": [
    "model.evaluate([x_test_scaled_wide,x_test_scaled_deep], y_test, verbose=2)"
   ]
  }
 ],
 "metadata": {
  "kernelspec": {
   "display_name": "Python 3.7.6 64-bit ('mytf': conda)",
   "language": "python",
   "name": "python37664bitmytfconda841baf2f843f47f398642a391af5d6cb"
  },
  "language_info": {
   "codemirror_mode": {
    "name": "ipython",
    "version": 3
   },
   "file_extension": ".py",
   "mimetype": "text/x-python",
   "name": "python",
   "nbconvert_exporter": "python",
   "pygments_lexer": "ipython3",
   "version": "3.7.6"
  }
 },
 "nbformat": 4,
 "nbformat_minor": 4
}
