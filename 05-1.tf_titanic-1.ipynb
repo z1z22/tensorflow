{
 "cells": [
  {
   "cell_type": "code",
   "execution_count": 1,
   "metadata": {},
   "outputs": [],
   "source": [
    "import pandas as pd\n",
    "import numpy as np\n",
    "import tensorflow as tf\n",
    "import matplotlib.pyplot as plt\n",
    "from tensorflow import keras\n"
   ]
  },
  {
   "cell_type": "code",
   "execution_count": 2,
   "metadata": {},
   "outputs": [
    {
     "data": {
      "text/plain": [
       "'2.0.0'"
      ]
     },
     "execution_count": 2,
     "metadata": {},
     "output_type": "execute_result"
    }
   ],
   "source": [
    "tf.__version__"
   ]
  },
  {
   "cell_type": "code",
   "execution_count": 4,
   "metadata": {},
   "outputs": [],
   "source": [
    "TRAIN_DATA_URL = \"https://storage.googleapis.com/tf-datasets/titanic/train.csv\"\n",
    "TEST_DATA_URL = \"https://storage.googleapis.com/tf-datasets/titanic/eval.csv\"\n",
    "train_tf = pd.read_csv(TRAIN_DATA_URL)\n",
    "test_data = pd.read_csv(TEST_DATA_URL)"
   ]
  },
  {
   "cell_type": "code",
   "execution_count": 5,
   "metadata": {},
   "outputs": [
    {
     "name": "stdout",
     "output_type": "stream",
     "text": [
      "(627, 10)\n",
      "(264, 10)\n"
     ]
    }
   ],
   "source": [
    "print(train_tf.shape)\n",
    "print(test_data.shape)"
   ]
  },
  {
   "cell_type": "code",
   "execution_count": 6,
   "metadata": {},
   "outputs": [
    {
     "data": {
      "text/plain": [
       "survived              0\n",
       "sex                   0\n",
       "age                   0\n",
       "n_siblings_spouses    0\n",
       "parch                 0\n",
       "fare                  0\n",
       "class                 0\n",
       "deck                  0\n",
       "embark_town           0\n",
       "alone                 0\n",
       "dtype: int64"
      ]
     },
     "execution_count": 6,
     "metadata": {},
     "output_type": "execute_result"
    }
   ],
   "source": [
    "train_tf[train_tf.isnull()].count()"
   ]
  },
  {
   "cell_type": "code",
   "execution_count": 7,
   "metadata": {},
   "outputs": [],
   "source": [
    "train_data = train_tf[:500]\n",
    "valid_data = train_tf[500:]"
   ]
  },
  {
   "cell_type": "code",
   "execution_count": 8,
   "metadata": {},
   "outputs": [
    {
     "name": "stdout",
     "output_type": "stream",
     "text": [
      "(500, 10)\n",
      "(127, 10)\n"
     ]
    }
   ],
   "source": [
    "print(train_data.shape)\n",
    "print(valid_data.shape)"
   ]
  },
  {
   "cell_type": "code",
   "execution_count": 9,
   "metadata": {},
   "outputs": [],
   "source": [
    "y_train= train_data.pop('survived')\n",
    "y_test = test_data.pop('survived')\n",
    "y_valid= valid_data.pop('survived')\n",
    "\n"
   ]
  },
  {
   "cell_type": "code",
   "execution_count": 10,
   "metadata": {},
   "outputs": [
    {
     "data": {
      "text/html": [
       "<div>\n",
       "<style scoped>\n",
       "    .dataframe tbody tr th:only-of-type {\n",
       "        vertical-align: middle;\n",
       "    }\n",
       "\n",
       "    .dataframe tbody tr th {\n",
       "        vertical-align: top;\n",
       "    }\n",
       "\n",
       "    .dataframe thead th {\n",
       "        text-align: right;\n",
       "    }\n",
       "</style>\n",
       "<table border=\"1\" class=\"dataframe\">\n",
       "  <thead>\n",
       "    <tr style=\"text-align: right;\">\n",
       "      <th></th>\n",
       "      <th>sex</th>\n",
       "      <th>age</th>\n",
       "      <th>n_siblings_spouses</th>\n",
       "      <th>parch</th>\n",
       "      <th>fare</th>\n",
       "      <th>class</th>\n",
       "      <th>deck</th>\n",
       "      <th>embark_town</th>\n",
       "      <th>alone</th>\n",
       "    </tr>\n",
       "  </thead>\n",
       "  <tbody>\n",
       "    <tr>\n",
       "      <th>0</th>\n",
       "      <td>male</td>\n",
       "      <td>22.0</td>\n",
       "      <td>1</td>\n",
       "      <td>0</td>\n",
       "      <td>7.2500</td>\n",
       "      <td>Third</td>\n",
       "      <td>unknown</td>\n",
       "      <td>Southampton</td>\n",
       "      <td>n</td>\n",
       "    </tr>\n",
       "    <tr>\n",
       "      <th>1</th>\n",
       "      <td>female</td>\n",
       "      <td>38.0</td>\n",
       "      <td>1</td>\n",
       "      <td>0</td>\n",
       "      <td>71.2833</td>\n",
       "      <td>First</td>\n",
       "      <td>C</td>\n",
       "      <td>Cherbourg</td>\n",
       "      <td>n</td>\n",
       "    </tr>\n",
       "    <tr>\n",
       "      <th>2</th>\n",
       "      <td>female</td>\n",
       "      <td>26.0</td>\n",
       "      <td>0</td>\n",
       "      <td>0</td>\n",
       "      <td>7.9250</td>\n",
       "      <td>Third</td>\n",
       "      <td>unknown</td>\n",
       "      <td>Southampton</td>\n",
       "      <td>y</td>\n",
       "    </tr>\n",
       "    <tr>\n",
       "      <th>3</th>\n",
       "      <td>female</td>\n",
       "      <td>35.0</td>\n",
       "      <td>1</td>\n",
       "      <td>0</td>\n",
       "      <td>53.1000</td>\n",
       "      <td>First</td>\n",
       "      <td>C</td>\n",
       "      <td>Southampton</td>\n",
       "      <td>n</td>\n",
       "    </tr>\n",
       "    <tr>\n",
       "      <th>4</th>\n",
       "      <td>male</td>\n",
       "      <td>28.0</td>\n",
       "      <td>0</td>\n",
       "      <td>0</td>\n",
       "      <td>8.4583</td>\n",
       "      <td>Third</td>\n",
       "      <td>unknown</td>\n",
       "      <td>Queenstown</td>\n",
       "      <td>y</td>\n",
       "    </tr>\n",
       "  </tbody>\n",
       "</table>\n",
       "</div>"
      ],
      "text/plain": [
       "      sex   age  n_siblings_spouses  parch     fare  class     deck  \\\n",
       "0    male  22.0                   1      0   7.2500  Third  unknown   \n",
       "1  female  38.0                   1      0  71.2833  First        C   \n",
       "2  female  26.0                   0      0   7.9250  Third  unknown   \n",
       "3  female  35.0                   1      0  53.1000  First        C   \n",
       "4    male  28.0                   0      0   8.4583  Third  unknown   \n",
       "\n",
       "   embark_town alone  \n",
       "0  Southampton     n  \n",
       "1    Cherbourg     n  \n",
       "2  Southampton     y  \n",
       "3  Southampton     n  \n",
       "4   Queenstown     y  "
      ]
     },
     "execution_count": 10,
     "metadata": {},
     "output_type": "execute_result"
    }
   ],
   "source": [
    "train_data.head()"
   ]
  },
  {
   "cell_type": "code",
   "execution_count": 11,
   "metadata": {},
   "outputs": [],
   "source": [
    "categorical_columns = ['sex','n_siblings_spouses','parch','class','deck','embark_town','alone']\n",
    "numeric_columns = ['age', 'fare']\n",
    "\n",
    "feature_columns = []#收集所有feature，以运用到dataset上\n",
    "#对离散特征进行onehot 编码处理\n",
    "for column in categorical_columns:\n",
    "    vocab = train_data[column].unique()#用unique取出唯一值\n",
    "    feature_columns.append(\n",
    "        tf.feature_column.indicator_column(\n",
    "            tf.feature_column.categorical_column_with_vocabulary_list(column, vocab)))\n",
    "    \n",
    "#categorical_column_with_vocabulary_list提取特征list\n",
    "# indicator_column 对离散特征进行one_hot编码\n",
    "\n",
    "#对连续型特征直接封装\n",
    "for column in numeric_columns:\n",
    "    feature_columns.append(tf.feature_column.numeric_column(column, dtype = tf.float32))"
   ]
  },
  {
   "cell_type": "code",
   "execution_count": 12,
   "metadata": {},
   "outputs": [
    {
     "name": "stdout",
     "output_type": "stream",
     "text": [
      "[IndicatorColumn(categorical_column=VocabularyListCategoricalColumn(key='sex', vocabulary_list=('male', 'female'), dtype=tf.string, default_value=-1, num_oov_buckets=0)),\n",
      " IndicatorColumn(categorical_column=VocabularyListCategoricalColumn(key='n_siblings_spouses', vocabulary_list=(1, 0, 3, 4, 2, 5, 8), dtype=tf.int64, default_value=-1, num_oov_buckets=0)),\n",
      " IndicatorColumn(categorical_column=VocabularyListCategoricalColumn(key='parch', vocabulary_list=(0, 1, 2, 5, 3, 4), dtype=tf.int64, default_value=-1, num_oov_buckets=0)),\n",
      " IndicatorColumn(categorical_column=VocabularyListCategoricalColumn(key='class', vocabulary_list=('Third', 'First', 'Second'), dtype=tf.string, default_value=-1, num_oov_buckets=0)),\n",
      " IndicatorColumn(categorical_column=VocabularyListCategoricalColumn(key='deck', vocabulary_list=('unknown', 'C', 'G', 'A', 'B', 'D', 'F', 'E'), dtype=tf.string, default_value=-1, num_oov_buckets=0)),\n",
      " IndicatorColumn(categorical_column=VocabularyListCategoricalColumn(key='embark_town', vocabulary_list=('Southampton', 'Cherbourg', 'Queenstown', 'unknown'), dtype=tf.string, default_value=-1, num_oov_buckets=0)),\n",
      " IndicatorColumn(categorical_column=VocabularyListCategoricalColumn(key='alone', vocabulary_list=('n', 'y'), dtype=tf.string, default_value=-1, num_oov_buckets=0)),\n",
      " NumericColumn(key='age', shape=(1,), default_value=None, dtype=tf.float32, normalizer_fn=None),\n",
      " NumericColumn(key='fare', shape=(1,), default_value=None, dtype=tf.float32, normalizer_fn=None)]\n"
     ]
    }
   ],
   "source": [
    "tf.print(feature_columns)"
   ]
  },
  {
   "cell_type": "code",
   "execution_count": 15,
   "metadata": {},
   "outputs": [],
   "source": [
    "# 构建数据集.from_tensor_slices()传入字典\n",
    "def make_datasets(x, y, epochs = 10, shuffle = True, batch_size = 32 ):\n",
    "    dataset = tf.data.Dataset.from_tensor_slices((dict(x), y))\n",
    "    if shuffle:\n",
    "        dataset = dataset.shuffle(10000)\n",
    "    dataset = dataset.repeat(epochs).batch(batch_size)\n",
    "    return dataset"
   ]
  },
  {
   "cell_type": "code",
   "execution_count": 16,
   "metadata": {},
   "outputs": [
    {
     "name": "stdout",
     "output_type": "stream",
     "text": [
      "{'age': [9 21 16 4 32],\n",
      " 'alone': [\"n\" \"n\" \"y\" \"n\" \"y\"],\n",
      " 'class': [\"Third\" \"First\" \"Third\" \"Third\" \"Third\"],\n",
      " 'deck': [\"unknown\" \"D\" \"unknown\" \"unknown\" \"unknown\"],\n",
      " 'embark_town': [\"Southampton\" \"Southampton\" \"Southampton\" \"Queenstown\" \"Southampton\"],\n",
      " 'fare': [34.375 77.2875 8.05 29.125 56.4958],\n",
      " 'n_siblings_spouses': [2 0 0 4 0],\n",
      " 'parch': [2 1 0 1 0],\n",
      " 'sex': [\"female\" \"male\" \"male\" \"male\" \"male\"]}  \n",
      "\n",
      "\n",
      " [0 0 1 0 1]\n"
     ]
    }
   ],
   "source": [
    "#测试\n",
    "train_dataset = make_datasets(train_data, y_train, batch_size = 5)\n",
    "for x,y in train_dataset.take(1):\n",
    "    tf.print(x, ' \\n\\n\\n',y)"
   ]
  },
  {
   "cell_type": "code",
   "execution_count": 17,
   "metadata": {},
   "outputs": [
    {
     "name": "stdout",
     "output_type": "stream",
     "text": [
      "WARNING:tensorflow:Layer dense_features is casting an input tensor from dtype float64 to the layer's dtype of float32, which is new behavior in TensorFlow 2.  The layer has dtype float32 because it's dtype defaults to floatx.\n",
      "\n",
      "If you intended to run this layer in float32, you can safely ignore this warning. If in doubt, this warning is likely only an issue if you are porting a TensorFlow 1.X model to TensorFlow 2.\n",
      "\n",
      "To change all layers to have dtype float64 by default, call `tf.keras.backend.set_floatx('float64')`. To change just this layer, pass dtype='float64' to the layer constructor. If you are the author of this layer, you can disable autocasting by passing autocast=False to the base Layer constructor.\n",
      "\n",
      "[[38]\n",
      " [22]\n",
      " [20]\n",
      " [28]\n",
      " [28]]\n",
      "WARNING:tensorflow:Layer dense_features_1 is casting an input tensor from dtype float64 to the layer's dtype of float32, which is new behavior in TensorFlow 2.  The layer has dtype float32 because it's dtype defaults to floatx.\n",
      "\n",
      "If you intended to run this layer in float32, you can safely ignore this warning. If in doubt, this warning is likely only an issue if you are porting a TensorFlow 1.X model to TensorFlow 2.\n",
      "\n",
      "To change all layers to have dtype float64 by default, call `tf.keras.backend.set_floatx('float64')`. To change just this layer, pass dtype='float64' to the layer constructor. If you are the author of this layer, you can disable autocasting by passing autocast=False to the base Layer constructor.\n",
      "\n",
      "WARNING:tensorflow:From /Users/mac/opt/anaconda3/envs/mytf/lib/python3.7/site-packages/tensorflow_core/python/feature_column/feature_column_v2.py:4276: IndicatorColumn._variable_shape (from tensorflow.python.feature_column.feature_column_v2) is deprecated and will be removed in a future version.\n",
      "Instructions for updating:\n",
      "The old _FeatureColumn APIs are being deprecated. Please use the new FeatureColumn APIs instead.\n",
      "WARNING:tensorflow:From /Users/mac/opt/anaconda3/envs/mytf/lib/python3.7/site-packages/tensorflow_core/python/feature_column/feature_column_v2.py:4331: VocabularyListCategoricalColumn._num_buckets (from tensorflow.python.feature_column.feature_column_v2) is deprecated and will be removed in a future version.\n",
      "Instructions for updating:\n",
      "The old _FeatureColumn APIs are being deprecated. Please use the new FeatureColumn APIs instead.\n",
      "[[0 1]\n",
      " [1 0]\n",
      " [1 0]\n",
      " [1 0]\n",
      " [1 0]]\n",
      "WARNING:tensorflow:Layer dense_features_2 is casting an input tensor from dtype float64 to the layer's dtype of float32, which is new behavior in TensorFlow 2.  The layer has dtype float32 because it's dtype defaults to floatx.\n",
      "\n",
      "If you intended to run this layer in float32, you can safely ignore this warning. If in doubt, this warning is likely only an issue if you are porting a TensorFlow 1.X model to TensorFlow 2.\n",
      "\n",
      "To change all layers to have dtype float64 by default, call `tf.keras.backend.set_floatx('float64')`. To change just this layer, pass dtype='float64' to the layer constructor. If you are the author of this layer, you can disable autocasting by passing autocast=False to the base Layer constructor.\n",
      "\n",
      "[[0 1 0]\n",
      " [1 0 0]\n",
      " [1 0 0]\n",
      " [1 0 0]\n",
      " [1 0 0]]\n"
     ]
    }
   ],
   "source": [
    "#测试\n",
    "# keras.layers.DenseFeature可以吧feature运用到datasets上,对离散型特征进行了one_hot编码，连续型特征数值类型转化\n",
    "for x,y in train_dataset.take(1):\n",
    "    age_column = feature_columns[7]\n",
    "    gender_column = feature_columns[0]\n",
    "    class_column = feature_columns[3]\n",
    "    \n",
    "    tf.print(keras.layers.DenseFeatures(age_column)(x))#把age的特征用在x上\n",
    "    tf.print(keras.layers.DenseFeatures(gender_column)(x))\n",
    "    tf.print(keras.layers.DenseFeatures(class_column)(x))\n",
    "\n"
   ]
  },
  {
   "cell_type": "code",
   "execution_count": 19,
   "metadata": {},
   "outputs": [
    {
     "name": "stdout",
     "output_type": "stream",
     "text": [
      "WARNING:tensorflow:Layer dense_features_4 is casting an input tensor from dtype float64 to the layer's dtype of float32, which is new behavior in TensorFlow 2.  The layer has dtype float32 because it's dtype defaults to floatx.\n",
      "\n",
      "If you intended to run this layer in float32, you can safely ignore this warning. If in doubt, this warning is likely only an issue if you are porting a TensorFlow 1.X model to TensorFlow 2.\n",
      "\n",
      "To change all layers to have dtype float64 by default, call `tf.keras.backend.set_floatx('float64')`. To change just this layer, pass dtype='float64' to the layer constructor. If you are the author of this layer, you can disable autocasting by passing autocast=False to the base Layer constructor.\n",
      "\n",
      "tf.Tensor(\n",
      "[[21.      0.      1.      1.      0.      0.      1.      0.      0.\n",
      "   0.      0.      0.      0.      0.      1.      0.      0.      0.\n",
      "   7.7958  0.      1.      0.      0.      0.      0.      0.      1.\n",
      "   0.      0.      0.      0.      0.      1.      0.    ]\n",
      " [28.      0.      1.      1.      0.      0.      1.      0.      0.\n",
      "   0.      0.      0.      0.      0.      1.      0.      0.      0.\n",
      "   8.1125  0.      1.      0.      0.      0.      0.      0.      1.\n",
      "   0.      0.      0.      0.      0.      1.      0.    ]\n",
      " [28.      0.      1.      1.      0.      0.      1.      0.      0.\n",
      "   0.      0.      0.      0.      0.      1.      0.      0.      0.\n",
      "   7.8958  0.      1.      0.      0.      0.      0.      0.      1.\n",
      "   0.      0.      0.      0.      0.      1.      0.    ]\n",
      " [28.      0.      1.      1.      0.      0.      1.      0.      0.\n",
      "   0.      0.      0.      0.      0.      0.      0.      1.      0.\n",
      "   7.75    0.      1.      0.      0.      0.      0.      0.      1.\n",
      "   0.      0.      0.      0.      0.      1.      0.    ]\n",
      " [35.      1.      0.      0.      1.      0.      0.      1.      0.\n",
      "   0.      0.      0.      0.      0.      1.      0.      0.      0.\n",
      "  83.475   1.      0.      0.      0.      0.      0.      0.      1.\n",
      "   0.      0.      0.      0.      0.      0.      1.    ]], shape=(5, 34), dtype=float32)\n"
     ]
    }
   ],
   "source": [
    "#测试\n",
    "# keras.layers.DenseFeature\n",
    "for x, y in train_dataset.take(1):\n",
    "    print(keras.layers.DenseFeatures(feature_columns)(x))\n"
   ]
  },
  {
   "cell_type": "code",
   "execution_count": 27,
   "metadata": {},
   "outputs": [],
   "source": [
    "model = keras.models.Sequential([\n",
    "    keras.layers.DenseFeatures(feature_columns),#注意不再需要input_shape\n",
    "    keras.layers.Dense(100, activation='relu'),\n",
    "    keras.layers.Dense(100,activation='relu'),\n",
    "    keras.layers.Dense(2,activation='softmax')\n",
    "])\n",
    "model.compile(loss = 'sparse_categorical_crossentropy',\n",
    "                     optimizer = 'adam',#keras.optimizers.SGD(lr = 1e-2),\n",
    "                      metrics = ['accuracy'])\n"
   ]
  },
  {
   "cell_type": "code",
   "execution_count": 28,
   "metadata": {},
   "outputs": [
    {
     "name": "stdout",
     "output_type": "stream",
     "text": [
      "WARNING:tensorflow:Layer sequential_2 is casting an input tensor from dtype float64 to the layer's dtype of float32, which is new behavior in TensorFlow 2.  The layer has dtype float32 because it's dtype defaults to floatx.\n",
      "\n",
      "If you intended to run this layer in float32, you can safely ignore this warning. If in doubt, this warning is likely only an issue if you are porting a TensorFlow 1.X model to TensorFlow 2.\n",
      "\n",
      "To change all layers to have dtype float64 by default, call `tf.keras.backend.set_floatx('float64')`. To change just this layer, pass dtype='float64' to the layer constructor. If you are the author of this layer, you can disable autocasting by passing autocast=False to the base Layer constructor.\n",
      "\n",
      "Train for 15 steps, validate for 3 steps\n",
      "Epoch 1/100\n",
      "15/15 [==============================] - 4s 268ms/step - loss: 1.2071 - accuracy: 0.5854 - val_loss: 0.9097 - val_accuracy: 0.6875\n",
      "Epoch 2/100\n",
      "15/15 [==============================] - 0s 14ms/step - loss: 0.9322 - accuracy: 0.6562 - val_loss: 0.5139 - val_accuracy: 0.7188\n",
      "Epoch 3/100\n",
      "15/15 [==============================] - 0s 14ms/step - loss: 0.6415 - accuracy: 0.6667 - val_loss: 0.5126 - val_accuracy: 0.7500\n",
      "Epoch 4/100\n",
      "15/15 [==============================] - 0s 13ms/step - loss: 0.6138 - accuracy: 0.6521 - val_loss: 0.5581 - val_accuracy: 0.7292\n",
      "Epoch 5/100\n",
      "15/15 [==============================] - 0s 13ms/step - loss: 0.5965 - accuracy: 0.6833 - val_loss: 0.4826 - val_accuracy: 0.7708\n",
      "Epoch 6/100\n",
      "15/15 [==============================] - 0s 14ms/step - loss: 0.5752 - accuracy: 0.7000 - val_loss: 0.5405 - val_accuracy: 0.7708\n",
      "Epoch 7/100\n",
      "15/15 [==============================] - 0s 14ms/step - loss: 0.5421 - accuracy: 0.7417 - val_loss: 0.4601 - val_accuracy: 0.8125\n",
      "Epoch 8/100\n",
      "15/15 [==============================] - 0s 14ms/step - loss: 0.5426 - accuracy: 0.7646 - val_loss: 0.4534 - val_accuracy: 0.8125\n",
      "Epoch 9/100\n",
      "15/15 [==============================] - 0s 17ms/step - loss: 0.5315 - accuracy: 0.7354 - val_loss: 0.4425 - val_accuracy: 0.8542\n",
      "Epoch 10/100\n",
      "15/15 [==============================] - 0s 14ms/step - loss: 0.5084 - accuracy: 0.7812 - val_loss: 0.4255 - val_accuracy: 0.8229\n",
      "Epoch 11/100\n",
      "15/15 [==============================] - 0s 14ms/step - loss: 0.5370 - accuracy: 0.7625 - val_loss: 0.4134 - val_accuracy: 0.8229\n",
      "Epoch 12/100\n",
      "15/15 [==============================] - 0s 15ms/step - loss: 0.5988 - accuracy: 0.7083 - val_loss: 0.6389 - val_accuracy: 0.7292\n",
      "Epoch 13/100\n",
      "15/15 [==============================] - 0s 17ms/step - loss: 0.5331 - accuracy: 0.7500 - val_loss: 0.3998 - val_accuracy: 0.8229\n",
      "Epoch 14/100\n",
      "15/15 [==============================] - 0s 15ms/step - loss: 0.5287 - accuracy: 0.7729 - val_loss: 0.4606 - val_accuracy: 0.7917\n",
      "Epoch 15/100\n",
      "15/15 [==============================] - 0s 14ms/step - loss: 0.5463 - accuracy: 0.7542 - val_loss: 0.3974 - val_accuracy: 0.8750\n",
      "Epoch 16/100\n",
      "15/15 [==============================] - 0s 14ms/step - loss: 0.5158 - accuracy: 0.7563 - val_loss: 0.4385 - val_accuracy: 0.7917\n",
      "Epoch 17/100\n",
      "15/15 [==============================] - 0s 16ms/step - loss: 0.5150 - accuracy: 0.7854 - val_loss: 0.4480 - val_accuracy: 0.7917\n",
      "Epoch 18/100\n",
      "15/15 [==============================] - 0s 15ms/step - loss: 0.4581 - accuracy: 0.8062 - val_loss: 0.5122 - val_accuracy: 0.8125\n",
      "Epoch 19/100\n",
      "15/15 [==============================] - 0s 14ms/step - loss: 0.4818 - accuracy: 0.7896 - val_loss: 0.3711 - val_accuracy: 0.8438\n",
      "Epoch 20/100\n",
      "15/15 [==============================] - 0s 14ms/step - loss: 0.5076 - accuracy: 0.7833 - val_loss: 0.4225 - val_accuracy: 0.7917\n",
      "Epoch 21/100\n",
      "15/15 [==============================] - 0s 16ms/step - loss: 0.5240 - accuracy: 0.7812 - val_loss: 0.5286 - val_accuracy: 0.7812\n",
      "Epoch 22/100\n",
      "15/15 [==============================] - 0s 14ms/step - loss: 0.4556 - accuracy: 0.8042 - val_loss: 0.3959 - val_accuracy: 0.8438\n",
      "Epoch 23/100\n",
      "15/15 [==============================] - 0s 14ms/step - loss: 0.4229 - accuracy: 0.8188 - val_loss: 0.4021 - val_accuracy: 0.8333\n",
      "Epoch 24/100\n",
      "15/15 [==============================] - 0s 15ms/step - loss: 0.4286 - accuracy: 0.8188 - val_loss: 0.4063 - val_accuracy: 0.8229\n",
      "Epoch 25/100\n",
      "15/15 [==============================] - 0s 15ms/step - loss: 0.4612 - accuracy: 0.8062 - val_loss: 0.4234 - val_accuracy: 0.7917\n",
      "Epoch 26/100\n",
      "15/15 [==============================] - 0s 14ms/step - loss: 0.4309 - accuracy: 0.8271 - val_loss: 0.4730 - val_accuracy: 0.7917\n",
      "Epoch 27/100\n",
      "15/15 [==============================] - 0s 13ms/step - loss: 0.4712 - accuracy: 0.8000 - val_loss: 0.6139 - val_accuracy: 0.8125\n",
      "Epoch 28/100\n",
      "15/15 [==============================] - 0s 17ms/step - loss: 0.5266 - accuracy: 0.7625 - val_loss: 0.3861 - val_accuracy: 0.8021\n",
      "Epoch 29/100\n",
      "15/15 [==============================] - 0s 15ms/step - loss: 0.7137 - accuracy: 0.7625 - val_loss: 0.4113 - val_accuracy: 0.8333\n",
      "Epoch 30/100\n",
      "15/15 [==============================] - 0s 14ms/step - loss: 0.4819 - accuracy: 0.8083 - val_loss: 0.3622 - val_accuracy: 0.8750\n",
      "Epoch 31/100\n",
      "15/15 [==============================] - 0s 14ms/step - loss: 0.4547 - accuracy: 0.7875 - val_loss: 0.5069 - val_accuracy: 0.7708\n",
      "Epoch 32/100\n",
      "15/15 [==============================] - 0s 14ms/step - loss: 0.5293 - accuracy: 0.7708 - val_loss: 0.5711 - val_accuracy: 0.7708\n",
      "Epoch 33/100\n",
      "15/15 [==============================] - 0s 15ms/step - loss: 0.4483 - accuracy: 0.7875 - val_loss: 0.4220 - val_accuracy: 0.8125\n",
      "Epoch 34/100\n",
      "15/15 [==============================] - 0s 14ms/step - loss: 0.4170 - accuracy: 0.8271 - val_loss: 0.3895 - val_accuracy: 0.8229\n",
      "Epoch 35/100\n",
      "15/15 [==============================] - 0s 14ms/step - loss: 0.4342 - accuracy: 0.8167 - val_loss: 0.4208 - val_accuracy: 0.8125\n",
      "Epoch 36/100\n",
      "15/15 [==============================] - 0s 14ms/step - loss: 0.4783 - accuracy: 0.7896 - val_loss: 0.4753 - val_accuracy: 0.7812\n",
      "Epoch 37/100\n",
      "15/15 [==============================] - 0s 14ms/step - loss: 0.4836 - accuracy: 0.8146 - val_loss: 0.4130 - val_accuracy: 0.8229\n",
      "Epoch 38/100\n",
      "15/15 [==============================] - 0s 13ms/step - loss: 0.4521 - accuracy: 0.8062 - val_loss: 0.4522 - val_accuracy: 0.7917\n",
      "Epoch 39/100\n",
      "15/15 [==============================] - 0s 14ms/step - loss: 0.4120 - accuracy: 0.8229 - val_loss: 0.3741 - val_accuracy: 0.8333\n",
      "Epoch 40/100\n",
      "15/15 [==============================] - 0s 14ms/step - loss: 0.4038 - accuracy: 0.8458 - val_loss: 0.4904 - val_accuracy: 0.7917\n",
      "Epoch 41/100\n",
      "15/15 [==============================] - 0s 14ms/step - loss: 0.4318 - accuracy: 0.8167 - val_loss: 0.3641 - val_accuracy: 0.8542\n",
      "Epoch 42/100\n",
      "15/15 [==============================] - 0s 16ms/step - loss: 0.4140 - accuracy: 0.8208 - val_loss: 0.4026 - val_accuracy: 0.8229\n",
      "Epoch 43/100\n",
      "15/15 [==============================] - 0s 15ms/step - loss: 0.3992 - accuracy: 0.8208 - val_loss: 0.3979 - val_accuracy: 0.8229\n",
      "Epoch 44/100\n",
      "15/15 [==============================] - 0s 15ms/step - loss: 0.4030 - accuracy: 0.8250 - val_loss: 0.3889 - val_accuracy: 0.8125\n",
      "Epoch 45/100\n",
      "15/15 [==============================] - 0s 15ms/step - loss: 0.4307 - accuracy: 0.8125 - val_loss: 0.4386 - val_accuracy: 0.8125\n",
      "Epoch 46/100\n",
      "15/15 [==============================] - 0s 22ms/step - loss: 0.4101 - accuracy: 0.8333 - val_loss: 0.4109 - val_accuracy: 0.7917\n",
      "Epoch 47/100\n",
      "15/15 [==============================] - 0s 17ms/step - loss: 0.4551 - accuracy: 0.8021 - val_loss: 0.4001 - val_accuracy: 0.8229\n",
      "Epoch 48/100\n",
      "15/15 [==============================] - 0s 14ms/step - loss: 0.4168 - accuracy: 0.8250 - val_loss: 0.4387 - val_accuracy: 0.7812\n",
      "Epoch 49/100\n",
      "15/15 [==============================] - 0s 14ms/step - loss: 0.4170 - accuracy: 0.8146 - val_loss: 0.4087 - val_accuracy: 0.8125\n",
      "Epoch 50/100\n",
      "15/15 [==============================] - 0s 15ms/step - loss: 0.4406 - accuracy: 0.8104 - val_loss: 0.4712 - val_accuracy: 0.7917\n",
      "Epoch 51/100\n",
      "15/15 [==============================] - 0s 16ms/step - loss: 0.4662 - accuracy: 0.8125 - val_loss: 0.4554 - val_accuracy: 0.8438\n",
      "Epoch 52/100\n",
      "15/15 [==============================] - 0s 14ms/step - loss: 0.4390 - accuracy: 0.8271 - val_loss: 0.4052 - val_accuracy: 0.8021\n",
      "Epoch 53/100\n"
     ]
    },
    {
     "name": "stdout",
     "output_type": "stream",
     "text": [
      "15/15 [==============================] - 0s 15ms/step - loss: 0.4105 - accuracy: 0.8188 - val_loss: 0.4031 - val_accuracy: 0.8229\n",
      "Epoch 54/100\n",
      "15/15 [==============================] - 0s 17ms/step - loss: 0.3767 - accuracy: 0.8521 - val_loss: 0.3915 - val_accuracy: 0.8333\n",
      "Epoch 55/100\n",
      "15/15 [==============================] - 0s 15ms/step - loss: 0.3664 - accuracy: 0.8458 - val_loss: 0.4767 - val_accuracy: 0.7812\n",
      "Epoch 56/100\n",
      "15/15 [==============================] - 0s 15ms/step - loss: 0.4963 - accuracy: 0.7937 - val_loss: 0.4371 - val_accuracy: 0.7917\n",
      "Epoch 57/100\n",
      "15/15 [==============================] - 0s 15ms/step - loss: 0.4644 - accuracy: 0.7958 - val_loss: 0.4079 - val_accuracy: 0.8333\n",
      "Epoch 58/100\n",
      "15/15 [==============================] - 0s 14ms/step - loss: 0.3849 - accuracy: 0.8188 - val_loss: 0.3897 - val_accuracy: 0.8333\n",
      "Epoch 59/100\n",
      "15/15 [==============================] - 0s 14ms/step - loss: 0.4086 - accuracy: 0.8104 - val_loss: 0.4269 - val_accuracy: 0.7917\n",
      "Epoch 60/100\n",
      "15/15 [==============================] - 0s 14ms/step - loss: 0.4095 - accuracy: 0.8354 - val_loss: 0.4174 - val_accuracy: 0.8021\n",
      "Epoch 61/100\n",
      "15/15 [==============================] - 0s 14ms/step - loss: 0.3957 - accuracy: 0.8271 - val_loss: 0.3679 - val_accuracy: 0.8542\n",
      "Epoch 62/100\n",
      "15/15 [==============================] - 0s 14ms/step - loss: 0.4768 - accuracy: 0.7937 - val_loss: 0.4513 - val_accuracy: 0.8229\n",
      "Epoch 63/100\n",
      "15/15 [==============================] - 0s 16ms/step - loss: 0.3804 - accuracy: 0.8271 - val_loss: 0.3845 - val_accuracy: 0.8438\n",
      "Epoch 64/100\n",
      "15/15 [==============================] - 0s 15ms/step - loss: 0.3850 - accuracy: 0.8354 - val_loss: 0.4546 - val_accuracy: 0.8021\n",
      "Epoch 65/100\n",
      "15/15 [==============================] - 0s 15ms/step - loss: 0.4133 - accuracy: 0.8292 - val_loss: 0.4271 - val_accuracy: 0.8229\n",
      "Epoch 66/100\n",
      "15/15 [==============================] - 0s 15ms/step - loss: 0.3853 - accuracy: 0.8333 - val_loss: 0.4056 - val_accuracy: 0.8333\n",
      "Epoch 67/100\n",
      "15/15 [==============================] - 0s 14ms/step - loss: 0.4193 - accuracy: 0.8292 - val_loss: 0.3707 - val_accuracy: 0.8438\n",
      "Epoch 68/100\n",
      "15/15 [==============================] - 0s 14ms/step - loss: 0.3759 - accuracy: 0.8479 - val_loss: 0.4299 - val_accuracy: 0.8125\n",
      "Epoch 69/100\n",
      "15/15 [==============================] - 0s 17ms/step - loss: 0.4350 - accuracy: 0.8083 - val_loss: 0.3991 - val_accuracy: 0.8229\n",
      "Epoch 70/100\n",
      "15/15 [==============================] - 0s 17ms/step - loss: 0.3755 - accuracy: 0.8313 - val_loss: 0.4081 - val_accuracy: 0.8229\n",
      "Epoch 71/100\n",
      "15/15 [==============================] - 0s 18ms/step - loss: 0.3942 - accuracy: 0.8313 - val_loss: 0.4339 - val_accuracy: 0.8125\n",
      "Epoch 72/100\n",
      "15/15 [==============================] - 0s 15ms/step - loss: 0.3837 - accuracy: 0.8292 - val_loss: 0.4126 - val_accuracy: 0.8438\n",
      "Epoch 73/100\n",
      "15/15 [==============================] - 0s 15ms/step - loss: 0.3816 - accuracy: 0.8354 - val_loss: 0.4461 - val_accuracy: 0.8229\n",
      "Epoch 74/100\n",
      "15/15 [==============================] - 0s 14ms/step - loss: 0.3840 - accuracy: 0.8167 - val_loss: 0.3799 - val_accuracy: 0.8333\n",
      "Epoch 75/100\n",
      "15/15 [==============================] - 0s 12ms/step - loss: 0.4043 - accuracy: 0.8271 - val_loss: 0.5517 - val_accuracy: 0.7917\n",
      "Epoch 76/100\n",
      "15/15 [==============================] - 0s 17ms/step - loss: 0.4872 - accuracy: 0.8146 - val_loss: 0.5615 - val_accuracy: 0.7917\n",
      "Epoch 77/100\n",
      "15/15 [==============================] - 0s 15ms/step - loss: 0.4369 - accuracy: 0.8188 - val_loss: 0.4298 - val_accuracy: 0.8229\n",
      "Epoch 78/100\n",
      "15/15 [==============================] - 0s 16ms/step - loss: 0.3803 - accuracy: 0.8333 - val_loss: 0.3911 - val_accuracy: 0.8229\n",
      "Epoch 79/100\n",
      "15/15 [==============================] - 0s 14ms/step - loss: 0.3765 - accuracy: 0.8354 - val_loss: 0.3775 - val_accuracy: 0.8229\n",
      "Epoch 80/100\n",
      "15/15 [==============================] - 0s 14ms/step - loss: 0.3700 - accuracy: 0.8500 - val_loss: 0.3921 - val_accuracy: 0.8333\n",
      "Epoch 81/100\n",
      "15/15 [==============================] - 0s 14ms/step - loss: 0.3911 - accuracy: 0.8333 - val_loss: 0.4031 - val_accuracy: 0.8229\n",
      "Epoch 82/100\n",
      "15/15 [==============================] - 0s 17ms/step - loss: 0.3715 - accuracy: 0.8313 - val_loss: 0.3932 - val_accuracy: 0.8229\n",
      "Epoch 83/100\n",
      "15/15 [==============================] - 0s 14ms/step - loss: 0.3976 - accuracy: 0.8396 - val_loss: 0.4453 - val_accuracy: 0.8021\n",
      "Epoch 84/100\n",
      "15/15 [==============================] - 0s 15ms/step - loss: 0.3815 - accuracy: 0.8333 - val_loss: 0.4329 - val_accuracy: 0.7917\n",
      "Epoch 85/100\n",
      "15/15 [==============================] - 0s 17ms/step - loss: 0.4176 - accuracy: 0.8167 - val_loss: 0.4164 - val_accuracy: 0.8229\n",
      "Epoch 86/100\n",
      "15/15 [==============================] - 0s 14ms/step - loss: 0.3459 - accuracy: 0.8542 - val_loss: 0.3984 - val_accuracy: 0.8333\n",
      "Epoch 87/100\n",
      "15/15 [==============================] - 0s 14ms/step - loss: 0.3795 - accuracy: 0.8313 - val_loss: 0.3815 - val_accuracy: 0.8333\n",
      "Epoch 88/100\n",
      "15/15 [==============================] - 0s 14ms/step - loss: 0.4094 - accuracy: 0.8208 - val_loss: 0.4429 - val_accuracy: 0.8021\n",
      "Epoch 89/100\n",
      "15/15 [==============================] - 0s 15ms/step - loss: 0.3537 - accuracy: 0.8521 - val_loss: 0.3855 - val_accuracy: 0.8125\n",
      "Epoch 90/100\n",
      "15/15 [==============================] - 0s 14ms/step - loss: 0.3909 - accuracy: 0.8375 - val_loss: 0.4153 - val_accuracy: 0.8125\n",
      "Epoch 91/100\n",
      "15/15 [==============================] - 0s 14ms/step - loss: 0.3839 - accuracy: 0.8375 - val_loss: 0.4019 - val_accuracy: 0.8333\n",
      "Epoch 92/100\n",
      "15/15 [==============================] - 0s 16ms/step - loss: 0.3676 - accuracy: 0.8375 - val_loss: 0.4074 - val_accuracy: 0.8229\n",
      "Epoch 93/100\n",
      "15/15 [==============================] - 0s 14ms/step - loss: 0.3758 - accuracy: 0.8354 - val_loss: 0.4022 - val_accuracy: 0.8229\n",
      "Epoch 94/100\n",
      "15/15 [==============================] - 0s 15ms/step - loss: 0.3629 - accuracy: 0.8438 - val_loss: 0.4205 - val_accuracy: 0.8333\n",
      "Epoch 95/100\n",
      "15/15 [==============================] - 0s 15ms/step - loss: 0.3754 - accuracy: 0.8375 - val_loss: 0.4131 - val_accuracy: 0.8229\n",
      "Epoch 96/100\n",
      "15/15 [==============================] - 0s 14ms/step - loss: 0.3468 - accuracy: 0.8542 - val_loss: 0.4153 - val_accuracy: 0.8229\n",
      "Epoch 97/100\n",
      "15/15 [==============================] - 0s 17ms/step - loss: 0.3888 - accuracy: 0.8292 - val_loss: 0.4145 - val_accuracy: 0.8333\n",
      "Epoch 98/100\n",
      "15/15 [==============================] - 0s 15ms/step - loss: 0.3443 - accuracy: 0.8500 - val_loss: 0.3869 - val_accuracy: 0.8438\n",
      "Epoch 99/100\n",
      "15/15 [==============================] - 0s 15ms/step - loss: 0.3925 - accuracy: 0.8271 - val_loss: 0.4259 - val_accuracy: 0.8021\n",
      "Epoch 100/100\n",
      "15/15 [==============================] - 0s 13ms/step - loss: 0.3751 - accuracy: 0.8500 - val_loss: 0.3958 - val_accuracy: 0.8229\n"
     ]
    }
   ],
   "source": [
    "#1、model.fit\n",
    "train_dataset = make_datasets(train_data, y_train,epochs=100)\n",
    "valid_dataset = make_datasets(valid_data, y_valid,epochs=1,shuffle=False)\n",
    "test_dataset = make_datasets(test_data, y_test,epochs=1,shuffle=False)\n",
    "\n",
    "history = model.fit(train_dataset,\n",
    "                    validation_data=valid_dataset,\n",
    "                    steps_per_epoch=500//32,\n",
    "                    epochs=100,\n",
    "                    validation_steps = 127//32\n",
    "                   )#steps_per_epoch=训练集的样本数//batch_size"
   ]
  },
  {
   "cell_type": "code",
   "execution_count": 30,
   "metadata": {},
   "outputs": [
    {
     "data": {
      "text/plain": [
       "<matplotlib.axes._subplots.AxesSubplot at 0x6419cb750>"
      ]
     },
     "execution_count": 30,
     "metadata": {},
     "output_type": "execute_result"
    },
    {
     "data": {
      "image/png": "[encoded data removed]",
      "text/plain": [
       "<Figure size 432x288 with 1 Axes>"
      ]
     },
     "metadata": {
      "needs_background": "light"
     },
     "output_type": "display_data"
    }
   ],
   "source": [
    "pd.DataFrame(history.history).plot()"
   ]
  },
  {
   "cell_type": "code",
   "execution_count": 32,
   "metadata": {},
   "outputs": [
    {
     "name": "stdout",
     "output_type": "stream",
     "text": [
      "INFO:tensorflow:Using default config.\n",
      "WARNING:tensorflow:Using temporary folder as model directory: /var/folders/l7/d1pnsddn4wd3z6qry0tp5rvh0000gn/T/tmpu1h35qor\n",
      "INFO:tensorflow:Using the Keras model provided.\n",
      "WARNING:tensorflow:You are creating an Estimator from a Keras model manually subclassed from `Model`, that was already called on some inputs (and thus already had weights). We are currently unable to preserve the model's state (its weights) as part of the estimator in this case. Be warned that the estimator has been created using a freshly initialized version of your model.\n",
      "Note that this doesn't affect the state of the model instance you passed as `keras_model` argument.\n",
      "INFO:tensorflow:Using config: {'_model_dir': '/var/folders/l7/d1pnsddn4wd3z6qry0tp5rvh0000gn/T/tmpu1h35qor', '_tf_random_seed': None, '_save_summary_steps': 100, '_save_checkpoints_steps': None, '_save_checkpoints_secs': 600, '_session_config': allow_soft_placement: true\n",
      "graph_options {\n",
      "  rewrite_options {\n",
      "    meta_optimizer_iterations: ONE\n",
      "  }\n",
      "}\n",
      ", '_keep_checkpoint_max': 5, '_keep_checkpoint_every_n_hours': 10000, '_log_step_count_steps': 100, '_train_distribute': None, '_device_fn': None, '_protocol': None, '_eval_distribute': None, '_experimental_distribute': None, '_experimental_max_worker_delay_secs': None, '_session_creation_timeout_secs': 7200, '_service': None, '_cluster_spec': <tensorflow.python.training.server_lib.ClusterSpec object at 0x63facfc90>, '_task_type': 'worker', '_task_id': 0, '_global_id_in_cluster': 0, '_master': '', '_evaluation_master': '', '_is_chief': True, '_num_ps_replicas': 0, '_num_worker_replicas': 1}\n",
      "INFO:tensorflow:Calling model_fn.\n"
     ]
    },
    {
     "ename": "ValueError",
     "evalue": "Unexpectedly found an instance of type `<class 'dict'>`. Expected a symbolic tensor instance.",
     "output_type": "error",
     "traceback": [
      "\u001b[0;31m---------------------------------------------------------------------------\u001b[0m",
      "\u001b[0;31mValueError\u001b[0m                                Traceback (most recent call last)",
      "\u001b[0;32m<ipython-input-32-10b8259aa556>\u001b[0m in \u001b[0;36m<module>\u001b[0;34m\u001b[0m\n\u001b[1;32m      6\u001b[0m \u001b[0;31m# estimator.train(input_fn)\u001b[0m\u001b[0;34m\u001b[0m\u001b[0;34m\u001b[0m\u001b[0;34m\u001b[0m\u001b[0m\n\u001b[1;32m      7\u001b[0m \u001b[0;34m\u001b[0m\u001b[0m\n\u001b[0;32m----> 8\u001b[0;31m \u001b[0mestimator\u001b[0m\u001b[0;34m.\u001b[0m\u001b[0mtrain\u001b[0m\u001b[0;34m(\u001b[0m\u001b[0minput_fn\u001b[0m \u001b[0;34m=\u001b[0m \u001b[0;32mlambda\u001b[0m\u001b[0;34m:\u001b[0m \u001b[0mmake_datasets\u001b[0m\u001b[0;34m(\u001b[0m\u001b[0mtrain_data\u001b[0m\u001b[0;34m,\u001b[0m \u001b[0my_train\u001b[0m\u001b[0;34m,\u001b[0m \u001b[0mepochs\u001b[0m\u001b[0;34m=\u001b[0m\u001b[0;36m100\u001b[0m\u001b[0;34m)\u001b[0m\u001b[0;34m)\u001b[0m\u001b[0;34m\u001b[0m\u001b[0;34m\u001b[0m\u001b[0m\n\u001b[0m\u001b[1;32m      9\u001b[0m \u001b[0;31m#参数只有一个input_fn：1、是一个函数\u001b[0m\u001b[0;34m\u001b[0m\u001b[0;34m\u001b[0m\u001b[0;34m\u001b[0m\u001b[0m\n\u001b[1;32m     10\u001b[0m \u001b[0;31m#                            2、返回元组（features,labels）或（feature,label)\u001b[0m\u001b[0;34m\u001b[0m\u001b[0;34m\u001b[0m\u001b[0;34m\u001b[0m\u001b[0m\n",
      "\u001b[0;32m~/opt/anaconda3/envs/mytf/lib/python3.7/site-packages/tensorflow_estimator/python/estimator/estimator.py\u001b[0m in \u001b[0;36mtrain\u001b[0;34m(self, input_fn, hooks, steps, max_steps, saving_listeners)\u001b[0m\n\u001b[1;32m    368\u001b[0m \u001b[0;34m\u001b[0m\u001b[0m\n\u001b[1;32m    369\u001b[0m       \u001b[0msaving_listeners\u001b[0m \u001b[0;34m=\u001b[0m \u001b[0m_check_listeners_type\u001b[0m\u001b[0;34m(\u001b[0m\u001b[0msaving_listeners\u001b[0m\u001b[0;34m)\u001b[0m\u001b[0;34m\u001b[0m\u001b[0;34m\u001b[0m\u001b[0m\n\u001b[0;32m--> 370\u001b[0;31m       \u001b[0mloss\u001b[0m \u001b[0;34m=\u001b[0m \u001b[0mself\u001b[0m\u001b[0;34m.\u001b[0m\u001b[0m_train_model\u001b[0m\u001b[0;34m(\u001b[0m\u001b[0minput_fn\u001b[0m\u001b[0;34m,\u001b[0m \u001b[0mhooks\u001b[0m\u001b[0;34m,\u001b[0m \u001b[0msaving_listeners\u001b[0m\u001b[0;34m)\u001b[0m\u001b[0;34m\u001b[0m\u001b[0;34m\u001b[0m\u001b[0m\n\u001b[0m\u001b[1;32m    371\u001b[0m       \u001b[0mlogging\u001b[0m\u001b[0;34m.\u001b[0m\u001b[0minfo\u001b[0m\u001b[0;34m(\u001b[0m\u001b[0;34m'Loss for final step: %s.'\u001b[0m\u001b[0;34m,\u001b[0m \u001b[0mloss\u001b[0m\u001b[0;34m)\u001b[0m\u001b[0;34m\u001b[0m\u001b[0;34m\u001b[0m\u001b[0m\n\u001b[1;32m    372\u001b[0m       \u001b[0;32mreturn\u001b[0m \u001b[0mself\u001b[0m\u001b[0;34m\u001b[0m\u001b[0;34m\u001b[0m\u001b[0m\n",
      "\u001b[0;32m~/opt/anaconda3/envs/mytf/lib/python3.7/site-packages/tensorflow_estimator/python/estimator/estimator.py\u001b[0m in \u001b[0;36m_train_model\u001b[0;34m(self, input_fn, hooks, saving_listeners)\u001b[0m\n\u001b[1;32m   1158\u001b[0m       \u001b[0;32mreturn\u001b[0m \u001b[0mself\u001b[0m\u001b[0;34m.\u001b[0m\u001b[0m_train_model_distributed\u001b[0m\u001b[0;34m(\u001b[0m\u001b[0minput_fn\u001b[0m\u001b[0;34m,\u001b[0m \u001b[0mhooks\u001b[0m\u001b[0;34m,\u001b[0m \u001b[0msaving_listeners\u001b[0m\u001b[0;34m)\u001b[0m\u001b[0;34m\u001b[0m\u001b[0;34m\u001b[0m\u001b[0m\n\u001b[1;32m   1159\u001b[0m     \u001b[0;32melse\u001b[0m\u001b[0;34m:\u001b[0m\u001b[0;34m\u001b[0m\u001b[0;34m\u001b[0m\u001b[0m\n\u001b[0;32m-> 1160\u001b[0;31m       \u001b[0;32mreturn\u001b[0m \u001b[0mself\u001b[0m\u001b[0;34m.\u001b[0m\u001b[0m_train_model_default\u001b[0m\u001b[0;34m(\u001b[0m\u001b[0minput_fn\u001b[0m\u001b[0;34m,\u001b[0m \u001b[0mhooks\u001b[0m\u001b[0;34m,\u001b[0m \u001b[0msaving_listeners\u001b[0m\u001b[0;34m)\u001b[0m\u001b[0;34m\u001b[0m\u001b[0;34m\u001b[0m\u001b[0m\n\u001b[0m\u001b[1;32m   1161\u001b[0m \u001b[0;34m\u001b[0m\u001b[0m\n\u001b[1;32m   1162\u001b[0m   \u001b[0;32mdef\u001b[0m \u001b[0m_train_model_default\u001b[0m\u001b[0;34m(\u001b[0m\u001b[0mself\u001b[0m\u001b[0;34m,\u001b[0m \u001b[0minput_fn\u001b[0m\u001b[0;34m,\u001b[0m \u001b[0mhooks\u001b[0m\u001b[0;34m,\u001b[0m \u001b[0msaving_listeners\u001b[0m\u001b[0;34m)\u001b[0m\u001b[0;34m:\u001b[0m\u001b[0;34m\u001b[0m\u001b[0;34m\u001b[0m\u001b[0m\n",
      "\u001b[0;32m~/opt/anaconda3/envs/mytf/lib/python3.7/site-packages/tensorflow_estimator/python/estimator/estimator.py\u001b[0m in \u001b[0;36m_train_model_default\u001b[0;34m(self, input_fn, hooks, saving_listeners)\u001b[0m\n\u001b[1;32m   1188\u001b[0m       \u001b[0mworker_hooks\u001b[0m\u001b[0;34m.\u001b[0m\u001b[0mextend\u001b[0m\u001b[0;34m(\u001b[0m\u001b[0minput_hooks\u001b[0m\u001b[0;34m)\u001b[0m\u001b[0;34m\u001b[0m\u001b[0;34m\u001b[0m\u001b[0m\n\u001b[1;32m   1189\u001b[0m       estimator_spec = self._call_model_fn(\n\u001b[0;32m-> 1190\u001b[0;31m           features, labels, ModeKeys.TRAIN, self.config)\n\u001b[0m\u001b[1;32m   1191\u001b[0m       \u001b[0mglobal_step_tensor\u001b[0m \u001b[0;34m=\u001b[0m \u001b[0mtraining_util\u001b[0m\u001b[0;34m.\u001b[0m\u001b[0mget_global_step\u001b[0m\u001b[0;34m(\u001b[0m\u001b[0mg\u001b[0m\u001b[0;34m)\u001b[0m\u001b[0;34m\u001b[0m\u001b[0;34m\u001b[0m\u001b[0m\n\u001b[1;32m   1192\u001b[0m       return self._train_with_estimator_spec(estimator_spec, worker_hooks,\n",
      "\u001b[0;32m~/opt/anaconda3/envs/mytf/lib/python3.7/site-packages/tensorflow_estimator/python/estimator/estimator.py\u001b[0m in \u001b[0;36m_call_model_fn\u001b[0;34m(self, features, labels, mode, config)\u001b[0m\n\u001b[1;32m   1146\u001b[0m \u001b[0;34m\u001b[0m\u001b[0m\n\u001b[1;32m   1147\u001b[0m     \u001b[0mlogging\u001b[0m\u001b[0;34m.\u001b[0m\u001b[0minfo\u001b[0m\u001b[0;34m(\u001b[0m\u001b[0;34m'Calling model_fn.'\u001b[0m\u001b[0;34m)\u001b[0m\u001b[0;34m\u001b[0m\u001b[0;34m\u001b[0m\u001b[0m\n\u001b[0;32m-> 1148\u001b[0;31m     \u001b[0mmodel_fn_results\u001b[0m \u001b[0;34m=\u001b[0m \u001b[0mself\u001b[0m\u001b[0;34m.\u001b[0m\u001b[0m_model_fn\u001b[0m\u001b[0;34m(\u001b[0m\u001b[0mfeatures\u001b[0m\u001b[0;34m=\u001b[0m\u001b[0mfeatures\u001b[0m\u001b[0;34m,\u001b[0m \u001b[0;34m**\u001b[0m\u001b[0mkwargs\u001b[0m\u001b[0;34m)\u001b[0m\u001b[0;34m\u001b[0m\u001b[0;34m\u001b[0m\u001b[0m\n\u001b[0m\u001b[1;32m   1149\u001b[0m     \u001b[0mlogging\u001b[0m\u001b[0;34m.\u001b[0m\u001b[0minfo\u001b[0m\u001b[0;34m(\u001b[0m\u001b[0;34m'Done calling model_fn.'\u001b[0m\u001b[0;34m)\u001b[0m\u001b[0;34m\u001b[0m\u001b[0;34m\u001b[0m\u001b[0m\n\u001b[1;32m   1150\u001b[0m \u001b[0;34m\u001b[0m\u001b[0m\n",
      "\u001b[0;32m~/opt/anaconda3/envs/mytf/lib/python3.7/site-packages/tensorflow_estimator/python/estimator/keras.py\u001b[0m in \u001b[0;36mmodel_fn\u001b[0;34m(features, labels, mode)\u001b[0m\n\u001b[1;32m    286\u001b[0m         \u001b[0mfeatures\u001b[0m\u001b[0;34m=\u001b[0m\u001b[0mfeatures\u001b[0m\u001b[0;34m,\u001b[0m\u001b[0;34m\u001b[0m\u001b[0;34m\u001b[0m\u001b[0m\n\u001b[1;32m    287\u001b[0m         \u001b[0mlabels\u001b[0m\u001b[0;34m=\u001b[0m\u001b[0mlabels\u001b[0m\u001b[0;34m,\u001b[0m\u001b[0;34m\u001b[0m\u001b[0;34m\u001b[0m\u001b[0m\n\u001b[0;32m--> 288\u001b[0;31m         optimizer_config=optimizer_config)\n\u001b[0m\u001b[1;32m    289\u001b[0m     \u001b[0mmodel_output_names\u001b[0m \u001b[0;34m=\u001b[0m \u001b[0;34m[\u001b[0m\u001b[0;34m]\u001b[0m\u001b[0;34m\u001b[0m\u001b[0;34m\u001b[0m\u001b[0m\n\u001b[1;32m    290\u001b[0m     \u001b[0;31m# We need to make sure that the output names of the last layer in the model\u001b[0m\u001b[0;34m\u001b[0m\u001b[0;34m\u001b[0m\u001b[0;34m\u001b[0m\u001b[0m\n",
      "\u001b[0;32m~/opt/anaconda3/envs/mytf/lib/python3.7/site-packages/tensorflow_estimator/python/estimator/keras.py\u001b[0m in \u001b[0;36m_clone_and_build_model\u001b[0;34m(mode, keras_model, custom_objects, features, labels, optimizer_config)\u001b[0m\n\u001b[1;32m    225\u001b[0m       \u001b[0min_place_reset\u001b[0m\u001b[0;34m=\u001b[0m\u001b[0;34m(\u001b[0m\u001b[0;32mnot\u001b[0m \u001b[0mkeras_model\u001b[0m\u001b[0;34m.\u001b[0m\u001b[0m_is_graph_network\u001b[0m\u001b[0;34m)\u001b[0m\u001b[0;34m,\u001b[0m\u001b[0;34m\u001b[0m\u001b[0;34m\u001b[0m\u001b[0m\n\u001b[1;32m    226\u001b[0m       \u001b[0moptimizer_iterations\u001b[0m\u001b[0;34m=\u001b[0m\u001b[0mglobal_step\u001b[0m\u001b[0;34m,\u001b[0m\u001b[0;34m\u001b[0m\u001b[0;34m\u001b[0m\u001b[0m\n\u001b[0;32m--> 227\u001b[0;31m       optimizer_config=optimizer_config)\n\u001b[0m\u001b[1;32m    228\u001b[0m \u001b[0;34m\u001b[0m\u001b[0m\n\u001b[1;32m    229\u001b[0m   \u001b[0;32mif\u001b[0m \u001b[0msample_weight_tensors\u001b[0m \u001b[0;32mis\u001b[0m \u001b[0;32mnot\u001b[0m \u001b[0;32mNone\u001b[0m\u001b[0;34m:\u001b[0m\u001b[0;34m\u001b[0m\u001b[0;34m\u001b[0m\u001b[0m\n",
      "\u001b[0;32m~/opt/anaconda3/envs/mytf/lib/python3.7/site-packages/tensorflow_core/python/keras/models.py\u001b[0m in \u001b[0;36mclone_and_build_model\u001b[0;34m(model, input_tensors, target_tensors, custom_objects, compile_clone, in_place_reset, optimizer_iterations, optimizer_config)\u001b[0m\n\u001b[1;32m    632\u001b[0m         \u001b[0mclone\u001b[0m \u001b[0;34m=\u001b[0m \u001b[0mclone_model\u001b[0m\u001b[0;34m(\u001b[0m\u001b[0mmodel\u001b[0m\u001b[0;34m,\u001b[0m \u001b[0minput_tensors\u001b[0m\u001b[0;34m=\u001b[0m\u001b[0minput_tensors\u001b[0m\u001b[0;34m)\u001b[0m\u001b[0;34m\u001b[0m\u001b[0;34m\u001b[0m\u001b[0m\n\u001b[1;32m    633\u001b[0m     \u001b[0;32melse\u001b[0m\u001b[0;34m:\u001b[0m\u001b[0;34m\u001b[0m\u001b[0;34m\u001b[0m\u001b[0m\n\u001b[0;32m--> 634\u001b[0;31m       \u001b[0mclone\u001b[0m \u001b[0;34m=\u001b[0m \u001b[0mclone_model\u001b[0m\u001b[0;34m(\u001b[0m\u001b[0mmodel\u001b[0m\u001b[0;34m,\u001b[0m \u001b[0minput_tensors\u001b[0m\u001b[0;34m=\u001b[0m\u001b[0minput_tensors\u001b[0m\u001b[0;34m)\u001b[0m\u001b[0;34m\u001b[0m\u001b[0;34m\u001b[0m\u001b[0m\n\u001b[0m\u001b[1;32m    635\u001b[0m \u001b[0;34m\u001b[0m\u001b[0m\n\u001b[1;32m    636\u001b[0m     if all([isinstance(clone, Sequential),\n",
      "\u001b[0;32m~/opt/anaconda3/envs/mytf/lib/python3.7/site-packages/tensorflow_core/python/keras/models.py\u001b[0m in \u001b[0;36mclone_model\u001b[0;34m(model, input_tensors, clone_function)\u001b[0m\n\u001b[1;32m    417\u001b[0m   \u001b[0;32mif\u001b[0m \u001b[0misinstance\u001b[0m\u001b[0;34m(\u001b[0m\u001b[0mmodel\u001b[0m\u001b[0;34m,\u001b[0m \u001b[0mSequential\u001b[0m\u001b[0;34m)\u001b[0m\u001b[0;34m:\u001b[0m\u001b[0;34m\u001b[0m\u001b[0;34m\u001b[0m\u001b[0m\n\u001b[1;32m    418\u001b[0m     return _clone_sequential_model(\n\u001b[0;32m--> 419\u001b[0;31m         model, input_tensors=input_tensors, layer_fn=clone_function)\n\u001b[0m\u001b[1;32m    420\u001b[0m   \u001b[0;32melse\u001b[0m\u001b[0;34m:\u001b[0m\u001b[0;34m\u001b[0m\u001b[0;34m\u001b[0m\u001b[0m\n\u001b[1;32m    421\u001b[0m     return _clone_functional_model(\n",
      "\u001b[0;32m~/opt/anaconda3/envs/mytf/lib/python3.7/site-packages/tensorflow_core/python/keras/models.py\u001b[0m in \u001b[0;36m_clone_sequential_model\u001b[0;34m(model, input_tensors, layer_fn)\u001b[0m\n\u001b[1;32m    336\u001b[0m       \u001b[0minput_tensors\u001b[0m \u001b[0;34m=\u001b[0m \u001b[0mlist\u001b[0m\u001b[0;34m(\u001b[0m\u001b[0minput_tensors\u001b[0m\u001b[0;34m)\u001b[0m\u001b[0;34m\u001b[0m\u001b[0;34m\u001b[0m\u001b[0m\n\u001b[1;32m    337\u001b[0m     \u001b[0mx\u001b[0m \u001b[0;34m=\u001b[0m \u001b[0mgeneric_utils\u001b[0m\u001b[0;34m.\u001b[0m\u001b[0mto_list\u001b[0m\u001b[0;34m(\u001b[0m\u001b[0minput_tensors\u001b[0m\u001b[0;34m)\u001b[0m\u001b[0;34m[\u001b[0m\u001b[0;36m0\u001b[0m\u001b[0;34m]\u001b[0m\u001b[0;34m\u001b[0m\u001b[0;34m\u001b[0m\u001b[0m\n\u001b[0;32m--> 338\u001b[0;31m     \u001b[0;32mif\u001b[0m \u001b[0mK\u001b[0m\u001b[0;34m.\u001b[0m\u001b[0mis_keras_tensor\u001b[0m\u001b[0;34m(\u001b[0m\u001b[0mx\u001b[0m\u001b[0;34m)\u001b[0m\u001b[0;34m:\u001b[0m\u001b[0;34m\u001b[0m\u001b[0;34m\u001b[0m\u001b[0m\n\u001b[0m\u001b[1;32m    339\u001b[0m       \u001b[0morigin_layer\u001b[0m \u001b[0;34m=\u001b[0m \u001b[0mx\u001b[0m\u001b[0;34m.\u001b[0m\u001b[0m_keras_history\u001b[0m\u001b[0;34m.\u001b[0m\u001b[0mlayer\u001b[0m\u001b[0;34m\u001b[0m\u001b[0;34m\u001b[0m\u001b[0m\n\u001b[1;32m    340\u001b[0m       \u001b[0;32mif\u001b[0m \u001b[0misinstance\u001b[0m\u001b[0;34m(\u001b[0m\u001b[0morigin_layer\u001b[0m\u001b[0;34m,\u001b[0m \u001b[0mInputLayer\u001b[0m\u001b[0;34m)\u001b[0m\u001b[0;34m:\u001b[0m\u001b[0;34m\u001b[0m\u001b[0;34m\u001b[0m\u001b[0m\n",
      "\u001b[0;32m~/opt/anaconda3/envs/mytf/lib/python3.7/site-packages/tensorflow_core/python/keras/backend.py\u001b[0m in \u001b[0;36mis_keras_tensor\u001b[0;34m(x)\u001b[0m\n\u001b[1;32m    985\u001b[0m                         sparse_tensor.SparseTensor)):\n\u001b[1;32m    986\u001b[0m     raise ValueError('Unexpectedly found an instance of type `' + str(type(x)) +\n\u001b[0;32m--> 987\u001b[0;31m                      '`. Expected a symbolic tensor instance.')\n\u001b[0m\u001b[1;32m    988\u001b[0m   \u001b[0;32mreturn\u001b[0m \u001b[0mhasattr\u001b[0m\u001b[0;34m(\u001b[0m\u001b[0mx\u001b[0m\u001b[0;34m,\u001b[0m \u001b[0;34m'_keras_history'\u001b[0m\u001b[0;34m)\u001b[0m\u001b[0;34m\u001b[0m\u001b[0;34m\u001b[0m\u001b[0m\n\u001b[1;32m    989\u001b[0m \u001b[0;34m\u001b[0m\u001b[0m\n",
      "\u001b[0;31mValueError\u001b[0m: Unexpectedly found an instance of type `<class 'dict'>`. Expected a symbolic tensor instance."
     ]
    }
   ],
   "source": [
    "# 2.model -> estimator ->train\n",
    "estimator = keras.estimator.model_to_estimator(model)\n",
    "\n",
    "# def input_fn():\n",
    "#   return make_datasets(train_data, y_train,epochs=100)\n",
    "# estimator.train(input_fn)\n",
    "\n",
    "estimator.train(input_fn = lambda: make_datasets(train_data, y_train, epochs=100))\n",
    "#参数只有一个input_fn：1、是一个函数\n",
    "#                            2、返回元组（features,labels）或（feature,label)"
   ]
  },
  {
   "cell_type": "code",
   "execution_count": 33,
   "metadata": {},
   "outputs": [
    {
     "data": {
      "text/plain": [
       "<TakeDataset shapes: ({sex: (None,), age: (None,), n_siblings_spouses: (None,), parch: (None,), fare: (None,), class: (None,), deck: (None,), embark_town: (None,), alone: (None,)}, (None,)), types: ({sex: tf.string, age: tf.float64, n_siblings_spouses: tf.int32, parch: tf.int32, fare: tf.float64, class: tf.string, deck: tf.string, embark_town: tf.string, alone: tf.string}, tf.int32)>"
      ]
     },
     "execution_count": 33,
     "metadata": {},
     "output_type": "execute_result"
    }
   ],
   "source": [
    "train_dataset.take(1)"
   ]
  },
  {
   "cell_type": "code",
   "execution_count": null,
   "metadata": {},
   "outputs": [],
   "source": []
  }
 ],
 "metadata": {
  "kernelspec": {
   "display_name": "Python 3.7.6 64-bit ('mytf': conda)",
   "language": "python",
   "name": "python37664bitmytfconda841baf2f843f47f398642a391af5d6cb"
  },
  "language_info": {
   "codemirror_mode": {
    "name": "ipython",
    "version": 3
   },
   "file_extension": ".py",
   "mimetype": "text/x-python",
   "name": "python",
   "nbconvert_exporter": "python",
   "pygments_lexer": "ipython3",
   "version": "3.7.6"
  }
 },
 "nbformat": 4,
 "nbformat_minor": 4
}
