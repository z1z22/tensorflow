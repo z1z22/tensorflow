{
 "cells": [
  {
   "cell_type": "code",
   "execution_count": 1,
   "metadata": {},
   "outputs": [],
   "source": [
    "import pandas as pd\n",
    "import numpy as np\n",
    "import tensorflow as tf\n",
    "import matplotlib.pyplot as plt\n",
    "from tensorflow import keras\n"
   ]
  },
  {
   "cell_type": "code",
   "execution_count": 2,
   "metadata": {},
   "outputs": [],
   "source": [
    "TRAIN_DATA_URL = \"https://storage.googleapis.com/tf-datasets/titanic/train.csv\"\n",
    "TEST_DATA_URL = \"https://storage.googleapis.com/tf-datasets/titanic/eval.csv\"\n",
    "train_data = pd.read_csv(TRAIN_DATA_URL)\n",
    "test_data = pd.read_csv(TEST_DATA_URL)"
   ]
  },
  {
   "cell_type": "code",
   "execution_count": 4,
   "metadata": {},
   "outputs": [],
   "source": [
    "train_data = train_data[100:]\n",
    "valid_data = train_data[:100]"
   ]
  },
  {
   "cell_type": "code",
   "execution_count": null,
   "metadata": {},
   "outputs": [],
   "source": [
    "test_data.head()"
   ]
  },
  {
   "cell_type": "code",
   "execution_count": 29,
   "metadata": {},
   "outputs": [
    {
     "name": "stdout",
     "output_type": "stream",
     "text": [
      "(527, 9)\n",
      "(264, 9)\n",
      "(100, 9)\n"
     ]
    }
   ],
   "source": [
    "print(train_data.shape)\n",
    "print(test_data.shape)\n",
    "print(valid_data.shape)"
   ]
  },
  {
   "cell_type": "code",
   "execution_count": 6,
   "metadata": {},
   "outputs": [
    {
     "data": {
      "text/html": [
       "<div>\n",
       "<style scoped>\n",
       "    .dataframe tbody tr th:only-of-type {\n",
       "        vertical-align: middle;\n",
       "    }\n",
       "\n",
       "    .dataframe tbody tr th {\n",
       "        vertical-align: top;\n",
       "    }\n",
       "\n",
       "    .dataframe thead th {\n",
       "        text-align: right;\n",
       "    }\n",
       "</style>\n",
       "<table border=\"1\" class=\"dataframe\">\n",
       "  <thead>\n",
       "    <tr style=\"text-align: right;\">\n",
       "      <th></th>\n",
       "      <th>survived</th>\n",
       "      <th>age</th>\n",
       "      <th>n_siblings_spouses</th>\n",
       "      <th>parch</th>\n",
       "      <th>fare</th>\n",
       "    </tr>\n",
       "  </thead>\n",
       "  <tbody>\n",
       "    <tr>\n",
       "      <th>count</th>\n",
       "      <td>527.000000</td>\n",
       "      <td>527.000000</td>\n",
       "      <td>527.000000</td>\n",
       "      <td>527.000000</td>\n",
       "      <td>527.000000</td>\n",
       "    </tr>\n",
       "    <tr>\n",
       "      <th>mean</th>\n",
       "      <td>0.394687</td>\n",
       "      <td>29.885199</td>\n",
       "      <td>0.529412</td>\n",
       "      <td>0.377609</td>\n",
       "      <td>34.907889</td>\n",
       "    </tr>\n",
       "    <tr>\n",
       "      <th>std</th>\n",
       "      <td>0.489248</td>\n",
       "      <td>12.398154</td>\n",
       "      <td>1.169393</td>\n",
       "      <td>0.765034</td>\n",
       "      <td>55.983347</td>\n",
       "    </tr>\n",
       "    <tr>\n",
       "      <th>min</th>\n",
       "      <td>0.000000</td>\n",
       "      <td>0.750000</td>\n",
       "      <td>0.000000</td>\n",
       "      <td>0.000000</td>\n",
       "      <td>0.000000</td>\n",
       "    </tr>\n",
       "    <tr>\n",
       "      <th>25%</th>\n",
       "      <td>0.000000</td>\n",
       "      <td>23.500000</td>\n",
       "      <td>0.000000</td>\n",
       "      <td>0.000000</td>\n",
       "      <td>7.895800</td>\n",
       "    </tr>\n",
       "    <tr>\n",
       "      <th>50%</th>\n",
       "      <td>0.000000</td>\n",
       "      <td>28.000000</td>\n",
       "      <td>0.000000</td>\n",
       "      <td>0.000000</td>\n",
       "      <td>15.245800</td>\n",
       "    </tr>\n",
       "    <tr>\n",
       "      <th>75%</th>\n",
       "      <td>1.000000</td>\n",
       "      <td>36.000000</td>\n",
       "      <td>1.000000</td>\n",
       "      <td>0.000000</td>\n",
       "      <td>31.331250</td>\n",
       "    </tr>\n",
       "    <tr>\n",
       "      <th>max</th>\n",
       "      <td>1.000000</td>\n",
       "      <td>80.000000</td>\n",
       "      <td>8.000000</td>\n",
       "      <td>5.000000</td>\n",
       "      <td>512.329200</td>\n",
       "    </tr>\n",
       "  </tbody>\n",
       "</table>\n",
       "</div>"
      ],
      "text/plain": [
       "         survived         age  n_siblings_spouses       parch        fare\n",
       "count  527.000000  527.000000          527.000000  527.000000  527.000000\n",
       "mean     0.394687   29.885199            0.529412    0.377609   34.907889\n",
       "std      0.489248   12.398154            1.169393    0.765034   55.983347\n",
       "min      0.000000    0.750000            0.000000    0.000000    0.000000\n",
       "25%      0.000000   23.500000            0.000000    0.000000    7.895800\n",
       "50%      0.000000   28.000000            0.000000    0.000000   15.245800\n",
       "75%      1.000000   36.000000            1.000000    0.000000   31.331250\n",
       "max      1.000000   80.000000            8.000000    5.000000  512.329200"
      ]
     },
     "execution_count": 6,
     "metadata": {},
     "output_type": "execute_result"
    }
   ],
   "source": [
    "train_data.describe()"
   ]
  },
  {
   "cell_type": "code",
   "execution_count": 7,
   "metadata": {},
   "outputs": [
    {
     "data": {
      "image/png": "[encoded data removed]",
      "text/plain": [
       "<Figure size 432x288 with 1 Axes>"
      ]
     },
     "metadata": {
      "needs_background": "light"
     },
     "output_type": "display_data"
    }
   ],
   "source": [
    "train_data.age.hist(bins =20)\n",
    "plt.show()"
   ]
  },
  {
   "cell_type": "code",
   "execution_count": 8,
   "metadata": {},
   "outputs": [
    {
     "data": {
      "image/png": "[encoded data removed]",
      "text/plain": [
       "<Figure size 432x288 with 1 Axes>"
      ]
     },
     "metadata": {
      "needs_background": "light"
     },
     "output_type": "display_data"
    }
   ],
   "source": [
    "train_data.sex.value_counts().plot(kind = 'barh')\n",
    "plt.show()"
   ]
  },
  {
   "cell_type": "code",
   "execution_count": 9,
   "metadata": {},
   "outputs": [
    {
     "data": {
      "image/png": "[encoded data removed]",
      "text/plain": [
       "<Figure size 432x288 with 1 Axes>"
      ]
     },
     "metadata": {
      "needs_background": "light"
     },
     "output_type": "display_data"
    }
   ],
   "source": [
    "train_data['class'].value_counts().plot(kind = 'barh')\n",
    "plt.show()"
   ]
  },
  {
   "cell_type": "code",
   "execution_count": 10,
   "metadata": {},
   "outputs": [
    {
     "data": {
      "text/plain": [
       "<matplotlib.axes._subplots.AxesSubplot at 0x642441050>"
      ]
     },
     "execution_count": 10,
     "metadata": {},
     "output_type": "execute_result"
    },
    {
     "data": {
      "image/png": "[encoded data removed]",
      "text/plain": [
       "<Figure size 432x288 with 1 Axes>"
      ]
     },
     "metadata": {
      "needs_background": "light"
     },
     "output_type": "display_data"
    }
   ],
   "source": [
    "train_data.groupby('sex').survived.mean().plot(kind='bar')"
   ]
  },
  {
   "cell_type": "code",
   "execution_count": 11,
   "metadata": {},
   "outputs": [
    {
     "data": {
      "text/plain": [
       "<matplotlib.axes._subplots.AxesSubplot at 0x642628050>"
      ]
     },
     "execution_count": 11,
     "metadata": {},
     "output_type": "execute_result"
    },
    {
     "data": {
      "image/png": "[encoded data removed]",
      "text/plain": [
       "<Figure size 432x288 with 1 Axes>"
      ]
     },
     "metadata": {
      "needs_background": "light"
     },
     "output_type": "display_data"
    }
   ],
   "source": [
    "train_data.groupby('class').survived.mean().plot(kind='bar')"
   ]
  },
  {
   "cell_type": "code",
   "execution_count": 12,
   "metadata": {},
   "outputs": [
    {
     "data": {
      "text/plain": [
       "<matplotlib.axes._subplots.AxesSubplot at 0x641fb7050>"
      ]
     },
     "execution_count": 12,
     "metadata": {},
     "output_type": "execute_result"
    },
    {
     "data": {
      "image/png": "[encoded data removed]",
      "text/plain": [
       "<Figure size 432x288 with 1 Axes>"
      ]
     },
     "metadata": {
      "needs_background": "light"
     },
     "output_type": "display_data"
    }
   ],
   "source": [
    "train_data.groupby('alone').survived.mean().plot(kind='bar')"
   ]
  },
  {
   "cell_type": "code",
   "execution_count": 13,
   "metadata": {},
   "outputs": [
    {
     "data": {
      "text/plain": [
       "<matplotlib.axes._subplots.AxesSubplot at 0x64275ba10>"
      ]
     },
     "execution_count": 13,
     "metadata": {},
     "output_type": "execute_result"
    },
    {
     "data": {
      "image/png": "[encoded data removed]",
      "text/plain": [
       "<Figure size 432x288 with 1 Axes>"
      ]
     },
     "metadata": {
      "needs_background": "light"
     },
     "output_type": "display_data"
    }
   ],
   "source": [
    "train_data.groupby('deck').survived.mean().plot(kind='bar')"
   ]
  },
  {
   "cell_type": "code",
   "execution_count": 14,
   "metadata": {},
   "outputs": [
    {
     "data": {
      "text/plain": [
       "survived              0\n",
       "sex                   0\n",
       "age                   0\n",
       "n_siblings_spouses    0\n",
       "parch                 0\n",
       "fare                  0\n",
       "class                 0\n",
       "deck                  0\n",
       "embark_town           0\n",
       "alone                 0\n",
       "dtype: int64"
      ]
     },
     "execution_count": 14,
     "metadata": {},
     "output_type": "execute_result"
    }
   ],
   "source": [
    "train_data[train_data.isnull()].count()"
   ]
  },
  {
   "cell_type": "code",
   "execution_count": 15,
   "metadata": {},
   "outputs": [],
   "source": [
    "y_train= train_data.pop('survived')\n",
    "y_test = test_data.pop('survived')\n",
    "y_valid = valid_data.pop('survived')\n"
   ]
  },
  {
   "cell_type": "code",
   "execution_count": null,
   "metadata": {},
   "outputs": [],
   "source": [
    "train_data.head()"
   ]
  },
  {
   "cell_type": "code",
   "execution_count": 17,
   "metadata": {},
   "outputs": [
    {
     "name": "stdout",
     "output_type": "stream",
     "text": [
      "sex :  ['male' 'female']\n",
      "n_siblings_spouses :  [0 1 2 8 4 3 5]\n",
      "parch :  [0 2 1 4 3 5]\n",
      "class :  ['Third' 'Second' 'First']\n",
      "deck :  ['unknown' 'D' 'C' 'B' 'E' 'F' 'G' 'A']\n",
      "embark_town :  ['Southampton' 'Cherbourg' 'Queenstown']\n",
      "alone :  ['y' 'n']\n"
     ]
    }
   ],
   "source": [
    "categorical_columns =['sex','n_siblings_spouses','parch','class','deck','embark_town','alone']\n",
    "numeric_columns=['age','fare']\n",
    "feature_columns = []\n",
    "#处理离散值特征\n",
    "for categorical_column in categorical_columns:\n",
    "    vocab = train_data[categorical_column].unique()\n",
    "    print(categorical_column,': ',vocab)\n",
    "    feature_columns.append(\n",
    "        tf.feature_column.indicator_column(\n",
    "                    tf.feature_column.categorical_column_with_vocabulary_list(\n",
    "                                                                              categorical_column, vocab)))\n",
    "# tf.feature_column.indicator_column,对离散数据进行one_hot编码\n",
    "\n",
    "#处理连续型特征\n",
    "for numeric_column in numeric_columns:\n",
    "    feature_columns.append(\n",
    "          tf.feature_column.numeric_column(\n",
    "                      numeric_column, dtype=tf.float32))"
   ]
  },
  {
   "cell_type": "code",
   "execution_count": 18,
   "metadata": {},
   "outputs": [
    {
     "data": {
      "text/plain": [
       "IndicatorColumn(categorical_column=VocabularyListCategoricalColumn(key='n_siblings_spouses', vocabulary_list=(0, 1, 2, 8, 4, 3, 5), dtype=tf.int64, default_value=-1, num_oov_buckets=0))"
      ]
     },
     "execution_count": 18,
     "metadata": {},
     "output_type": "execute_result"
    }
   ],
   "source": [
    "feature_columns[1]"
   ]
  },
  {
   "cell_type": "code",
   "execution_count": 40,
   "metadata": {},
   "outputs": [],
   "source": [
    "#构建datasets\n",
    "def make_dataset(x,y,epochs=10,shuffle=True,batch_size=32):\n",
    "    dataset = tf.data.Dataset.from_tensor_slices((dict(x), y))#from_tensor_slices要传入字典\n",
    "    if shuffle:\n",
    "        dataset = dataset.shuffle(10000)\n",
    "    dataset = dataset.repeat(epochs).batch(batch_size)\n",
    "    return dataset\n",
    "    "
   ]
  },
  {
   "cell_type": "code",
   "execution_count": 26,
   "metadata": {},
   "outputs": [],
   "source": [
    "train_dataset = make_dataset(train_data, y_train)\n",
    "test_dataset = make_dataset(test_data,y_test,shuffle = False)\n",
    "valid_dataset = make_dataset(valid_data,y_valid,shuffle = False)"
   ]
  },
  {
   "cell_type": "code",
   "execution_count": 21,
   "metadata": {},
   "outputs": [
    {
     "name": "stdout",
     "output_type": "stream",
     "text": [
      "{'sex': <tf.Tensor: id=82, shape=(32,), dtype=string, numpy=\n",
      "array([b'male', b'male', b'male', b'male', b'female', b'male', b'female',\n",
      "       b'male', b'male', b'male', b'male', b'male', b'male', b'female',\n",
      "       b'female', b'female', b'female', b'female', b'female', b'female',\n",
      "       b'male', b'male', b'male', b'male', b'female', b'female', b'male',\n",
      "       b'female', b'male', b'female', b'female', b'female'], dtype=object)>, 'age': <tf.Tensor: id=74, shape=(32,), dtype=float32, numpy=\n",
      "array([16., 28., 60., 65., 17., 28., 35., 28., 36., 28., 16., 29., 44.,\n",
      "       47., 40.,  4., 28., 50., 31., 47., 28., 37., 28., 34., 28., 28.,\n",
      "       23., 54., 28., 28., 38., 45.], dtype=float32)>, 'n_siblings_spouses': <tf.Tensor: id=80, shape=(32,), dtype=int32, numpy=\n",
      "array([0, 1, 1, 0, 1, 0, 0, 0, 0, 0, 0, 0, 0, 1, 1, 0, 0, 0, 1, 1, 0, 0,\n",
      "       0, 1, 0, 0, 0, 1, 0, 0, 0, 1], dtype=int32)>, 'parch': <tf.Tensor: id=81, shape=(32,), dtype=int32, numpy=\n",
      "array([0, 0, 1, 0, 0, 0, 0, 0, 0, 0, 0, 0, 1, 0, 1, 2, 0, 0, 0, 1, 0, 1,\n",
      "       0, 0, 0, 2, 0, 0, 0, 0, 0, 1], dtype=int32)>, 'fare': <tf.Tensor: id=79, shape=(32,), dtype=float32, numpy=\n",
      "array([  9.5   ,  16.1   ,  39.    ,  26.55  ,  57.    ,  56.4958,\n",
      "       512.3292,  10.5   ,   7.8958,  56.4958,   8.05  ,   7.8958,\n",
      "        16.1   ,  14.5   , 134.5   ,  22.025 ,   7.2292,  28.7125,\n",
      "       113.275 ,  52.5542,   6.8583,  29.7   ,  26.55  ,  21.    ,\n",
      "        33.    ,   7.75  ,  13.    ,  59.4   ,   7.8958,   7.75  ,\n",
      "        13.    , 164.8667], dtype=float32)>, 'class': <tf.Tensor: id=76, shape=(32,), dtype=string, numpy=\n",
      "array([b'Third', b'Third', b'Second', b'First', b'First', b'Third',\n",
      "       b'First', b'Second', b'Third', b'Third', b'Third', b'Third',\n",
      "       b'Third', b'Third', b'First', b'Third', b'Third', b'First',\n",
      "       b'First', b'First', b'Third', b'First', b'First', b'Second',\n",
      "       b'Second', b'Third', b'Second', b'First', b'Third', b'Third',\n",
      "       b'Second', b'First'], dtype=object)>, 'deck': <tf.Tensor: id=77, shape=(32,), dtype=string, numpy=\n",
      "array([b'unknown', b'unknown', b'unknown', b'E', b'B', b'unknown',\n",
      "       b'unknown', b'unknown', b'unknown', b'unknown', b'unknown',\n",
      "       b'unknown', b'unknown', b'unknown', b'E', b'unknown', b'unknown',\n",
      "       b'C', b'D', b'D', b'unknown', b'C', b'unknown', b'unknown',\n",
      "       b'unknown', b'unknown', b'unknown', b'unknown', b'unknown',\n",
      "       b'unknown', b'unknown', b'unknown'], dtype=object)>, 'embark_town': <tf.Tensor: id=78, shape=(32,), dtype=string, numpy=\n",
      "array([b'Southampton', b'Southampton', b'Southampton', b'Southampton',\n",
      "       b'Southampton', b'Southampton', b'Cherbourg', b'Southampton',\n",
      "       b'Southampton', b'Southampton', b'Southampton', b'Cherbourg',\n",
      "       b'Southampton', b'Southampton', b'Cherbourg', b'Southampton',\n",
      "       b'Cherbourg', b'Cherbourg', b'Cherbourg', b'Southampton',\n",
      "       b'Queenstown', b'Cherbourg', b'Southampton', b'Southampton',\n",
      "       b'Southampton', b'Queenstown', b'Southampton', b'Cherbourg',\n",
      "       b'Southampton', b'Queenstown', b'Southampton', b'Southampton'],\n",
      "      dtype=object)>, 'alone': <tf.Tensor: id=75, shape=(32,), dtype=string, numpy=\n",
      "array([b'y', b'n', b'n', b'y', b'n', b'y', b'y', b'y', b'y', b'y', b'y',\n",
      "       b'y', b'n', b'n', b'n', b'n', b'y', b'y', b'n', b'n', b'y', b'n',\n",
      "       b'y', b'n', b'y', b'n', b'y', b'n', b'y', b'y', b'y', b'n'],\n",
      "      dtype=object)>} \n",
      "\n",
      " tf.Tensor([0 0 0 0 1 1 1 0 0 0 0 1 0 0 1 1 1 0 1 1 0 0 1 0 1 0 0 1 0 1 0 1], shape=(32,), dtype=int32) \n",
      "\n",
      " tf.Tensor(\n",
      "[16. 28. 60. 65. 17. 28. 35. 28. 36. 28. 16. 29. 44. 47. 40.  4. 28. 50.\n",
      " 31. 47. 28. 37. 28. 34. 28. 28. 23. 54. 28. 28. 38. 45.], shape=(32,), dtype=float32)\n"
     ]
    }
   ],
   "source": [
    "for x,y in train_dataset.take(1):\n",
    "    print(x, '\\n\\n', y, '\\n\\n',x['age'])\n"
   ]
  },
  {
   "cell_type": "code",
   "execution_count": 22,
   "metadata": {},
   "outputs": [
    {
     "name": "stdout",
     "output_type": "stream",
     "text": [
      "[[36.]\n",
      " [25.]\n",
      " [28.]\n",
      " [45.]\n",
      " [28.]\n",
      " [28.]\n",
      " [23.]\n",
      " [24.]\n",
      " [57.]\n",
      " [ 6.]\n",
      " [35.]\n",
      " [ 2.]\n",
      " [21.]\n",
      " [24.]\n",
      " [24.]\n",
      " [23.]\n",
      " [53.]\n",
      " [33.]\n",
      " [31.]\n",
      " [60.]\n",
      " [64.]\n",
      " [34.]\n",
      " [28.]\n",
      " [33.]\n",
      " [28.]\n",
      " [28.]\n",
      " [23.]\n",
      " [ 1.]\n",
      " [20.]\n",
      " [34.]\n",
      " [22.]\n",
      " [28.]]\n",
      "WARNING:tensorflow:From /Users/mac/opt/anaconda3/envs/mytf/lib/python3.7/site-packages/tensorflow_core/python/feature_column/feature_column_v2.py:4276: IndicatorColumn._variable_shape (from tensorflow.python.feature_column.feature_column_v2) is deprecated and will be removed in a future version.\n",
      "Instructions for updating:\n",
      "The old _FeatureColumn APIs are being deprecated. Please use the new FeatureColumn APIs instead.\n",
      "WARNING:tensorflow:From /Users/mac/opt/anaconda3/envs/mytf/lib/python3.7/site-packages/tensorflow_core/python/feature_column/feature_column_v2.py:4331: VocabularyListCategoricalColumn._num_buckets (from tensorflow.python.feature_column.feature_column_v2) is deprecated and will be removed in a future version.\n",
      "Instructions for updating:\n",
      "The old _FeatureColumn APIs are being deprecated. Please use the new FeatureColumn APIs instead.\n",
      "[[1. 0.]\n",
      " [1. 0.]\n",
      " [1. 0.]\n",
      " [1. 0.]\n",
      " [0. 1.]\n",
      " [0. 1.]\n",
      " [0. 1.]\n",
      " [1. 0.]\n",
      " [1. 0.]\n",
      " [0. 1.]\n",
      " [1. 0.]\n",
      " [1. 0.]\n",
      " [1. 0.]\n",
      " [0. 1.]\n",
      " [1. 0.]\n",
      " [1. 0.]\n",
      " [0. 1.]\n",
      " [0. 1.]\n",
      " [0. 1.]\n",
      " [1. 0.]\n",
      " [1. 0.]\n",
      " [1. 0.]\n",
      " [1. 0.]\n",
      " [1. 0.]\n",
      " [0. 1.]\n",
      " [1. 0.]\n",
      " [1. 0.]\n",
      " [1. 0.]\n",
      " [1. 0.]\n",
      " [0. 1.]\n",
      " [1. 0.]\n",
      " [1. 0.]]\n"
     ]
    }
   ],
   "source": [
    "#实验\n",
    "# keras.layers.DenseFeatures可以将Feature定义的规则运用到dataset的每一个数据上\n",
    "\n",
    "for x, y in train_dataset.take(1):\n",
    "    age_column = feature_columns[7]\n",
    "    gender_column = feature_columns[0]\n",
    "    print(keras.layers.DenseFeatures(age_column)(x).numpy())#将age_column的规则运用到x上在打印numpy值\n",
    "    print(keras.layers.DenseFeatures(gender_column)(x).numpy())\n",
    "#出现warning是提示float64自动转为float32，tensorflow2可以忽略"
   ]
  },
  {
   "cell_type": "code",
   "execution_count": 23,
   "metadata": {},
   "outputs": [
    {
     "name": "stdout",
     "output_type": "stream",
     "text": [
      "[[28.  0.  1. ...  0.  0.  1.]\n",
      " [21.  1.  0. ...  0.  0.  1.]\n",
      " [57.  1.  0. ...  0.  0.  1.]\n",
      " ...\n",
      " [28.  0.  1. ...  0.  0.  1.]\n",
      " [28.  1.  0. ...  0.  1.  0.]\n",
      " [56.  1.  0. ...  0.  1.  0.]]\n"
     ]
    }
   ],
   "source": [
    "#实验\n",
    "for x, y in train_dataset.take(1):\n",
    "    print(keras.layers.DenseFeatures(feature_columns)(x).numpy())#将feature_columns的规则运用到x上在打印numpy值\n"
   ]
  },
  {
   "cell_type": "code",
   "execution_count": 24,
   "metadata": {},
   "outputs": [],
   "source": [
    "model = keras.models.Sequential([\n",
    "    keras.layers.DenseFeatures(feature_columns),\n",
    "    keras.layers.Dense(100,activation='relu'),\n",
    "    keras.layers.Dense(100,activation='relu'),\n",
    "    keras.layers.Dense(2, activation='softmax'),\n",
    "])\n",
    "\n",
    "model.compile(loss='sparse_categorical_crossentropy',\n",
    "                     optimizer = keras.optimizers.SGD(lr=0.01),\n",
    "                     metrics = ['accuracy'])\n",
    "\n"
   ]
  },
  {
   "cell_type": "code",
   "execution_count": 30,
   "metadata": {},
   "outputs": [
    {
     "name": "stdout",
     "output_type": "stream",
     "text": [
      "Train for 16 steps, validate for 3 steps\n",
      "Epoch 1/100\n",
      "16/16 [==============================] - 0s 14ms/step - loss: 0.4695 - accuracy: 0.7754 - val_loss: 0.4512 - val_accuracy: 0.7708\n",
      "Epoch 2/100\n",
      "16/16 [==============================] - 0s 13ms/step - loss: 0.4645 - accuracy: 0.8086 - val_loss: 0.4350 - val_accuracy: 0.8021\n",
      "Epoch 3/100\n",
      "16/16 [==============================] - 0s 14ms/step - loss: 0.4845 - accuracy: 0.7715 - val_loss: 0.4377 - val_accuracy: 0.8125\n",
      "Epoch 4/100\n",
      "16/16 [==============================] - 0s 14ms/step - loss: 0.4781 - accuracy: 0.7812 - val_loss: 0.4335 - val_accuracy: 0.8229\n",
      "Epoch 5/100\n",
      "16/16 [==============================] - 0s 13ms/step - loss: 0.5101 - accuracy: 0.7734 - val_loss: 0.4567 - val_accuracy: 0.7604\n",
      "Epoch 6/100\n",
      "16/16 [==============================] - 0s 14ms/step - loss: 0.4806 - accuracy: 0.7793 - val_loss: 0.4324 - val_accuracy: 0.8125\n",
      "Epoch 7/100\n",
      "16/16 [==============================] - 0s 14ms/step - loss: 0.4479 - accuracy: 0.8105 - val_loss: 0.5230 - val_accuracy: 0.7500\n",
      "Epoch 8/100\n",
      "16/16 [==============================] - 0s 13ms/step - loss: 0.4675 - accuracy: 0.7871 - val_loss: 0.5087 - val_accuracy: 0.7292\n",
      "Epoch 9/100\n",
      "16/16 [==============================] - 0s 13ms/step - loss: 0.4284 - accuracy: 0.8105 - val_loss: 0.4434 - val_accuracy: 0.8021\n",
      "Epoch 10/100\n",
      "16/16 [==============================] - 0s 13ms/step - loss: 0.4660 - accuracy: 0.7832 - val_loss: 0.4294 - val_accuracy: 0.8125\n",
      "Epoch 11/100\n",
      "16/16 [==============================] - 0s 13ms/step - loss: 0.4365 - accuracy: 0.7988 - val_loss: 0.5185 - val_accuracy: 0.7292\n",
      "Epoch 12/100\n",
      "16/16 [==============================] - 0s 13ms/step - loss: 0.4661 - accuracy: 0.7852 - val_loss: 0.4491 - val_accuracy: 0.7812\n",
      "Epoch 13/100\n",
      "16/16 [==============================] - 0s 16ms/step - loss: 0.4772 - accuracy: 0.7656 - val_loss: 0.4330 - val_accuracy: 0.7812\n",
      "Epoch 14/100\n",
      "16/16 [==============================] - 0s 15ms/step - loss: 0.3971 - accuracy: 0.8320 - val_loss: 0.4350 - val_accuracy: 0.8021\n",
      "Epoch 15/100\n",
      "16/16 [==============================] - 0s 14ms/step - loss: 0.4568 - accuracy: 0.8027 - val_loss: 0.6443 - val_accuracy: 0.6875\n",
      "Epoch 16/100\n",
      "16/16 [==============================] - 0s 14ms/step - loss: 0.4776 - accuracy: 0.7793 - val_loss: 0.6195 - val_accuracy: 0.7083\n",
      "Epoch 17/100\n",
      "16/16 [==============================] - 0s 15ms/step - loss: 0.4935 - accuracy: 0.7676 - val_loss: 0.4335 - val_accuracy: 0.7708\n",
      "Epoch 18/100\n",
      "16/16 [==============================] - 0s 16ms/step - loss: 0.4889 - accuracy: 0.7676 - val_loss: 0.4357 - val_accuracy: 0.7812\n",
      "Epoch 19/100\n",
      "16/16 [==============================] - 0s 16ms/step - loss: 0.4706 - accuracy: 0.7988 - val_loss: 0.4633 - val_accuracy: 0.7812\n",
      "Epoch 20/100\n",
      "16/16 [==============================] - 0s 16ms/step - loss: 0.4450 - accuracy: 0.7969 - val_loss: 0.4213 - val_accuracy: 0.8229\n",
      "Epoch 21/100\n",
      "16/16 [==============================] - 0s 15ms/step - loss: 0.4926 - accuracy: 0.7812 - val_loss: 0.4229 - val_accuracy: 0.8125\n",
      "Epoch 22/100\n",
      "16/16 [==============================] - 0s 14ms/step - loss: 0.4187 - accuracy: 0.8164 - val_loss: 0.4588 - val_accuracy: 0.7917\n",
      "Epoch 23/100\n",
      "16/16 [==============================] - 0s 14ms/step - loss: 0.4810 - accuracy: 0.7617 - val_loss: 0.4269 - val_accuracy: 0.8125\n",
      "Epoch 24/100\n",
      "16/16 [==============================] - 0s 14ms/step - loss: 0.4466 - accuracy: 0.8184 - val_loss: 0.6975 - val_accuracy: 0.6979\n",
      "Epoch 25/100\n",
      "16/16 [==============================] - 0s 15ms/step - loss: 0.4935 - accuracy: 0.7812 - val_loss: 0.4804 - val_accuracy: 0.7604\n",
      "Epoch 26/100\n",
      "16/16 [==============================] - 0s 14ms/step - loss: 0.4507 - accuracy: 0.7930 - val_loss: 0.4328 - val_accuracy: 0.8125\n",
      "Epoch 27/100\n",
      "16/16 [==============================] - 0s 13ms/step - loss: 0.4249 - accuracy: 0.8340 - val_loss: 0.4647 - val_accuracy: 0.7604\n",
      "Epoch 28/100\n",
      "16/16 [==============================] - 0s 13ms/step - loss: 0.4733 - accuracy: 0.7793 - val_loss: 0.4250 - val_accuracy: 0.8229\n",
      "Epoch 29/100\n",
      "16/16 [==============================] - 0s 14ms/step - loss: 0.4402 - accuracy: 0.8008 - val_loss: 0.4882 - val_accuracy: 0.7604\n",
      "Epoch 30/100\n",
      "16/16 [==============================] - 0s 14ms/step - loss: 0.4704 - accuracy: 0.7773 - val_loss: 0.5127 - val_accuracy: 0.7292\n",
      "Epoch 31/100\n",
      "16/16 [==============================] - 0s 17ms/step - loss: 0.4893 - accuracy: 0.7910 - val_loss: 0.4728 - val_accuracy: 0.7500\n",
      "Epoch 32/100\n",
      "16/16 [==============================] - 0s 17ms/step - loss: 0.4581 - accuracy: 0.7969 - val_loss: 0.4649 - val_accuracy: 0.7500\n",
      "Epoch 33/100\n",
      "16/16 [==============================] - 0s 14ms/step - loss: 0.4762 - accuracy: 0.7812 - val_loss: 0.4577 - val_accuracy: 0.7812\n",
      "Epoch 34/100\n",
      "16/16 [==============================] - 0s 13ms/step - loss: 0.4263 - accuracy: 0.8086 - val_loss: 0.6238 - val_accuracy: 0.7083\n",
      "Epoch 35/100\n",
      "16/16 [==============================] - 0s 14ms/step - loss: 0.5004 - accuracy: 0.7734 - val_loss: 0.4253 - val_accuracy: 0.8229\n",
      "Epoch 36/100\n",
      "16/16 [==============================] - 0s 12ms/step - loss: 0.4479 - accuracy: 0.7988 - val_loss: 0.4366 - val_accuracy: 0.7917\n",
      "Epoch 37/100\n",
      "16/16 [==============================] - 0s 15ms/step - loss: 0.4173 - accuracy: 0.8164 - val_loss: 0.5351 - val_accuracy: 0.7708\n",
      "Epoch 38/100\n",
      "16/16 [==============================] - 0s 13ms/step - loss: 0.5032 - accuracy: 0.7617 - val_loss: 0.4335 - val_accuracy: 0.8021\n",
      "Epoch 39/100\n",
      "16/16 [==============================] - 0s 13ms/step - loss: 0.4605 - accuracy: 0.7910 - val_loss: 0.4368 - val_accuracy: 0.8021\n",
      "Epoch 40/100\n",
      "16/16 [==============================] - 0s 14ms/step - loss: 0.4489 - accuracy: 0.8066 - val_loss: 0.4258 - val_accuracy: 0.8125\n",
      "Epoch 41/100\n",
      "16/16 [==============================] - 0s 14ms/step - loss: 0.4631 - accuracy: 0.8105 - val_loss: 0.4457 - val_accuracy: 0.8021\n",
      "Epoch 42/100\n",
      "16/16 [==============================] - 0s 13ms/step - loss: 0.4976 - accuracy: 0.7891 - val_loss: 0.4615 - val_accuracy: 0.7812\n",
      "Epoch 43/100\n",
      "16/16 [==============================] - 0s 14ms/step - loss: 0.4407 - accuracy: 0.8008 - val_loss: 0.4218 - val_accuracy: 0.8125\n",
      "Epoch 44/100\n",
      "16/16 [==============================] - 0s 13ms/step - loss: 0.4394 - accuracy: 0.8223 - val_loss: 0.4130 - val_accuracy: 0.8333\n",
      "Epoch 45/100\n",
      "16/16 [==============================] - 0s 13ms/step - loss: 0.4575 - accuracy: 0.7988 - val_loss: 0.4333 - val_accuracy: 0.7812\n",
      "Epoch 46/100\n",
      "16/16 [==============================] - 0s 16ms/step - loss: 0.4245 - accuracy: 0.8086 - val_loss: 0.4637 - val_accuracy: 0.7604\n",
      "Epoch 47/100\n",
      "16/16 [==============================] - 0s 14ms/step - loss: 0.4577 - accuracy: 0.7930 - val_loss: 0.4241 - val_accuracy: 0.8125\n",
      "Epoch 48/100\n",
      "16/16 [==============================] - 0s 15ms/step - loss: 0.4279 - accuracy: 0.7988 - val_loss: 0.4348 - val_accuracy: 0.7917\n",
      "Epoch 49/100\n",
      "16/16 [==============================] - 0s 15ms/step - loss: 0.5417 - accuracy: 0.7324 - val_loss: 0.4862 - val_accuracy: 0.7500\n",
      "Epoch 50/100\n",
      "16/16 [==============================] - 0s 16ms/step - loss: 0.4253 - accuracy: 0.8223 - val_loss: 0.4247 - val_accuracy: 0.8229\n",
      "Epoch 51/100\n",
      "16/16 [==============================] - 0s 14ms/step - loss: 0.4737 - accuracy: 0.7715 - val_loss: 0.4497 - val_accuracy: 0.7812\n",
      "Epoch 52/100\n",
      "16/16 [==============================] - 0s 17ms/step - loss: 0.4494 - accuracy: 0.7988 - val_loss: 0.4344 - val_accuracy: 0.8125\n",
      "Epoch 53/100\n",
      "16/16 [==============================] - 0s 14ms/step - loss: 0.4662 - accuracy: 0.8047 - val_loss: 0.4766 - val_accuracy: 0.7500\n",
      "Epoch 54/100\n",
      "16/16 [==============================] - 0s 14ms/step - loss: 0.4661 - accuracy: 0.7930 - val_loss: 0.4184 - val_accuracy: 0.8438\n",
      "Epoch 55/100\n",
      "16/16 [==============================] - 0s 14ms/step - loss: 0.4465 - accuracy: 0.7773 - val_loss: 0.4582 - val_accuracy: 0.7708\n",
      "Epoch 56/100\n",
      "16/16 [==============================] - 0s 14ms/step - loss: 0.4400 - accuracy: 0.8125 - val_loss: 0.4242 - val_accuracy: 0.8021\n",
      "Epoch 57/100\n",
      "16/16 [==============================] - 0s 13ms/step - loss: 0.4755 - accuracy: 0.8027 - val_loss: 0.4330 - val_accuracy: 0.7917\n",
      "Epoch 58/100\n"
     ]
    },
    {
     "name": "stdout",
     "output_type": "stream",
     "text": [
      "16/16 [==============================] - 0s 14ms/step - loss: 0.4682 - accuracy: 0.7988 - val_loss: 0.4456 - val_accuracy: 0.8021\n",
      "Epoch 59/100\n",
      "16/16 [==============================] - 0s 14ms/step - loss: 0.4757 - accuracy: 0.7832 - val_loss: 0.5051 - val_accuracy: 0.7188\n",
      "Epoch 60/100\n",
      "16/16 [==============================] - 0s 15ms/step - loss: 0.4678 - accuracy: 0.7969 - val_loss: 0.4417 - val_accuracy: 0.7917\n",
      "Epoch 61/100\n",
      "16/16 [==============================] - 0s 14ms/step - loss: 0.4782 - accuracy: 0.7930 - val_loss: 0.4200 - val_accuracy: 0.8229\n",
      "Epoch 62/100\n",
      "16/16 [==============================] - 0s 14ms/step - loss: 0.4527 - accuracy: 0.7773 - val_loss: 0.5198 - val_accuracy: 0.7604\n",
      "Epoch 63/100\n",
      "16/16 [==============================] - 0s 15ms/step - loss: 0.4455 - accuracy: 0.8008 - val_loss: 0.4149 - val_accuracy: 0.8333\n",
      "Epoch 64/100\n",
      "16/16 [==============================] - 0s 14ms/step - loss: 0.4221 - accuracy: 0.8184 - val_loss: 0.4441 - val_accuracy: 0.7917\n",
      "Epoch 65/100\n",
      "16/16 [==============================] - 0s 13ms/step - loss: 0.4573 - accuracy: 0.7969 - val_loss: 0.4160 - val_accuracy: 0.8333\n",
      "Epoch 66/100\n",
      "16/16 [==============================] - 0s 13ms/step - loss: 0.4551 - accuracy: 0.7910 - val_loss: 0.4263 - val_accuracy: 0.8021\n",
      "Epoch 67/100\n",
      "16/16 [==============================] - 0s 15ms/step - loss: 0.4679 - accuracy: 0.7852 - val_loss: 0.4540 - val_accuracy: 0.7708\n",
      "Epoch 68/100\n",
      "16/16 [==============================] - 0s 14ms/step - loss: 0.4327 - accuracy: 0.8184 - val_loss: 0.4430 - val_accuracy: 0.8125\n",
      "Epoch 69/100\n",
      "16/16 [==============================] - 0s 16ms/step - loss: 0.4728 - accuracy: 0.7988 - val_loss: 0.4545 - val_accuracy: 0.7708\n",
      "Epoch 70/100\n",
      "16/16 [==============================] - 0s 14ms/step - loss: 0.4642 - accuracy: 0.7793 - val_loss: 0.4331 - val_accuracy: 0.7917\n",
      "Epoch 71/100\n",
      "16/16 [==============================] - 0s 12ms/step - loss: 0.4525 - accuracy: 0.8086 - val_loss: 0.4253 - val_accuracy: 0.8021\n",
      "Epoch 72/100\n",
      "16/16 [==============================] - 0s 16ms/step - loss: 0.4271 - accuracy: 0.8164 - val_loss: 0.4241 - val_accuracy: 0.8125\n",
      "Epoch 73/100\n",
      "16/16 [==============================] - 0s 15ms/step - loss: 0.4266 - accuracy: 0.8086 - val_loss: 0.4840 - val_accuracy: 0.7292\n",
      "Epoch 74/100\n",
      "16/16 [==============================] - 0s 13ms/step - loss: 0.4524 - accuracy: 0.7734 - val_loss: 0.4474 - val_accuracy: 0.8021\n",
      "Epoch 75/100\n",
      "16/16 [==============================] - 0s 15ms/step - loss: 0.4362 - accuracy: 0.7969 - val_loss: 0.5300 - val_accuracy: 0.7604\n",
      "Epoch 76/100\n",
      "16/16 [==============================] - 0s 14ms/step - loss: 0.4653 - accuracy: 0.8008 - val_loss: 0.5250 - val_accuracy: 0.7604\n",
      "Epoch 77/100\n",
      "16/16 [==============================] - 0s 14ms/step - loss: 0.4603 - accuracy: 0.7930 - val_loss: 0.4175 - val_accuracy: 0.8333\n",
      "Epoch 78/100\n",
      "16/16 [==============================] - 0s 15ms/step - loss: 0.4488 - accuracy: 0.8125 - val_loss: 0.6048 - val_accuracy: 0.6875\n",
      "Epoch 79/100\n",
      "16/16 [==============================] - 0s 14ms/step - loss: 0.4818 - accuracy: 0.7695 - val_loss: 0.4252 - val_accuracy: 0.8021\n",
      "Epoch 80/100\n",
      "16/16 [==============================] - 0s 13ms/step - loss: 0.4469 - accuracy: 0.7910 - val_loss: 0.4109 - val_accuracy: 0.8229\n",
      "Epoch 81/100\n",
      "16/16 [==============================] - 0s 14ms/step - loss: 0.4688 - accuracy: 0.7852 - val_loss: 0.4803 - val_accuracy: 0.7708\n",
      "Epoch 82/100\n",
      "16/16 [==============================] - 0s 15ms/step - loss: 0.4301 - accuracy: 0.8164 - val_loss: 0.4315 - val_accuracy: 0.7917\n",
      "Epoch 83/100\n",
      "16/16 [==============================] - 0s 14ms/step - loss: 0.4494 - accuracy: 0.8047 - val_loss: 0.4168 - val_accuracy: 0.8125\n",
      "Epoch 84/100\n",
      "16/16 [==============================] - 0s 15ms/step - loss: 0.4526 - accuracy: 0.7773 - val_loss: 0.4337 - val_accuracy: 0.8021\n",
      "Epoch 85/100\n",
      "16/16 [==============================] - 0s 15ms/step - loss: 0.4567 - accuracy: 0.7871 - val_loss: 0.4117 - val_accuracy: 0.8229\n",
      "Epoch 86/100\n",
      "16/16 [==============================] - 0s 13ms/step - loss: 0.4689 - accuracy: 0.7969 - val_loss: 0.4222 - val_accuracy: 0.8333\n",
      "Epoch 87/100\n",
      "16/16 [==============================] - 0s 15ms/step - loss: 0.4235 - accuracy: 0.8066 - val_loss: 0.4172 - val_accuracy: 0.8125\n",
      "Epoch 88/100\n",
      "16/16 [==============================] - 0s 14ms/step - loss: 0.4411 - accuracy: 0.8066 - val_loss: 0.4545 - val_accuracy: 0.7708\n",
      "Epoch 89/100\n",
      "16/16 [==============================] - 0s 14ms/step - loss: 0.4506 - accuracy: 0.7891 - val_loss: 0.4381 - val_accuracy: 0.8229\n",
      "Epoch 90/100\n",
      "16/16 [==============================] - 0s 15ms/step - loss: 0.4566 - accuracy: 0.8066 - val_loss: 0.4555 - val_accuracy: 0.7917\n",
      "Epoch 91/100\n",
      "16/16 [==============================] - 0s 14ms/step - loss: 0.4752 - accuracy: 0.7832 - val_loss: 0.4612 - val_accuracy: 0.7708\n",
      "Epoch 92/100\n",
      "16/16 [==============================] - 0s 13ms/step - loss: 0.4407 - accuracy: 0.8125 - val_loss: 0.4127 - val_accuracy: 0.8229\n",
      "Epoch 93/100\n",
      "16/16 [==============================] - 0s 13ms/step - loss: 0.4167 - accuracy: 0.8164 - val_loss: 0.4243 - val_accuracy: 0.8125\n",
      "Epoch 94/100\n",
      "16/16 [==============================] - 0s 14ms/step - loss: 0.4437 - accuracy: 0.8125 - val_loss: 0.4259 - val_accuracy: 0.8333\n",
      "Epoch 95/100\n",
      "16/16 [==============================] - 0s 14ms/step - loss: 0.4412 - accuracy: 0.8066 - val_loss: 0.5755 - val_accuracy: 0.6979\n",
      "Epoch 96/100\n",
      "16/16 [==============================] - 0s 14ms/step - loss: 0.4639 - accuracy: 0.8047 - val_loss: 0.4453 - val_accuracy: 0.7917\n",
      "Epoch 97/100\n",
      "16/16 [==============================] - 0s 14ms/step - loss: 0.4066 - accuracy: 0.8086 - val_loss: 0.4091 - val_accuracy: 0.8333\n",
      "Epoch 98/100\n",
      "16/16 [==============================] - 0s 14ms/step - loss: 0.4318 - accuracy: 0.8066 - val_loss: 0.4177 - val_accuracy: 0.8333\n",
      "Epoch 99/100\n",
      "16/16 [==============================] - 0s 13ms/step - loss: 0.4442 - accuracy: 0.8008 - val_loss: 0.4562 - val_accuracy: 0.7812\n",
      "Epoch 100/100\n",
      "16/16 [==============================] - 0s 14ms/step - loss: 0.4305 - accuracy: 0.8242 - val_loss: 0.4127 - val_accuracy: 0.8438\n"
     ]
    }
   ],
   "source": [
    "# 1.model.fit\n",
    "# 2.model -> estimator ->train\n",
    "train_dataset = make_dataset(train_data, y_train,epochs=100)\n",
    "test_dataset = make_dataset(test_data, y_test,epochs=1,shuffle=False)\n",
    "history = model.fit(train_dataset,steps_per_epoch=527//32,epochs=100,validation_data = valid_dataset,validation_steps=3)#steps_per_epoch=训练集的样本数//batch_size"
   ]
  },
  {
   "cell_type": "code",
   "execution_count": 31,
   "metadata": {},
   "outputs": [
    {
     "data": {
      "image/png": "[encoded data removed]",
      "text/plain": [
       "<Figure size 432x288 with 1 Axes>"
      ]
     },
     "metadata": {
      "needs_background": "light"
     },
     "output_type": "display_data"
    }
   ],
   "source": [
    "pd.DataFrame(history.history).plot()\n",
    "plt.grid(True)\n",
    "plt.show()"
   ]
  },
  {
   "cell_type": "code",
   "execution_count": 41,
   "metadata": {},
   "outputs": [
    {
     "name": "stdout",
     "output_type": "stream",
     "text": [
      "INFO:tensorflow:Using default config.\n",
      "WARNING:tensorflow:Using temporary folder as model directory: /var/folders/l7/d1pnsddn4wd3z6qry0tp5rvh0000gn/T/tmp0h6id7rp\n",
      "INFO:tensorflow:Using the Keras model provided.\n",
      "WARNING:tensorflow:You are creating an Estimator from a Keras model manually subclassed from `Model`, that was already called on some inputs (and thus already had weights). We are currently unable to preserve the model's state (its weights) as part of the estimator in this case. Be warned that the estimator has been created using a freshly initialized version of your model.\n",
      "Note that this doesn't affect the state of the model instance you passed as `keras_model` argument.\n",
      "INFO:tensorflow:Using config: {'_model_dir': '/var/folders/l7/d1pnsddn4wd3z6qry0tp5rvh0000gn/T/tmp0h6id7rp', '_tf_random_seed': None, '_save_summary_steps': 100, '_save_checkpoints_steps': None, '_save_checkpoints_secs': 600, '_session_config': allow_soft_placement: true\n",
      "graph_options {\n",
      "  rewrite_options {\n",
      "    meta_optimizer_iterations: ONE\n",
      "  }\n",
      "}\n",
      ", '_keep_checkpoint_max': 5, '_keep_checkpoint_every_n_hours': 10000, '_log_step_count_steps': 100, '_train_distribute': None, '_device_fn': None, '_protocol': None, '_eval_distribute': None, '_experimental_distribute': None, '_experimental_max_worker_delay_secs': None, '_session_creation_timeout_secs': 7200, '_service': None, '_cluster_spec': <tensorflow.python.training.server_lib.ClusterSpec object at 0x6461f5890>, '_task_type': 'worker', '_task_id': 0, '_global_id_in_cluster': 0, '_master': '', '_evaluation_master': '', '_is_chief': True, '_num_ps_replicas': 0, '_num_worker_replicas': 1}\n",
      "INFO:tensorflow:Calling model_fn.\n"
     ]
    },
    {
     "ename": "ValueError",
     "evalue": "Unexpectedly found an instance of type `<class 'dict'>`. Expected a symbolic tensor instance.",
     "output_type": "error",
     "traceback": [
      "\u001b[0;31m---------------------------------------------------------------------------\u001b[0m",
      "\u001b[0;31mValueError\u001b[0m                                Traceback (most recent call last)",
      "\u001b[0;32m<ipython-input-41-c4091d4dd962>\u001b[0m in \u001b[0;36m<module>\u001b[0;34m\u001b[0m\n\u001b[1;32m      1\u001b[0m \u001b[0;31m# 2.model -> estimator ->train\u001b[0m\u001b[0;34m\u001b[0m\u001b[0;34m\u001b[0m\u001b[0;34m\u001b[0m\u001b[0m\n\u001b[1;32m      2\u001b[0m \u001b[0mestimator\u001b[0m \u001b[0;34m=\u001b[0m \u001b[0mkeras\u001b[0m\u001b[0;34m.\u001b[0m\u001b[0mestimator\u001b[0m\u001b[0;34m.\u001b[0m\u001b[0mmodel_to_estimator\u001b[0m\u001b[0;34m(\u001b[0m\u001b[0mmodel\u001b[0m\u001b[0;34m)\u001b[0m\u001b[0;34m\u001b[0m\u001b[0;34m\u001b[0m\u001b[0m\n\u001b[0;32m----> 3\u001b[0;31m \u001b[0mestimator\u001b[0m\u001b[0;34m.\u001b[0m\u001b[0mtrain\u001b[0m\u001b[0;34m(\u001b[0m\u001b[0minput_fn\u001b[0m\u001b[0;34m=\u001b[0m\u001b[0;32mlambda\u001b[0m\u001b[0;34m:\u001b[0m \u001b[0mmake_dataset\u001b[0m\u001b[0;34m(\u001b[0m\u001b[0mtrain_data\u001b[0m\u001b[0;34m,\u001b[0m \u001b[0my_train\u001b[0m\u001b[0;34m,\u001b[0m\u001b[0mepochs\u001b[0m\u001b[0;34m=\u001b[0m\u001b[0;36m100\u001b[0m\u001b[0;34m)\u001b[0m\u001b[0;34m)\u001b[0m\u001b[0;34m\u001b[0m\u001b[0;34m\u001b[0m\u001b[0m\n\u001b[0m\u001b[1;32m      4\u001b[0m \u001b[0;31m#input_fn：1、参数是一个函数\u001b[0m\u001b[0;34m\u001b[0m\u001b[0;34m\u001b[0m\u001b[0;34m\u001b[0m\u001b[0m\n\u001b[1;32m      5\u001b[0m \u001b[0;31m#            2、返回元组（features,labels）或（feature,label)\u001b[0m\u001b[0;34m\u001b[0m\u001b[0;34m\u001b[0m\u001b[0;34m\u001b[0m\u001b[0m\n",
      "\u001b[0;32m~/opt/anaconda3/envs/mytf/lib/python3.7/site-packages/tensorflow_estimator/python/estimator/estimator.py\u001b[0m in \u001b[0;36mtrain\u001b[0;34m(self, input_fn, hooks, steps, max_steps, saving_listeners)\u001b[0m\n\u001b[1;32m    368\u001b[0m \u001b[0;34m\u001b[0m\u001b[0m\n\u001b[1;32m    369\u001b[0m       \u001b[0msaving_listeners\u001b[0m \u001b[0;34m=\u001b[0m \u001b[0m_check_listeners_type\u001b[0m\u001b[0;34m(\u001b[0m\u001b[0msaving_listeners\u001b[0m\u001b[0;34m)\u001b[0m\u001b[0;34m\u001b[0m\u001b[0;34m\u001b[0m\u001b[0m\n\u001b[0;32m--> 370\u001b[0;31m       \u001b[0mloss\u001b[0m \u001b[0;34m=\u001b[0m \u001b[0mself\u001b[0m\u001b[0;34m.\u001b[0m\u001b[0m_train_model\u001b[0m\u001b[0;34m(\u001b[0m\u001b[0minput_fn\u001b[0m\u001b[0;34m,\u001b[0m \u001b[0mhooks\u001b[0m\u001b[0;34m,\u001b[0m \u001b[0msaving_listeners\u001b[0m\u001b[0;34m)\u001b[0m\u001b[0;34m\u001b[0m\u001b[0;34m\u001b[0m\u001b[0m\n\u001b[0m\u001b[1;32m    371\u001b[0m       \u001b[0mlogging\u001b[0m\u001b[0;34m.\u001b[0m\u001b[0minfo\u001b[0m\u001b[0;34m(\u001b[0m\u001b[0;34m'Loss for final step: %s.'\u001b[0m\u001b[0;34m,\u001b[0m \u001b[0mloss\u001b[0m\u001b[0;34m)\u001b[0m\u001b[0;34m\u001b[0m\u001b[0;34m\u001b[0m\u001b[0m\n\u001b[1;32m    372\u001b[0m       \u001b[0;32mreturn\u001b[0m \u001b[0mself\u001b[0m\u001b[0;34m\u001b[0m\u001b[0;34m\u001b[0m\u001b[0m\n",
      "\u001b[0;32m~/opt/anaconda3/envs/mytf/lib/python3.7/site-packages/tensorflow_estimator/python/estimator/estimator.py\u001b[0m in \u001b[0;36m_train_model\u001b[0;34m(self, input_fn, hooks, saving_listeners)\u001b[0m\n\u001b[1;32m   1158\u001b[0m       \u001b[0;32mreturn\u001b[0m \u001b[0mself\u001b[0m\u001b[0;34m.\u001b[0m\u001b[0m_train_model_distributed\u001b[0m\u001b[0;34m(\u001b[0m\u001b[0minput_fn\u001b[0m\u001b[0;34m,\u001b[0m \u001b[0mhooks\u001b[0m\u001b[0;34m,\u001b[0m \u001b[0msaving_listeners\u001b[0m\u001b[0;34m)\u001b[0m\u001b[0;34m\u001b[0m\u001b[0;34m\u001b[0m\u001b[0m\n\u001b[1;32m   1159\u001b[0m     \u001b[0;32melse\u001b[0m\u001b[0;34m:\u001b[0m\u001b[0;34m\u001b[0m\u001b[0;34m\u001b[0m\u001b[0m\n\u001b[0;32m-> 1160\u001b[0;31m       \u001b[0;32mreturn\u001b[0m \u001b[0mself\u001b[0m\u001b[0;34m.\u001b[0m\u001b[0m_train_model_default\u001b[0m\u001b[0;34m(\u001b[0m\u001b[0minput_fn\u001b[0m\u001b[0;34m,\u001b[0m \u001b[0mhooks\u001b[0m\u001b[0;34m,\u001b[0m \u001b[0msaving_listeners\u001b[0m\u001b[0;34m)\u001b[0m\u001b[0;34m\u001b[0m\u001b[0;34m\u001b[0m\u001b[0m\n\u001b[0m\u001b[1;32m   1161\u001b[0m \u001b[0;34m\u001b[0m\u001b[0m\n\u001b[1;32m   1162\u001b[0m   \u001b[0;32mdef\u001b[0m \u001b[0m_train_model_default\u001b[0m\u001b[0;34m(\u001b[0m\u001b[0mself\u001b[0m\u001b[0;34m,\u001b[0m \u001b[0minput_fn\u001b[0m\u001b[0;34m,\u001b[0m \u001b[0mhooks\u001b[0m\u001b[0;34m,\u001b[0m \u001b[0msaving_listeners\u001b[0m\u001b[0;34m)\u001b[0m\u001b[0;34m:\u001b[0m\u001b[0;34m\u001b[0m\u001b[0;34m\u001b[0m\u001b[0m\n",
      "\u001b[0;32m~/opt/anaconda3/envs/mytf/lib/python3.7/site-packages/tensorflow_estimator/python/estimator/estimator.py\u001b[0m in \u001b[0;36m_train_model_default\u001b[0;34m(self, input_fn, hooks, saving_listeners)\u001b[0m\n\u001b[1;32m   1188\u001b[0m       \u001b[0mworker_hooks\u001b[0m\u001b[0;34m.\u001b[0m\u001b[0mextend\u001b[0m\u001b[0;34m(\u001b[0m\u001b[0minput_hooks\u001b[0m\u001b[0;34m)\u001b[0m\u001b[0;34m\u001b[0m\u001b[0;34m\u001b[0m\u001b[0m\n\u001b[1;32m   1189\u001b[0m       estimator_spec = self._call_model_fn(\n\u001b[0;32m-> 1190\u001b[0;31m           features, labels, ModeKeys.TRAIN, self.config)\n\u001b[0m\u001b[1;32m   1191\u001b[0m       \u001b[0mglobal_step_tensor\u001b[0m \u001b[0;34m=\u001b[0m \u001b[0mtraining_util\u001b[0m\u001b[0;34m.\u001b[0m\u001b[0mget_global_step\u001b[0m\u001b[0;34m(\u001b[0m\u001b[0mg\u001b[0m\u001b[0;34m)\u001b[0m\u001b[0;34m\u001b[0m\u001b[0;34m\u001b[0m\u001b[0m\n\u001b[1;32m   1192\u001b[0m       return self._train_with_estimator_spec(estimator_spec, worker_hooks,\n",
      "\u001b[0;32m~/opt/anaconda3/envs/mytf/lib/python3.7/site-packages/tensorflow_estimator/python/estimator/estimator.py\u001b[0m in \u001b[0;36m_call_model_fn\u001b[0;34m(self, features, labels, mode, config)\u001b[0m\n\u001b[1;32m   1146\u001b[0m \u001b[0;34m\u001b[0m\u001b[0m\n\u001b[1;32m   1147\u001b[0m     \u001b[0mlogging\u001b[0m\u001b[0;34m.\u001b[0m\u001b[0minfo\u001b[0m\u001b[0;34m(\u001b[0m\u001b[0;34m'Calling model_fn.'\u001b[0m\u001b[0;34m)\u001b[0m\u001b[0;34m\u001b[0m\u001b[0;34m\u001b[0m\u001b[0m\n\u001b[0;32m-> 1148\u001b[0;31m     \u001b[0mmodel_fn_results\u001b[0m \u001b[0;34m=\u001b[0m \u001b[0mself\u001b[0m\u001b[0;34m.\u001b[0m\u001b[0m_model_fn\u001b[0m\u001b[0;34m(\u001b[0m\u001b[0mfeatures\u001b[0m\u001b[0;34m=\u001b[0m\u001b[0mfeatures\u001b[0m\u001b[0;34m,\u001b[0m \u001b[0;34m**\u001b[0m\u001b[0mkwargs\u001b[0m\u001b[0;34m)\u001b[0m\u001b[0;34m\u001b[0m\u001b[0;34m\u001b[0m\u001b[0m\n\u001b[0m\u001b[1;32m   1149\u001b[0m     \u001b[0mlogging\u001b[0m\u001b[0;34m.\u001b[0m\u001b[0minfo\u001b[0m\u001b[0;34m(\u001b[0m\u001b[0;34m'Done calling model_fn.'\u001b[0m\u001b[0;34m)\u001b[0m\u001b[0;34m\u001b[0m\u001b[0;34m\u001b[0m\u001b[0m\n\u001b[1;32m   1150\u001b[0m \u001b[0;34m\u001b[0m\u001b[0m\n",
      "\u001b[0;32m~/opt/anaconda3/envs/mytf/lib/python3.7/site-packages/tensorflow_estimator/python/estimator/keras.py\u001b[0m in \u001b[0;36mmodel_fn\u001b[0;34m(features, labels, mode)\u001b[0m\n\u001b[1;32m    286\u001b[0m         \u001b[0mfeatures\u001b[0m\u001b[0;34m=\u001b[0m\u001b[0mfeatures\u001b[0m\u001b[0;34m,\u001b[0m\u001b[0;34m\u001b[0m\u001b[0;34m\u001b[0m\u001b[0m\n\u001b[1;32m    287\u001b[0m         \u001b[0mlabels\u001b[0m\u001b[0;34m=\u001b[0m\u001b[0mlabels\u001b[0m\u001b[0;34m,\u001b[0m\u001b[0;34m\u001b[0m\u001b[0;34m\u001b[0m\u001b[0m\n\u001b[0;32m--> 288\u001b[0;31m         optimizer_config=optimizer_config)\n\u001b[0m\u001b[1;32m    289\u001b[0m     \u001b[0mmodel_output_names\u001b[0m \u001b[0;34m=\u001b[0m \u001b[0;34m[\u001b[0m\u001b[0;34m]\u001b[0m\u001b[0;34m\u001b[0m\u001b[0;34m\u001b[0m\u001b[0m\n\u001b[1;32m    290\u001b[0m     \u001b[0;31m# We need to make sure that the output names of the last layer in the model\u001b[0m\u001b[0;34m\u001b[0m\u001b[0;34m\u001b[0m\u001b[0;34m\u001b[0m\u001b[0m\n",
      "\u001b[0;32m~/opt/anaconda3/envs/mytf/lib/python3.7/site-packages/tensorflow_estimator/python/estimator/keras.py\u001b[0m in \u001b[0;36m_clone_and_build_model\u001b[0;34m(mode, keras_model, custom_objects, features, labels, optimizer_config)\u001b[0m\n\u001b[1;32m    225\u001b[0m       \u001b[0min_place_reset\u001b[0m\u001b[0;34m=\u001b[0m\u001b[0;34m(\u001b[0m\u001b[0;32mnot\u001b[0m \u001b[0mkeras_model\u001b[0m\u001b[0;34m.\u001b[0m\u001b[0m_is_graph_network\u001b[0m\u001b[0;34m)\u001b[0m\u001b[0;34m,\u001b[0m\u001b[0;34m\u001b[0m\u001b[0;34m\u001b[0m\u001b[0m\n\u001b[1;32m    226\u001b[0m       \u001b[0moptimizer_iterations\u001b[0m\u001b[0;34m=\u001b[0m\u001b[0mglobal_step\u001b[0m\u001b[0;34m,\u001b[0m\u001b[0;34m\u001b[0m\u001b[0;34m\u001b[0m\u001b[0m\n\u001b[0;32m--> 227\u001b[0;31m       optimizer_config=optimizer_config)\n\u001b[0m\u001b[1;32m    228\u001b[0m \u001b[0;34m\u001b[0m\u001b[0m\n\u001b[1;32m    229\u001b[0m   \u001b[0;32mif\u001b[0m \u001b[0msample_weight_tensors\u001b[0m \u001b[0;32mis\u001b[0m \u001b[0;32mnot\u001b[0m \u001b[0;32mNone\u001b[0m\u001b[0;34m:\u001b[0m\u001b[0;34m\u001b[0m\u001b[0;34m\u001b[0m\u001b[0m\n",
      "\u001b[0;32m~/opt/anaconda3/envs/mytf/lib/python3.7/site-packages/tensorflow_core/python/keras/models.py\u001b[0m in \u001b[0;36mclone_and_build_model\u001b[0;34m(model, input_tensors, target_tensors, custom_objects, compile_clone, in_place_reset, optimizer_iterations, optimizer_config)\u001b[0m\n\u001b[1;32m    632\u001b[0m         \u001b[0mclone\u001b[0m \u001b[0;34m=\u001b[0m \u001b[0mclone_model\u001b[0m\u001b[0;34m(\u001b[0m\u001b[0mmodel\u001b[0m\u001b[0;34m,\u001b[0m \u001b[0minput_tensors\u001b[0m\u001b[0;34m=\u001b[0m\u001b[0minput_tensors\u001b[0m\u001b[0;34m)\u001b[0m\u001b[0;34m\u001b[0m\u001b[0;34m\u001b[0m\u001b[0m\n\u001b[1;32m    633\u001b[0m     \u001b[0;32melse\u001b[0m\u001b[0;34m:\u001b[0m\u001b[0;34m\u001b[0m\u001b[0;34m\u001b[0m\u001b[0m\n\u001b[0;32m--> 634\u001b[0;31m       \u001b[0mclone\u001b[0m \u001b[0;34m=\u001b[0m \u001b[0mclone_model\u001b[0m\u001b[0;34m(\u001b[0m\u001b[0mmodel\u001b[0m\u001b[0;34m,\u001b[0m \u001b[0minput_tensors\u001b[0m\u001b[0;34m=\u001b[0m\u001b[0minput_tensors\u001b[0m\u001b[0;34m)\u001b[0m\u001b[0;34m\u001b[0m\u001b[0;34m\u001b[0m\u001b[0m\n\u001b[0m\u001b[1;32m    635\u001b[0m \u001b[0;34m\u001b[0m\u001b[0m\n\u001b[1;32m    636\u001b[0m     if all([isinstance(clone, Sequential),\n",
      "\u001b[0;32m~/opt/anaconda3/envs/mytf/lib/python3.7/site-packages/tensorflow_core/python/keras/models.py\u001b[0m in \u001b[0;36mclone_model\u001b[0;34m(model, input_tensors, clone_function)\u001b[0m\n\u001b[1;32m    417\u001b[0m   \u001b[0;32mif\u001b[0m \u001b[0misinstance\u001b[0m\u001b[0;34m(\u001b[0m\u001b[0mmodel\u001b[0m\u001b[0;34m,\u001b[0m \u001b[0mSequential\u001b[0m\u001b[0;34m)\u001b[0m\u001b[0;34m:\u001b[0m\u001b[0;34m\u001b[0m\u001b[0;34m\u001b[0m\u001b[0m\n\u001b[1;32m    418\u001b[0m     return _clone_sequential_model(\n\u001b[0;32m--> 419\u001b[0;31m         model, input_tensors=input_tensors, layer_fn=clone_function)\n\u001b[0m\u001b[1;32m    420\u001b[0m   \u001b[0;32melse\u001b[0m\u001b[0;34m:\u001b[0m\u001b[0;34m\u001b[0m\u001b[0;34m\u001b[0m\u001b[0m\n\u001b[1;32m    421\u001b[0m     return _clone_functional_model(\n",
      "\u001b[0;32m~/opt/anaconda3/envs/mytf/lib/python3.7/site-packages/tensorflow_core/python/keras/models.py\u001b[0m in \u001b[0;36m_clone_sequential_model\u001b[0;34m(model, input_tensors, layer_fn)\u001b[0m\n\u001b[1;32m    336\u001b[0m       \u001b[0minput_tensors\u001b[0m \u001b[0;34m=\u001b[0m \u001b[0mlist\u001b[0m\u001b[0;34m(\u001b[0m\u001b[0minput_tensors\u001b[0m\u001b[0;34m)\u001b[0m\u001b[0;34m\u001b[0m\u001b[0;34m\u001b[0m\u001b[0m\n\u001b[1;32m    337\u001b[0m     \u001b[0mx\u001b[0m \u001b[0;34m=\u001b[0m \u001b[0mgeneric_utils\u001b[0m\u001b[0;34m.\u001b[0m\u001b[0mto_list\u001b[0m\u001b[0;34m(\u001b[0m\u001b[0minput_tensors\u001b[0m\u001b[0;34m)\u001b[0m\u001b[0;34m[\u001b[0m\u001b[0;36m0\u001b[0m\u001b[0;34m]\u001b[0m\u001b[0;34m\u001b[0m\u001b[0;34m\u001b[0m\u001b[0m\n\u001b[0;32m--> 338\u001b[0;31m     \u001b[0;32mif\u001b[0m \u001b[0mK\u001b[0m\u001b[0;34m.\u001b[0m\u001b[0mis_keras_tensor\u001b[0m\u001b[0;34m(\u001b[0m\u001b[0mx\u001b[0m\u001b[0;34m)\u001b[0m\u001b[0;34m:\u001b[0m\u001b[0;34m\u001b[0m\u001b[0;34m\u001b[0m\u001b[0m\n\u001b[0m\u001b[1;32m    339\u001b[0m       \u001b[0morigin_layer\u001b[0m \u001b[0;34m=\u001b[0m \u001b[0mx\u001b[0m\u001b[0;34m.\u001b[0m\u001b[0m_keras_history\u001b[0m\u001b[0;34m.\u001b[0m\u001b[0mlayer\u001b[0m\u001b[0;34m\u001b[0m\u001b[0;34m\u001b[0m\u001b[0m\n\u001b[1;32m    340\u001b[0m       \u001b[0;32mif\u001b[0m \u001b[0misinstance\u001b[0m\u001b[0;34m(\u001b[0m\u001b[0morigin_layer\u001b[0m\u001b[0;34m,\u001b[0m \u001b[0mInputLayer\u001b[0m\u001b[0;34m)\u001b[0m\u001b[0;34m:\u001b[0m\u001b[0;34m\u001b[0m\u001b[0;34m\u001b[0m\u001b[0m\n",
      "\u001b[0;32m~/opt/anaconda3/envs/mytf/lib/python3.7/site-packages/tensorflow_core/python/keras/backend.py\u001b[0m in \u001b[0;36mis_keras_tensor\u001b[0;34m(x)\u001b[0m\n\u001b[1;32m    985\u001b[0m                         sparse_tensor.SparseTensor)):\n\u001b[1;32m    986\u001b[0m     raise ValueError('Unexpectedly found an instance of type `' + str(type(x)) +\n\u001b[0;32m--> 987\u001b[0;31m                      '`. Expected a symbolic tensor instance.')\n\u001b[0m\u001b[1;32m    988\u001b[0m   \u001b[0;32mreturn\u001b[0m \u001b[0mhasattr\u001b[0m\u001b[0;34m(\u001b[0m\u001b[0mx\u001b[0m\u001b[0;34m,\u001b[0m \u001b[0;34m'_keras_history'\u001b[0m\u001b[0;34m)\u001b[0m\u001b[0;34m\u001b[0m\u001b[0;34m\u001b[0m\u001b[0m\n\u001b[1;32m    989\u001b[0m \u001b[0;34m\u001b[0m\u001b[0m\n",
      "\u001b[0;31mValueError\u001b[0m: Unexpectedly found an instance of type `<class 'dict'>`. Expected a symbolic tensor instance."
     ]
    }
   ],
   "source": [
    "# 2.model -> estimator ->train\n",
    "estimator = keras.estimator.model_to_estimator(model)\n",
    "estimator.train(input_fn=lambda: make_dataset(train_data, y_train,epochs=100))\n",
    "#input_fn：1、参数是一个函数\n",
    "#            2、返回元组（features,labels）或（feature,label)"
   ]
  },
  {
   "cell_type": "code",
   "execution_count": 35,
   "metadata": {},
   "outputs": [
    {
     "name": "stdout",
     "output_type": "stream",
     "text": [
      "INFO:tensorflow:Using default config.\n",
      "INFO:tensorflow:Using the Keras model provided.\n",
      "WARNING:tensorflow:You are creating an Estimator from a Keras model manually subclassed from `Model`, that was already called on some inputs (and thus already had weights). We are currently unable to preserve the model's state (its weights) as part of the estimator in this case. Be warned that the estimator has been created using a freshly initialized version of your model.\n",
      "Note that this doesn't affect the state of the model instance you passed as `keras_model` argument.\n",
      "INFO:tensorflow:Using config: {'_model_dir': '/var/folders/l7/d1pnsddn4wd3z6qry0tp5rvh0000gn/T/tmp1be0izul', '_tf_random_seed': None, '_save_summary_steps': 100, '_save_checkpoints_steps': None, '_save_checkpoints_secs': 600, '_session_config': allow_soft_placement: true\n",
      "graph_options {\n",
      "  rewrite_options {\n",
      "    meta_optimizer_iterations: ONE\n",
      "  }\n",
      "}\n",
      ", '_keep_checkpoint_max': 5, '_keep_checkpoint_every_n_hours': 10000, '_log_step_count_steps': 100, '_train_distribute': None, '_device_fn': None, '_protocol': None, '_eval_distribute': None, '_experimental_distribute': None, '_experimental_max_worker_delay_secs': None, '_session_creation_timeout_secs': 7200, '_service': None, '_cluster_spec': <tensorflow.python.training.server_lib.ClusterSpec object at 0x6460e8750>, '_task_type': 'worker', '_task_id': 0, '_global_id_in_cluster': 0, '_master': '', '_evaluation_master': '', '_is_chief': True, '_num_ps_replicas': 0, '_num_worker_replicas': 1}\n"
     ]
    }
   ],
   "source": [
    "import tempfile\n",
    "model_dir = tempfile.mkdtemp()\n",
    "keras_estimator = tf.keras.estimator.model_to_estimator(\n",
    "    keras_model=model, model_dir=model_dir)"
   ]
  },
  {
   "cell_type": "code",
   "execution_count": null,
   "metadata": {},
   "outputs": [],
   "source": []
  }
 ],
 "metadata": {
  "kernelspec": {
   "display_name": "Python 3.7.6 64-bit ('mytf': conda)",
   "language": "python",
   "name": "python37664bitmytfconda841baf2f843f47f398642a391af5d6cb"
  },
  "language_info": {
   "codemirror_mode": {
    "name": "ipython",
    "version": 3
   },
   "file_extension": ".py",
   "mimetype": "text/x-python",
   "name": "python",
   "nbconvert_exporter": "python",
   "pygments_lexer": "ipython3",
   "version": "3.7.6"
  }
 },
 "nbformat": 4,
 "nbformat_minor": 4
}
