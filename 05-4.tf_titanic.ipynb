{
 "cells": [
  {
   "cell_type": "code",
   "execution_count": 1,
   "metadata": {},
   "outputs": [],
   "source": [
    "import pandas as pd\n",
    "import numpy as np\n",
    "import tensorflow as tf\n",
    "import matplotlib.pyplot as plt\n",
    "from tensorflow import keras\n"
   ]
  },
  {
   "cell_type": "code",
   "execution_count": 2,
   "metadata": {},
   "outputs": [],
   "source": [
    "TRAIN_DATA_URL = \"https://storage.googleapis.com/tf-datasets/titanic/train.csv\"\n",
    "TEST_DATA_URL = \"https://storage.googleapis.com/tf-datasets/titanic/eval.csv\"\n",
    "train_data = pd.read_csv(TRAIN_DATA_URL)\n",
    "test_data = pd.read_csv(TEST_DATA_URL)"
   ]
  },
  {
   "cell_type": "code",
   "execution_count": null,
   "metadata": {},
   "outputs": [],
   "source": [
    "train_data.head()"
   ]
  },
  {
   "cell_type": "code",
   "execution_count": null,
   "metadata": {},
   "outputs": [],
   "source": [
    "test_data.head()"
   ]
  },
  {
   "cell_type": "code",
   "execution_count": null,
   "metadata": {},
   "outputs": [],
   "source": [
    "print(train_data.shape)\n",
    "print(test_data.shape)"
   ]
  },
  {
   "cell_type": "code",
   "execution_count": null,
   "metadata": {},
   "outputs": [],
   "source": [
    "train_data.describe()"
   ]
  },
  {
   "cell_type": "code",
   "execution_count": null,
   "metadata": {},
   "outputs": [],
   "source": [
    "train_data.age.hist(bins =20)\n",
    "plt.show()"
   ]
  },
  {
   "cell_type": "code",
   "execution_count": null,
   "metadata": {},
   "outputs": [],
   "source": [
    "train_data.sex.value_counts().plot(kind = 'barh')\n",
    "plt.show()"
   ]
  },
  {
   "cell_type": "code",
   "execution_count": null,
   "metadata": {},
   "outputs": [],
   "source": [
    "train_data['class'].value_counts().plot(kind = 'barh')\n",
    "plt.show()"
   ]
  },
  {
   "cell_type": "code",
   "execution_count": null,
   "metadata": {},
   "outputs": [],
   "source": [
    "train_data.groupby('sex').survived.mean().plot(kind='bar')"
   ]
  },
  {
   "cell_type": "code",
   "execution_count": null,
   "metadata": {},
   "outputs": [],
   "source": [
    "train_data.groupby('class').survived.mean().plot(kind='bar')"
   ]
  },
  {
   "cell_type": "code",
   "execution_count": null,
   "metadata": {},
   "outputs": [],
   "source": [
    "train_data.groupby('alone').survived.mean().plot(kind='bar')"
   ]
  },
  {
   "cell_type": "code",
   "execution_count": null,
   "metadata": {},
   "outputs": [],
   "source": [
    "train_data.groupby('deck').survived.mean().plot(kind='bar')"
   ]
  },
  {
   "cell_type": "code",
   "execution_count": null,
   "metadata": {},
   "outputs": [],
   "source": [
    "train_data[train_data.isnull()].count()"
   ]
  },
  {
   "cell_type": "code",
   "execution_count": 3,
   "metadata": {},
   "outputs": [],
   "source": [
    "y_train= train_data.pop('survived')\n",
    "y_test = test_data.pop('survived')\n"
   ]
  },
  {
   "cell_type": "code",
   "execution_count": null,
   "metadata": {},
   "outputs": [],
   "source": [
    "train_data.head()"
   ]
  },
  {
   "cell_type": "code",
   "execution_count": 4,
   "metadata": {},
   "outputs": [
    {
     "name": "stdout",
     "output_type": "stream",
     "text": [
      "sex :  ['male' 'female']\n",
      "n_siblings_spouses :  [1 0 3 4 2 5 8]\n",
      "parch :  [0 1 2 5 3 4]\n",
      "class :  ['Third' 'First' 'Second']\n",
      "deck :  ['unknown' 'C' 'G' 'A' 'B' 'D' 'F' 'E']\n",
      "embark_town :  ['Southampton' 'Cherbourg' 'Queenstown' 'unknown']\n",
      "alone :  ['n' 'y']\n"
     ]
    }
   ],
   "source": [
    "categorocal_columns =['sex','n_siblings_spouses','parch','class','deck','embark_town','alone']\n",
    "numeric_columns=['age','fare']\n",
    "feature_columns = []\n",
    "#处理离散值特征\n",
    "for categorocal_column in categorocal_columns:\n",
    "    vocab = train_data[categorocal_column].unique()\n",
    "    print(categorocal_column,': ',vocab)\n",
    "    feature_columns.append(\n",
    "        tf.feature_column.indicator_column(\n",
    "                    tf.feature_column.categorical_column_with_vocabulary_list(\n",
    "                                                                              categorocal_column, vocab)))\n",
    "# tf.feature_column.indicator_column,对离散数据进行one_hot编码\n",
    "\n",
    "#处理连续型特征\n",
    "for numeric_column in numeric_columns:\n",
    "    feature_columns.append(\n",
    "          tf.feature_column.numeric_column(\n",
    "                      numeric_column, dtype=tf.float32))"
   ]
  },
  {
   "cell_type": "code",
   "execution_count": null,
   "metadata": {},
   "outputs": [],
   "source": [
    "feature_columns[1]"
   ]
  },
  {
   "cell_type": "code",
   "execution_count": 5,
   "metadata": {},
   "outputs": [],
   "source": [
    "#构建datasets\n",
    "def make_dataset(x,y,epochs=10,shuffle=True,batch_size=32):\n",
    "    dataset = tf.data.Dataset.from_tensor_slices((dict(x), y))#from_tensor_slices要传入字典\n",
    "    if shuffle:\n",
    "        dataset = dataset.shuffle(10000)\n",
    "    dataset = dataset.repeat(epochs).batch(batch_size)\n",
    "    return dataset\n",
    "    "
   ]
  },
  {
   "cell_type": "code",
   "execution_count": 6,
   "metadata": {},
   "outputs": [],
   "source": [
    "train_dataset = make_dataset(train_data, y_train,batch_size=30)"
   ]
  },
  {
   "cell_type": "code",
   "execution_count": 12,
   "metadata": {},
   "outputs": [
    {
     "name": "stdout",
     "output_type": "stream",
     "text": [
      "{'sex': <tf.Tensor: id=7142, shape=(32,), dtype=string, numpy=\n",
      "array([b'female', b'male', b'male', b'female', b'female', b'male',\n",
      "       b'female', b'female', b'male', b'female', b'male', b'female',\n",
      "       b'female', b'male', b'male', b'male', b'male', b'male', b'male',\n",
      "       b'male', b'male', b'male', b'female', b'female', b'male',\n",
      "       b'female', b'male', b'male', b'male', b'male', b'female', b'male'],\n",
      "      dtype=object)>, 'age': <tf.Tensor: id=7134, shape=(32,), dtype=float64, numpy=\n",
      "array([50. , 28. , 28. , 22. , 54. , 36. , 23. , 34. , 19. , 28. , 59. ,\n",
      "       23. , 27. , 29. , 19. , 28. , 36. , 28. , 20. , 31. , 71. , 37. ,\n",
      "       30. , 28. , 26. , 31. , 32.5, 32. , 21. , 32. , 28. , 34. ])>, 'n_siblings_spouses': <tf.Tensor: id=7140, shape=(32,), dtype=int32, numpy=\n",
      "array([0, 8, 0, 0, 1, 0, 3, 0, 0, 0, 0, 0, 1, 1, 0, 0, 1, 8, 0, 0, 0, 1,\n",
      "       0, 8, 0, 0, 1, 1, 0, 0, 0, 1], dtype=int32)>, 'parch': <tf.Tensor: id=7141, shape=(32,), dtype=int32, numpy=\n",
      "array([0, 2, 0, 2, 0, 0, 2, 1, 0, 0, 0, 0, 0, 0, 0, 0, 1, 2, 0, 0, 0, 0,\n",
      "       0, 2, 0, 0, 0, 0, 1, 0, 2, 0], dtype=int32)>, 'fare': <tf.Tensor: id=7139, shape=(32,), dtype=float64, numpy=\n",
      "array([ 10.5   ,  69.55  ,   0.    ,  49.5   ,  59.4   ,  26.3875,\n",
      "       263.    ,  23.    ,   7.775 ,   7.7333,   7.25  ,   7.925 ,\n",
      "        21.    ,  27.7208,   8.1583,   0.    ,  24.15  ,  69.55  ,\n",
      "         9.8458,  13.    ,  34.6542,  53.1   , 106.425 ,  69.55  ,\n",
      "         7.8958,   7.8542,  30.0708,  15.85  ,  77.2875,   8.05  ,\n",
      "        15.2458,  21.    ])>, 'class': <tf.Tensor: id=7136, shape=(32,), dtype=string, numpy=\n",
      "array([b'Second', b'Third', b'Second', b'First', b'First', b'First',\n",
      "       b'First', b'Second', b'Third', b'Third', b'Third', b'Third',\n",
      "       b'Second', b'Second', b'Third', b'First', b'Third', b'Third',\n",
      "       b'Third', b'Second', b'First', b'First', b'First', b'Third',\n",
      "       b'Third', b'Third', b'Second', b'Third', b'First', b'Third',\n",
      "       b'Third', b'Second'], dtype=object)>, 'deck': <tf.Tensor: id=7137, shape=(32,), dtype=string, numpy=\n",
      "array([b'unknown', b'unknown', b'unknown', b'B', b'unknown', b'E', b'C',\n",
      "       b'unknown', b'unknown', b'unknown', b'unknown', b'unknown',\n",
      "       b'unknown', b'unknown', b'unknown', b'B', b'unknown', b'unknown',\n",
      "       b'unknown', b'unknown', b'A', b'C', b'unknown', b'unknown',\n",
      "       b'unknown', b'unknown', b'unknown', b'unknown', b'D', b'E',\n",
      "       b'unknown', b'unknown'], dtype=object)>, 'embark_town': <tf.Tensor: id=7138, shape=(32,), dtype=string, numpy=\n",
      "array([b'Southampton', b'Southampton', b'Southampton', b'Cherbourg',\n",
      "       b'Cherbourg', b'Southampton', b'Southampton', b'Southampton',\n",
      "       b'Southampton', b'Queenstown', b'Southampton', b'Southampton',\n",
      "       b'Southampton', b'Cherbourg', b'Southampton', b'Southampton',\n",
      "       b'Southampton', b'Southampton', b'Southampton', b'Southampton',\n",
      "       b'Cherbourg', b'Southampton', b'Cherbourg', b'Southampton',\n",
      "       b'Southampton', b'Southampton', b'Cherbourg', b'Southampton',\n",
      "       b'Southampton', b'Southampton', b'Cherbourg', b'Southampton'],\n",
      "      dtype=object)>, 'alone': <tf.Tensor: id=7135, shape=(32,), dtype=string, numpy=\n",
      "array([b'y', b'n', b'y', b'n', b'n', b'y', b'n', b'n', b'y', b'y', b'y',\n",
      "       b'y', b'n', b'n', b'y', b'y', b'n', b'n', b'y', b'y', b'y', b'n',\n",
      "       b'y', b'n', b'y', b'y', b'n', b'n', b'n', b'y', b'n', b'n'],\n",
      "      dtype=object)>} \n",
      "\n",
      " tf.Tensor([1 0 0 1 1 1 1 1 0 1 0 0 0 0 0 0 0 0 0 1 0 0 1 0 0 0 0 0 0 1 0 0], shape=(32,), dtype=int32) \n",
      "\n",
      " tf.Tensor(\n",
      "[50.  28.  28.  22.  54.  36.  23.  34.  19.  28.  59.  23.  27.  29.\n",
      " 19.  28.  36.  28.  20.  31.  71.  37.  30.  28.  26.  31.  32.5 32.\n",
      " 21.  32.  28.  34. ], shape=(32,), dtype=float64)\n"
     ]
    }
   ],
   "source": [
    "for x,y in train_dataset.take(1):\n",
    "    print(x, '\\n\\n', y, '\\n\\n',x['age'])\n"
   ]
  },
  {
   "cell_type": "code",
   "execution_count": 7,
   "metadata": {},
   "outputs": [
    {
     "name": "stdout",
     "output_type": "stream",
     "text": [
      "WARNING:tensorflow:Layer dense_features is casting an input tensor from dtype float64 to the layer's dtype of float32, which is new behavior in TensorFlow 2.  The layer has dtype float32 because it's dtype defaults to floatx.\n",
      "\n",
      "If you intended to run this layer in float32, you can safely ignore this warning. If in doubt, this warning is likely only an issue if you are porting a TensorFlow 1.X model to TensorFlow 2.\n",
      "\n",
      "To change all layers to have dtype float64 by default, call `tf.keras.backend.set_floatx('float64')`. To change just this layer, pass dtype='float64' to the layer constructor. If you are the author of this layer, you can disable autocasting by passing autocast=False to the base Layer constructor.\n",
      "\n",
      "[[42.]\n",
      " [28.]\n",
      " [33.]\n",
      " [31.]\n",
      " [28.]\n",
      " [26.]\n",
      " [28.]\n",
      " [28.]\n",
      " [29.]\n",
      " [17.]\n",
      " [25.]\n",
      " [80.]\n",
      " [36.]\n",
      " [28.]\n",
      " [28.]\n",
      " [47.]\n",
      " [28.]\n",
      " [31.]\n",
      " [18.]\n",
      " [28.]\n",
      " [31.]\n",
      " [30.]\n",
      " [31.]\n",
      " [28.]\n",
      " [28.]\n",
      " [11.]\n",
      " [28.]\n",
      " [50.]\n",
      " [14.]\n",
      " [28.]]\n",
      "WARNING:tensorflow:Layer dense_features_1 is casting an input tensor from dtype float64 to the layer's dtype of float32, which is new behavior in TensorFlow 2.  The layer has dtype float32 because it's dtype defaults to floatx.\n",
      "\n",
      "If you intended to run this layer in float32, you can safely ignore this warning. If in doubt, this warning is likely only an issue if you are porting a TensorFlow 1.X model to TensorFlow 2.\n",
      "\n",
      "To change all layers to have dtype float64 by default, call `tf.keras.backend.set_floatx('float64')`. To change just this layer, pass dtype='float64' to the layer constructor. If you are the author of this layer, you can disable autocasting by passing autocast=False to the base Layer constructor.\n",
      "\n",
      "WARNING:tensorflow:From /Users/mac/opt/anaconda3/envs/mytf/lib/python3.7/site-packages/tensorflow_core/python/feature_column/feature_column_v2.py:4276: IndicatorColumn._variable_shape (from tensorflow.python.feature_column.feature_column_v2) is deprecated and will be removed in a future version.\n",
      "Instructions for updating:\n",
      "The old _FeatureColumn APIs are being deprecated. Please use the new FeatureColumn APIs instead.\n",
      "WARNING:tensorflow:From /Users/mac/opt/anaconda3/envs/mytf/lib/python3.7/site-packages/tensorflow_core/python/feature_column/feature_column_v2.py:4331: VocabularyListCategoricalColumn._num_buckets (from tensorflow.python.feature_column.feature_column_v2) is deprecated and will be removed in a future version.\n",
      "Instructions for updating:\n",
      "The old _FeatureColumn APIs are being deprecated. Please use the new FeatureColumn APIs instead.\n",
      "[[1. 0.]\n",
      " [1. 0.]\n",
      " [1. 0.]\n",
      " [0. 1.]\n",
      " [1. 0.]\n",
      " [1. 0.]\n",
      " [0. 1.]\n",
      " [1. 0.]\n",
      " [0. 1.]\n",
      " [0. 1.]\n",
      " [1. 0.]\n",
      " [1. 0.]\n",
      " [0. 1.]\n",
      " [0. 1.]\n",
      " [1. 0.]\n",
      " [1. 0.]\n",
      " [1. 0.]\n",
      " [0. 1.]\n",
      " [1. 0.]\n",
      " [1. 0.]\n",
      " [0. 1.]\n",
      " [1. 0.]\n",
      " [1. 0.]\n",
      " [1. 0.]\n",
      " [1. 0.]\n",
      " [1. 0.]\n",
      " [1. 0.]\n",
      " [1. 0.]\n",
      " [0. 1.]\n",
      " [1. 0.]]\n"
     ]
    }
   ],
   "source": [
    "#实验\n",
    "# keras.layers.DenseFeatures可以将Feature定义的规则运用到dataset的每一个数据上\n",
    "\n",
    "for x, y in train_dataset.take(1):\n",
    "    age_column = feature_columns[7]\n",
    "    gender_column = feature_columns[0]\n",
    "    print(keras.layers.DenseFeatures(age_column)(x).numpy())#将age_column的规则运用到x上在打印numpy值\n",
    "    print(keras.layers.DenseFeatures(gender_column)(x).numpy())\n",
    "#出现warning是提示float64自动转为float32，tensorflow2可以忽略"
   ]
  },
  {
   "cell_type": "code",
   "execution_count": null,
   "metadata": {},
   "outputs": [],
   "source": [
    "#实验\n",
    "for x, y in train_dataset.take(1):\n",
    "    print(keras.layers.DenseFeatures(feature_columns)(x).numpy())#将feature_columns的规则运用到x上在打印numpy值\n"
   ]
  },
  {
   "cell_type": "code",
   "execution_count": 8,
   "metadata": {},
   "outputs": [],
   "source": [
    "model = keras.models.Sequential([\n",
    "    keras.layers.DenseFeatures(feature_columns),\n",
    "    keras.layers.Dense(100,activation='relu'),\n",
    "    keras.layers.Dense(100,activation='relu'),\n",
    "    keras.layers.Dense(2, activation='softmax'),\n",
    "])\n",
    "\n",
    "model.compile(loss='sparse_categorical_crossentropy',\n",
    "                     optimizer = keras.optimizers.SGD(lr=0.01),\n",
    "                     metrics = ['accuracy'])\n",
    "\n"
   ]
  },
  {
   "cell_type": "code",
   "execution_count": 10,
   "metadata": {},
   "outputs": [
    {
     "name": "stdout",
     "output_type": "stream",
     "text": [
      "WARNING:tensorflow:Layer sequential is casting an input tensor from dtype float64 to the layer's dtype of float32, which is new behavior in TensorFlow 2.  The layer has dtype float32 because it's dtype defaults to floatx.\n",
      "\n",
      "If you intended to run this layer in float32, you can safely ignore this warning. If in doubt, this warning is likely only an issue if you are porting a TensorFlow 1.X model to TensorFlow 2.\n",
      "\n",
      "To change all layers to have dtype float64 by default, call `tf.keras.backend.set_floatx('float64')`. To change just this layer, pass dtype='float64' to the layer constructor. If you are the author of this layer, you can disable autocasting by passing autocast=False to the base Layer constructor.\n",
      "\n",
      "Train for 18 steps\n",
      "Epoch 1/100\n",
      "18/18 [==============================] - 3s 145ms/step - loss: 1.6090 - accuracy: 0.6285\n",
      "Epoch 2/100\n",
      "18/18 [==============================] - 0s 11ms/step - loss: 0.7331 - accuracy: 0.6493\n",
      "Epoch 3/100\n",
      "18/18 [==============================] - 0s 11ms/step - loss: 0.6509 - accuracy: 0.6858\n",
      "Epoch 4/100\n",
      "18/18 [==============================] - 0s 10ms/step - loss: 0.6303 - accuracy: 0.6701\n",
      "Epoch 5/100\n",
      "18/18 [==============================] - 0s 10ms/step - loss: 0.6811 - accuracy: 0.6372\n",
      "Epoch 6/100\n",
      "18/18 [==============================] - 0s 10ms/step - loss: 0.6378 - accuracy: 0.6580\n",
      "Epoch 7/100\n",
      "18/18 [==============================] - 0s 10ms/step - loss: 0.5711 - accuracy: 0.6962\n",
      "Epoch 8/100\n",
      "18/18 [==============================] - 0s 11ms/step - loss: 0.6075 - accuracy: 0.7014\n",
      "Epoch 9/100\n",
      "18/18 [==============================] - 0s 11ms/step - loss: 0.6013 - accuracy: 0.6962\n",
      "Epoch 10/100\n",
      "18/18 [==============================] - 0s 10ms/step - loss: 0.6247 - accuracy: 0.6510\n",
      "Epoch 11/100\n",
      "18/18 [==============================] - 0s 10ms/step - loss: 0.5828 - accuracy: 0.7049\n",
      "Epoch 12/100\n",
      "18/18 [==============================] - 0s 10ms/step - loss: 0.6189 - accuracy: 0.6632\n",
      "Epoch 13/100\n",
      "18/18 [==============================] - 0s 8ms/step - loss: 0.6107 - accuracy: 0.6684\n",
      "Epoch 14/100\n",
      "18/18 [==============================] - 0s 11ms/step - loss: 0.5849 - accuracy: 0.6979\n",
      "Epoch 15/100\n",
      "18/18 [==============================] - 0s 10ms/step - loss: 0.5832 - accuracy: 0.6892\n",
      "Epoch 16/100\n",
      "18/18 [==============================] - 0s 10ms/step - loss: 0.6004 - accuracy: 0.6840\n",
      "Epoch 17/100\n",
      "18/18 [==============================] - 0s 10ms/step - loss: 0.5902 - accuracy: 0.6997\n",
      "Epoch 18/100\n",
      "18/18 [==============================] - 0s 11ms/step - loss: 0.5874 - accuracy: 0.6858\n",
      "Epoch 19/100\n",
      "18/18 [==============================] - 0s 11ms/step - loss: 0.6188 - accuracy: 0.6806\n",
      "Epoch 20/100\n",
      "18/18 [==============================] - 0s 11ms/step - loss: 0.5699 - accuracy: 0.7135\n",
      "Epoch 21/100\n",
      "18/18 [==============================] - 0s 10ms/step - loss: 0.5848 - accuracy: 0.7014\n",
      "Epoch 22/100\n",
      "18/18 [==============================] - 0s 10ms/step - loss: 0.6087 - accuracy: 0.6632\n",
      "Epoch 23/100\n",
      "18/18 [==============================] - 0s 10ms/step - loss: 0.5983 - accuracy: 0.6910\n",
      "Epoch 24/100\n",
      "18/18 [==============================] - 0s 11ms/step - loss: 0.5686 - accuracy: 0.7205\n",
      "Epoch 25/100\n",
      "18/18 [==============================] - 0s 9ms/step - loss: 0.5816 - accuracy: 0.6962\n",
      "Epoch 26/100\n",
      "18/18 [==============================] - 0s 10ms/step - loss: 0.5647 - accuracy: 0.7118\n",
      "Epoch 27/100\n",
      "18/18 [==============================] - 0s 10ms/step - loss: 0.5925 - accuracy: 0.6910\n",
      "Epoch 28/100\n",
      "18/18 [==============================] - 0s 10ms/step - loss: 0.5881 - accuracy: 0.7031\n",
      "Epoch 29/100\n",
      "18/18 [==============================] - 0s 11ms/step - loss: 0.5605 - accuracy: 0.7101\n",
      "Epoch 30/100\n",
      "18/18 [==============================] - 0s 11ms/step - loss: 0.5758 - accuracy: 0.6944\n",
      "Epoch 31/100\n",
      "18/18 [==============================] - 0s 11ms/step - loss: 0.5951 - accuracy: 0.6892\n",
      "Epoch 32/100\n",
      "18/18 [==============================] - 0s 10ms/step - loss: 0.5740 - accuracy: 0.6944\n",
      "Epoch 33/100\n",
      "18/18 [==============================] - 0s 10ms/step - loss: 0.5698 - accuracy: 0.7170\n",
      "Epoch 34/100\n",
      "18/18 [==============================] - 0s 10ms/step - loss: 0.5487 - accuracy: 0.7188\n",
      "Epoch 35/100\n",
      "18/18 [==============================] - 0s 10ms/step - loss: 0.5765 - accuracy: 0.7031\n",
      "Epoch 36/100\n",
      "18/18 [==============================] - 0s 10ms/step - loss: 0.5538 - accuracy: 0.7309\n",
      "Epoch 37/100\n",
      "18/18 [==============================] - 0s 8ms/step - loss: 0.5683 - accuracy: 0.7153\n",
      "Epoch 38/100\n",
      "18/18 [==============================] - 0s 10ms/step - loss: 0.5897 - accuracy: 0.7274\n",
      "Epoch 39/100\n",
      "18/18 [==============================] - 0s 10ms/step - loss: 0.5547 - accuracy: 0.7153\n",
      "Epoch 40/100\n",
      "18/18 [==============================] - 0s 10ms/step - loss: 0.5609 - accuracy: 0.7309\n",
      "Epoch 41/100\n",
      "18/18 [==============================] - 0s 10ms/step - loss: 0.5643 - accuracy: 0.7309\n",
      "Epoch 42/100\n",
      "18/18 [==============================] - 0s 10ms/step - loss: 0.5324 - accuracy: 0.7569\n",
      "Epoch 43/100\n",
      "18/18 [==============================] - 0s 10ms/step - loss: 0.5610 - accuracy: 0.7448\n",
      "Epoch 44/100\n",
      "18/18 [==============================] - 0s 10ms/step - loss: 0.5628 - accuracy: 0.7118\n",
      "Epoch 45/100\n",
      "18/18 [==============================] - 0s 10ms/step - loss: 0.5373 - accuracy: 0.7188\n",
      "Epoch 46/100\n",
      "18/18 [==============================] - 0s 10ms/step - loss: 0.5808 - accuracy: 0.7083\n",
      "Epoch 47/100\n",
      "18/18 [==============================] - 0s 10ms/step - loss: 0.5405 - accuracy: 0.7378\n",
      "Epoch 48/100\n",
      "18/18 [==============================] - 0s 10ms/step - loss: 0.5559 - accuracy: 0.6927\n",
      "Epoch 49/100\n",
      "18/18 [==============================] - 0s 10ms/step - loss: 0.5940 - accuracy: 0.6858\n",
      "Epoch 50/100\n",
      "18/18 [==============================] - 0s 8ms/step - loss: 0.5592 - accuracy: 0.7292\n",
      "Epoch 51/100\n",
      "18/18 [==============================] - 0s 10ms/step - loss: 0.5625 - accuracy: 0.7170\n",
      "Epoch 52/100\n",
      "18/18 [==============================] - 0s 10ms/step - loss: 0.5518 - accuracy: 0.7188\n",
      "Epoch 53/100\n",
      "18/18 [==============================] - 0s 11ms/step - loss: 0.5385 - accuracy: 0.7135\n",
      "Epoch 54/100\n",
      "18/18 [==============================] - 0s 10ms/step - loss: 0.5403 - accuracy: 0.7292\n",
      "Epoch 55/100\n",
      "18/18 [==============================] - 0s 10ms/step - loss: 0.5760 - accuracy: 0.6979\n",
      "Epoch 56/100\n",
      "18/18 [==============================] - 0s 10ms/step - loss: 0.5604 - accuracy: 0.7188\n",
      "Epoch 57/100\n",
      "18/18 [==============================] - 0s 10ms/step - loss: 0.5487 - accuracy: 0.7396\n",
      "Epoch 58/100\n",
      "18/18 [==============================] - 0s 10ms/step - loss: 0.5292 - accuracy: 0.7396\n",
      "Epoch 59/100\n",
      "18/18 [==============================] - 0s 10ms/step - loss: 0.5687 - accuracy: 0.7101\n",
      "Epoch 60/100\n",
      "18/18 [==============================] - 0s 11ms/step - loss: 0.5396 - accuracy: 0.7396\n",
      "Epoch 61/100\n",
      "18/18 [==============================] - 0s 10ms/step - loss: 0.5925 - accuracy: 0.6979\n",
      "Epoch 62/100\n",
      "18/18 [==============================] - 0s 8ms/step - loss: 0.5360 - accuracy: 0.7344\n",
      "Epoch 63/100\n",
      "18/18 [==============================] - 0s 10ms/step - loss: 0.5443 - accuracy: 0.7222\n",
      "Epoch 64/100\n",
      "18/18 [==============================] - 0s 10ms/step - loss: 0.5940 - accuracy: 0.7031\n",
      "Epoch 65/100\n",
      "18/18 [==============================] - 0s 10ms/step - loss: 0.5490 - accuracy: 0.7413\n",
      "Epoch 66/100\n",
      "18/18 [==============================] - 0s 10ms/step - loss: 0.5464 - accuracy: 0.7188\n",
      "Epoch 67/100\n",
      "18/18 [==============================] - 0s 10ms/step - loss: 0.5327 - accuracy: 0.7431\n",
      "Epoch 68/100\n",
      "18/18 [==============================] - 0s 10ms/step - loss: 0.5350 - accuracy: 0.7465\n",
      "Epoch 69/100\n",
      "18/18 [==============================] - 0s 10ms/step - loss: 0.5481 - accuracy: 0.7205\n",
      "Epoch 70/100\n",
      "18/18 [==============================] - 0s 10ms/step - loss: 0.5244 - accuracy: 0.7448\n",
      "Epoch 71/100\n",
      "18/18 [==============================] - 0s 11ms/step - loss: 0.5306 - accuracy: 0.7552\n",
      "Epoch 72/100\n",
      "18/18 [==============================] - 0s 11ms/step - loss: 0.5547 - accuracy: 0.7378\n",
      "Epoch 73/100\n",
      "18/18 [==============================] - 0s 11ms/step - loss: 0.5627 - accuracy: 0.7344\n",
      "Epoch 74/100\n",
      "18/18 [==============================] - 0s 8ms/step - loss: 0.5381 - accuracy: 0.7292\n"
     ]
    },
    {
     "name": "stdout",
     "output_type": "stream",
     "text": [
      "Epoch 75/100\n",
      "18/18 [==============================] - 0s 10ms/step - loss: 0.5458 - accuracy: 0.7431\n",
      "Epoch 76/100\n",
      "18/18 [==============================] - 0s 10ms/step - loss: 0.5050 - accuracy: 0.7465\n",
      "Epoch 77/100\n",
      "18/18 [==============================] - 0s 10ms/step - loss: 0.5266 - accuracy: 0.7552\n",
      "Epoch 78/100\n",
      "18/18 [==============================] - 0s 11ms/step - loss: 0.5502 - accuracy: 0.7309\n",
      "Epoch 79/100\n",
      "18/18 [==============================] - 0s 11ms/step - loss: 0.5444 - accuracy: 0.7431\n",
      "Epoch 80/100\n",
      "18/18 [==============================] - 0s 11ms/step - loss: 0.5258 - accuracy: 0.7517\n",
      "Epoch 81/100\n",
      "18/18 [==============================] - 0s 12ms/step - loss: 0.5692 - accuracy: 0.7170\n",
      "Epoch 82/100\n",
      "18/18 [==============================] - 0s 11ms/step - loss: 0.5117 - accuracy: 0.7569\n",
      "Epoch 83/100\n",
      "18/18 [==============================] - 0s 11ms/step - loss: 0.5105 - accuracy: 0.7535\n",
      "Epoch 84/100\n",
      "18/18 [==============================] - 0s 12ms/step - loss: 0.5245 - accuracy: 0.7396\n",
      "Epoch 85/100\n",
      "18/18 [==============================] - 0s 11ms/step - loss: 0.5371 - accuracy: 0.7569\n",
      "Epoch 86/100\n",
      "18/18 [==============================] - 0s 11ms/step - loss: 0.5315 - accuracy: 0.7465\n",
      "Epoch 87/100\n",
      "18/18 [==============================] - 0s 8ms/step - loss: 0.5314 - accuracy: 0.7396\n",
      "Epoch 88/100\n",
      "18/18 [==============================] - 0s 11ms/step - loss: 0.5156 - accuracy: 0.7674\n",
      "Epoch 89/100\n",
      "18/18 [==============================] - 0s 11ms/step - loss: 0.5144 - accuracy: 0.7587\n",
      "Epoch 90/100\n",
      "18/18 [==============================] - 0s 11ms/step - loss: 0.5372 - accuracy: 0.7483\n",
      "Epoch 91/100\n",
      "18/18 [==============================] - 0s 10ms/step - loss: 0.5815 - accuracy: 0.7031\n",
      "Epoch 92/100\n",
      "18/18 [==============================] - 0s 11ms/step - loss: 0.5163 - accuracy: 0.7517\n",
      "Epoch 93/100\n",
      "18/18 [==============================] - 0s 11ms/step - loss: 0.5481 - accuracy: 0.7292\n",
      "Epoch 94/100\n",
      "18/18 [==============================] - 0s 11ms/step - loss: 0.4739 - accuracy: 0.7986\n",
      "Epoch 95/100\n",
      "18/18 [==============================] - 0s 11ms/step - loss: 0.5459 - accuracy: 0.7326\n",
      "Epoch 96/100\n",
      "18/18 [==============================] - 0s 11ms/step - loss: 0.4968 - accuracy: 0.7674\n",
      "Epoch 97/100\n",
      "18/18 [==============================] - 0s 11ms/step - loss: 0.5469 - accuracy: 0.7517\n",
      "Epoch 98/100\n",
      "18/18 [==============================] - 0s 11ms/step - loss: 0.5242 - accuracy: 0.7500\n",
      "Epoch 99/100\n",
      "18/18 [==============================] - 0s 8ms/step - loss: 0.4933 - accuracy: 0.7760\n",
      "Epoch 100/100\n",
      "18/18 [==============================] - 0s 10ms/step - loss: 0.5013 - accuracy: 0.7656\n"
     ]
    }
   ],
   "source": [
    "# 1.model.fit\n",
    "# 2.model -> estimator ->train\n",
    "train_dataset = make_dataset(train_data, y_train,epochs=100)\n",
    "test_dataset = make_dataset(test_data, y_test,epochs=1,shuffle=False)\n",
    "history = model.fit(train_dataset,steps_per_epoch=18,epochs=100)#steps_per_epoch=训练集的样本数//batch_size"
   ]
  },
  {
   "cell_type": "code",
   "execution_count": 11,
   "metadata": {},
   "outputs": [
    {
     "data": {
      "image/png": "[encoded data removed]",
      "text/plain": [
       "<Figure size 432x288 with 1 Axes>"
      ]
     },
     "metadata": {
      "needs_background": "light"
     },
     "output_type": "display_data"
    }
   ],
   "source": [
    "pd.DataFrame(history.history).plot()\n",
    "plt.grid(True)\n",
    "plt.show()"
   ]
  },
  {
   "cell_type": "code",
   "execution_count": null,
   "metadata": {},
   "outputs": [],
   "source": [
    "# 2.model -> estimator ->train\n",
    "estimator = keras.estimator.model_to_estimator(model)\n",
    "estimator.train(input_fn=lambda: make_dataset(train_data, y_train,epochs=100))\n",
    "#input_fn：1、参数是一个函数\n",
    "#            2、返回元组（features,labels）或（feature,label)"
   ]
  }
 ],
 "metadata": {
  "kernelspec": {
   "display_name": "Python 3.7.6 64-bit ('mytf': conda)",
   "language": "python",
   "name": "python37664bitmytfconda841baf2f843f47f398642a391af5d6cb"
  },
  "language_info": {
   "codemirror_mode": {
    "name": "ipython",
    "version": 3
   },
   "file_extension": ".py",
   "mimetype": "text/x-python",
   "name": "python",
   "nbconvert_exporter": "python",
   "pygments_lexer": "ipython3",
   "version": "3.7.6"
  }
 },
 "nbformat": 4,
 "nbformat_minor": 4
}
