{
 "cells": [
  {
   "cell_type": "code",
   "execution_count": null,
   "metadata": {},
   "outputs": [],
   "source": [
    "# 用sklearn.preprocessing.StandardScaler对数据进行标准化"
   ]
  },
  {
   "cell_type": "code",
   "execution_count": 1,
   "metadata": {},
   "outputs": [
    {
     "name": "stdout",
     "output_type": "stream",
     "text": [
      "2.0.0\n",
      "sys.version_info(major=3, minor=7, micro=6, releaselevel='final', serial=0)\n",
      "numpy 1.18.1\n",
      "pandas 1.0.1\n",
      "sklearn 0.22.2\n",
      "tensorflow 2.0.0\n",
      "tensorflow_core.keras 2.2.4-tf\n"
     ]
    }
   ],
   "source": [
    "import matplotlib.pyplot as plt\n",
    "%matplotlib inline\n",
    "import numpy as np\n",
    "import pandas as pd\n",
    "import sklearn\n",
    "import os\n",
    "import sys\n",
    "import time\n",
    "import tensorflow as tf\n",
    "\n",
    "from tensorflow import keras\n",
    "print(tf.__version__)\n",
    "print(sys.version_info)\n",
    "for module in np, pd ,sklearn, tf, keras:\n",
    "    print(module.__name__,module.__version__)"
   ]
  },
  {
   "cell_type": "code",
   "execution_count": 2,
   "metadata": {},
   "outputs": [
    {
     "name": "stdout",
     "output_type": "stream",
     "text": [
      "(60000, 28, 28) (60000,)\n",
      "(10000, 28, 28) (10000,)\n"
     ]
    }
   ],
   "source": [
    "fashion_mnist = keras.datasets.fashion_mnist\n",
    "(x_train,y_train),(x_test,y_test) = fashion_mnist.load_data()\n",
    "\n",
    "\n",
    "print(x_train.shape,y_train.shape)\n",
    "print(x_test.shape,y_test.shape)\n"
   ]
  },
  {
   "cell_type": "code",
   "execution_count": 3,
   "metadata": {},
   "outputs": [
    {
     "data": {
      "text/plain": [
       "array([[0.],\n",
       "       [0.],\n",
       "       [0.],\n",
       "       ...,\n",
       "       [0.],\n",
       "       [0.],\n",
       "       [0.]], dtype=float32)"
      ]
     },
     "execution_count": 3,
     "metadata": {},
     "output_type": "execute_result"
    }
   ],
   "source": [
    "x_train.reshape(-1,1).astype(np.float32)"
   ]
  },
  {
   "cell_type": "code",
   "execution_count": 4,
   "metadata": {},
   "outputs": [],
   "source": [
    "# #x = (x - u) / std\n",
    "# #先将图片转化为一维数组，标准化后在转回图片\n",
    "# from sklearn.preprocessing import StandardScaler\n",
    "# scaler = StandardScaler()\n",
    "# x_train_scaler = scaler.fit_transform(x_train.astype(np.float32).reshape(-1,1)).reshape(-1,28,28)\n",
    "# x_test_scaler = scaler.transform(x_test.astype(np.float32).reshape(-1,1)).reshape(-1,28,28)\n"
   ]
  },
  {
   "cell_type": "code",
   "execution_count": 3,
   "metadata": {},
   "outputs": [],
   "source": [
    "# 转化为tensor 并标准化\n",
    "x_train_scaler = tf.convert_to_tensor(x_train, dtype = tf.float32)/255\n",
    "x_test_scaler = tf.convert_to_tensor(x_test, dtype=tf.float32)/255\n"
   ]
  },
  {
   "cell_type": "code",
   "execution_count": 4,
   "metadata": {},
   "outputs": [
    {
     "name": "stdout",
     "output_type": "stream",
     "text": [
      "255 0\n",
      "1.0 0.0\n"
     ]
    }
   ],
   "source": [
    "print(np.max(x_train),np.min(x_train))\n",
    "print(np.max(x_train_scaler),np.min(x_train_scaler))\n"
   ]
  },
  {
   "cell_type": "code",
   "execution_count": 5,
   "metadata": {},
   "outputs": [],
   "source": [
    "#tf.keras.models.Sequential()\n",
    "\n",
    "model = keras.models.Sequential([\n",
    "    keras.layers.Flatten(input_shape =[28,28]),\n",
    "    keras.layers.Dense(64, activation='relu'),\n",
    "    keras.layers.Dense(10, activation='softmax')\n",
    "])    \n",
    "# relu:  y=max(0,x)\n",
    "# softmax:将向量变成概率分布，x =[x1,x2,x3]\n",
    "#                y=[e^x1/sum,e^x2/sum,e^x3/sum], sum=e^x1+e^x2+e^x36\n",
    "\n",
    "# sparse的原因：将y的分类转换为one_hot编码\n",
    "model.compile(loss=keras.losses.SparseCategoricalCrossentropy(from_logits=False),\n",
    "             optimizer = 'sgd',\n",
    "             metrics = ['accuracy'])\n"
   ]
  },
  {
   "cell_type": "code",
   "execution_count": 6,
   "metadata": {},
   "outputs": [
    {
     "name": "stdout",
     "output_type": "stream",
     "text": [
      "Train on 48000 samples, validate on 12000 samples\n",
      "Epoch 1/10\n",
      "48000/48000 [==============================] - 14s 285us/sample - loss: 0.8161 - accuracy: 0.7325 - val_loss: 0.5917 - val_accuracy: 0.7987\n",
      "Epoch 2/10\n",
      "48000/48000 [==============================] - 11s 221us/sample - loss: 0.5462 - accuracy: 0.8157 - val_loss: 0.5115 - val_accuracy: 0.8277\n",
      "Epoch 3/10\n",
      "48000/48000 [==============================] - 11s 223us/sample - loss: 0.4935 - accuracy: 0.8319 - val_loss: 0.4790 - val_accuracy: 0.8357\n",
      "Epoch 4/10\n",
      "48000/48000 [==============================] - 11s 221us/sample - loss: 0.4659 - accuracy: 0.8400 - val_loss: 0.4665 - val_accuracy: 0.8382\n",
      "Epoch 5/10\n",
      "48000/48000 [==============================] - 11s 225us/sample - loss: 0.4473 - accuracy: 0.8455 - val_loss: 0.4431 - val_accuracy: 0.8482\n",
      "Epoch 6/10\n",
      "48000/48000 [==============================] - 11s 224us/sample - loss: 0.4314 - accuracy: 0.8518 - val_loss: 0.4318 - val_accuracy: 0.8512\n",
      "Epoch 7/10\n",
      "48000/48000 [==============================] - 11s 225us/sample - loss: 0.4197 - accuracy: 0.8552 - val_loss: 0.4284 - val_accuracy: 0.8547\n",
      "Epoch 8/10\n",
      "48000/48000 [==============================] - 11s 221us/sample - loss: 0.4097 - accuracy: 0.8588 - val_loss: 0.4505 - val_accuracy: 0.8406\n",
      "Epoch 9/10\n",
      "48000/48000 [==============================] - 11s 222us/sample - loss: 0.4006 - accuracy: 0.8634 - val_loss: 0.4168 - val_accuracy: 0.8543\n",
      "Epoch 10/10\n",
      "48000/48000 [==============================] - 13s 281us/sample - loss: 0.3927 - accuracy: 0.8637 - val_loss: 0.4151 - val_accuracy: 0.8572\n"
     ]
    }
   ],
   "source": [
    "history = model.fit(x_train_scaler,y_train,epochs=10,\n",
    "         validation_split=0.2)\n",
    "#validation_data:训练过程中在验证集验证"
   ]
  },
  {
   "cell_type": "code",
   "execution_count": 7,
   "metadata": {},
   "outputs": [
    {
     "data": {
      "image/png": "[encoded data removed]",
      "text/plain": [
       "<Figure size 576x360 with 1 Axes>"
      ]
     },
     "metadata": {
      "needs_background": "light"
     },
     "output_type": "display_data"
    }
   ],
   "source": [
    "def plot_learning_curves(history):\n",
    "    pd.DataFrame(history.history).plot(figsize=[8,5])\n",
    "    plt.grid(True)\n",
    "    plt.gca().set_ylim(0,1)\n",
    "    plt.show()\n",
    "\n",
    "plot_learning_curves(history)"
   ]
  },
  {
   "cell_type": "code",
   "execution_count": 8,
   "metadata": {},
   "outputs": [
    {
     "name": "stdout",
     "output_type": "stream",
     "text": [
      "10000/1 - 2s - loss: 0.3534 - accuracy: 0.8470\n"
     ]
    },
    {
     "data": {
      "text/plain": [
       "[0.44239695172309873, 0.847]"
      ]
     },
     "execution_count": 8,
     "metadata": {},
     "output_type": "execute_result"
    }
   ],
   "source": [
    "model.evaluate(x_test_scaler, y_test,verbose=2)"
   ]
  },
  {
   "cell_type": "code",
   "execution_count": 12,
   "metadata": {},
   "outputs": [
    {
     "data": {
      "text/plain": [
       "array([9, 2, 1, 1, 6, 1, 4, 6, 5, 7, 4, 5, 5, 3, 4, 1, 2, 2, 8, 0])"
      ]
     },
     "execution_count": 12,
     "metadata": {},
     "output_type": "execute_result"
    }
   ],
   "source": [
    "y_pred = model.predict_classes(x_test_scaler)\n",
    "y_pred[:20]"
   ]
  },
  {
   "cell_type": "code",
   "execution_count": 27,
   "metadata": {},
   "outputs": [
    {
     "name": "stdout",
     "output_type": "stream",
     "text": [
      "9 - 9   r\n",
      "2 - 2   r\n",
      "1 - 1   r\n",
      "1 - 1   r\n",
      "6 - 6   r\n",
      "1 - 1   r\n",
      "4 - 4   r\n",
      "6 - 6   r\n",
      "5 - 5   r\n",
      "7 - 7   r\n",
      "4 - 4   r\n",
      "5 - 5   r\n",
      "5 - 7   wrong\n",
      "3 - 3   r\n",
      "4 - 4   r\n",
      "1 - 1   r\n",
      "2 - 2   r\n",
      "2 - 4   wrong\n",
      "8 - 8   r\n",
      "0 - 0   r\n"
     ]
    }
   ],
   "source": [
    "for x,y in zip(y_pred[:20], y_test[:20]):\n",
    "    r = 'r' if x==y else 'wrong'\n",
    "    print(x,'-',y, ' ',r)"
   ]
  },
  {
   "cell_type": "code",
   "execution_count": 28,
   "metadata": {},
   "outputs": [],
   "source": [
    "model.save('data/modle1.h5')"
   ]
  },
  {
   "cell_type": "code",
   "execution_count": 30,
   "metadata": {},
   "outputs": [],
   "source": [
    "loaded_model = tf.keras.models.load_model('data/modle1.h5')"
   ]
  },
  {
   "cell_type": "code",
   "execution_count": 31,
   "metadata": {},
   "outputs": [
    {
     "name": "stdout",
     "output_type": "stream",
     "text": [
      "10000/1 - 1s - loss: 0.3534 - accuracy: 0.8470\n"
     ]
    },
    {
     "data": {
      "text/plain": [
       "[0.44239695172309873, 0.847]"
      ]
     },
     "execution_count": 31,
     "metadata": {},
     "output_type": "execute_result"
    }
   ],
   "source": [
    "loaded_model.evaluate(x_test_scaler, y_test,verbose=2)"
   ]
  }
 ],
 "metadata": {
  "kernelspec": {
   "display_name": "Python 3.7.6 64-bit ('mytf': conda)",
   "language": "python",
   "name": "python37664bitmytfconda841baf2f843f47f398642a391af5d6cb"
  },
  "language_info": {
   "codemirror_mode": {
    "name": "ipython",
    "version": 3
   },
   "file_extension": ".py",
   "mimetype": "text/x-python",
   "name": "python",
   "nbconvert_exporter": "python",
   "pygments_lexer": "ipython3",
   "version": "3.7.6"
  }
 },
 "nbformat": 4,
 "nbformat_minor": 4
}
